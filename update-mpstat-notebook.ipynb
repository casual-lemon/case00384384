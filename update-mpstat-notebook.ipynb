{
 "cells": [
  {
   "cell_type": "markdown",
   "metadata": {},
   "source": [
    "## mpstat jupyter notebook \n",
    "To run open in VSCode with a sourced virtual enviornment via python3 -m venv venv\n",
    "or directly from the command line with jupyter notebook and navigate to browser and execute all cells. \n",
    "Install packages with \n",
    "`pip install -r requirements.txt`\n",
    "\n",
    "I have also tested with a file called short.txt which is a smaller dataset to work with. \n",
    "Or you can also see graphs for a particular subset of cpus for example just the all categories for all cpus. \n",
    "\n"
   ]
  },
  {
   "cell_type": "markdown",
   "metadata": {},
   "source": [
    "# Table of Contents\n",
    "* [Introduction](#introduction)\n",
    "    * [What is mpstat](#what-is-mpstat)\n",
    "    * [Data Description](#data-description)\n",
    "* [Data Ingest](#data-ingest)\n",
    "* [Data Cleaning](#data-cleaning)\n",
    "* [Data Visualization](#data-visualization)"
   ]
  },
  {
   "cell_type": "markdown",
   "metadata": {},
   "source": [
    "## Introduction \n",
    "\n",
    "What is mpstat? Reports cpu processors related statstics. \n",
    "\n",
    "It captures a snapshot of what the cpu processors are doing over a period of time that \n",
    "is specified at a set interval.\n",
    "\n",
    "#### What is mpstat? \n",
    "\n",
    "You can type in a terminal right now `mpstat` and you're going to get some statstics back about your computer.\n",
    "\n",
    "The number one represents - interval parameter specifies the amount of time in seconds between each report.\n",
    "The keyword ALL indicates that statistics are calculated as averages among all processors. The keyword -P Indicate the processors for which statistics are to be reported. In english - give me all processor averages at one second intervals.\n",
    "\n",
    "`sudo mpstat -P ALL 1` \n",
    "\n",
    "[0] https://linux.die.net/man/1/mpstat \n",
    "\n",
    "#### Why choose mpstat? \n",
    "\n",
    "For this case 00384384, running a sosreport was failing and falling over on the PS6 instance. \n",
    "We wanted to know if one of the cpus were stuck or a process was using all of the cpu. \n",
    "We are searching for patterns in the data that would give us any indication of the the problem was.\n",
    "\n",
    "We had a lack of prometheus access during this time.\n",
    "\n",
    "Hypothesis is that we can detect abnormal sustained cpu frequency fluctuations over time.  <TODO Fix me within a particaular index.>"
   ]
  },
  {
   "cell_type": "markdown",
   "metadata": {},
   "source": [
    "#### Data Description\n",
    "Sample output mpstat.txt file \n",
    "\n",
    "|11:21:37  |   CPU  |  %usr |  %nice  |  %sys | %iowait |  %irq  |  %soft |  %steal |  %guest  | %gnice |  %idle\n",
    "|--------  | -------| ----  | ------- | ----- | ------- | ------ | ------ | ------ | -------| ------| ------|\n",
    "|11:21:38  |   all  |  0.34 |   0.00  |  8.47 |   0.04  |  0.00  |  0.17  |  0.00  | 18.28  |  0.00 |  72.64 |\n",
    "|11:21:38  |     0  |  0.00 |   0.00  | 31.96 |   0.00  |  0.00  |  0.00  |  0.00  |  0.00  |  0.00 |  68.04 |\n",
    "|11:21:38  |     1  |  1.23 |   0.00  |  9.88 |   0.00  |  0.00  |  0.00  |  0.00  |  0.00  |  0.00 |  88.89 |\n",
    "|11:21:38  |     2  |  1.06 |   0.00  |  1.06 |   0.00  |  0.00  |  0.00  |  0.00  |  1.06  |  0.00 |  96.81 |\n",
    "\n",
    "The data is tabular with a datetime stamp and a CPU index with each of the categorical indexes.\n",
    "\n",
    "FYI the large dataset `mpstat.ab8713f3-6c19-479c-b662-bad058d8902c.out` is 441M and has 2.1 million rows is slow to run."
   ]
  },
  {
   "cell_type": "code",
   "execution_count": 8,
   "metadata": {},
   "outputs": [],
   "source": [
    "import pandas as pd\n",
    "import json\n",
    "import numpy as np\n",
    "import matplotlib.pyplot as plt\n",
    "import plotly.express as px\n",
    "import seaborn as sns"
   ]
  },
  {
   "cell_type": "markdown",
   "metadata": {},
   "source": [
    "### Data Ingest"
   ]
  },
  {
   "cell_type": "markdown",
   "metadata": {},
   "source": [
    "This code is only used for ETL pipeline of transforming the text output into JSON."
   ]
  },
  {
   "cell_type": "code",
   "execution_count": 9,
   "metadata": {},
   "outputs": [],
   "source": [
    "# Create a list to hold the JSON data\n",
    "# The following code only needs to run once\n",
    "# json_data = []\n",
    "\n",
    "# # with open('output.json', 'w') as outfile,open(\"../short.txt\",\"r\") as f:\n",
    "# with open('output-large.json','w') as outfile,open(\"../mpstat.ab8713f3-6c19-479c-b662-bad058d8902c.out\") as f:\n",
    "#      # Split the input data into lines\n",
    "#      next(f)\n",
    "#      headers = []\n",
    "#      for line in f:\n",
    "#          if line is None or line == '\\n': \n",
    "#             continue\n",
    "#          else:\n",
    "#             lines = line.strip().split(' ')\n",
    "#             lines = list(filter(None, lines))\n",
    "#             # Extract the headers\n",
    "#             if len(headers) == 0:\n",
    "#                headers = lines[1:]\n",
    "#                continue\n",
    "            \n",
    "#             datetime = lines[0]               \n",
    "#             row_dict = { \"timestamp\": datetime}\n",
    "                  \n",
    "#             for i in range(len(headers)):\n",
    "#                k = headers[i]\n",
    "#                v = lines[i+1]\n",
    "#                row_dict[k] = v\n",
    "#             json_data.append(row_dict)\n",
    "\n",
    "#      json.dump(json_data, outfile)"
   ]
  },
  {
   "cell_type": "markdown",
   "metadata": {},
   "source": [
    "Load data into Pandas dataframe. \n",
    "\n",
    "The output-large.json file is 463MB."
   ]
  },
  {
   "cell_type": "code",
   "execution_count": 10,
   "metadata": {},
   "outputs": [
    {
     "data": {
      "text/html": [
       "<div>\n",
       "<style scoped>\n",
       "    .dataframe tbody tr th:only-of-type {\n",
       "        vertical-align: middle;\n",
       "    }\n",
       "\n",
       "    .dataframe tbody tr th {\n",
       "        vertical-align: top;\n",
       "    }\n",
       "\n",
       "    .dataframe thead th {\n",
       "        text-align: right;\n",
       "    }\n",
       "</style>\n",
       "<table border=\"1\" class=\"dataframe\">\n",
       "  <thead>\n",
       "    <tr style=\"text-align: right;\">\n",
       "      <th></th>\n",
       "      <th>timestamp</th>\n",
       "      <th>CPU</th>\n",
       "      <th>%usr</th>\n",
       "      <th>%nice</th>\n",
       "      <th>%sys</th>\n",
       "      <th>%iowait</th>\n",
       "      <th>%irq</th>\n",
       "      <th>%soft</th>\n",
       "      <th>%steal</th>\n",
       "      <th>%guest</th>\n",
       "      <th>%gnice</th>\n",
       "      <th>%idle</th>\n",
       "    </tr>\n",
       "  </thead>\n",
       "  <tbody>\n",
       "    <tr>\n",
       "      <th>0</th>\n",
       "      <td>11:21:38</td>\n",
       "      <td>all</td>\n",
       "      <td>0.34</td>\n",
       "      <td>0.00</td>\n",
       "      <td>8.47</td>\n",
       "      <td>0.04</td>\n",
       "      <td>0.00</td>\n",
       "      <td>0.17</td>\n",
       "      <td>0.00</td>\n",
       "      <td>18.28</td>\n",
       "      <td>0.00</td>\n",
       "      <td>72.64</td>\n",
       "    </tr>\n",
       "    <tr>\n",
       "      <th>1</th>\n",
       "      <td>11:21:38</td>\n",
       "      <td>0</td>\n",
       "      <td>0.00</td>\n",
       "      <td>0.00</td>\n",
       "      <td>31.96</td>\n",
       "      <td>0.00</td>\n",
       "      <td>0.00</td>\n",
       "      <td>0.00</td>\n",
       "      <td>0.00</td>\n",
       "      <td>0.00</td>\n",
       "      <td>0.00</td>\n",
       "      <td>68.04</td>\n",
       "    </tr>\n",
       "    <tr>\n",
       "      <th>2</th>\n",
       "      <td>11:21:38</td>\n",
       "      <td>1</td>\n",
       "      <td>1.23</td>\n",
       "      <td>0.00</td>\n",
       "      <td>9.88</td>\n",
       "      <td>0.00</td>\n",
       "      <td>0.00</td>\n",
       "      <td>0.00</td>\n",
       "      <td>0.00</td>\n",
       "      <td>0.00</td>\n",
       "      <td>0.00</td>\n",
       "      <td>88.89</td>\n",
       "    </tr>\n",
       "    <tr>\n",
       "      <th>3</th>\n",
       "      <td>11:21:38</td>\n",
       "      <td>2</td>\n",
       "      <td>1.06</td>\n",
       "      <td>0.00</td>\n",
       "      <td>1.06</td>\n",
       "      <td>0.00</td>\n",
       "      <td>0.00</td>\n",
       "      <td>0.00</td>\n",
       "      <td>0.00</td>\n",
       "      <td>1.06</td>\n",
       "      <td>0.00</td>\n",
       "      <td>96.81</td>\n",
       "    </tr>\n",
       "    <tr>\n",
       "      <th>4</th>\n",
       "      <td>11:21:38</td>\n",
       "      <td>3</td>\n",
       "      <td>0.00</td>\n",
       "      <td>0.00</td>\n",
       "      <td>5.10</td>\n",
       "      <td>0.00</td>\n",
       "      <td>0.00</td>\n",
       "      <td>0.00</td>\n",
       "      <td>0.00</td>\n",
       "      <td>0.00</td>\n",
       "      <td>0.00</td>\n",
       "      <td>94.90</td>\n",
       "    </tr>\n",
       "  </tbody>\n",
       "</table>\n",
       "</div>"
      ],
      "text/plain": [
       "  timestamp  CPU  %usr %nice   %sys %iowait  %irq %soft %steal %guest %gnice  \\\n",
       "0  11:21:38  all  0.34  0.00   8.47    0.04  0.00  0.17   0.00  18.28   0.00   \n",
       "1  11:21:38    0  0.00  0.00  31.96    0.00  0.00  0.00   0.00   0.00   0.00   \n",
       "2  11:21:38    1  1.23  0.00   9.88    0.00  0.00  0.00   0.00   0.00   0.00   \n",
       "3  11:21:38    2  1.06  0.00   1.06    0.00  0.00  0.00   0.00   1.06   0.00   \n",
       "4  11:21:38    3  0.00  0.00   5.10    0.00  0.00  0.00   0.00   0.00   0.00   \n",
       "\n",
       "   %idle  \n",
       "0  72.64  \n",
       "1  68.04  \n",
       "2  88.89  \n",
       "3  96.81  \n",
       "4  94.90  "
      ]
     },
     "execution_count": 10,
     "metadata": {},
     "output_type": "execute_result"
    }
   ],
   "source": [
    "with open('output-large.json', 'r') as infile: \n",
    "    data = json.load(infile)\n",
    "    result = pd.json_normalize(data, errors='raise')\n",
    "df = pd.DataFrame(result)\n",
    "df.head()"
   ]
  },
  {
   "cell_type": "markdown",
   "metadata": {},
   "source": [
    "### Data Cleaning"
   ]
  },
  {
   "cell_type": "code",
   "execution_count": 11,
   "metadata": {},
   "outputs": [
    {
     "data": {
      "text/plain": [
       "<bound method NDFrame.describe of         timestamp  CPU  %usr %nice   %sys %iowait  %irq %soft %steal  %guest  \\\n",
       "0        11:21:38  all  0.34  0.00   8.47    0.04  0.00  0.17   0.00   18.28   \n",
       "1        11:21:38    0  0.00  0.00  31.96    0.00  0.00  0.00   0.00    0.00   \n",
       "2        11:21:38    1  1.23  0.00   9.88    0.00  0.00  0.00   0.00    0.00   \n",
       "3        11:21:38    2  1.06  0.00   1.06    0.00  0.00  0.00   0.00    1.06   \n",
       "4        11:21:38    3  0.00  0.00   5.10    0.00  0.00  0.00   0.00    0.00   \n",
       "...           ...  ...   ...   ...    ...     ...   ...   ...    ...     ...   \n",
       "2157906  13:41:03  251  0.00  0.00  15.00    0.00  0.00  0.00   0.00   55.00   \n",
       "2157907  13:41:03  252  0.00  0.00   0.00    0.00  0.00  0.00   0.00  100.00   \n",
       "2157908  13:41:03  253  0.00  0.00   0.00    0.00  0.00  0.00   0.00    0.00   \n",
       "2157909  13:41:03  254  1.00  0.00   0.00    0.00  0.00  0.00   0.00   69.00   \n",
       "2157910  13:41:03  255  0.00  0.00   0.00    0.00  0.00  0.00   0.00    0.00   \n",
       "\n",
       "        %gnice   %idle  \n",
       "0         0.00   72.64  \n",
       "1         0.00   68.04  \n",
       "2         0.00   88.89  \n",
       "3         0.00   96.81  \n",
       "4         0.00   94.90  \n",
       "...        ...     ...  \n",
       "2157906   0.00   30.00  \n",
       "2157907   0.00    0.00  \n",
       "2157908   0.00  100.00  \n",
       "2157909   0.00   30.00  \n",
       "2157910   0.00  100.00  \n",
       "\n",
       "[2157911 rows x 12 columns]>"
      ]
     },
     "execution_count": 11,
     "metadata": {},
     "output_type": "execute_result"
    }
   ],
   "source": [
    "# only show two decimal places\n",
    "pd.set_option('display.float_format', '{:.2f}'.format)\n",
    "df.describe"
   ]
  },
  {
   "cell_type": "markdown",
   "metadata": {},
   "source": [
    "Data Types will need to be updated to be working properly in a chart. "
   ]
  },
  {
   "cell_type": "code",
   "execution_count": 12,
   "metadata": {},
   "outputs": [
    {
     "data": {
      "text/plain": [
       "timestamp    object\n",
       "CPU          object\n",
       "%usr         object\n",
       "%nice        object\n",
       "%sys         object\n",
       "%iowait      object\n",
       "%irq         object\n",
       "%soft        object\n",
       "%steal       object\n",
       "%guest       object\n",
       "%gnice       object\n",
       "%idle        object\n",
       "dtype: object"
      ]
     },
     "execution_count": 12,
     "metadata": {},
     "output_type": "execute_result"
    }
   ],
   "source": [
    "df.dtypes"
   ]
  },
  {
   "cell_type": "markdown",
   "metadata": {},
   "source": [
    "Rename column headers"
   ]
  },
  {
   "cell_type": "code",
   "execution_count": 13,
   "metadata": {},
   "outputs": [],
   "source": [
    "df.rename(columns={'CPU':'cpu', '%usr':'usr','%nice':'nice','%iowait':'iowait','%irq':'irq','%soft':'soft','%steal':'steal','%guest':'guest','%sys':'sys','%gnice':'gnice','%idle':'idle'}, inplace=True)"
   ]
  },
  {
   "cell_type": "code",
   "execution_count": 14,
   "metadata": {},
   "outputs": [
    {
     "data": {
      "text/html": [
       "<div>\n",
       "<style scoped>\n",
       "    .dataframe tbody tr th:only-of-type {\n",
       "        vertical-align: middle;\n",
       "    }\n",
       "\n",
       "    .dataframe tbody tr th {\n",
       "        vertical-align: top;\n",
       "    }\n",
       "\n",
       "    .dataframe thead th {\n",
       "        text-align: right;\n",
       "    }\n",
       "</style>\n",
       "<table border=\"1\" class=\"dataframe\">\n",
       "  <thead>\n",
       "    <tr style=\"text-align: right;\">\n",
       "      <th></th>\n",
       "      <th>timestamp</th>\n",
       "      <th>cpu</th>\n",
       "      <th>usr</th>\n",
       "      <th>nice</th>\n",
       "      <th>sys</th>\n",
       "      <th>iowait</th>\n",
       "      <th>irq</th>\n",
       "      <th>soft</th>\n",
       "      <th>steal</th>\n",
       "      <th>guest</th>\n",
       "      <th>gnice</th>\n",
       "      <th>idle</th>\n",
       "    </tr>\n",
       "  </thead>\n",
       "  <tbody>\n",
       "    <tr>\n",
       "      <th>0</th>\n",
       "      <td>11:21:38</td>\n",
       "      <td>all</td>\n",
       "      <td>0.34</td>\n",
       "      <td>0.00</td>\n",
       "      <td>8.47</td>\n",
       "      <td>0.04</td>\n",
       "      <td>0.00</td>\n",
       "      <td>0.17</td>\n",
       "      <td>0.00</td>\n",
       "      <td>18.28</td>\n",
       "      <td>0.00</td>\n",
       "      <td>72.64</td>\n",
       "    </tr>\n",
       "    <tr>\n",
       "      <th>1</th>\n",
       "      <td>11:21:38</td>\n",
       "      <td>0</td>\n",
       "      <td>0.00</td>\n",
       "      <td>0.00</td>\n",
       "      <td>31.96</td>\n",
       "      <td>0.00</td>\n",
       "      <td>0.00</td>\n",
       "      <td>0.00</td>\n",
       "      <td>0.00</td>\n",
       "      <td>0.00</td>\n",
       "      <td>0.00</td>\n",
       "      <td>68.04</td>\n",
       "    </tr>\n",
       "    <tr>\n",
       "      <th>2</th>\n",
       "      <td>11:21:38</td>\n",
       "      <td>1</td>\n",
       "      <td>1.23</td>\n",
       "      <td>0.00</td>\n",
       "      <td>9.88</td>\n",
       "      <td>0.00</td>\n",
       "      <td>0.00</td>\n",
       "      <td>0.00</td>\n",
       "      <td>0.00</td>\n",
       "      <td>0.00</td>\n",
       "      <td>0.00</td>\n",
       "      <td>88.89</td>\n",
       "    </tr>\n",
       "    <tr>\n",
       "      <th>3</th>\n",
       "      <td>11:21:38</td>\n",
       "      <td>2</td>\n",
       "      <td>1.06</td>\n",
       "      <td>0.00</td>\n",
       "      <td>1.06</td>\n",
       "      <td>0.00</td>\n",
       "      <td>0.00</td>\n",
       "      <td>0.00</td>\n",
       "      <td>0.00</td>\n",
       "      <td>1.06</td>\n",
       "      <td>0.00</td>\n",
       "      <td>96.81</td>\n",
       "    </tr>\n",
       "    <tr>\n",
       "      <th>4</th>\n",
       "      <td>11:21:38</td>\n",
       "      <td>3</td>\n",
       "      <td>0.00</td>\n",
       "      <td>0.00</td>\n",
       "      <td>5.10</td>\n",
       "      <td>0.00</td>\n",
       "      <td>0.00</td>\n",
       "      <td>0.00</td>\n",
       "      <td>0.00</td>\n",
       "      <td>0.00</td>\n",
       "      <td>0.00</td>\n",
       "      <td>94.90</td>\n",
       "    </tr>\n",
       "  </tbody>\n",
       "</table>\n",
       "</div>"
      ],
      "text/plain": [
       "  timestamp  cpu   usr  nice    sys iowait   irq  soft steal  guest gnice  \\\n",
       "0  11:21:38  all  0.34  0.00   8.47   0.04  0.00  0.17  0.00  18.28  0.00   \n",
       "1  11:21:38    0  0.00  0.00  31.96   0.00  0.00  0.00  0.00   0.00  0.00   \n",
       "2  11:21:38    1  1.23  0.00   9.88   0.00  0.00  0.00  0.00   0.00  0.00   \n",
       "3  11:21:38    2  1.06  0.00   1.06   0.00  0.00  0.00  0.00   1.06  0.00   \n",
       "4  11:21:38    3  0.00  0.00   5.10   0.00  0.00  0.00  0.00   0.00  0.00   \n",
       "\n",
       "    idle  \n",
       "0  72.64  \n",
       "1  68.04  \n",
       "2  88.89  \n",
       "3  96.81  \n",
       "4  94.90  "
      ]
     },
     "execution_count": 14,
     "metadata": {},
     "output_type": "execute_result"
    }
   ],
   "source": [
    "df.head()"
   ]
  },
  {
   "cell_type": "markdown",
   "metadata": {},
   "source": [
    "The CPU column already exists at the top, we remove those extra headers from the dataset.\n",
    "\n",
    "We only need one header row for the dataset. "
   ]
  },
  {
   "cell_type": "markdown",
   "metadata": {},
   "source": [
    "```\n",
    "11:21:38     254    0.00    0.00    0.00    0.00    0.00    0.00    0.00  100.00    0.00    0.00\n",
    "11:21:38     255    0.00    0.00    0.00    0.00    0.00    0.00    0.00    0.00    0.00  100.00\n",
    "\n",
    "11:21:38     CPU    %usr   %nice    %sys %iowait    %irq   %soft  %steal  %guest  %gnice   %idle\n",
    "11:21:39     all    0.38    0.00    9.73    0.78    0.00    0.25    0.00   16.74    0.00   72.04\n",
    "11:21:39       0    1.20    0.00    0.00    0.00    0.00    0.00    0.00    7.23    0.00   91.57\n",
    "```"
   ]
  },
  {
   "cell_type": "code",
   "execution_count": 15,
   "metadata": {},
   "outputs": [
    {
     "data": {
      "text/html": [
       "<div>\n",
       "<style scoped>\n",
       "    .dataframe tbody tr th:only-of-type {\n",
       "        vertical-align: middle;\n",
       "    }\n",
       "\n",
       "    .dataframe tbody tr th {\n",
       "        vertical-align: top;\n",
       "    }\n",
       "\n",
       "    .dataframe thead th {\n",
       "        text-align: right;\n",
       "    }\n",
       "</style>\n",
       "<table border=\"1\" class=\"dataframe\">\n",
       "  <thead>\n",
       "    <tr style=\"text-align: right;\">\n",
       "      <th></th>\n",
       "      <th>timestamp</th>\n",
       "      <th>cpu</th>\n",
       "      <th>usr</th>\n",
       "      <th>nice</th>\n",
       "      <th>sys</th>\n",
       "      <th>iowait</th>\n",
       "      <th>irq</th>\n",
       "      <th>soft</th>\n",
       "      <th>steal</th>\n",
       "      <th>guest</th>\n",
       "      <th>gnice</th>\n",
       "      <th>idle</th>\n",
       "    </tr>\n",
       "  </thead>\n",
       "  <tbody>\n",
       "    <tr>\n",
       "      <th>0</th>\n",
       "      <td>11:21:38</td>\n",
       "      <td>all</td>\n",
       "      <td>0.34</td>\n",
       "      <td>0.00</td>\n",
       "      <td>8.47</td>\n",
       "      <td>0.04</td>\n",
       "      <td>0.00</td>\n",
       "      <td>0.17</td>\n",
       "      <td>0.00</td>\n",
       "      <td>18.28</td>\n",
       "      <td>0.00</td>\n",
       "      <td>72.64</td>\n",
       "    </tr>\n",
       "    <tr>\n",
       "      <th>1</th>\n",
       "      <td>11:21:38</td>\n",
       "      <td>0</td>\n",
       "      <td>0.00</td>\n",
       "      <td>0.00</td>\n",
       "      <td>31.96</td>\n",
       "      <td>0.00</td>\n",
       "      <td>0.00</td>\n",
       "      <td>0.00</td>\n",
       "      <td>0.00</td>\n",
       "      <td>0.00</td>\n",
       "      <td>0.00</td>\n",
       "      <td>68.04</td>\n",
       "    </tr>\n",
       "    <tr>\n",
       "      <th>2</th>\n",
       "      <td>11:21:38</td>\n",
       "      <td>1</td>\n",
       "      <td>1.23</td>\n",
       "      <td>0.00</td>\n",
       "      <td>9.88</td>\n",
       "      <td>0.00</td>\n",
       "      <td>0.00</td>\n",
       "      <td>0.00</td>\n",
       "      <td>0.00</td>\n",
       "      <td>0.00</td>\n",
       "      <td>0.00</td>\n",
       "      <td>88.89</td>\n",
       "    </tr>\n",
       "    <tr>\n",
       "      <th>3</th>\n",
       "      <td>11:21:38</td>\n",
       "      <td>2</td>\n",
       "      <td>1.06</td>\n",
       "      <td>0.00</td>\n",
       "      <td>1.06</td>\n",
       "      <td>0.00</td>\n",
       "      <td>0.00</td>\n",
       "      <td>0.00</td>\n",
       "      <td>0.00</td>\n",
       "      <td>1.06</td>\n",
       "      <td>0.00</td>\n",
       "      <td>96.81</td>\n",
       "    </tr>\n",
       "    <tr>\n",
       "      <th>4</th>\n",
       "      <td>11:21:38</td>\n",
       "      <td>3</td>\n",
       "      <td>0.00</td>\n",
       "      <td>0.00</td>\n",
       "      <td>5.10</td>\n",
       "      <td>0.00</td>\n",
       "      <td>0.00</td>\n",
       "      <td>0.00</td>\n",
       "      <td>0.00</td>\n",
       "      <td>0.00</td>\n",
       "      <td>0.00</td>\n",
       "      <td>94.90</td>\n",
       "    </tr>\n",
       "  </tbody>\n",
       "</table>\n",
       "</div>"
      ],
      "text/plain": [
       "  timestamp  cpu   usr  nice    sys iowait   irq  soft steal  guest gnice  \\\n",
       "0  11:21:38  all  0.34  0.00   8.47   0.04  0.00  0.17  0.00  18.28  0.00   \n",
       "1  11:21:38    0  0.00  0.00  31.96   0.00  0.00  0.00  0.00   0.00  0.00   \n",
       "2  11:21:38    1  1.23  0.00   9.88   0.00  0.00  0.00  0.00   0.00  0.00   \n",
       "3  11:21:38    2  1.06  0.00   1.06   0.00  0.00  0.00  0.00   1.06  0.00   \n",
       "4  11:21:38    3  0.00  0.00   5.10   0.00  0.00  0.00  0.00   0.00  0.00   \n",
       "\n",
       "    idle  \n",
       "0  72.64  \n",
       "1  68.04  \n",
       "2  88.89  \n",
       "3  96.81  \n",
       "4  94.90  "
      ]
     },
     "execution_count": 15,
     "metadata": {},
     "output_type": "execute_result"
    }
   ],
   "source": [
    "substring = ['cpu']\n",
    "df = df[df['cpu'].str.contains(\"CPU\")==False]\n",
    "df.head()"
   ]
  },
  {
   "cell_type": "markdown",
   "metadata": {},
   "source": [
    "Convert timestamp from string to actual datetime"
   ]
  },
  {
   "cell_type": "code",
   "execution_count": 16,
   "metadata": {},
   "outputs": [
    {
     "name": "stderr",
     "output_type": "stream",
     "text": [
      "/tmp/ipykernel_47539/2610453095.py:1: SettingWithCopyWarning:\n",
      "\n",
      "\n",
      "A value is trying to be set on a copy of a slice from a DataFrame.\n",
      "Try using .loc[row_indexer,col_indexer] = value instead\n",
      "\n",
      "See the caveats in the documentation: https://pandas.pydata.org/pandas-docs/stable/user_guide/indexing.html#returning-a-view-versus-a-copy\n",
      "\n"
     ]
    }
   ],
   "source": [
    "df['timestamp'] = pd.to_datetime(df['timestamp'], format='%H:%M:%S').dt.time"
   ]
  },
  {
   "cell_type": "code",
   "execution_count": 17,
   "metadata": {},
   "outputs": [
    {
     "data": {
      "text/html": [
       "<div>\n",
       "<style scoped>\n",
       "    .dataframe tbody tr th:only-of-type {\n",
       "        vertical-align: middle;\n",
       "    }\n",
       "\n",
       "    .dataframe tbody tr th {\n",
       "        vertical-align: top;\n",
       "    }\n",
       "\n",
       "    .dataframe thead th {\n",
       "        text-align: right;\n",
       "    }\n",
       "</style>\n",
       "<table border=\"1\" class=\"dataframe\">\n",
       "  <thead>\n",
       "    <tr style=\"text-align: right;\">\n",
       "      <th></th>\n",
       "      <th>cpu</th>\n",
       "      <th>usr</th>\n",
       "      <th>nice</th>\n",
       "      <th>sys</th>\n",
       "      <th>iowait</th>\n",
       "      <th>irq</th>\n",
       "      <th>soft</th>\n",
       "      <th>steal</th>\n",
       "      <th>guest</th>\n",
       "      <th>gnice</th>\n",
       "      <th>idle</th>\n",
       "    </tr>\n",
       "  </thead>\n",
       "  <tbody>\n",
       "    <tr>\n",
       "      <th>0</th>\n",
       "      <td>all</td>\n",
       "      <td>0.34</td>\n",
       "      <td>0.00</td>\n",
       "      <td>8.47</td>\n",
       "      <td>0.04</td>\n",
       "      <td>0.00</td>\n",
       "      <td>0.17</td>\n",
       "      <td>0.00</td>\n",
       "      <td>18.28</td>\n",
       "      <td>0.00</td>\n",
       "      <td>72.64</td>\n",
       "    </tr>\n",
       "    <tr>\n",
       "      <th>1</th>\n",
       "      <td>0</td>\n",
       "      <td>0.00</td>\n",
       "      <td>0.00</td>\n",
       "      <td>31.96</td>\n",
       "      <td>0.00</td>\n",
       "      <td>0.00</td>\n",
       "      <td>0.00</td>\n",
       "      <td>0.00</td>\n",
       "      <td>0.00</td>\n",
       "      <td>0.00</td>\n",
       "      <td>68.04</td>\n",
       "    </tr>\n",
       "    <tr>\n",
       "      <th>2</th>\n",
       "      <td>1</td>\n",
       "      <td>1.23</td>\n",
       "      <td>0.00</td>\n",
       "      <td>9.88</td>\n",
       "      <td>0.00</td>\n",
       "      <td>0.00</td>\n",
       "      <td>0.00</td>\n",
       "      <td>0.00</td>\n",
       "      <td>0.00</td>\n",
       "      <td>0.00</td>\n",
       "      <td>88.89</td>\n",
       "    </tr>\n",
       "    <tr>\n",
       "      <th>3</th>\n",
       "      <td>2</td>\n",
       "      <td>1.06</td>\n",
       "      <td>0.00</td>\n",
       "      <td>1.06</td>\n",
       "      <td>0.00</td>\n",
       "      <td>0.00</td>\n",
       "      <td>0.00</td>\n",
       "      <td>0.00</td>\n",
       "      <td>1.06</td>\n",
       "      <td>0.00</td>\n",
       "      <td>96.81</td>\n",
       "    </tr>\n",
       "    <tr>\n",
       "      <th>4</th>\n",
       "      <td>3</td>\n",
       "      <td>0.00</td>\n",
       "      <td>0.00</td>\n",
       "      <td>5.10</td>\n",
       "      <td>0.00</td>\n",
       "      <td>0.00</td>\n",
       "      <td>0.00</td>\n",
       "      <td>0.00</td>\n",
       "      <td>0.00</td>\n",
       "      <td>0.00</td>\n",
       "      <td>94.90</td>\n",
       "    </tr>\n",
       "    <tr>\n",
       "      <th>...</th>\n",
       "      <td>...</td>\n",
       "      <td>...</td>\n",
       "      <td>...</td>\n",
       "      <td>...</td>\n",
       "      <td>...</td>\n",
       "      <td>...</td>\n",
       "      <td>...</td>\n",
       "      <td>...</td>\n",
       "      <td>...</td>\n",
       "      <td>...</td>\n",
       "      <td>...</td>\n",
       "    </tr>\n",
       "    <tr>\n",
       "      <th>2157906</th>\n",
       "      <td>251</td>\n",
       "      <td>0.00</td>\n",
       "      <td>0.00</td>\n",
       "      <td>15.00</td>\n",
       "      <td>0.00</td>\n",
       "      <td>0.00</td>\n",
       "      <td>0.00</td>\n",
       "      <td>0.00</td>\n",
       "      <td>55.00</td>\n",
       "      <td>0.00</td>\n",
       "      <td>30.00</td>\n",
       "    </tr>\n",
       "    <tr>\n",
       "      <th>2157907</th>\n",
       "      <td>252</td>\n",
       "      <td>0.00</td>\n",
       "      <td>0.00</td>\n",
       "      <td>0.00</td>\n",
       "      <td>0.00</td>\n",
       "      <td>0.00</td>\n",
       "      <td>0.00</td>\n",
       "      <td>0.00</td>\n",
       "      <td>100.00</td>\n",
       "      <td>0.00</td>\n",
       "      <td>0.00</td>\n",
       "    </tr>\n",
       "    <tr>\n",
       "      <th>2157908</th>\n",
       "      <td>253</td>\n",
       "      <td>0.00</td>\n",
       "      <td>0.00</td>\n",
       "      <td>0.00</td>\n",
       "      <td>0.00</td>\n",
       "      <td>0.00</td>\n",
       "      <td>0.00</td>\n",
       "      <td>0.00</td>\n",
       "      <td>0.00</td>\n",
       "      <td>0.00</td>\n",
       "      <td>100.00</td>\n",
       "    </tr>\n",
       "    <tr>\n",
       "      <th>2157909</th>\n",
       "      <td>254</td>\n",
       "      <td>1.00</td>\n",
       "      <td>0.00</td>\n",
       "      <td>0.00</td>\n",
       "      <td>0.00</td>\n",
       "      <td>0.00</td>\n",
       "      <td>0.00</td>\n",
       "      <td>0.00</td>\n",
       "      <td>69.00</td>\n",
       "      <td>0.00</td>\n",
       "      <td>30.00</td>\n",
       "    </tr>\n",
       "    <tr>\n",
       "      <th>2157910</th>\n",
       "      <td>255</td>\n",
       "      <td>0.00</td>\n",
       "      <td>0.00</td>\n",
       "      <td>0.00</td>\n",
       "      <td>0.00</td>\n",
       "      <td>0.00</td>\n",
       "      <td>0.00</td>\n",
       "      <td>0.00</td>\n",
       "      <td>0.00</td>\n",
       "      <td>0.00</td>\n",
       "      <td>100.00</td>\n",
       "    </tr>\n",
       "  </tbody>\n",
       "</table>\n",
       "<p>2149548 rows × 11 columns</p>\n",
       "</div>"
      ],
      "text/plain": [
       "         cpu   usr  nice    sys iowait   irq  soft steal   guest gnice    idle\n",
       "0        all  0.34  0.00   8.47   0.04  0.00  0.17  0.00   18.28  0.00   72.64\n",
       "1          0  0.00  0.00  31.96   0.00  0.00  0.00  0.00    0.00  0.00   68.04\n",
       "2          1  1.23  0.00   9.88   0.00  0.00  0.00  0.00    0.00  0.00   88.89\n",
       "3          2  1.06  0.00   1.06   0.00  0.00  0.00  0.00    1.06  0.00   96.81\n",
       "4          3  0.00  0.00   5.10   0.00  0.00  0.00  0.00    0.00  0.00   94.90\n",
       "...      ...   ...   ...    ...    ...   ...   ...   ...     ...   ...     ...\n",
       "2157906  251  0.00  0.00  15.00   0.00  0.00  0.00  0.00   55.00  0.00   30.00\n",
       "2157907  252  0.00  0.00   0.00   0.00  0.00  0.00  0.00  100.00  0.00    0.00\n",
       "2157908  253  0.00  0.00   0.00   0.00  0.00  0.00  0.00    0.00  0.00  100.00\n",
       "2157909  254  1.00  0.00   0.00   0.00  0.00  0.00  0.00   69.00  0.00   30.00\n",
       "2157910  255  0.00  0.00   0.00   0.00  0.00  0.00  0.00    0.00  0.00  100.00\n",
       "\n",
       "[2149548 rows x 11 columns]"
      ]
     },
     "execution_count": 17,
     "metadata": {},
     "output_type": "execute_result"
    }
   ],
   "source": [
    "df.iloc[:,1:]"
   ]
  },
  {
   "cell_type": "code",
   "execution_count": 18,
   "metadata": {},
   "outputs": [
    {
     "data": {
      "text/html": [
       "<div>\n",
       "<style scoped>\n",
       "    .dataframe tbody tr th:only-of-type {\n",
       "        vertical-align: middle;\n",
       "    }\n",
       "\n",
       "    .dataframe tbody tr th {\n",
       "        vertical-align: top;\n",
       "    }\n",
       "\n",
       "    .dataframe thead th {\n",
       "        text-align: right;\n",
       "    }\n",
       "</style>\n",
       "<table border=\"1\" class=\"dataframe\">\n",
       "  <thead>\n",
       "    <tr style=\"text-align: right;\">\n",
       "      <th></th>\n",
       "      <th>cpu</th>\n",
       "      <th>usr</th>\n",
       "      <th>nice</th>\n",
       "      <th>sys</th>\n",
       "      <th>iowait</th>\n",
       "      <th>irq</th>\n",
       "      <th>soft</th>\n",
       "      <th>steal</th>\n",
       "      <th>guest</th>\n",
       "      <th>gnice</th>\n",
       "    </tr>\n",
       "  </thead>\n",
       "  <tbody>\n",
       "    <tr>\n",
       "      <th>0</th>\n",
       "      <td>all</td>\n",
       "      <td>0.34</td>\n",
       "      <td>0.00</td>\n",
       "      <td>8.47</td>\n",
       "      <td>0.04</td>\n",
       "      <td>0.00</td>\n",
       "      <td>0.17</td>\n",
       "      <td>0.00</td>\n",
       "      <td>18.28</td>\n",
       "      <td>0.00</td>\n",
       "    </tr>\n",
       "  </tbody>\n",
       "</table>\n",
       "</div>"
      ],
      "text/plain": [
       "   cpu   usr  nice   sys iowait   irq  soft steal  guest gnice\n",
       "0  all  0.34  0.00  8.47   0.04  0.00  0.17  0.00  18.28  0.00"
      ]
     },
     "execution_count": 18,
     "metadata": {},
     "output_type": "execute_result"
    }
   ],
   "source": [
    "df.iloc[:1,1:-1]"
   ]
  },
  {
   "cell_type": "markdown",
   "metadata": {},
   "source": [
    "Remove the \"all\" from CPU column as this will skew our statistics. \n",
    "\n",
    "Place `all` rows in new dataframe."
   ]
  },
  {
   "cell_type": "code",
   "execution_count": 19,
   "metadata": {},
   "outputs": [
    {
     "data": {
      "text/html": [
       "<div>\n",
       "<style scoped>\n",
       "    .dataframe tbody tr th:only-of-type {\n",
       "        vertical-align: middle;\n",
       "    }\n",
       "\n",
       "    .dataframe tbody tr th {\n",
       "        vertical-align: top;\n",
       "    }\n",
       "\n",
       "    .dataframe thead th {\n",
       "        text-align: right;\n",
       "    }\n",
       "</style>\n",
       "<table border=\"1\" class=\"dataframe\">\n",
       "  <thead>\n",
       "    <tr style=\"text-align: right;\">\n",
       "      <th></th>\n",
       "      <th>timestamp</th>\n",
       "      <th>cpu</th>\n",
       "      <th>usr</th>\n",
       "      <th>nice</th>\n",
       "      <th>sys</th>\n",
       "      <th>iowait</th>\n",
       "      <th>irq</th>\n",
       "      <th>soft</th>\n",
       "      <th>steal</th>\n",
       "      <th>guest</th>\n",
       "      <th>gnice</th>\n",
       "      <th>idle</th>\n",
       "    </tr>\n",
       "  </thead>\n",
       "  <tbody>\n",
       "    <tr>\n",
       "      <th>0</th>\n",
       "      <td>11:21:38</td>\n",
       "      <td>all</td>\n",
       "      <td>0.34</td>\n",
       "      <td>0.00</td>\n",
       "      <td>8.47</td>\n",
       "      <td>0.04</td>\n",
       "      <td>0.00</td>\n",
       "      <td>0.17</td>\n",
       "      <td>0.00</td>\n",
       "      <td>18.28</td>\n",
       "      <td>0.00</td>\n",
       "      <td>72.64</td>\n",
       "    </tr>\n",
       "    <tr>\n",
       "      <th>258</th>\n",
       "      <td>11:21:39</td>\n",
       "      <td>all</td>\n",
       "      <td>0.38</td>\n",
       "      <td>0.00</td>\n",
       "      <td>9.73</td>\n",
       "      <td>0.78</td>\n",
       "      <td>0.00</td>\n",
       "      <td>0.25</td>\n",
       "      <td>0.00</td>\n",
       "      <td>16.74</td>\n",
       "      <td>0.00</td>\n",
       "      <td>72.04</td>\n",
       "    </tr>\n",
       "    <tr>\n",
       "      <th>516</th>\n",
       "      <td>11:21:40</td>\n",
       "      <td>all</td>\n",
       "      <td>0.43</td>\n",
       "      <td>0.00</td>\n",
       "      <td>9.29</td>\n",
       "      <td>0.21</td>\n",
       "      <td>0.00</td>\n",
       "      <td>0.15</td>\n",
       "      <td>0.00</td>\n",
       "      <td>16.51</td>\n",
       "      <td>0.00</td>\n",
       "      <td>73.36</td>\n",
       "    </tr>\n",
       "    <tr>\n",
       "      <th>774</th>\n",
       "      <td>11:21:41</td>\n",
       "      <td>all</td>\n",
       "      <td>0.31</td>\n",
       "      <td>0.00</td>\n",
       "      <td>10.21</td>\n",
       "      <td>0.09</td>\n",
       "      <td>0.00</td>\n",
       "      <td>0.10</td>\n",
       "      <td>0.00</td>\n",
       "      <td>17.65</td>\n",
       "      <td>0.00</td>\n",
       "      <td>71.56</td>\n",
       "    </tr>\n",
       "    <tr>\n",
       "      <th>1032</th>\n",
       "      <td>11:21:42</td>\n",
       "      <td>all</td>\n",
       "      <td>0.38</td>\n",
       "      <td>0.00</td>\n",
       "      <td>8.93</td>\n",
       "      <td>0.17</td>\n",
       "      <td>0.00</td>\n",
       "      <td>0.18</td>\n",
       "      <td>0.00</td>\n",
       "      <td>18.39</td>\n",
       "      <td>0.00</td>\n",
       "      <td>71.85</td>\n",
       "    </tr>\n",
       "  </tbody>\n",
       "</table>\n",
       "</div>"
      ],
      "text/plain": [
       "     timestamp  cpu   usr  nice    sys iowait   irq  soft steal  guest gnice  \\\n",
       "0     11:21:38  all  0.34  0.00   8.47   0.04  0.00  0.17  0.00  18.28  0.00   \n",
       "258   11:21:39  all  0.38  0.00   9.73   0.78  0.00  0.25  0.00  16.74  0.00   \n",
       "516   11:21:40  all  0.43  0.00   9.29   0.21  0.00  0.15  0.00  16.51  0.00   \n",
       "774   11:21:41  all  0.31  0.00  10.21   0.09  0.00  0.10  0.00  17.65  0.00   \n",
       "1032  11:21:42  all  0.38  0.00   8.93   0.17  0.00  0.18  0.00  18.39  0.00   \n",
       "\n",
       "       idle  \n",
       "0     72.64  \n",
       "258   72.04  \n",
       "516   73.36  \n",
       "774   71.56  \n",
       "1032  71.85  "
      ]
     },
     "execution_count": 19,
     "metadata": {},
     "output_type": "execute_result"
    }
   ],
   "source": [
    "# handle all seperately \n",
    "substring = ['all']\n",
    "all_df = df[df['cpu'].str.contains(\"all\")==True]\n",
    "all_df.head()"
   ]
  },
  {
   "cell_type": "code",
   "execution_count": 20,
   "metadata": {},
   "outputs": [
    {
     "data": {
      "text/html": [
       "<div>\n",
       "<style scoped>\n",
       "    .dataframe tbody tr th:only-of-type {\n",
       "        vertical-align: middle;\n",
       "    }\n",
       "\n",
       "    .dataframe tbody tr th {\n",
       "        vertical-align: top;\n",
       "    }\n",
       "\n",
       "    .dataframe thead th {\n",
       "        text-align: right;\n",
       "    }\n",
       "</style>\n",
       "<table border=\"1\" class=\"dataframe\">\n",
       "  <thead>\n",
       "    <tr style=\"text-align: right;\">\n",
       "      <th></th>\n",
       "      <th>timestamp</th>\n",
       "      <th>cpu</th>\n",
       "      <th>usr</th>\n",
       "      <th>nice</th>\n",
       "      <th>sys</th>\n",
       "      <th>iowait</th>\n",
       "      <th>irq</th>\n",
       "      <th>soft</th>\n",
       "      <th>steal</th>\n",
       "      <th>guest</th>\n",
       "      <th>gnice</th>\n",
       "      <th>idle</th>\n",
       "    </tr>\n",
       "  </thead>\n",
       "  <tbody>\n",
       "    <tr>\n",
       "      <th>1</th>\n",
       "      <td>11:21:38</td>\n",
       "      <td>0</td>\n",
       "      <td>0.00</td>\n",
       "      <td>0.00</td>\n",
       "      <td>31.96</td>\n",
       "      <td>0.00</td>\n",
       "      <td>0.00</td>\n",
       "      <td>0.00</td>\n",
       "      <td>0.00</td>\n",
       "      <td>0.00</td>\n",
       "      <td>0.00</td>\n",
       "      <td>68.04</td>\n",
       "    </tr>\n",
       "    <tr>\n",
       "      <th>2</th>\n",
       "      <td>11:21:38</td>\n",
       "      <td>1</td>\n",
       "      <td>1.23</td>\n",
       "      <td>0.00</td>\n",
       "      <td>9.88</td>\n",
       "      <td>0.00</td>\n",
       "      <td>0.00</td>\n",
       "      <td>0.00</td>\n",
       "      <td>0.00</td>\n",
       "      <td>0.00</td>\n",
       "      <td>0.00</td>\n",
       "      <td>88.89</td>\n",
       "    </tr>\n",
       "    <tr>\n",
       "      <th>3</th>\n",
       "      <td>11:21:38</td>\n",
       "      <td>2</td>\n",
       "      <td>1.06</td>\n",
       "      <td>0.00</td>\n",
       "      <td>1.06</td>\n",
       "      <td>0.00</td>\n",
       "      <td>0.00</td>\n",
       "      <td>0.00</td>\n",
       "      <td>0.00</td>\n",
       "      <td>1.06</td>\n",
       "      <td>0.00</td>\n",
       "      <td>96.81</td>\n",
       "    </tr>\n",
       "    <tr>\n",
       "      <th>4</th>\n",
       "      <td>11:21:38</td>\n",
       "      <td>3</td>\n",
       "      <td>0.00</td>\n",
       "      <td>0.00</td>\n",
       "      <td>5.10</td>\n",
       "      <td>0.00</td>\n",
       "      <td>0.00</td>\n",
       "      <td>0.00</td>\n",
       "      <td>0.00</td>\n",
       "      <td>0.00</td>\n",
       "      <td>0.00</td>\n",
       "      <td>94.90</td>\n",
       "    </tr>\n",
       "    <tr>\n",
       "      <th>5</th>\n",
       "      <td>11:21:38</td>\n",
       "      <td>4</td>\n",
       "      <td>0.00</td>\n",
       "      <td>0.00</td>\n",
       "      <td>26.04</td>\n",
       "      <td>0.00</td>\n",
       "      <td>0.00</td>\n",
       "      <td>0.00</td>\n",
       "      <td>0.00</td>\n",
       "      <td>0.00</td>\n",
       "      <td>0.00</td>\n",
       "      <td>73.96</td>\n",
       "    </tr>\n",
       "  </tbody>\n",
       "</table>\n",
       "</div>"
      ],
      "text/plain": [
       "  timestamp cpu   usr  nice    sys iowait   irq  soft steal guest gnice   idle\n",
       "1  11:21:38   0  0.00  0.00  31.96   0.00  0.00  0.00  0.00  0.00  0.00  68.04\n",
       "2  11:21:38   1  1.23  0.00   9.88   0.00  0.00  0.00  0.00  0.00  0.00  88.89\n",
       "3  11:21:38   2  1.06  0.00   1.06   0.00  0.00  0.00  0.00  1.06  0.00  96.81\n",
       "4  11:21:38   3  0.00  0.00   5.10   0.00  0.00  0.00  0.00  0.00  0.00  94.90\n",
       "5  11:21:38   4  0.00  0.00  26.04   0.00  0.00  0.00  0.00  0.00  0.00  73.96"
      ]
     },
     "execution_count": 20,
     "metadata": {},
     "output_type": "execute_result"
    }
   ],
   "source": [
    "df = df[df['cpu'].str.contains(\"all\")==False]\n",
    "df.head()"
   ]
  },
  {
   "cell_type": "markdown",
   "metadata": {},
   "source": [
    "All data should now be float because of decimal except for timestamp."
   ]
  },
  {
   "cell_type": "code",
   "execution_count": 21,
   "metadata": {},
   "outputs": [
    {
     "data": {
      "text/html": [
       "<div>\n",
       "<style scoped>\n",
       "    .dataframe tbody tr th:only-of-type {\n",
       "        vertical-align: middle;\n",
       "    }\n",
       "\n",
       "    .dataframe tbody tr th {\n",
       "        vertical-align: top;\n",
       "    }\n",
       "\n",
       "    .dataframe thead th {\n",
       "        text-align: right;\n",
       "    }\n",
       "</style>\n",
       "<table border=\"1\" class=\"dataframe\">\n",
       "  <thead>\n",
       "    <tr style=\"text-align: right;\">\n",
       "      <th></th>\n",
       "      <th>timestamp</th>\n",
       "      <th>cpu</th>\n",
       "      <th>usr</th>\n",
       "      <th>nice</th>\n",
       "      <th>sys</th>\n",
       "      <th>iowait</th>\n",
       "      <th>irq</th>\n",
       "      <th>soft</th>\n",
       "      <th>steal</th>\n",
       "      <th>guest</th>\n",
       "      <th>gnice</th>\n",
       "      <th>idle</th>\n",
       "    </tr>\n",
       "  </thead>\n",
       "  <tbody>\n",
       "    <tr>\n",
       "      <th>1</th>\n",
       "      <td>11:21:38</td>\n",
       "      <td>0.00</td>\n",
       "      <td>0.00</td>\n",
       "      <td>0.00</td>\n",
       "      <td>31.96</td>\n",
       "      <td>0.00</td>\n",
       "      <td>0.00</td>\n",
       "      <td>0.00</td>\n",
       "      <td>0.00</td>\n",
       "      <td>0.00</td>\n",
       "      <td>0.00</td>\n",
       "      <td>68.04</td>\n",
       "    </tr>\n",
       "    <tr>\n",
       "      <th>2</th>\n",
       "      <td>11:21:38</td>\n",
       "      <td>1.00</td>\n",
       "      <td>1.23</td>\n",
       "      <td>0.00</td>\n",
       "      <td>9.88</td>\n",
       "      <td>0.00</td>\n",
       "      <td>0.00</td>\n",
       "      <td>0.00</td>\n",
       "      <td>0.00</td>\n",
       "      <td>0.00</td>\n",
       "      <td>0.00</td>\n",
       "      <td>88.89</td>\n",
       "    </tr>\n",
       "    <tr>\n",
       "      <th>3</th>\n",
       "      <td>11:21:38</td>\n",
       "      <td>2.00</td>\n",
       "      <td>1.06</td>\n",
       "      <td>0.00</td>\n",
       "      <td>1.06</td>\n",
       "      <td>0.00</td>\n",
       "      <td>0.00</td>\n",
       "      <td>0.00</td>\n",
       "      <td>0.00</td>\n",
       "      <td>1.06</td>\n",
       "      <td>0.00</td>\n",
       "      <td>96.81</td>\n",
       "    </tr>\n",
       "    <tr>\n",
       "      <th>4</th>\n",
       "      <td>11:21:38</td>\n",
       "      <td>3.00</td>\n",
       "      <td>0.00</td>\n",
       "      <td>0.00</td>\n",
       "      <td>5.10</td>\n",
       "      <td>0.00</td>\n",
       "      <td>0.00</td>\n",
       "      <td>0.00</td>\n",
       "      <td>0.00</td>\n",
       "      <td>0.00</td>\n",
       "      <td>0.00</td>\n",
       "      <td>94.90</td>\n",
       "    </tr>\n",
       "    <tr>\n",
       "      <th>5</th>\n",
       "      <td>11:21:38</td>\n",
       "      <td>4.00</td>\n",
       "      <td>0.00</td>\n",
       "      <td>0.00</td>\n",
       "      <td>26.04</td>\n",
       "      <td>0.00</td>\n",
       "      <td>0.00</td>\n",
       "      <td>0.00</td>\n",
       "      <td>0.00</td>\n",
       "      <td>0.00</td>\n",
       "      <td>0.00</td>\n",
       "      <td>73.96</td>\n",
       "    </tr>\n",
       "  </tbody>\n",
       "</table>\n",
       "</div>"
      ],
      "text/plain": [
       "  timestamp  cpu  usr  nice   sys  iowait  irq  soft  steal  guest  gnice  \\\n",
       "1  11:21:38 0.00 0.00  0.00 31.96    0.00 0.00  0.00   0.00   0.00   0.00   \n",
       "2  11:21:38 1.00 1.23  0.00  9.88    0.00 0.00  0.00   0.00   0.00   0.00   \n",
       "3  11:21:38 2.00 1.06  0.00  1.06    0.00 0.00  0.00   0.00   1.06   0.00   \n",
       "4  11:21:38 3.00 0.00  0.00  5.10    0.00 0.00  0.00   0.00   0.00   0.00   \n",
       "5  11:21:38 4.00 0.00  0.00 26.04    0.00 0.00  0.00   0.00   0.00   0.00   \n",
       "\n",
       "   idle  \n",
       "1 68.04  \n",
       "2 88.89  \n",
       "3 96.81  \n",
       "4 94.90  \n",
       "5 73.96  "
      ]
     },
     "execution_count": 21,
     "metadata": {},
     "output_type": "execute_result"
    }
   ],
   "source": [
    "df[df.columns[1:]] = df[df.columns[1:]].astype(float)\n",
    "df.head()"
   ]
  },
  {
   "cell_type": "code",
   "execution_count": 22,
   "metadata": {},
   "outputs": [
    {
     "data": {
      "text/plain": [
       "timestamp     object\n",
       "cpu          float64\n",
       "usr          float64\n",
       "nice         float64\n",
       "sys          float64\n",
       "iowait       float64\n",
       "irq          float64\n",
       "soft         float64\n",
       "steal        float64\n",
       "guest        float64\n",
       "gnice        float64\n",
       "idle         float64\n",
       "dtype: object"
      ]
     },
     "execution_count": 22,
     "metadata": {},
     "output_type": "execute_result"
    }
   ],
   "source": [
    "df.dtypes"
   ]
  },
  {
   "cell_type": "code",
   "execution_count": 23,
   "metadata": {},
   "outputs": [
    {
     "data": {
      "text/html": [
       "<div>\n",
       "<style scoped>\n",
       "    .dataframe tbody tr th:only-of-type {\n",
       "        vertical-align: middle;\n",
       "    }\n",
       "\n",
       "    .dataframe tbody tr th {\n",
       "        vertical-align: top;\n",
       "    }\n",
       "\n",
       "    .dataframe thead th {\n",
       "        text-align: right;\n",
       "    }\n",
       "</style>\n",
       "<table border=\"1\" class=\"dataframe\">\n",
       "  <thead>\n",
       "    <tr style=\"text-align: right;\">\n",
       "      <th></th>\n",
       "      <th>cpu</th>\n",
       "      <th>usr</th>\n",
       "      <th>nice</th>\n",
       "      <th>sys</th>\n",
       "      <th>iowait</th>\n",
       "      <th>irq</th>\n",
       "      <th>soft</th>\n",
       "      <th>steal</th>\n",
       "      <th>guest</th>\n",
       "      <th>gnice</th>\n",
       "      <th>idle</th>\n",
       "    </tr>\n",
       "  </thead>\n",
       "  <tbody>\n",
       "    <tr>\n",
       "      <th>count</th>\n",
       "      <td>2141184.00</td>\n",
       "      <td>2141184.00</td>\n",
       "      <td>2141184.00</td>\n",
       "      <td>2141184.00</td>\n",
       "      <td>2141184.00</td>\n",
       "      <td>2141184.00</td>\n",
       "      <td>2141184.00</td>\n",
       "      <td>2141184.00</td>\n",
       "      <td>2141184.00</td>\n",
       "      <td>2141184.00</td>\n",
       "      <td>2141184.00</td>\n",
       "    </tr>\n",
       "    <tr>\n",
       "      <th>mean</th>\n",
       "      <td>127.50</td>\n",
       "      <td>0.40</td>\n",
       "      <td>0.00</td>\n",
       "      <td>8.19</td>\n",
       "      <td>0.16</td>\n",
       "      <td>0.00</td>\n",
       "      <td>0.08</td>\n",
       "      <td>0.00</td>\n",
       "      <td>15.19</td>\n",
       "      <td>0.00</td>\n",
       "      <td>75.99</td>\n",
       "    </tr>\n",
       "    <tr>\n",
       "      <th>std</th>\n",
       "      <td>73.90</td>\n",
       "      <td>2.47</td>\n",
       "      <td>0.00</td>\n",
       "      <td>18.01</td>\n",
       "      <td>1.37</td>\n",
       "      <td>0.00</td>\n",
       "      <td>0.78</td>\n",
       "      <td>0.00</td>\n",
       "      <td>29.37</td>\n",
       "      <td>0.00</td>\n",
       "      <td>33.64</td>\n",
       "    </tr>\n",
       "    <tr>\n",
       "      <th>min</th>\n",
       "      <td>0.00</td>\n",
       "      <td>0.00</td>\n",
       "      <td>0.00</td>\n",
       "      <td>0.00</td>\n",
       "      <td>0.00</td>\n",
       "      <td>0.00</td>\n",
       "      <td>0.00</td>\n",
       "      <td>0.00</td>\n",
       "      <td>0.00</td>\n",
       "      <td>0.00</td>\n",
       "      <td>0.00</td>\n",
       "    </tr>\n",
       "    <tr>\n",
       "      <th>25%</th>\n",
       "      <td>63.75</td>\n",
       "      <td>0.00</td>\n",
       "      <td>0.00</td>\n",
       "      <td>0.00</td>\n",
       "      <td>0.00</td>\n",
       "      <td>0.00</td>\n",
       "      <td>0.00</td>\n",
       "      <td>0.00</td>\n",
       "      <td>0.00</td>\n",
       "      <td>0.00</td>\n",
       "      <td>63.27</td>\n",
       "    </tr>\n",
       "    <tr>\n",
       "      <th>50%</th>\n",
       "      <td>127.50</td>\n",
       "      <td>0.00</td>\n",
       "      <td>0.00</td>\n",
       "      <td>1.01</td>\n",
       "      <td>0.00</td>\n",
       "      <td>0.00</td>\n",
       "      <td>0.00</td>\n",
       "      <td>0.00</td>\n",
       "      <td>0.00</td>\n",
       "      <td>0.00</td>\n",
       "      <td>95.00</td>\n",
       "    </tr>\n",
       "    <tr>\n",
       "      <th>75%</th>\n",
       "      <td>191.25</td>\n",
       "      <td>0.00</td>\n",
       "      <td>0.00</td>\n",
       "      <td>5.10</td>\n",
       "      <td>0.00</td>\n",
       "      <td>0.00</td>\n",
       "      <td>0.00</td>\n",
       "      <td>0.00</td>\n",
       "      <td>12.24</td>\n",
       "      <td>0.00</td>\n",
       "      <td>99.00</td>\n",
       "    </tr>\n",
       "    <tr>\n",
       "      <th>max</th>\n",
       "      <td>255.00</td>\n",
       "      <td>100.00</td>\n",
       "      <td>0.00</td>\n",
       "      <td>100.00</td>\n",
       "      <td>100.00</td>\n",
       "      <td>0.00</td>\n",
       "      <td>87.00</td>\n",
       "      <td>0.00</td>\n",
       "      <td>100.00</td>\n",
       "      <td>0.00</td>\n",
       "      <td>100.00</td>\n",
       "    </tr>\n",
       "  </tbody>\n",
       "</table>\n",
       "</div>"
      ],
      "text/plain": [
       "             cpu        usr       nice        sys     iowait        irq  \\\n",
       "count 2141184.00 2141184.00 2141184.00 2141184.00 2141184.00 2141184.00   \n",
       "mean      127.50       0.40       0.00       8.19       0.16       0.00   \n",
       "std        73.90       2.47       0.00      18.01       1.37       0.00   \n",
       "min         0.00       0.00       0.00       0.00       0.00       0.00   \n",
       "25%        63.75       0.00       0.00       0.00       0.00       0.00   \n",
       "50%       127.50       0.00       0.00       1.01       0.00       0.00   \n",
       "75%       191.25       0.00       0.00       5.10       0.00       0.00   \n",
       "max       255.00     100.00       0.00     100.00     100.00       0.00   \n",
       "\n",
       "            soft      steal      guest      gnice       idle  \n",
       "count 2141184.00 2141184.00 2141184.00 2141184.00 2141184.00  \n",
       "mean        0.08       0.00      15.19       0.00      75.99  \n",
       "std         0.78       0.00      29.37       0.00      33.64  \n",
       "min         0.00       0.00       0.00       0.00       0.00  \n",
       "25%         0.00       0.00       0.00       0.00      63.27  \n",
       "50%         0.00       0.00       0.00       0.00      95.00  \n",
       "75%         0.00       0.00      12.24       0.00      99.00  \n",
       "max        87.00       0.00     100.00       0.00     100.00  "
      ]
     },
     "execution_count": 23,
     "metadata": {},
     "output_type": "execute_result"
    }
   ],
   "source": [
    "df.describe()"
   ]
  },
  {
   "cell_type": "code",
   "execution_count": 24,
   "metadata": {},
   "outputs": [
    {
     "name": "stdout",
     "output_type": "stream",
     "text": [
      "             cpu        usr       nice        sys     iowait        irq  \\\n",
      "count 2141184.00 2141184.00 2141184.00 2141184.00 2141184.00 2141184.00   \n",
      "\n",
      "            soft      steal      guest      gnice       idle  \n",
      "count 2141184.00 2141184.00 2141184.00 2141184.00 2141184.00  \n"
     ]
    },
    {
     "data": {
      "text/html": [
       "<div>\n",
       "<style scoped>\n",
       "    .dataframe tbody tr th:only-of-type {\n",
       "        vertical-align: middle;\n",
       "    }\n",
       "\n",
       "    .dataframe tbody tr th {\n",
       "        vertical-align: top;\n",
       "    }\n",
       "\n",
       "    .dataframe thead th {\n",
       "        text-align: right;\n",
       "    }\n",
       "</style>\n",
       "<table border=\"1\" class=\"dataframe\">\n",
       "  <thead>\n",
       "    <tr style=\"text-align: right;\">\n",
       "      <th></th>\n",
       "      <th>usr</th>\n",
       "      <th>nice</th>\n",
       "      <th>sys</th>\n",
       "      <th>iowait</th>\n",
       "      <th>irq</th>\n",
       "      <th>soft</th>\n",
       "      <th>steal</th>\n",
       "      <th>guest</th>\n",
       "      <th>gnice</th>\n",
       "      <th>idle</th>\n",
       "    </tr>\n",
       "  </thead>\n",
       "  <tbody>\n",
       "    <tr>\n",
       "      <th>mean</th>\n",
       "      <td>0.40</td>\n",
       "      <td>0.00</td>\n",
       "      <td>8.19</td>\n",
       "      <td>0.16</td>\n",
       "      <td>0.00</td>\n",
       "      <td>0.08</td>\n",
       "      <td>0.00</td>\n",
       "      <td>15.19</td>\n",
       "      <td>0.00</td>\n",
       "      <td>75.99</td>\n",
       "    </tr>\n",
       "    <tr>\n",
       "      <th>std</th>\n",
       "      <td>2.47</td>\n",
       "      <td>0.00</td>\n",
       "      <td>18.01</td>\n",
       "      <td>1.37</td>\n",
       "      <td>0.00</td>\n",
       "      <td>0.78</td>\n",
       "      <td>0.00</td>\n",
       "      <td>29.37</td>\n",
       "      <td>0.00</td>\n",
       "      <td>33.64</td>\n",
       "    </tr>\n",
       "    <tr>\n",
       "      <th>min</th>\n",
       "      <td>0.00</td>\n",
       "      <td>0.00</td>\n",
       "      <td>0.00</td>\n",
       "      <td>0.00</td>\n",
       "      <td>0.00</td>\n",
       "      <td>0.00</td>\n",
       "      <td>0.00</td>\n",
       "      <td>0.00</td>\n",
       "      <td>0.00</td>\n",
       "      <td>0.00</td>\n",
       "    </tr>\n",
       "    <tr>\n",
       "      <th>25%</th>\n",
       "      <td>0.00</td>\n",
       "      <td>0.00</td>\n",
       "      <td>0.00</td>\n",
       "      <td>0.00</td>\n",
       "      <td>0.00</td>\n",
       "      <td>0.00</td>\n",
       "      <td>0.00</td>\n",
       "      <td>0.00</td>\n",
       "      <td>0.00</td>\n",
       "      <td>63.27</td>\n",
       "    </tr>\n",
       "    <tr>\n",
       "      <th>50%</th>\n",
       "      <td>0.00</td>\n",
       "      <td>0.00</td>\n",
       "      <td>1.01</td>\n",
       "      <td>0.00</td>\n",
       "      <td>0.00</td>\n",
       "      <td>0.00</td>\n",
       "      <td>0.00</td>\n",
       "      <td>0.00</td>\n",
       "      <td>0.00</td>\n",
       "      <td>95.00</td>\n",
       "    </tr>\n",
       "    <tr>\n",
       "      <th>75%</th>\n",
       "      <td>0.00</td>\n",
       "      <td>0.00</td>\n",
       "      <td>5.10</td>\n",
       "      <td>0.00</td>\n",
       "      <td>0.00</td>\n",
       "      <td>0.00</td>\n",
       "      <td>0.00</td>\n",
       "      <td>12.24</td>\n",
       "      <td>0.00</td>\n",
       "      <td>99.00</td>\n",
       "    </tr>\n",
       "    <tr>\n",
       "      <th>max</th>\n",
       "      <td>100.00</td>\n",
       "      <td>0.00</td>\n",
       "      <td>100.00</td>\n",
       "      <td>100.00</td>\n",
       "      <td>0.00</td>\n",
       "      <td>87.00</td>\n",
       "      <td>0.00</td>\n",
       "      <td>100.00</td>\n",
       "      <td>0.00</td>\n",
       "      <td>100.00</td>\n",
       "    </tr>\n",
       "  </tbody>\n",
       "</table>\n",
       "</div>"
      ],
      "text/plain": [
       "        usr  nice    sys  iowait  irq  soft  steal  guest  gnice   idle\n",
       "mean   0.40  0.00   8.19    0.16 0.00  0.08   0.00  15.19   0.00  75.99\n",
       "std    2.47  0.00  18.01    1.37 0.00  0.78   0.00  29.37   0.00  33.64\n",
       "min    0.00  0.00   0.00    0.00 0.00  0.00   0.00   0.00   0.00   0.00\n",
       "25%    0.00  0.00   0.00    0.00 0.00  0.00   0.00   0.00   0.00  63.27\n",
       "50%    0.00  0.00   1.01    0.00 0.00  0.00   0.00   0.00   0.00  95.00\n",
       "75%    0.00  0.00   5.10    0.00 0.00  0.00   0.00  12.24   0.00  99.00\n",
       "max  100.00  0.00 100.00  100.00 0.00 87.00   0.00 100.00   0.00 100.00"
      ]
     },
     "execution_count": 24,
     "metadata": {},
     "output_type": "execute_result"
    }
   ],
   "source": [
    "# drop columns that have 0 average \n",
    "s = df.describe() \n",
    "count = s[:1]\n",
    "print(count)\n",
    "s = s.iloc[1:,1:]\n",
    "s"
   ]
  },
  {
   "cell_type": "code",
   "execution_count": 25,
   "metadata": {},
   "outputs": [
    {
     "data": {
      "text/html": [
       "<div>\n",
       "<style scoped>\n",
       "    .dataframe tbody tr th:only-of-type {\n",
       "        vertical-align: middle;\n",
       "    }\n",
       "\n",
       "    .dataframe tbody tr th {\n",
       "        vertical-align: top;\n",
       "    }\n",
       "\n",
       "    .dataframe thead th {\n",
       "        text-align: right;\n",
       "    }\n",
       "</style>\n",
       "<table border=\"1\" class=\"dataframe\">\n",
       "  <thead>\n",
       "    <tr style=\"text-align: right;\">\n",
       "      <th></th>\n",
       "      <th>usr</th>\n",
       "      <th>sys</th>\n",
       "      <th>iowait</th>\n",
       "      <th>soft</th>\n",
       "      <th>guest</th>\n",
       "      <th>idle</th>\n",
       "    </tr>\n",
       "  </thead>\n",
       "  <tbody>\n",
       "    <tr>\n",
       "      <th>mean</th>\n",
       "      <td>0.40</td>\n",
       "      <td>8.19</td>\n",
       "      <td>0.16</td>\n",
       "      <td>0.08</td>\n",
       "      <td>15.19</td>\n",
       "      <td>75.99</td>\n",
       "    </tr>\n",
       "    <tr>\n",
       "      <th>std</th>\n",
       "      <td>2.47</td>\n",
       "      <td>18.01</td>\n",
       "      <td>1.37</td>\n",
       "      <td>0.78</td>\n",
       "      <td>29.37</td>\n",
       "      <td>33.64</td>\n",
       "    </tr>\n",
       "    <tr>\n",
       "      <th>min</th>\n",
       "      <td>0.00</td>\n",
       "      <td>0.00</td>\n",
       "      <td>0.00</td>\n",
       "      <td>0.00</td>\n",
       "      <td>0.00</td>\n",
       "      <td>0.00</td>\n",
       "    </tr>\n",
       "    <tr>\n",
       "      <th>25%</th>\n",
       "      <td>0.00</td>\n",
       "      <td>0.00</td>\n",
       "      <td>0.00</td>\n",
       "      <td>0.00</td>\n",
       "      <td>0.00</td>\n",
       "      <td>63.27</td>\n",
       "    </tr>\n",
       "    <tr>\n",
       "      <th>50%</th>\n",
       "      <td>0.00</td>\n",
       "      <td>1.01</td>\n",
       "      <td>0.00</td>\n",
       "      <td>0.00</td>\n",
       "      <td>0.00</td>\n",
       "      <td>95.00</td>\n",
       "    </tr>\n",
       "    <tr>\n",
       "      <th>75%</th>\n",
       "      <td>0.00</td>\n",
       "      <td>5.10</td>\n",
       "      <td>0.00</td>\n",
       "      <td>0.00</td>\n",
       "      <td>12.24</td>\n",
       "      <td>99.00</td>\n",
       "    </tr>\n",
       "    <tr>\n",
       "      <th>max</th>\n",
       "      <td>100.00</td>\n",
       "      <td>100.00</td>\n",
       "      <td>100.00</td>\n",
       "      <td>87.00</td>\n",
       "      <td>100.00</td>\n",
       "      <td>100.00</td>\n",
       "    </tr>\n",
       "  </tbody>\n",
       "</table>\n",
       "</div>"
      ],
      "text/plain": [
       "        usr    sys  iowait  soft  guest   idle\n",
       "mean   0.40   8.19    0.16  0.08  15.19  75.99\n",
       "std    2.47  18.01    1.37  0.78  29.37  33.64\n",
       "min    0.00   0.00    0.00  0.00   0.00   0.00\n",
       "25%    0.00   0.00    0.00  0.00   0.00  63.27\n",
       "50%    0.00   1.01    0.00  0.00   0.00  95.00\n",
       "75%    0.00   5.10    0.00  0.00  12.24  99.00\n",
       "max  100.00 100.00  100.00 87.00 100.00 100.00"
      ]
     },
     "execution_count": 25,
     "metadata": {},
     "output_type": "execute_result"
    }
   ],
   "source": [
    "s = s.drop(labels=['nice','irq','steal','gnice'], axis=1)\n",
    "s"
   ]
  },
  {
   "cell_type": "markdown",
   "metadata": {},
   "source": [
    "### Data Visualization"
   ]
  },
  {
   "cell_type": "code",
   "execution_count": 26,
   "metadata": {},
   "outputs": [
    {
     "data": {
      "image/png": "[encoded data removed]",
      "text/plain": [
       "<Figure size 640x480 with 1 Axes>"
      ]
     },
     "metadata": {},
     "output_type": "display_data"
    }
   ],
   "source": [
    "s.boxplot(meanline=True, showmeans=True)\n",
    "plt.show()"
   ]
  },
  {
   "cell_type": "markdown",
   "metadata": {},
   "source": [
    "From the boxplot we can gather that a majority of the time the CPUs sat in idle state. "
   ]
  },
  {
   "cell_type": "code",
   "execution_count": 27,
   "metadata": {},
   "outputs": [
    {
     "data": {
      "text/html": [
       "<div>\n",
       "<style scoped>\n",
       "    .dataframe tbody tr th:only-of-type {\n",
       "        vertical-align: middle;\n",
       "    }\n",
       "\n",
       "    .dataframe tbody tr th {\n",
       "        vertical-align: top;\n",
       "    }\n",
       "\n",
       "    .dataframe thead th {\n",
       "        text-align: right;\n",
       "    }\n",
       "</style>\n",
       "<table border=\"1\" class=\"dataframe\">\n",
       "  <thead>\n",
       "    <tr style=\"text-align: right;\">\n",
       "      <th></th>\n",
       "      <th>timestamp</th>\n",
       "      <th>cpu</th>\n",
       "      <th>usr</th>\n",
       "      <th>sys</th>\n",
       "      <th>iowait</th>\n",
       "      <th>soft</th>\n",
       "      <th>guest</th>\n",
       "      <th>idle</th>\n",
       "    </tr>\n",
       "  </thead>\n",
       "  <tbody>\n",
       "    <tr>\n",
       "      <th>1</th>\n",
       "      <td>11:21:38</td>\n",
       "      <td>0.00</td>\n",
       "      <td>0.00</td>\n",
       "      <td>31.96</td>\n",
       "      <td>0.00</td>\n",
       "      <td>0.00</td>\n",
       "      <td>0.00</td>\n",
       "      <td>68.04</td>\n",
       "    </tr>\n",
       "    <tr>\n",
       "      <th>2</th>\n",
       "      <td>11:21:38</td>\n",
       "      <td>1.00</td>\n",
       "      <td>1.23</td>\n",
       "      <td>9.88</td>\n",
       "      <td>0.00</td>\n",
       "      <td>0.00</td>\n",
       "      <td>0.00</td>\n",
       "      <td>88.89</td>\n",
       "    </tr>\n",
       "    <tr>\n",
       "      <th>3</th>\n",
       "      <td>11:21:38</td>\n",
       "      <td>2.00</td>\n",
       "      <td>1.06</td>\n",
       "      <td>1.06</td>\n",
       "      <td>0.00</td>\n",
       "      <td>0.00</td>\n",
       "      <td>1.06</td>\n",
       "      <td>96.81</td>\n",
       "    </tr>\n",
       "    <tr>\n",
       "      <th>4</th>\n",
       "      <td>11:21:38</td>\n",
       "      <td>3.00</td>\n",
       "      <td>0.00</td>\n",
       "      <td>5.10</td>\n",
       "      <td>0.00</td>\n",
       "      <td>0.00</td>\n",
       "      <td>0.00</td>\n",
       "      <td>94.90</td>\n",
       "    </tr>\n",
       "    <tr>\n",
       "      <th>5</th>\n",
       "      <td>11:21:38</td>\n",
       "      <td>4.00</td>\n",
       "      <td>0.00</td>\n",
       "      <td>26.04</td>\n",
       "      <td>0.00</td>\n",
       "      <td>0.00</td>\n",
       "      <td>0.00</td>\n",
       "      <td>73.96</td>\n",
       "    </tr>\n",
       "  </tbody>\n",
       "</table>\n",
       "</div>"
      ],
      "text/plain": [
       "  timestamp  cpu  usr   sys  iowait  soft  guest  idle\n",
       "1  11:21:38 0.00 0.00 31.96    0.00  0.00   0.00 68.04\n",
       "2  11:21:38 1.00 1.23  9.88    0.00  0.00   0.00 88.89\n",
       "3  11:21:38 2.00 1.06  1.06    0.00  0.00   1.06 96.81\n",
       "4  11:21:38 3.00 0.00  5.10    0.00  0.00   0.00 94.90\n",
       "5  11:21:38 4.00 0.00 26.04    0.00  0.00   0.00 73.96"
      ]
     },
     "execution_count": 27,
     "metadata": {},
     "output_type": "execute_result"
    }
   ],
   "source": [
    "df = df.drop(labels=['nice','irq','steal','gnice'], axis=1)\n",
    "df.head()"
   ]
  },
  {
   "cell_type": "code",
   "execution_count": 28,
   "metadata": {},
   "outputs": [
    {
     "data": {
      "text/html": [
       "<div>\n",
       "<style scoped>\n",
       "    .dataframe tbody tr th:only-of-type {\n",
       "        vertical-align: middle;\n",
       "    }\n",
       "\n",
       "    .dataframe tbody tr th {\n",
       "        vertical-align: top;\n",
       "    }\n",
       "\n",
       "    .dataframe thead th {\n",
       "        text-align: right;\n",
       "    }\n",
       "</style>\n",
       "<table border=\"1\" class=\"dataframe\">\n",
       "  <thead>\n",
       "    <tr style=\"text-align: right;\">\n",
       "      <th></th>\n",
       "      <th>cpu</th>\n",
       "      <th>usr</th>\n",
       "      <th>sys</th>\n",
       "      <th>iowait</th>\n",
       "      <th>soft</th>\n",
       "      <th>guest</th>\n",
       "      <th>idle</th>\n",
       "    </tr>\n",
       "  </thead>\n",
       "  <tbody>\n",
       "    <tr>\n",
       "      <th>count</th>\n",
       "      <td>2141184.00</td>\n",
       "      <td>2141184.00</td>\n",
       "      <td>2141184.00</td>\n",
       "      <td>2141184.00</td>\n",
       "      <td>2141184.00</td>\n",
       "      <td>2141184.00</td>\n",
       "      <td>2141184.00</td>\n",
       "    </tr>\n",
       "    <tr>\n",
       "      <th>mean</th>\n",
       "      <td>127.50</td>\n",
       "      <td>0.40</td>\n",
       "      <td>8.19</td>\n",
       "      <td>0.16</td>\n",
       "      <td>0.08</td>\n",
       "      <td>15.19</td>\n",
       "      <td>75.99</td>\n",
       "    </tr>\n",
       "    <tr>\n",
       "      <th>std</th>\n",
       "      <td>73.90</td>\n",
       "      <td>2.47</td>\n",
       "      <td>18.01</td>\n",
       "      <td>1.37</td>\n",
       "      <td>0.78</td>\n",
       "      <td>29.37</td>\n",
       "      <td>33.64</td>\n",
       "    </tr>\n",
       "    <tr>\n",
       "      <th>min</th>\n",
       "      <td>0.00</td>\n",
       "      <td>0.00</td>\n",
       "      <td>0.00</td>\n",
       "      <td>0.00</td>\n",
       "      <td>0.00</td>\n",
       "      <td>0.00</td>\n",
       "      <td>0.00</td>\n",
       "    </tr>\n",
       "    <tr>\n",
       "      <th>25%</th>\n",
       "      <td>63.75</td>\n",
       "      <td>0.00</td>\n",
       "      <td>0.00</td>\n",
       "      <td>0.00</td>\n",
       "      <td>0.00</td>\n",
       "      <td>0.00</td>\n",
       "      <td>63.27</td>\n",
       "    </tr>\n",
       "    <tr>\n",
       "      <th>50%</th>\n",
       "      <td>127.50</td>\n",
       "      <td>0.00</td>\n",
       "      <td>1.01</td>\n",
       "      <td>0.00</td>\n",
       "      <td>0.00</td>\n",
       "      <td>0.00</td>\n",
       "      <td>95.00</td>\n",
       "    </tr>\n",
       "    <tr>\n",
       "      <th>75%</th>\n",
       "      <td>191.25</td>\n",
       "      <td>0.00</td>\n",
       "      <td>5.10</td>\n",
       "      <td>0.00</td>\n",
       "      <td>0.00</td>\n",
       "      <td>12.24</td>\n",
       "      <td>99.00</td>\n",
       "    </tr>\n",
       "    <tr>\n",
       "      <th>max</th>\n",
       "      <td>255.00</td>\n",
       "      <td>100.00</td>\n",
       "      <td>100.00</td>\n",
       "      <td>100.00</td>\n",
       "      <td>87.00</td>\n",
       "      <td>100.00</td>\n",
       "      <td>100.00</td>\n",
       "    </tr>\n",
       "  </tbody>\n",
       "</table>\n",
       "</div>"
      ],
      "text/plain": [
       "             cpu        usr        sys     iowait       soft      guest  \\\n",
       "count 2141184.00 2141184.00 2141184.00 2141184.00 2141184.00 2141184.00   \n",
       "mean      127.50       0.40       8.19       0.16       0.08      15.19   \n",
       "std        73.90       2.47      18.01       1.37       0.78      29.37   \n",
       "min         0.00       0.00       0.00       0.00       0.00       0.00   \n",
       "25%        63.75       0.00       0.00       0.00       0.00       0.00   \n",
       "50%       127.50       0.00       1.01       0.00       0.00       0.00   \n",
       "75%       191.25       0.00       5.10       0.00       0.00      12.24   \n",
       "max       255.00     100.00     100.00     100.00      87.00     100.00   \n",
       "\n",
       "            idle  \n",
       "count 2141184.00  \n",
       "mean       75.99  \n",
       "std        33.64  \n",
       "min         0.00  \n",
       "25%        63.27  \n",
       "50%        95.00  \n",
       "75%        99.00  \n",
       "max       100.00  "
      ]
     },
     "execution_count": 28,
     "metadata": {},
     "output_type": "execute_result"
    }
   ],
   "source": [
    "df.describe()"
   ]
  },
  {
   "cell_type": "markdown",
   "metadata": {},
   "source": [
    "Drop values equal to 0"
   ]
  },
  {
   "cell_type": "code",
   "execution_count": 29,
   "metadata": {},
   "outputs": [
    {
     "data": {
      "text/html": [
       "<div>\n",
       "<style scoped>\n",
       "    .dataframe tbody tr th:only-of-type {\n",
       "        vertical-align: middle;\n",
       "    }\n",
       "\n",
       "    .dataframe tbody tr th {\n",
       "        vertical-align: top;\n",
       "    }\n",
       "\n",
       "    .dataframe thead th {\n",
       "        text-align: right;\n",
       "    }\n",
       "</style>\n",
       "<table border=\"1\" class=\"dataframe\">\n",
       "  <thead>\n",
       "    <tr style=\"text-align: right;\">\n",
       "      <th></th>\n",
       "      <th>timestamp</th>\n",
       "      <th>cpu</th>\n",
       "      <th>usr</th>\n",
       "      <th>sys</th>\n",
       "      <th>iowait</th>\n",
       "      <th>soft</th>\n",
       "      <th>guest</th>\n",
       "      <th>idle</th>\n",
       "    </tr>\n",
       "  </thead>\n",
       "  <tbody>\n",
       "    <tr>\n",
       "      <th>522</th>\n",
       "      <td>11:21:40</td>\n",
       "      <td>5.00</td>\n",
       "      <td>1.02</td>\n",
       "      <td>6.12</td>\n",
       "      <td>3.06</td>\n",
       "      <td>2.04</td>\n",
       "      <td>64.29</td>\n",
       "      <td>23.47</td>\n",
       "    </tr>\n",
       "    <tr>\n",
       "      <th>4185</th>\n",
       "      <td>11:21:54</td>\n",
       "      <td>56.00</td>\n",
       "      <td>0.98</td>\n",
       "      <td>12.75</td>\n",
       "      <td>0.98</td>\n",
       "      <td>0.98</td>\n",
       "      <td>21.57</td>\n",
       "      <td>62.75</td>\n",
       "    </tr>\n",
       "    <tr>\n",
       "      <th>9299</th>\n",
       "      <td>11:22:14</td>\n",
       "      <td>10.00</td>\n",
       "      <td>1.00</td>\n",
       "      <td>20.00</td>\n",
       "      <td>1.00</td>\n",
       "      <td>1.00</td>\n",
       "      <td>3.00</td>\n",
       "      <td>74.00</td>\n",
       "    </tr>\n",
       "    <tr>\n",
       "      <th>11185</th>\n",
       "      <td>11:22:21</td>\n",
       "      <td>90.00</td>\n",
       "      <td>1.01</td>\n",
       "      <td>1.01</td>\n",
       "      <td>1.01</td>\n",
       "      <td>1.01</td>\n",
       "      <td>15.15</td>\n",
       "      <td>80.81</td>\n",
       "    </tr>\n",
       "    <tr>\n",
       "      <th>14475</th>\n",
       "      <td>11:22:34</td>\n",
       "      <td>26.00</td>\n",
       "      <td>1.02</td>\n",
       "      <td>40.82</td>\n",
       "      <td>1.02</td>\n",
       "      <td>3.06</td>\n",
       "      <td>2.04</td>\n",
       "      <td>52.04</td>\n",
       "    </tr>\n",
       "  </tbody>\n",
       "</table>\n",
       "</div>"
      ],
      "text/plain": [
       "      timestamp   cpu  usr   sys  iowait  soft  guest  idle\n",
       "522    11:21:40  5.00 1.02  6.12    3.06  2.04  64.29 23.47\n",
       "4185   11:21:54 56.00 0.98 12.75    0.98  0.98  21.57 62.75\n",
       "9299   11:22:14 10.00 1.00 20.00    1.00  1.00   3.00 74.00\n",
       "11185  11:22:21 90.00 1.01  1.01    1.01  1.01  15.15 80.81\n",
       "14475  11:22:34 26.00 1.02 40.82    1.02  3.06   2.04 52.04"
      ]
     },
     "execution_count": 29,
     "metadata": {},
     "output_type": "execute_result"
    }
   ],
   "source": [
    "df = df[(df != 0).all(1)]\n",
    "df.head()"
   ]
  },
  {
   "cell_type": "code",
   "execution_count": 30,
   "metadata": {},
   "outputs": [
    {
     "data": {
      "text/plain": [
       "(321, 8)"
      ]
     },
     "execution_count": 30,
     "metadata": {},
     "output_type": "execute_result"
    }
   ],
   "source": [
    "df.shape"
   ]
  },
  {
   "cell_type": "code",
   "execution_count": 31,
   "metadata": {},
   "outputs": [],
   "source": [
    "df = df.sort_values(by='timestamp')"
   ]
  },
  {
   "cell_type": "code",
   "execution_count": 32,
   "metadata": {},
   "outputs": [
    {
     "data": {
      "text/html": [
       "<div>\n",
       "<style scoped>\n",
       "    .dataframe tbody tr th:only-of-type {\n",
       "        vertical-align: middle;\n",
       "    }\n",
       "\n",
       "    .dataframe tbody tr th {\n",
       "        vertical-align: top;\n",
       "    }\n",
       "\n",
       "    .dataframe thead th {\n",
       "        text-align: right;\n",
       "    }\n",
       "</style>\n",
       "<table border=\"1\" class=\"dataframe\">\n",
       "  <thead>\n",
       "    <tr style=\"text-align: right;\">\n",
       "      <th></th>\n",
       "      <th>timestamp</th>\n",
       "      <th>cpu</th>\n",
       "      <th>usr</th>\n",
       "      <th>sys</th>\n",
       "      <th>iowait</th>\n",
       "      <th>soft</th>\n",
       "      <th>guest</th>\n",
       "      <th>idle</th>\n",
       "    </tr>\n",
       "  </thead>\n",
       "  <tbody>\n",
       "    <tr>\n",
       "      <th>522</th>\n",
       "      <td>11:21:40</td>\n",
       "      <td>5.00</td>\n",
       "      <td>1.02</td>\n",
       "      <td>6.12</td>\n",
       "      <td>3.06</td>\n",
       "      <td>2.04</td>\n",
       "      <td>64.29</td>\n",
       "      <td>23.47</td>\n",
       "    </tr>\n",
       "    <tr>\n",
       "      <th>4185</th>\n",
       "      <td>11:21:54</td>\n",
       "      <td>56.00</td>\n",
       "      <td>0.98</td>\n",
       "      <td>12.75</td>\n",
       "      <td>0.98</td>\n",
       "      <td>0.98</td>\n",
       "      <td>21.57</td>\n",
       "      <td>62.75</td>\n",
       "    </tr>\n",
       "    <tr>\n",
       "      <th>9299</th>\n",
       "      <td>11:22:14</td>\n",
       "      <td>10.00</td>\n",
       "      <td>1.00</td>\n",
       "      <td>20.00</td>\n",
       "      <td>1.00</td>\n",
       "      <td>1.00</td>\n",
       "      <td>3.00</td>\n",
       "      <td>74.00</td>\n",
       "    </tr>\n",
       "    <tr>\n",
       "      <th>11185</th>\n",
       "      <td>11:22:21</td>\n",
       "      <td>90.00</td>\n",
       "      <td>1.01</td>\n",
       "      <td>1.01</td>\n",
       "      <td>1.01</td>\n",
       "      <td>1.01</td>\n",
       "      <td>15.15</td>\n",
       "      <td>80.81</td>\n",
       "    </tr>\n",
       "    <tr>\n",
       "      <th>14475</th>\n",
       "      <td>11:22:34</td>\n",
       "      <td>26.00</td>\n",
       "      <td>1.02</td>\n",
       "      <td>40.82</td>\n",
       "      <td>1.02</td>\n",
       "      <td>3.06</td>\n",
       "      <td>2.04</td>\n",
       "      <td>52.04</td>\n",
       "    </tr>\n",
       "  </tbody>\n",
       "</table>\n",
       "</div>"
      ],
      "text/plain": [
       "      timestamp   cpu  usr   sys  iowait  soft  guest  idle\n",
       "522    11:21:40  5.00 1.02  6.12    3.06  2.04  64.29 23.47\n",
       "4185   11:21:54 56.00 0.98 12.75    0.98  0.98  21.57 62.75\n",
       "9299   11:22:14 10.00 1.00 20.00    1.00  1.00   3.00 74.00\n",
       "11185  11:22:21 90.00 1.01  1.01    1.01  1.01  15.15 80.81\n",
       "14475  11:22:34 26.00 1.02 40.82    1.02  3.06   2.04 52.04"
      ]
     },
     "execution_count": 32,
     "metadata": {},
     "output_type": "execute_result"
    }
   ],
   "source": [
    "df.head()"
   ]
  },
  {
   "cell_type": "code",
   "execution_count": 33,
   "metadata": {},
   "outputs": [
    {
     "name": "stderr",
     "output_type": "stream",
     "text": [
      "/tmp/ipykernel_47539/1906777646.py:1: FutureWarning:\n",
      "\n",
      "Not prepending group keys to the result index of transform-like apply. In the future, the group keys will be included in the index, regardless of whether the applied function returns a like-indexed object.\n",
      "To preserve the previous behavior, use\n",
      "\n",
      "\t>>> .groupby(..., group_keys=False)\n",
      "\n",
      "To adopt the future behavior and silence this warning, use \n",
      "\n",
      "\t>>> .groupby(..., group_keys=True)\n",
      "\n"
     ]
    },
    {
     "data": {
      "text/html": [
       "<div>\n",
       "<style scoped>\n",
       "    .dataframe tbody tr th:only-of-type {\n",
       "        vertical-align: middle;\n",
       "    }\n",
       "\n",
       "    .dataframe tbody tr th {\n",
       "        vertical-align: top;\n",
       "    }\n",
       "\n",
       "    .dataframe thead th {\n",
       "        text-align: right;\n",
       "    }\n",
       "</style>\n",
       "<table border=\"1\" class=\"dataframe\">\n",
       "  <thead>\n",
       "    <tr style=\"text-align: right;\">\n",
       "      <th></th>\n",
       "      <th>timestamp</th>\n",
       "      <th>cpu</th>\n",
       "      <th>usr</th>\n",
       "      <th>sys</th>\n",
       "      <th>iowait</th>\n",
       "      <th>soft</th>\n",
       "      <th>guest</th>\n",
       "      <th>idle</th>\n",
       "    </tr>\n",
       "  </thead>\n",
       "  <tbody>\n",
       "    <tr>\n",
       "      <th>522</th>\n",
       "      <td>11:21:40</td>\n",
       "      <td>5.00</td>\n",
       "      <td>1.02</td>\n",
       "      <td>6.12</td>\n",
       "      <td>3.06</td>\n",
       "      <td>2.04</td>\n",
       "      <td>64.29</td>\n",
       "      <td>23.47</td>\n",
       "    </tr>\n",
       "    <tr>\n",
       "      <th>4185</th>\n",
       "      <td>11:21:54</td>\n",
       "      <td>56.00</td>\n",
       "      <td>0.98</td>\n",
       "      <td>12.75</td>\n",
       "      <td>0.98</td>\n",
       "      <td>0.98</td>\n",
       "      <td>21.57</td>\n",
       "      <td>62.75</td>\n",
       "    </tr>\n",
       "    <tr>\n",
       "      <th>9299</th>\n",
       "      <td>11:22:14</td>\n",
       "      <td>10.00</td>\n",
       "      <td>1.00</td>\n",
       "      <td>20.00</td>\n",
       "      <td>1.00</td>\n",
       "      <td>1.00</td>\n",
       "      <td>3.00</td>\n",
       "      <td>74.00</td>\n",
       "    </tr>\n",
       "    <tr>\n",
       "      <th>11185</th>\n",
       "      <td>11:22:21</td>\n",
       "      <td>90.00</td>\n",
       "      <td>1.01</td>\n",
       "      <td>1.01</td>\n",
       "      <td>1.01</td>\n",
       "      <td>1.01</td>\n",
       "      <td>15.15</td>\n",
       "      <td>80.81</td>\n",
       "    </tr>\n",
       "    <tr>\n",
       "      <th>14475</th>\n",
       "      <td>11:22:34</td>\n",
       "      <td>26.00</td>\n",
       "      <td>1.02</td>\n",
       "      <td>40.82</td>\n",
       "      <td>1.02</td>\n",
       "      <td>3.06</td>\n",
       "      <td>2.04</td>\n",
       "      <td>52.04</td>\n",
       "    </tr>\n",
       "  </tbody>\n",
       "</table>\n",
       "</div>"
      ],
      "text/plain": [
       "      timestamp   cpu  usr   sys  iowait  soft  guest  idle\n",
       "522    11:21:40  5.00 1.02  6.12    3.06  2.04  64.29 23.47\n",
       "4185   11:21:54 56.00 0.98 12.75    0.98  0.98  21.57 62.75\n",
       "9299   11:22:14 10.00 1.00 20.00    1.00  1.00   3.00 74.00\n",
       "11185  11:22:21 90.00 1.01  1.01    1.01  1.01  15.15 80.81\n",
       "14475  11:22:34 26.00 1.02 40.82    1.02  3.06   2.04 52.04"
      ]
     },
     "execution_count": 33,
     "metadata": {},
     "output_type": "execute_result"
    }
   ],
   "source": [
    "df = df.groupby(['cpu']).apply(lambda x: x)\n",
    "df.head()"
   ]
  },
  {
   "cell_type": "code",
   "execution_count": 34,
   "metadata": {},
   "outputs": [
    {
     "data": {
      "application/vnd.plotly.v1+json": {
       "config": {
        "plotlyServerURL": "https://plot.ly"
       },
       "data": [
        {
         "hovertemplate": "timestamp=%{x}<br>usr=%{y}<br>cpu=%{marker.color}<extra></extra>",
         "legendgroup": "",
         "marker": {
          "color": [
           5,
           56,
           10,
           90,
           26,
           27,
           100,
           74,
           93,
           28,
           38,
           54,
           9,
           85,
           41,
           106,
           28,
           66,
           94,
           213,
           17,
           64,
           94,
           19,
           46,
           31,
           25,
           66,
           11,
           14,
           83,
           71,
           106,
           66,
           41,
           102,
           37,
           11,
           85,
           85,
           80,
           83,
           7,
           68,
           4,
           4,
           94,
           120,
           106,
           126,
           124,
           9,
           116,
           54,
           89,
           61,
           92,
           116,
           65,
           94,
           76,
           71,
           58,
           38,
           41,
           7,
           69,
           124,
           58,
           96,
           86,
           68,
           3,
           3,
           123,
           80,
           4,
           21,
           55,
           44,
           76,
           4,
           55,
           9,
           67,
           56,
           106,
           66,
           123,
           52,
           9,
           19,
           77,
           37,
           64,
           90,
           88,
           4,
           4,
           19,
           76,
           95,
           55,
           126,
           20,
           100,
           77,
           78,
           92,
           85,
           45,
           34,
           108,
           48,
           112,
           70,
           102,
           37,
           42,
           45,
           75,
           90,
           34,
           20,
           96,
           111,
           109,
           42,
           66,
           7,
           21,
           28,
           96,
           69,
           106,
           51,
           75,
           11,
           86,
           75,
           111,
           88,
           42,
           37,
           81,
           68,
           76,
           14,
           96,
           38,
           45,
           98,
           45,
           66,
           54,
           7,
           76,
           52,
           75,
           100,
           79,
           69,
           92,
           118,
           29,
           109,
           44,
           86,
           101,
           76,
           75,
           75,
           66,
           11,
           73,
           105,
           92,
           124,
           4,
           68,
           75,
           126,
           102,
           94,
           96,
           93,
           66,
           76,
           125,
           44,
           112,
           61,
           94,
           7,
           14,
           95,
           35,
           76,
           114,
           124,
           9,
           37,
           41,
           38,
           95,
           25,
           57,
           66,
           112,
           57,
           67,
           46,
           5,
           84,
           105,
           74,
           107,
           97,
           7,
           64,
           74,
           64,
           58,
           106,
           25,
           86,
           88,
           54,
           83,
           114,
           63,
           10,
           75,
           29,
           36,
           24,
           124,
           35,
           20,
           109,
           18,
           75,
           60,
           122,
           68,
           65,
           13,
           74,
           5,
           207,
           70,
           75,
           64,
           51,
           51,
           67,
           114,
           105,
           92,
           88,
           75,
           102,
           116,
           61,
           88,
           48,
           88,
           46,
           18,
           95,
           89,
           124,
           94,
           17,
           17,
           3,
           68,
           68,
           70,
           84,
           21,
           117,
           125,
           66,
           86,
           31,
           110,
           3,
           88,
           45,
           66,
           38,
           5,
           116,
           17,
           18,
           63,
           14,
           16,
           10,
           46,
           124,
           16,
           72,
           67,
           67,
           75,
           45,
           28,
           44,
           124,
           112,
           122,
           47,
           62,
           109,
           7,
           107,
           5,
           56,
           46
          ],
          "coloraxis": "coloraxis",
          "symbol": "circle"
         },
         "mode": "markers",
         "name": "",
         "orientation": "v",
         "showlegend": false,
         "type": "scatter",
         "x": [
          "11:21:40",
          "11:21:54",
          "11:22:14",
          "11:22:21",
          "11:22:34",
          "11:22:46",
          "11:22:51",
          "11:23:12",
          "11:24:12",
          "11:24:42",
          "11:27:08",
          "11:27:21",
          "11:29:04",
          "11:29:53",
          "11:30:26",
          "11:35:17",
          "11:36:41",
          "11:36:52",
          "11:36:59",
          "11:37:07",
          "11:37:13",
          "11:37:13",
          "11:37:15",
          "11:37:18",
          "11:37:19",
          "11:37:20",
          "11:37:26",
          "11:37:26",
          "11:37:27",
          "11:37:40",
          "11:37:43",
          "11:38:01",
          "11:38:22",
          "11:38:41",
          "11:38:57",
          "11:39:20",
          "11:39:23",
          "11:39:25",
          "11:39:38",
          "11:39:41",
          "11:39:58",
          "11:40:12",
          "11:40:23",
          "11:40:36",
          "11:40:59",
          "11:41:07",
          "11:41:12",
          "11:41:16",
          "11:41:54",
          "11:41:54",
          "11:42:13",
          "11:42:39",
          "11:44:07",
          "11:44:09",
          "11:44:41",
          "11:44:54",
          "11:45:49",
          "11:45:59",
          "11:46:36",
          "11:46:58",
          "11:47:06",
          "11:48:03",
          "11:48:19",
          "11:48:45",
          "11:49:55",
          "11:52:24",
          "11:52:43",
          "11:53:21",
          "11:53:45",
          "11:54:09",
          "11:54:29",
          "11:54:30",
          "11:54:31",
          "11:54:52",
          "11:55:36",
          "11:56:01",
          "11:56:06",
          "11:56:09",
          "11:56:43",
          "11:56:49",
          "11:57:15",
          "11:57:31",
          "11:57:47",
          "11:57:48",
          "11:58:27",
          "11:58:29",
          "11:58:31",
          "11:59:29",
          "11:59:54",
          "12:00:11",
          "12:00:31",
          "12:00:34",
          "12:01:22",
          "12:01:41",
          "12:01:41",
          "12:01:51",
          "12:01:52",
          "12:01:54",
          "12:01:59",
          "12:01:59",
          "12:01:59",
          "12:02:00",
          "12:02:26",
          "12:02:32",
          "12:02:33",
          "12:02:33",
          "12:02:34",
          "12:02:47",
          "12:03:08",
          "12:03:24",
          "12:03:30",
          "12:03:33",
          "12:03:43",
          "12:04:01",
          "12:04:10",
          "12:04:26",
          "12:04:42",
          "12:04:43",
          "12:05:24",
          "12:05:29",
          "12:05:38",
          "12:05:56",
          "12:05:58",
          "12:06:04",
          "12:06:18",
          "12:06:20",
          "12:06:57",
          "12:07:03",
          "12:07:18",
          "12:07:35",
          "12:08:16",
          "12:08:23",
          "12:08:23",
          "12:08:49",
          "12:08:50",
          "12:09:27",
          "12:09:27",
          "12:09:46",
          "12:09:50",
          "12:09:54",
          "12:09:54",
          "12:10:48",
          "12:11:06",
          "12:11:17",
          "12:11:33",
          "12:11:56",
          "12:12:06",
          "12:12:30",
          "12:12:34",
          "12:12:35",
          "12:12:36",
          "12:13:04",
          "12:13:33",
          "12:13:38",
          "12:13:40",
          "12:14:05",
          "12:14:17",
          "12:14:31",
          "12:14:37",
          "12:15:40",
          "12:15:51",
          "12:15:52",
          "12:16:03",
          "12:17:34",
          "12:19:04",
          "12:19:13",
          "12:19:20",
          "12:19:41",
          "12:20:03",
          "12:20:31",
          "12:20:38",
          "12:20:44",
          "12:20:50",
          "12:20:53",
          "12:21:35",
          "12:23:20",
          "12:24:07",
          "12:24:07",
          "12:24:08",
          "12:24:08",
          "12:24:10",
          "12:24:40",
          "12:25:02",
          "12:25:12",
          "12:25:22",
          "12:27:06",
          "12:27:40",
          "12:27:48",
          "12:28:29",
          "12:28:50",
          "12:28:53",
          "12:29:58",
          "12:30:02",
          "12:30:03",
          "12:30:03",
          "12:30:07",
          "12:30:27",
          "12:30:32",
          "12:30:36",
          "12:30:53",
          "12:31:39",
          "12:32:36",
          "12:32:50",
          "12:32:51",
          "12:32:56",
          "12:33:12",
          "12:33:13",
          "12:33:21",
          "12:34:02",
          "12:34:58",
          "12:35:03",
          "12:35:05",
          "12:35:06",
          "12:35:43",
          "12:36:04",
          "12:36:08",
          "12:36:14",
          "12:36:15",
          "12:36:21",
          "12:37:11",
          "12:37:22",
          "12:37:24",
          "12:37:26",
          "12:37:28",
          "12:37:46",
          "12:37:56",
          "12:38:09",
          "12:38:22",
          "12:38:27",
          "12:38:49",
          "12:39:12",
          "12:40:56",
          "12:40:56",
          "12:41:03",
          "12:41:05",
          "12:41:23",
          "12:42:23",
          "12:45:12",
          "12:45:34",
          "12:46:11",
          "12:47:04",
          "12:47:04",
          "12:47:19",
          "12:47:51",
          "12:47:53",
          "12:48:07",
          "12:48:44",
          "12:50:39",
          "12:51:42",
          "12:53:43",
          "12:54:06",
          "12:54:12",
          "12:56:55",
          "12:58:52",
          "12:59:07",
          "13:01:49",
          "13:02:39",
          "13:03:14",
          "13:03:40",
          "13:04:20",
          "13:04:25",
          "13:05:07",
          "13:05:13",
          "13:05:40",
          "13:06:32",
          "13:06:38",
          "13:06:54",
          "13:07:34",
          "13:08:50",
          "13:08:51",
          "13:08:52",
          "13:09:09",
          "13:09:11",
          "13:09:19",
          "13:09:41",
          "13:10:28",
          "13:11:01",
          "13:11:09",
          "13:11:13",
          "13:11:13",
          "13:11:49",
          "13:12:37",
          "13:13:50",
          "13:13:52",
          "13:14:04",
          "13:15:02",
          "13:15:06",
          "13:16:44",
          "13:16:52",
          "13:17:43",
          "13:18:00",
          "13:18:02",
          "13:18:54",
          "13:19:03",
          "13:20:26",
          "13:24:05",
          "13:24:23",
          "13:24:30",
          "13:25:03",
          "13:25:21",
          "13:26:13",
          "13:26:21",
          "13:26:44",
          "13:27:01",
          "13:27:12",
          "13:27:23",
          "13:28:07",
          "13:28:09",
          "13:30:02",
          "13:30:30",
          "13:32:32",
          "13:32:46",
          "13:33:54",
          "13:34:45",
          "13:35:30",
          "13:36:03",
          "13:37:52",
          "13:38:30",
          "13:39:38",
          "13:39:58",
          "13:40:30"
         ],
         "xaxis": "x",
         "y": [
          1.02,
          0.98,
          1,
          1.01,
          1.02,
          1.01,
          0.98,
          1.01,
          0.99,
          1,
          1.02,
          0.99,
          0.99,
          1,
          0.99,
          1.02,
          1,
          1,
          1,
          1,
          0.98,
          4,
          0.99,
          0.98,
          6,
          1.04,
          8.82,
          2.08,
          1,
          1.01,
          0.95,
          0.98,
          1,
          1,
          2.02,
          25.24,
          1,
          1.02,
          1.04,
          1,
          1,
          2.02,
          1,
          1.02,
          2,
          1.01,
          2.02,
          24,
          1.01,
          3.12,
          3.92,
          1.03,
          2.02,
          1.01,
          0.98,
          0.99,
          1,
          1.03,
          1.02,
          1.01,
          1.01,
          1.01,
          1,
          1.01,
          1.02,
          1.02,
          2.04,
          1.02,
          0.99,
          1,
          1.04,
          0.99,
          0.99,
          1,
          0.99,
          1.05,
          1.01,
          1.02,
          1.05,
          0.99,
          9.09,
          1.01,
          0.97,
          0.99,
          0.99,
          1.01,
          1,
          1,
          0.99,
          2.04,
          0.99,
          0.99,
          1.01,
          1.39,
          1.39,
          1.23,
          1.08,
          1.27,
          1.03,
          1.09,
          1.64,
          1.02,
          1.01,
          1,
          1.01,
          1.01,
          1.02,
          1.02,
          1,
          1.02,
          1.06,
          1.05,
          1,
          1.1,
          1,
          3.09,
          1.02,
          2,
          1,
          0.98,
          1,
          1.02,
          1.01,
          1.04,
          0.99,
          7.79,
          1.01,
          1.04,
          1.01,
          1.09,
          0.99,
          1.03,
          1.01,
          1.03,
          1.06,
          1.03,
          1,
          19.39,
          2.02,
          1.02,
          1.03,
          2.97,
          2,
          1.06,
          1.02,
          1.02,
          1,
          1,
          1.01,
          1,
          1.02,
          5.05,
          4.17,
          2.04,
          1.05,
          1.04,
          1.03,
          1.04,
          1.04,
          3.06,
          1.03,
          1.03,
          1,
          0.98,
          1.02,
          1.02,
          6.19,
          0.99,
          7.69,
          1.06,
          1.02,
          1.11,
          1.03,
          3.23,
          1.1,
          1.02,
          1,
          1.01,
          1.05,
          1,
          1.09,
          1.01,
          1.08,
          0.99,
          0.99,
          1,
          0.98,
          1,
          0.99,
          0.98,
          1,
          1.23,
          1.1,
          2.3,
          1.23,
          1.32,
          1.28,
          1.01,
          1.03,
          1.01,
          1.06,
          1.01,
          1.02,
          1.01,
          1,
          0.99,
          0.98,
          1,
          0.99,
          1.02,
          1.02,
          1.01,
          1.1,
          1.03,
          0.98,
          1.02,
          0.98,
          1.02,
          1.01,
          1,
          1.98,
          0.99,
          1.02,
          11.88,
          1,
          2,
          1,
          1.02,
          1.02,
          1.08,
          1,
          0.99,
          2,
          2.88,
          0.95,
          1.03,
          1.03,
          1.01,
          1,
          1,
          1,
          1.01,
          1.01,
          3.41,
          3,
          1,
          1.01,
          1.01,
          1.02,
          2,
          0.98,
          1.04,
          1.02,
          1.02,
          1.05,
          1,
          1.03,
          1.03,
          1.06,
          1,
          1,
          0.98,
          1.01,
          1.98,
          0.99,
          1.01,
          1.02,
          1.01,
          2.11,
          1.83,
          2.04,
          1.01,
          1,
          2.04,
          0.99,
          1.03,
          3,
          2.97,
          1.94,
          2.04,
          1,
          0.99,
          2.04,
          3.09,
          1.02,
          6.12,
          1.09,
          1,
          1,
          1.01,
          0.99,
          1.03,
          1.06,
          1.06,
          2.11,
          1.04,
          0.99,
          1.06,
          1.19,
          1.04,
          2.15,
          1.09,
          2.5,
          1.02,
          1,
          0.98,
          1.02,
          1.02,
          1.01,
          0.99,
          0.99,
          0.99,
          4.08,
          0.99,
          1.01,
          0.99,
          0.99,
          1,
          2,
          1,
          1.02
         ],
         "yaxis": "y"
        }
       ],
       "layout": {
        "coloraxis": {
         "colorbar": {
          "title": {
           "text": "cpu"
          }
         },
         "colorscale": [
          [
           0,
           "#0d0887"
          ],
          [
           0.1111111111111111,
           "#46039f"
          ],
          [
           0.2222222222222222,
           "#7201a8"
          ],
          [
           0.3333333333333333,
           "#9c179e"
          ],
          [
           0.4444444444444444,
           "#bd3786"
          ],
          [
           0.5555555555555556,
           "#d8576b"
          ],
          [
           0.6666666666666666,
           "#ed7953"
          ],
          [
           0.7777777777777778,
           "#fb9f3a"
          ],
          [
           0.8888888888888888,
           "#fdca26"
          ],
          [
           1,
           "#f0f921"
          ]
         ]
        },
        "legend": {
         "tracegroupgap": 0
        },
        "template": {
         "data": {
          "bar": [
           {
            "error_x": {
             "color": "#2a3f5f"
            },
            "error_y": {
             "color": "#2a3f5f"
            },
            "marker": {
             "line": {
              "color": "#E5ECF6",
              "width": 0.5
             },
             "pattern": {
              "fillmode": "overlay",
              "size": 10,
              "solidity": 0.2
             }
            },
            "type": "bar"
           }
          ],
          "barpolar": [
           {
            "marker": {
             "line": {
              "color": "#E5ECF6",
              "width": 0.5
             },
             "pattern": {
              "fillmode": "overlay",
              "size": 10,
              "solidity": 0.2
             }
            },
            "type": "barpolar"
           }
          ],
          "carpet": [
           {
            "aaxis": {
             "endlinecolor": "#2a3f5f",
             "gridcolor": "white",
             "linecolor": "white",
             "minorgridcolor": "white",
             "startlinecolor": "#2a3f5f"
            },
            "baxis": {
             "endlinecolor": "#2a3f5f",
             "gridcolor": "white",
             "linecolor": "white",
             "minorgridcolor": "white",
             "startlinecolor": "#2a3f5f"
            },
            "type": "carpet"
           }
          ],
          "choropleth": [
           {
            "colorbar": {
             "outlinewidth": 0,
             "ticks": ""
            },
            "type": "choropleth"
           }
          ],
          "contour": [
           {
            "colorbar": {
             "outlinewidth": 0,
             "ticks": ""
            },
            "colorscale": [
             [
              0,
              "#0d0887"
             ],
             [
              0.1111111111111111,
              "#46039f"
             ],
             [
              0.2222222222222222,
              "#7201a8"
             ],
             [
              0.3333333333333333,
              "#9c179e"
             ],
             [
              0.4444444444444444,
              "#bd3786"
             ],
             [
              0.5555555555555556,
              "#d8576b"
             ],
             [
              0.6666666666666666,
              "#ed7953"
             ],
             [
              0.7777777777777778,
              "#fb9f3a"
             ],
             [
              0.8888888888888888,
              "#fdca26"
             ],
             [
              1,
              "#f0f921"
             ]
            ],
            "type": "contour"
           }
          ],
          "contourcarpet": [
           {
            "colorbar": {
             "outlinewidth": 0,
             "ticks": ""
            },
            "type": "contourcarpet"
           }
          ],
          "heatmap": [
           {
            "colorbar": {
             "outlinewidth": 0,
             "ticks": ""
            },
            "colorscale": [
             [
              0,
              "#0d0887"
             ],
             [
              0.1111111111111111,
              "#46039f"
             ],
             [
              0.2222222222222222,
              "#7201a8"
             ],
             [
              0.3333333333333333,
              "#9c179e"
             ],
             [
              0.4444444444444444,
              "#bd3786"
             ],
             [
              0.5555555555555556,
              "#d8576b"
             ],
             [
              0.6666666666666666,
              "#ed7953"
             ],
             [
              0.7777777777777778,
              "#fb9f3a"
             ],
             [
              0.8888888888888888,
              "#fdca26"
             ],
             [
              1,
              "#f0f921"
             ]
            ],
            "type": "heatmap"
           }
          ],
          "heatmapgl": [
           {
            "colorbar": {
             "outlinewidth": 0,
             "ticks": ""
            },
            "colorscale": [
             [
              0,
              "#0d0887"
             ],
             [
              0.1111111111111111,
              "#46039f"
             ],
             [
              0.2222222222222222,
              "#7201a8"
             ],
             [
              0.3333333333333333,
              "#9c179e"
             ],
             [
              0.4444444444444444,
              "#bd3786"
             ],
             [
              0.5555555555555556,
              "#d8576b"
             ],
             [
              0.6666666666666666,
              "#ed7953"
             ],
             [
              0.7777777777777778,
              "#fb9f3a"
             ],
             [
              0.8888888888888888,
              "#fdca26"
             ],
             [
              1,
              "#f0f921"
             ]
            ],
            "type": "heatmapgl"
           }
          ],
          "histogram": [
           {
            "marker": {
             "pattern": {
              "fillmode": "overlay",
              "size": 10,
              "solidity": 0.2
             }
            },
            "type": "histogram"
           }
          ],
          "histogram2d": [
           {
            "colorbar": {
             "outlinewidth": 0,
             "ticks": ""
            },
            "colorscale": [
             [
              0,
              "#0d0887"
             ],
             [
              0.1111111111111111,
              "#46039f"
             ],
             [
              0.2222222222222222,
              "#7201a8"
             ],
             [
              0.3333333333333333,
              "#9c179e"
             ],
             [
              0.4444444444444444,
              "#bd3786"
             ],
             [
              0.5555555555555556,
              "#d8576b"
             ],
             [
              0.6666666666666666,
              "#ed7953"
             ],
             [
              0.7777777777777778,
              "#fb9f3a"
             ],
             [
              0.8888888888888888,
              "#fdca26"
             ],
             [
              1,
              "#f0f921"
             ]
            ],
            "type": "histogram2d"
           }
          ],
          "histogram2dcontour": [
           {
            "colorbar": {
             "outlinewidth": 0,
             "ticks": ""
            },
            "colorscale": [
             [
              0,
              "#0d0887"
             ],
             [
              0.1111111111111111,
              "#46039f"
             ],
             [
              0.2222222222222222,
              "#7201a8"
             ],
             [
              0.3333333333333333,
              "#9c179e"
             ],
             [
              0.4444444444444444,
              "#bd3786"
             ],
             [
              0.5555555555555556,
              "#d8576b"
             ],
             [
              0.6666666666666666,
              "#ed7953"
             ],
             [
              0.7777777777777778,
              "#fb9f3a"
             ],
             [
              0.8888888888888888,
              "#fdca26"
             ],
             [
              1,
              "#f0f921"
             ]
            ],
            "type": "histogram2dcontour"
           }
          ],
          "mesh3d": [
           {
            "colorbar": {
             "outlinewidth": 0,
             "ticks": ""
            },
            "type": "mesh3d"
           }
          ],
          "parcoords": [
           {
            "line": {
             "colorbar": {
              "outlinewidth": 0,
              "ticks": ""
             }
            },
            "type": "parcoords"
           }
          ],
          "pie": [
           {
            "automargin": true,
            "type": "pie"
           }
          ],
          "scatter": [
           {
            "fillpattern": {
             "fillmode": "overlay",
             "size": 10,
             "solidity": 0.2
            },
            "type": "scatter"
           }
          ],
          "scatter3d": [
           {
            "line": {
             "colorbar": {
              "outlinewidth": 0,
              "ticks": ""
             }
            },
            "marker": {
             "colorbar": {
              "outlinewidth": 0,
              "ticks": ""
             }
            },
            "type": "scatter3d"
           }
          ],
          "scattercarpet": [
           {
            "marker": {
             "colorbar": {
              "outlinewidth": 0,
              "ticks": ""
             }
            },
            "type": "scattercarpet"
           }
          ],
          "scattergeo": [
           {
            "marker": {
             "colorbar": {
              "outlinewidth": 0,
              "ticks": ""
             }
            },
            "type": "scattergeo"
           }
          ],
          "scattergl": [
           {
            "marker": {
             "colorbar": {
              "outlinewidth": 0,
              "ticks": ""
             }
            },
            "type": "scattergl"
           }
          ],
          "scattermapbox": [
           {
            "marker": {
             "colorbar": {
              "outlinewidth": 0,
              "ticks": ""
             }
            },
            "type": "scattermapbox"
           }
          ],
          "scatterpolar": [
           {
            "marker": {
             "colorbar": {
              "outlinewidth": 0,
              "ticks": ""
             }
            },
            "type": "scatterpolar"
           }
          ],
          "scatterpolargl": [
           {
            "marker": {
             "colorbar": {
              "outlinewidth": 0,
              "ticks": ""
             }
            },
            "type": "scatterpolargl"
           }
          ],
          "scatterternary": [
           {
            "marker": {
             "colorbar": {
              "outlinewidth": 0,
              "ticks": ""
             }
            },
            "type": "scatterternary"
           }
          ],
          "surface": [
           {
            "colorbar": {
             "outlinewidth": 0,
             "ticks": ""
            },
            "colorscale": [
             [
              0,
              "#0d0887"
             ],
             [
              0.1111111111111111,
              "#46039f"
             ],
             [
              0.2222222222222222,
              "#7201a8"
             ],
             [
              0.3333333333333333,
              "#9c179e"
             ],
             [
              0.4444444444444444,
              "#bd3786"
             ],
             [
              0.5555555555555556,
              "#d8576b"
             ],
             [
              0.6666666666666666,
              "#ed7953"
             ],
             [
              0.7777777777777778,
              "#fb9f3a"
             ],
             [
              0.8888888888888888,
              "#fdca26"
             ],
             [
              1,
              "#f0f921"
             ]
            ],
            "type": "surface"
           }
          ],
          "table": [
           {
            "cells": {
             "fill": {
              "color": "#EBF0F8"
             },
             "line": {
              "color": "white"
             }
            },
            "header": {
             "fill": {
              "color": "#C8D4E3"
             },
             "line": {
              "color": "white"
             }
            },
            "type": "table"
           }
          ]
         },
         "layout": {
          "annotationdefaults": {
           "arrowcolor": "#2a3f5f",
           "arrowhead": 0,
           "arrowwidth": 1
          },
          "autotypenumbers": "strict",
          "coloraxis": {
           "colorbar": {
            "outlinewidth": 0,
            "ticks": ""
           }
          },
          "colorscale": {
           "diverging": [
            [
             0,
             "#8e0152"
            ],
            [
             0.1,
             "#c51b7d"
            ],
            [
             0.2,
             "#de77ae"
            ],
            [
             0.3,
             "#f1b6da"
            ],
            [
             0.4,
             "#fde0ef"
            ],
            [
             0.5,
             "#f7f7f7"
            ],
            [
             0.6,
             "#e6f5d0"
            ],
            [
             0.7,
             "#b8e186"
            ],
            [
             0.8,
             "#7fbc41"
            ],
            [
             0.9,
             "#4d9221"
            ],
            [
             1,
             "#276419"
            ]
           ],
           "sequential": [
            [
             0,
             "#0d0887"
            ],
            [
             0.1111111111111111,
             "#46039f"
            ],
            [
             0.2222222222222222,
             "#7201a8"
            ],
            [
             0.3333333333333333,
             "#9c179e"
            ],
            [
             0.4444444444444444,
             "#bd3786"
            ],
            [
             0.5555555555555556,
             "#d8576b"
            ],
            [
             0.6666666666666666,
             "#ed7953"
            ],
            [
             0.7777777777777778,
             "#fb9f3a"
            ],
            [
             0.8888888888888888,
             "#fdca26"
            ],
            [
             1,
             "#f0f921"
            ]
           ],
           "sequentialminus": [
            [
             0,
             "#0d0887"
            ],
            [
             0.1111111111111111,
             "#46039f"
            ],
            [
             0.2222222222222222,
             "#7201a8"
            ],
            [
             0.3333333333333333,
             "#9c179e"
            ],
            [
             0.4444444444444444,
             "#bd3786"
            ],
            [
             0.5555555555555556,
             "#d8576b"
            ],
            [
             0.6666666666666666,
             "#ed7953"
            ],
            [
             0.7777777777777778,
             "#fb9f3a"
            ],
            [
             0.8888888888888888,
             "#fdca26"
            ],
            [
             1,
             "#f0f921"
            ]
           ]
          },
          "colorway": [
           "#636efa",
           "#EF553B",
           "#00cc96",
           "#ab63fa",
           "#FFA15A",
           "#19d3f3",
           "#FF6692",
           "#B6E880",
           "#FF97FF",
           "#FECB52"
          ],
          "font": {
           "color": "#2a3f5f"
          },
          "geo": {
           "bgcolor": "white",
           "lakecolor": "white",
           "landcolor": "#E5ECF6",
           "showlakes": true,
           "showland": true,
           "subunitcolor": "white"
          },
          "hoverlabel": {
           "align": "left"
          },
          "hovermode": "closest",
          "mapbox": {
           "style": "light"
          },
          "paper_bgcolor": "white",
          "plot_bgcolor": "#E5ECF6",
          "polar": {
           "angularaxis": {
            "gridcolor": "white",
            "linecolor": "white",
            "ticks": ""
           },
           "bgcolor": "#E5ECF6",
           "radialaxis": {
            "gridcolor": "white",
            "linecolor": "white",
            "ticks": ""
           }
          },
          "scene": {
           "xaxis": {
            "backgroundcolor": "#E5ECF6",
            "gridcolor": "white",
            "gridwidth": 2,
            "linecolor": "white",
            "showbackground": true,
            "ticks": "",
            "zerolinecolor": "white"
           },
           "yaxis": {
            "backgroundcolor": "#E5ECF6",
            "gridcolor": "white",
            "gridwidth": 2,
            "linecolor": "white",
            "showbackground": true,
            "ticks": "",
            "zerolinecolor": "white"
           },
           "zaxis": {
            "backgroundcolor": "#E5ECF6",
            "gridcolor": "white",
            "gridwidth": 2,
            "linecolor": "white",
            "showbackground": true,
            "ticks": "",
            "zerolinecolor": "white"
           }
          },
          "shapedefaults": {
           "line": {
            "color": "#2a3f5f"
           }
          },
          "ternary": {
           "aaxis": {
            "gridcolor": "white",
            "linecolor": "white",
            "ticks": ""
           },
           "baxis": {
            "gridcolor": "white",
            "linecolor": "white",
            "ticks": ""
           },
           "bgcolor": "#E5ECF6",
           "caxis": {
            "gridcolor": "white",
            "linecolor": "white",
            "ticks": ""
           }
          },
          "title": {
           "x": 0.05
          },
          "xaxis": {
           "automargin": true,
           "gridcolor": "white",
           "linecolor": "white",
           "ticks": "",
           "title": {
            "standoff": 15
           },
           "zerolinecolor": "white",
           "zerolinewidth": 2
          },
          "yaxis": {
           "automargin": true,
           "gridcolor": "white",
           "linecolor": "white",
           "ticks": "",
           "title": {
            "standoff": 15
           },
           "zerolinecolor": "white",
           "zerolinewidth": 2
          }
         }
        },
        "title": {
         "text": "usr over time"
        },
        "xaxis": {
         "anchor": "y",
         "domain": [
          0,
          1
         ],
         "title": {
          "text": "timestamp"
         }
        },
        "yaxis": {
         "anchor": "x",
         "domain": [
          0,
          1
         ],
         "title": {
          "text": "usr"
         }
        }
       }
      }
     },
     "metadata": {},
     "output_type": "display_data"
    },
    {
     "data": {
      "application/vnd.plotly.v1+json": {
       "config": {
        "plotlyServerURL": "https://plot.ly"
       },
       "data": [
        {
         "hovertemplate": "timestamp=%{x}<br>sys=%{y}<br>cpu=%{marker.color}<extra></extra>",
         "legendgroup": "",
         "marker": {
          "color": [
           5,
           56,
           10,
           90,
           26,
           27,
           100,
           74,
           93,
           28,
           38,
           54,
           9,
           85,
           41,
           106,
           28,
           66,
           94,
           213,
           17,
           64,
           94,
           19,
           46,
           31,
           25,
           66,
           11,
           14,
           83,
           71,
           106,
           66,
           41,
           102,
           37,
           11,
           85,
           85,
           80,
           83,
           7,
           68,
           4,
           4,
           94,
           120,
           106,
           126,
           124,
           9,
           116,
           54,
           89,
           61,
           92,
           116,
           65,
           94,
           76,
           71,
           58,
           38,
           41,
           7,
           69,
           124,
           58,
           96,
           86,
           68,
           3,
           3,
           123,
           80,
           4,
           21,
           55,
           44,
           76,
           4,
           55,
           9,
           67,
           56,
           106,
           66,
           123,
           52,
           9,
           19,
           77,
           37,
           64,
           90,
           88,
           4,
           4,
           19,
           76,
           95,
           55,
           126,
           20,
           100,
           77,
           78,
           92,
           85,
           45,
           34,
           108,
           48,
           112,
           70,
           102,
           37,
           42,
           45,
           75,
           90,
           34,
           20,
           96,
           111,
           109,
           42,
           66,
           7,
           21,
           28,
           96,
           69,
           106,
           51,
           75,
           11,
           86,
           75,
           111,
           88,
           42,
           37,
           81,
           68,
           76,
           14,
           96,
           38,
           45,
           98,
           45,
           66,
           54,
           7,
           76,
           52,
           75,
           100,
           79,
           69,
           92,
           118,
           29,
           109,
           44,
           86,
           101,
           76,
           75,
           75,
           66,
           11,
           73,
           105,
           92,
           124,
           4,
           68,
           75,
           126,
           102,
           94,
           96,
           93,
           66,
           76,
           125,
           44,
           112,
           61,
           94,
           7,
           14,
           95,
           35,
           76,
           114,
           124,
           9,
           37,
           41,
           38,
           95,
           25,
           57,
           66,
           112,
           57,
           67,
           46,
           5,
           84,
           105,
           74,
           107,
           97,
           7,
           64,
           74,
           64,
           58,
           106,
           25,
           86,
           88,
           54,
           83,
           114,
           63,
           10,
           75,
           29,
           36,
           24,
           124,
           35,
           20,
           109,
           18,
           75,
           60,
           122,
           68,
           65,
           13,
           74,
           5,
           207,
           70,
           75,
           64,
           51,
           51,
           67,
           114,
           105,
           92,
           88,
           75,
           102,
           116,
           61,
           88,
           48,
           88,
           46,
           18,
           95,
           89,
           124,
           94,
           17,
           17,
           3,
           68,
           68,
           70,
           84,
           21,
           117,
           125,
           66,
           86,
           31,
           110,
           3,
           88,
           45,
           66,
           38,
           5,
           116,
           17,
           18,
           63,
           14,
           16,
           10,
           46,
           124,
           16,
           72,
           67,
           67,
           75,
           45,
           28,
           44,
           124,
           112,
           122,
           47,
           62,
           109,
           7,
           107,
           5,
           56,
           46
          ],
          "coloraxis": "coloraxis",
          "symbol": "circle"
         },
         "mode": "markers",
         "name": "",
         "orientation": "v",
         "showlegend": false,
         "type": "scatter",
         "x": [
          "11:21:40",
          "11:21:54",
          "11:22:14",
          "11:22:21",
          "11:22:34",
          "11:22:46",
          "11:22:51",
          "11:23:12",
          "11:24:12",
          "11:24:42",
          "11:27:08",
          "11:27:21",
          "11:29:04",
          "11:29:53",
          "11:30:26",
          "11:35:17",
          "11:36:41",
          "11:36:52",
          "11:36:59",
          "11:37:07",
          "11:37:13",
          "11:37:13",
          "11:37:15",
          "11:37:18",
          "11:37:19",
          "11:37:20",
          "11:37:26",
          "11:37:26",
          "11:37:27",
          "11:37:40",
          "11:37:43",
          "11:38:01",
          "11:38:22",
          "11:38:41",
          "11:38:57",
          "11:39:20",
          "11:39:23",
          "11:39:25",
          "11:39:38",
          "11:39:41",
          "11:39:58",
          "11:40:12",
          "11:40:23",
          "11:40:36",
          "11:40:59",
          "11:41:07",
          "11:41:12",
          "11:41:16",
          "11:41:54",
          "11:41:54",
          "11:42:13",
          "11:42:39",
          "11:44:07",
          "11:44:09",
          "11:44:41",
          "11:44:54",
          "11:45:49",
          "11:45:59",
          "11:46:36",
          "11:46:58",
          "11:47:06",
          "11:48:03",
          "11:48:19",
          "11:48:45",
          "11:49:55",
          "11:52:24",
          "11:52:43",
          "11:53:21",
          "11:53:45",
          "11:54:09",
          "11:54:29",
          "11:54:30",
          "11:54:31",
          "11:54:52",
          "11:55:36",
          "11:56:01",
          "11:56:06",
          "11:56:09",
          "11:56:43",
          "11:56:49",
          "11:57:15",
          "11:57:31",
          "11:57:47",
          "11:57:48",
          "11:58:27",
          "11:58:29",
          "11:58:31",
          "11:59:29",
          "11:59:54",
          "12:00:11",
          "12:00:31",
          "12:00:34",
          "12:01:22",
          "12:01:41",
          "12:01:41",
          "12:01:51",
          "12:01:52",
          "12:01:54",
          "12:01:59",
          "12:01:59",
          "12:01:59",
          "12:02:00",
          "12:02:26",
          "12:02:32",
          "12:02:33",
          "12:02:33",
          "12:02:34",
          "12:02:47",
          "12:03:08",
          "12:03:24",
          "12:03:30",
          "12:03:33",
          "12:03:43",
          "12:04:01",
          "12:04:10",
          "12:04:26",
          "12:04:42",
          "12:04:43",
          "12:05:24",
          "12:05:29",
          "12:05:38",
          "12:05:56",
          "12:05:58",
          "12:06:04",
          "12:06:18",
          "12:06:20",
          "12:06:57",
          "12:07:03",
          "12:07:18",
          "12:07:35",
          "12:08:16",
          "12:08:23",
          "12:08:23",
          "12:08:49",
          "12:08:50",
          "12:09:27",
          "12:09:27",
          "12:09:46",
          "12:09:50",
          "12:09:54",
          "12:09:54",
          "12:10:48",
          "12:11:06",
          "12:11:17",
          "12:11:33",
          "12:11:56",
          "12:12:06",
          "12:12:30",
          "12:12:34",
          "12:12:35",
          "12:12:36",
          "12:13:04",
          "12:13:33",
          "12:13:38",
          "12:13:40",
          "12:14:05",
          "12:14:17",
          "12:14:31",
          "12:14:37",
          "12:15:40",
          "12:15:51",
          "12:15:52",
          "12:16:03",
          "12:17:34",
          "12:19:04",
          "12:19:13",
          "12:19:20",
          "12:19:41",
          "12:20:03",
          "12:20:31",
          "12:20:38",
          "12:20:44",
          "12:20:50",
          "12:20:53",
          "12:21:35",
          "12:23:20",
          "12:24:07",
          "12:24:07",
          "12:24:08",
          "12:24:08",
          "12:24:10",
          "12:24:40",
          "12:25:02",
          "12:25:12",
          "12:25:22",
          "12:27:06",
          "12:27:40",
          "12:27:48",
          "12:28:29",
          "12:28:50",
          "12:28:53",
          "12:29:58",
          "12:30:02",
          "12:30:03",
          "12:30:03",
          "12:30:07",
          "12:30:27",
          "12:30:32",
          "12:30:36",
          "12:30:53",
          "12:31:39",
          "12:32:36",
          "12:32:50",
          "12:32:51",
          "12:32:56",
          "12:33:12",
          "12:33:13",
          "12:33:21",
          "12:34:02",
          "12:34:58",
          "12:35:03",
          "12:35:05",
          "12:35:06",
          "12:35:43",
          "12:36:04",
          "12:36:08",
          "12:36:14",
          "12:36:15",
          "12:36:21",
          "12:37:11",
          "12:37:22",
          "12:37:24",
          "12:37:26",
          "12:37:28",
          "12:37:46",
          "12:37:56",
          "12:38:09",
          "12:38:22",
          "12:38:27",
          "12:38:49",
          "12:39:12",
          "12:40:56",
          "12:40:56",
          "12:41:03",
          "12:41:05",
          "12:41:23",
          "12:42:23",
          "12:45:12",
          "12:45:34",
          "12:46:11",
          "12:47:04",
          "12:47:04",
          "12:47:19",
          "12:47:51",
          "12:47:53",
          "12:48:07",
          "12:48:44",
          "12:50:39",
          "12:51:42",
          "12:53:43",
          "12:54:06",
          "12:54:12",
          "12:56:55",
          "12:58:52",
          "12:59:07",
          "13:01:49",
          "13:02:39",
          "13:03:14",
          "13:03:40",
          "13:04:20",
          "13:04:25",
          "13:05:07",
          "13:05:13",
          "13:05:40",
          "13:06:32",
          "13:06:38",
          "13:06:54",
          "13:07:34",
          "13:08:50",
          "13:08:51",
          "13:08:52",
          "13:09:09",
          "13:09:11",
          "13:09:19",
          "13:09:41",
          "13:10:28",
          "13:11:01",
          "13:11:09",
          "13:11:13",
          "13:11:13",
          "13:11:49",
          "13:12:37",
          "13:13:50",
          "13:13:52",
          "13:14:04",
          "13:15:02",
          "13:15:06",
          "13:16:44",
          "13:16:52",
          "13:17:43",
          "13:18:00",
          "13:18:02",
          "13:18:54",
          "13:19:03",
          "13:20:26",
          "13:24:05",
          "13:24:23",
          "13:24:30",
          "13:25:03",
          "13:25:21",
          "13:26:13",
          "13:26:21",
          "13:26:44",
          "13:27:01",
          "13:27:12",
          "13:27:23",
          "13:28:07",
          "13:28:09",
          "13:30:02",
          "13:30:30",
          "13:32:32",
          "13:32:46",
          "13:33:54",
          "13:34:45",
          "13:35:30",
          "13:36:03",
          "13:37:52",
          "13:38:30",
          "13:39:38",
          "13:39:58",
          "13:40:30"
         ],
         "xaxis": "x",
         "y": [
          6.12,
          12.75,
          20,
          1.01,
          40.82,
          12.12,
          24.51,
          45.45,
          14.85,
          1,
          26.53,
          32.67,
          0.99,
          70,
          1.98,
          6.12,
          5,
          34,
          1,
          1,
          1.96,
          51,
          3.96,
          1.96,
          3,
          3.12,
          0.98,
          4.17,
          28,
          3.03,
          1.9,
          34.31,
          30,
          3,
          21.21,
          14.56,
          25,
          7.14,
          1.04,
          6,
          1,
          2.02,
          7,
          3.06,
          3,
          20.2,
          4.04,
          5,
          2.02,
          9.38,
          6.86,
          4.12,
          6.06,
          37.37,
          4.9,
          39.6,
          10,
          2.06,
          16.33,
          11.11,
          5.05,
          3.03,
          1,
          2.02,
          4.08,
          2.04,
          5.1,
          6.12,
          1.98,
          1,
          1.04,
          0.99,
          1.98,
          5,
          0.99,
          6.32,
          1.01,
          5.1,
          6.32,
          4.95,
          6.06,
          3.03,
          5.83,
          3.96,
          1.98,
          6.06,
          6,
          1,
          1.98,
          11.22,
          5.94,
          8.91,
          2.02,
          1.39,
          1.39,
          4.94,
          8.6,
          2.53,
          2.06,
          10.87,
          14.75,
          1.02,
          2.02,
          8,
          13.13,
          7.07,
          10.2,
          7.14,
          13,
          10.2,
          14.89,
          1.05,
          16,
          2.2,
          2,
          16.49,
          1.02,
          6,
          1,
          15.69,
          1,
          4.08,
          4.04,
          14.58,
          1.98,
          59.74,
          1.01,
          5.21,
          2.02,
          3.26,
          52.48,
          38.14,
          1.01,
          1.03,
          1.06,
          22.68,
          17,
          1.02,
          1.01,
          6.12,
          5.15,
          1.98,
          2,
          6.38,
          17.35,
          1.02,
          44,
          8,
          1.01,
          2,
          2.04,
          2.02,
          1.04,
          5.1,
          13.68,
          1.04,
          1.03,
          3.12,
          1.04,
          14.29,
          3.09,
          2.06,
          10,
          42.16,
          3.06,
          2.04,
          2.06,
          0.99,
          23.08,
          18.09,
          2.04,
          41.11,
          1.03,
          4.3,
          4.4,
          1.02,
          4,
          19.19,
          13.68,
          1,
          11.96,
          22.22,
          15.05,
          0.99,
          0.99,
          61,
          14.71,
          2,
          25.74,
          18.63,
          8,
          54.32,
          3.3,
          4.6,
          1.23,
          25,
          1.28,
          1.01,
          1.03,
          1.01,
          39.36,
          5.05,
          12.24,
          33.33,
          2,
          0.99,
          19.61,
          6,
          0.99,
          1.02,
          1.02,
          2.02,
          3.3,
          3.09,
          10.78,
          1.02,
          19.61,
          20.41,
          1.01,
          6,
          2.97,
          1.98,
          6.12,
          11.88,
          2,
          5,
          36,
          1.02,
          4.08,
          1.08,
          4,
          24.75,
          4,
          2.88,
          5.71,
          7.22,
          1.03,
          12.12,
          38,
          2,
          1,
          46.46,
          33.33,
          7.95,
          5,
          7,
          2.02,
          1.01,
          1.02,
          36,
          1.96,
          1.04,
          40.82,
          1.02,
          4.21,
          39,
          6.19,
          17.53,
          3.19,
          12,
          1,
          35.29,
          1.01,
          12.87,
          1.98,
          2.02,
          2.04,
          6.06,
          4.21,
          6.42,
          1.02,
          5.05,
          1,
          3.06,
          3.96,
          1.03,
          4,
          2.97,
          7.77,
          5.1,
          56,
          9.9,
          7.14,
          34.02,
          2.04,
          7.14,
          40.22,
          1,
          1,
          1.01,
          1.98,
          4.12,
          6.38,
          1.06,
          9.47,
          21.88,
          5.94,
          2.13,
          26.19,
          2.08,
          1.08,
          1.09,
          8.75,
          1.02,
          1,
          17.65,
          18.37,
          23.47,
          1.01,
          36.63,
          60.4,
          41.58,
          24.49,
          14.85,
          11.11,
          0.99,
          2.97,
          12,
          11,
          6,
          5.1
         ],
         "yaxis": "y"
        }
       ],
       "layout": {
        "coloraxis": {
         "colorbar": {
          "title": {
           "text": "cpu"
          }
         },
         "colorscale": [
          [
           0,
           "#0d0887"
          ],
          [
           0.1111111111111111,
           "#46039f"
          ],
          [
           0.2222222222222222,
           "#7201a8"
          ],
          [
           0.3333333333333333,
           "#9c179e"
          ],
          [
           0.4444444444444444,
           "#bd3786"
          ],
          [
           0.5555555555555556,
           "#d8576b"
          ],
          [
           0.6666666666666666,
           "#ed7953"
          ],
          [
           0.7777777777777778,
           "#fb9f3a"
          ],
          [
           0.8888888888888888,
           "#fdca26"
          ],
          [
           1,
           "#f0f921"
          ]
         ]
        },
        "legend": {
         "tracegroupgap": 0
        },
        "template": {
         "data": {
          "bar": [
           {
            "error_x": {
             "color": "#2a3f5f"
            },
            "error_y": {
             "color": "#2a3f5f"
            },
            "marker": {
             "line": {
              "color": "#E5ECF6",
              "width": 0.5
             },
             "pattern": {
              "fillmode": "overlay",
              "size": 10,
              "solidity": 0.2
             }
            },
            "type": "bar"
           }
          ],
          "barpolar": [
           {
            "marker": {
             "line": {
              "color": "#E5ECF6",
              "width": 0.5
             },
             "pattern": {
              "fillmode": "overlay",
              "size": 10,
              "solidity": 0.2
             }
            },
            "type": "barpolar"
           }
          ],
          "carpet": [
           {
            "aaxis": {
             "endlinecolor": "#2a3f5f",
             "gridcolor": "white",
             "linecolor": "white",
             "minorgridcolor": "white",
             "startlinecolor": "#2a3f5f"
            },
            "baxis": {
             "endlinecolor": "#2a3f5f",
             "gridcolor": "white",
             "linecolor": "white",
             "minorgridcolor": "white",
             "startlinecolor": "#2a3f5f"
            },
            "type": "carpet"
           }
          ],
          "choropleth": [
           {
            "colorbar": {
             "outlinewidth": 0,
             "ticks": ""
            },
            "type": "choropleth"
           }
          ],
          "contour": [
           {
            "colorbar": {
             "outlinewidth": 0,
             "ticks": ""
            },
            "colorscale": [
             [
              0,
              "#0d0887"
             ],
             [
              0.1111111111111111,
              "#46039f"
             ],
             [
              0.2222222222222222,
              "#7201a8"
             ],
             [
              0.3333333333333333,
              "#9c179e"
             ],
             [
              0.4444444444444444,
              "#bd3786"
             ],
             [
              0.5555555555555556,
              "#d8576b"
             ],
             [
              0.6666666666666666,
              "#ed7953"
             ],
             [
              0.7777777777777778,
              "#fb9f3a"
             ],
             [
              0.8888888888888888,
              "#fdca26"
             ],
             [
              1,
              "#f0f921"
             ]
            ],
            "type": "contour"
           }
          ],
          "contourcarpet": [
           {
            "colorbar": {
             "outlinewidth": 0,
             "ticks": ""
            },
            "type": "contourcarpet"
           }
          ],
          "heatmap": [
           {
            "colorbar": {
             "outlinewidth": 0,
             "ticks": ""
            },
            "colorscale": [
             [
              0,
              "#0d0887"
             ],
             [
              0.1111111111111111,
              "#46039f"
             ],
             [
              0.2222222222222222,
              "#7201a8"
             ],
             [
              0.3333333333333333,
              "#9c179e"
             ],
             [
              0.4444444444444444,
              "#bd3786"
             ],
             [
              0.5555555555555556,
              "#d8576b"
             ],
             [
              0.6666666666666666,
              "#ed7953"
             ],
             [
              0.7777777777777778,
              "#fb9f3a"
             ],
             [
              0.8888888888888888,
              "#fdca26"
             ],
             [
              1,
              "#f0f921"
             ]
            ],
            "type": "heatmap"
           }
          ],
          "heatmapgl": [
           {
            "colorbar": {
             "outlinewidth": 0,
             "ticks": ""
            },
            "colorscale": [
             [
              0,
              "#0d0887"
             ],
             [
              0.1111111111111111,
              "#46039f"
             ],
             [
              0.2222222222222222,
              "#7201a8"
             ],
             [
              0.3333333333333333,
              "#9c179e"
             ],
             [
              0.4444444444444444,
              "#bd3786"
             ],
             [
              0.5555555555555556,
              "#d8576b"
             ],
             [
              0.6666666666666666,
              "#ed7953"
             ],
             [
              0.7777777777777778,
              "#fb9f3a"
             ],
             [
              0.8888888888888888,
              "#fdca26"
             ],
             [
              1,
              "#f0f921"
             ]
            ],
            "type": "heatmapgl"
           }
          ],
          "histogram": [
           {
            "marker": {
             "pattern": {
              "fillmode": "overlay",
              "size": 10,
              "solidity": 0.2
             }
            },
            "type": "histogram"
           }
          ],
          "histogram2d": [
           {
            "colorbar": {
             "outlinewidth": 0,
             "ticks": ""
            },
            "colorscale": [
             [
              0,
              "#0d0887"
             ],
             [
              0.1111111111111111,
              "#46039f"
             ],
             [
              0.2222222222222222,
              "#7201a8"
             ],
             [
              0.3333333333333333,
              "#9c179e"
             ],
             [
              0.4444444444444444,
              "#bd3786"
             ],
             [
              0.5555555555555556,
              "#d8576b"
             ],
             [
              0.6666666666666666,
              "#ed7953"
             ],
             [
              0.7777777777777778,
              "#fb9f3a"
             ],
             [
              0.8888888888888888,
              "#fdca26"
             ],
             [
              1,
              "#f0f921"
             ]
            ],
            "type": "histogram2d"
           }
          ],
          "histogram2dcontour": [
           {
            "colorbar": {
             "outlinewidth": 0,
             "ticks": ""
            },
            "colorscale": [
             [
              0,
              "#0d0887"
             ],
             [
              0.1111111111111111,
              "#46039f"
             ],
             [
              0.2222222222222222,
              "#7201a8"
             ],
             [
              0.3333333333333333,
              "#9c179e"
             ],
             [
              0.4444444444444444,
              "#bd3786"
             ],
             [
              0.5555555555555556,
              "#d8576b"
             ],
             [
              0.6666666666666666,
              "#ed7953"
             ],
             [
              0.7777777777777778,
              "#fb9f3a"
             ],
             [
              0.8888888888888888,
              "#fdca26"
             ],
             [
              1,
              "#f0f921"
             ]
            ],
            "type": "histogram2dcontour"
           }
          ],
          "mesh3d": [
           {
            "colorbar": {
             "outlinewidth": 0,
             "ticks": ""
            },
            "type": "mesh3d"
           }
          ],
          "parcoords": [
           {
            "line": {
             "colorbar": {
              "outlinewidth": 0,
              "ticks": ""
             }
            },
            "type": "parcoords"
           }
          ],
          "pie": [
           {
            "automargin": true,
            "type": "pie"
           }
          ],
          "scatter": [
           {
            "fillpattern": {
             "fillmode": "overlay",
             "size": 10,
             "solidity": 0.2
            },
            "type": "scatter"
           }
          ],
          "scatter3d": [
           {
            "line": {
             "colorbar": {
              "outlinewidth": 0,
              "ticks": ""
             }
            },
            "marker": {
             "colorbar": {
              "outlinewidth": 0,
              "ticks": ""
             }
            },
            "type": "scatter3d"
           }
          ],
          "scattercarpet": [
           {
            "marker": {
             "colorbar": {
              "outlinewidth": 0,
              "ticks": ""
             }
            },
            "type": "scattercarpet"
           }
          ],
          "scattergeo": [
           {
            "marker": {
             "colorbar": {
              "outlinewidth": 0,
              "ticks": ""
             }
            },
            "type": "scattergeo"
           }
          ],
          "scattergl": [
           {
            "marker": {
             "colorbar": {
              "outlinewidth": 0,
              "ticks": ""
             }
            },
            "type": "scattergl"
           }
          ],
          "scattermapbox": [
           {
            "marker": {
             "colorbar": {
              "outlinewidth": 0,
              "ticks": ""
             }
            },
            "type": "scattermapbox"
           }
          ],
          "scatterpolar": [
           {
            "marker": {
             "colorbar": {
              "outlinewidth": 0,
              "ticks": ""
             }
            },
            "type": "scatterpolar"
           }
          ],
          "scatterpolargl": [
           {
            "marker": {
             "colorbar": {
              "outlinewidth": 0,
              "ticks": ""
             }
            },
            "type": "scatterpolargl"
           }
          ],
          "scatterternary": [
           {
            "marker": {
             "colorbar": {
              "outlinewidth": 0,
              "ticks": ""
             }
            },
            "type": "scatterternary"
           }
          ],
          "surface": [
           {
            "colorbar": {
             "outlinewidth": 0,
             "ticks": ""
            },
            "colorscale": [
             [
              0,
              "#0d0887"
             ],
             [
              0.1111111111111111,
              "#46039f"
             ],
             [
              0.2222222222222222,
              "#7201a8"
             ],
             [
              0.3333333333333333,
              "#9c179e"
             ],
             [
              0.4444444444444444,
              "#bd3786"
             ],
             [
              0.5555555555555556,
              "#d8576b"
             ],
             [
              0.6666666666666666,
              "#ed7953"
             ],
             [
              0.7777777777777778,
              "#fb9f3a"
             ],
             [
              0.8888888888888888,
              "#fdca26"
             ],
             [
              1,
              "#f0f921"
             ]
            ],
            "type": "surface"
           }
          ],
          "table": [
           {
            "cells": {
             "fill": {
              "color": "#EBF0F8"
             },
             "line": {
              "color": "white"
             }
            },
            "header": {
             "fill": {
              "color": "#C8D4E3"
             },
             "line": {
              "color": "white"
             }
            },
            "type": "table"
           }
          ]
         },
         "layout": {
          "annotationdefaults": {
           "arrowcolor": "#2a3f5f",
           "arrowhead": 0,
           "arrowwidth": 1
          },
          "autotypenumbers": "strict",
          "coloraxis": {
           "colorbar": {
            "outlinewidth": 0,
            "ticks": ""
           }
          },
          "colorscale": {
           "diverging": [
            [
             0,
             "#8e0152"
            ],
            [
             0.1,
             "#c51b7d"
            ],
            [
             0.2,
             "#de77ae"
            ],
            [
             0.3,
             "#f1b6da"
            ],
            [
             0.4,
             "#fde0ef"
            ],
            [
             0.5,
             "#f7f7f7"
            ],
            [
             0.6,
             "#e6f5d0"
            ],
            [
             0.7,
             "#b8e186"
            ],
            [
             0.8,
             "#7fbc41"
            ],
            [
             0.9,
             "#4d9221"
            ],
            [
             1,
             "#276419"
            ]
           ],
           "sequential": [
            [
             0,
             "#0d0887"
            ],
            [
             0.1111111111111111,
             "#46039f"
            ],
            [
             0.2222222222222222,
             "#7201a8"
            ],
            [
             0.3333333333333333,
             "#9c179e"
            ],
            [
             0.4444444444444444,
             "#bd3786"
            ],
            [
             0.5555555555555556,
             "#d8576b"
            ],
            [
             0.6666666666666666,
             "#ed7953"
            ],
            [
             0.7777777777777778,
             "#fb9f3a"
            ],
            [
             0.8888888888888888,
             "#fdca26"
            ],
            [
             1,
             "#f0f921"
            ]
           ],
           "sequentialminus": [
            [
             0,
             "#0d0887"
            ],
            [
             0.1111111111111111,
             "#46039f"
            ],
            [
             0.2222222222222222,
             "#7201a8"
            ],
            [
             0.3333333333333333,
             "#9c179e"
            ],
            [
             0.4444444444444444,
             "#bd3786"
            ],
            [
             0.5555555555555556,
             "#d8576b"
            ],
            [
             0.6666666666666666,
             "#ed7953"
            ],
            [
             0.7777777777777778,
             "#fb9f3a"
            ],
            [
             0.8888888888888888,
             "#fdca26"
            ],
            [
             1,
             "#f0f921"
            ]
           ]
          },
          "colorway": [
           "#636efa",
           "#EF553B",
           "#00cc96",
           "#ab63fa",
           "#FFA15A",
           "#19d3f3",
           "#FF6692",
           "#B6E880",
           "#FF97FF",
           "#FECB52"
          ],
          "font": {
           "color": "#2a3f5f"
          },
          "geo": {
           "bgcolor": "white",
           "lakecolor": "white",
           "landcolor": "#E5ECF6",
           "showlakes": true,
           "showland": true,
           "subunitcolor": "white"
          },
          "hoverlabel": {
           "align": "left"
          },
          "hovermode": "closest",
          "mapbox": {
           "style": "light"
          },
          "paper_bgcolor": "white",
          "plot_bgcolor": "#E5ECF6",
          "polar": {
           "angularaxis": {
            "gridcolor": "white",
            "linecolor": "white",
            "ticks": ""
           },
           "bgcolor": "#E5ECF6",
           "radialaxis": {
            "gridcolor": "white",
            "linecolor": "white",
            "ticks": ""
           }
          },
          "scene": {
           "xaxis": {
            "backgroundcolor": "#E5ECF6",
            "gridcolor": "white",
            "gridwidth": 2,
            "linecolor": "white",
            "showbackground": true,
            "ticks": "",
            "zerolinecolor": "white"
           },
           "yaxis": {
            "backgroundcolor": "#E5ECF6",
            "gridcolor": "white",
            "gridwidth": 2,
            "linecolor": "white",
            "showbackground": true,
            "ticks": "",
            "zerolinecolor": "white"
           },
           "zaxis": {
            "backgroundcolor": "#E5ECF6",
            "gridcolor": "white",
            "gridwidth": 2,
            "linecolor": "white",
            "showbackground": true,
            "ticks": "",
            "zerolinecolor": "white"
           }
          },
          "shapedefaults": {
           "line": {
            "color": "#2a3f5f"
           }
          },
          "ternary": {
           "aaxis": {
            "gridcolor": "white",
            "linecolor": "white",
            "ticks": ""
           },
           "baxis": {
            "gridcolor": "white",
            "linecolor": "white",
            "ticks": ""
           },
           "bgcolor": "#E5ECF6",
           "caxis": {
            "gridcolor": "white",
            "linecolor": "white",
            "ticks": ""
           }
          },
          "title": {
           "x": 0.05
          },
          "xaxis": {
           "automargin": true,
           "gridcolor": "white",
           "linecolor": "white",
           "ticks": "",
           "title": {
            "standoff": 15
           },
           "zerolinecolor": "white",
           "zerolinewidth": 2
          },
          "yaxis": {
           "automargin": true,
           "gridcolor": "white",
           "linecolor": "white",
           "ticks": "",
           "title": {
            "standoff": 15
           },
           "zerolinecolor": "white",
           "zerolinewidth": 2
          }
         }
        },
        "title": {
         "text": "sys over time"
        },
        "xaxis": {
         "anchor": "y",
         "domain": [
          0,
          1
         ],
         "title": {
          "text": "timestamp"
         }
        },
        "yaxis": {
         "anchor": "x",
         "domain": [
          0,
          1
         ],
         "title": {
          "text": "sys"
         }
        }
       }
      }
     },
     "metadata": {},
     "output_type": "display_data"
    },
    {
     "data": {
      "application/vnd.plotly.v1+json": {
       "config": {
        "plotlyServerURL": "https://plot.ly"
       },
       "data": [
        {
         "hovertemplate": "timestamp=%{x}<br>iowait=%{y}<br>cpu=%{marker.color}<extra></extra>",
         "legendgroup": "",
         "marker": {
          "color": [
           5,
           56,
           10,
           90,
           26,
           27,
           100,
           74,
           93,
           28,
           38,
           54,
           9,
           85,
           41,
           106,
           28,
           66,
           94,
           213,
           17,
           64,
           94,
           19,
           46,
           31,
           25,
           66,
           11,
           14,
           83,
           71,
           106,
           66,
           41,
           102,
           37,
           11,
           85,
           85,
           80,
           83,
           7,
           68,
           4,
           4,
           94,
           120,
           106,
           126,
           124,
           9,
           116,
           54,
           89,
           61,
           92,
           116,
           65,
           94,
           76,
           71,
           58,
           38,
           41,
           7,
           69,
           124,
           58,
           96,
           86,
           68,
           3,
           3,
           123,
           80,
           4,
           21,
           55,
           44,
           76,
           4,
           55,
           9,
           67,
           56,
           106,
           66,
           123,
           52,
           9,
           19,
           77,
           37,
           64,
           90,
           88,
           4,
           4,
           19,
           76,
           95,
           55,
           126,
           20,
           100,
           77,
           78,
           92,
           85,
           45,
           34,
           108,
           48,
           112,
           70,
           102,
           37,
           42,
           45,
           75,
           90,
           34,
           20,
           96,
           111,
           109,
           42,
           66,
           7,
           21,
           28,
           96,
           69,
           106,
           51,
           75,
           11,
           86,
           75,
           111,
           88,
           42,
           37,
           81,
           68,
           76,
           14,
           96,
           38,
           45,
           98,
           45,
           66,
           54,
           7,
           76,
           52,
           75,
           100,
           79,
           69,
           92,
           118,
           29,
           109,
           44,
           86,
           101,
           76,
           75,
           75,
           66,
           11,
           73,
           105,
           92,
           124,
           4,
           68,
           75,
           126,
           102,
           94,
           96,
           93,
           66,
           76,
           125,
           44,
           112,
           61,
           94,
           7,
           14,
           95,
           35,
           76,
           114,
           124,
           9,
           37,
           41,
           38,
           95,
           25,
           57,
           66,
           112,
           57,
           67,
           46,
           5,
           84,
           105,
           74,
           107,
           97,
           7,
           64,
           74,
           64,
           58,
           106,
           25,
           86,
           88,
           54,
           83,
           114,
           63,
           10,
           75,
           29,
           36,
           24,
           124,
           35,
           20,
           109,
           18,
           75,
           60,
           122,
           68,
           65,
           13,
           74,
           5,
           207,
           70,
           75,
           64,
           51,
           51,
           67,
           114,
           105,
           92,
           88,
           75,
           102,
           116,
           61,
           88,
           48,
           88,
           46,
           18,
           95,
           89,
           124,
           94,
           17,
           17,
           3,
           68,
           68,
           70,
           84,
           21,
           117,
           125,
           66,
           86,
           31,
           110,
           3,
           88,
           45,
           66,
           38,
           5,
           116,
           17,
           18,
           63,
           14,
           16,
           10,
           46,
           124,
           16,
           72,
           67,
           67,
           75,
           45,
           28,
           44,
           124,
           112,
           122,
           47,
           62,
           109,
           7,
           107,
           5,
           56,
           46
          ],
          "coloraxis": "coloraxis",
          "symbol": "circle"
         },
         "mode": "markers",
         "name": "",
         "orientation": "v",
         "showlegend": false,
         "type": "scatter",
         "x": [
          "11:21:40",
          "11:21:54",
          "11:22:14",
          "11:22:21",
          "11:22:34",
          "11:22:46",
          "11:22:51",
          "11:23:12",
          "11:24:12",
          "11:24:42",
          "11:27:08",
          "11:27:21",
          "11:29:04",
          "11:29:53",
          "11:30:26",
          "11:35:17",
          "11:36:41",
          "11:36:52",
          "11:36:59",
          "11:37:07",
          "11:37:13",
          "11:37:13",
          "11:37:15",
          "11:37:18",
          "11:37:19",
          "11:37:20",
          "11:37:26",
          "11:37:26",
          "11:37:27",
          "11:37:40",
          "11:37:43",
          "11:38:01",
          "11:38:22",
          "11:38:41",
          "11:38:57",
          "11:39:20",
          "11:39:23",
          "11:39:25",
          "11:39:38",
          "11:39:41",
          "11:39:58",
          "11:40:12",
          "11:40:23",
          "11:40:36",
          "11:40:59",
          "11:41:07",
          "11:41:12",
          "11:41:16",
          "11:41:54",
          "11:41:54",
          "11:42:13",
          "11:42:39",
          "11:44:07",
          "11:44:09",
          "11:44:41",
          "11:44:54",
          "11:45:49",
          "11:45:59",
          "11:46:36",
          "11:46:58",
          "11:47:06",
          "11:48:03",
          "11:48:19",
          "11:48:45",
          "11:49:55",
          "11:52:24",
          "11:52:43",
          "11:53:21",
          "11:53:45",
          "11:54:09",
          "11:54:29",
          "11:54:30",
          "11:54:31",
          "11:54:52",
          "11:55:36",
          "11:56:01",
          "11:56:06",
          "11:56:09",
          "11:56:43",
          "11:56:49",
          "11:57:15",
          "11:57:31",
          "11:57:47",
          "11:57:48",
          "11:58:27",
          "11:58:29",
          "11:58:31",
          "11:59:29",
          "11:59:54",
          "12:00:11",
          "12:00:31",
          "12:00:34",
          "12:01:22",
          "12:01:41",
          "12:01:41",
          "12:01:51",
          "12:01:52",
          "12:01:54",
          "12:01:59",
          "12:01:59",
          "12:01:59",
          "12:02:00",
          "12:02:26",
          "12:02:32",
          "12:02:33",
          "12:02:33",
          "12:02:34",
          "12:02:47",
          "12:03:08",
          "12:03:24",
          "12:03:30",
          "12:03:33",
          "12:03:43",
          "12:04:01",
          "12:04:10",
          "12:04:26",
          "12:04:42",
          "12:04:43",
          "12:05:24",
          "12:05:29",
          "12:05:38",
          "12:05:56",
          "12:05:58",
          "12:06:04",
          "12:06:18",
          "12:06:20",
          "12:06:57",
          "12:07:03",
          "12:07:18",
          "12:07:35",
          "12:08:16",
          "12:08:23",
          "12:08:23",
          "12:08:49",
          "12:08:50",
          "12:09:27",
          "12:09:27",
          "12:09:46",
          "12:09:50",
          "12:09:54",
          "12:09:54",
          "12:10:48",
          "12:11:06",
          "12:11:17",
          "12:11:33",
          "12:11:56",
          "12:12:06",
          "12:12:30",
          "12:12:34",
          "12:12:35",
          "12:12:36",
          "12:13:04",
          "12:13:33",
          "12:13:38",
          "12:13:40",
          "12:14:05",
          "12:14:17",
          "12:14:31",
          "12:14:37",
          "12:15:40",
          "12:15:51",
          "12:15:52",
          "12:16:03",
          "12:17:34",
          "12:19:04",
          "12:19:13",
          "12:19:20",
          "12:19:41",
          "12:20:03",
          "12:20:31",
          "12:20:38",
          "12:20:44",
          "12:20:50",
          "12:20:53",
          "12:21:35",
          "12:23:20",
          "12:24:07",
          "12:24:07",
          "12:24:08",
          "12:24:08",
          "12:24:10",
          "12:24:40",
          "12:25:02",
          "12:25:12",
          "12:25:22",
          "12:27:06",
          "12:27:40",
          "12:27:48",
          "12:28:29",
          "12:28:50",
          "12:28:53",
          "12:29:58",
          "12:30:02",
          "12:30:03",
          "12:30:03",
          "12:30:07",
          "12:30:27",
          "12:30:32",
          "12:30:36",
          "12:30:53",
          "12:31:39",
          "12:32:36",
          "12:32:50",
          "12:32:51",
          "12:32:56",
          "12:33:12",
          "12:33:13",
          "12:33:21",
          "12:34:02",
          "12:34:58",
          "12:35:03",
          "12:35:05",
          "12:35:06",
          "12:35:43",
          "12:36:04",
          "12:36:08",
          "12:36:14",
          "12:36:15",
          "12:36:21",
          "12:37:11",
          "12:37:22",
          "12:37:24",
          "12:37:26",
          "12:37:28",
          "12:37:46",
          "12:37:56",
          "12:38:09",
          "12:38:22",
          "12:38:27",
          "12:38:49",
          "12:39:12",
          "12:40:56",
          "12:40:56",
          "12:41:03",
          "12:41:05",
          "12:41:23",
          "12:42:23",
          "12:45:12",
          "12:45:34",
          "12:46:11",
          "12:47:04",
          "12:47:04",
          "12:47:19",
          "12:47:51",
          "12:47:53",
          "12:48:07",
          "12:48:44",
          "12:50:39",
          "12:51:42",
          "12:53:43",
          "12:54:06",
          "12:54:12",
          "12:56:55",
          "12:58:52",
          "12:59:07",
          "13:01:49",
          "13:02:39",
          "13:03:14",
          "13:03:40",
          "13:04:20",
          "13:04:25",
          "13:05:07",
          "13:05:13",
          "13:05:40",
          "13:06:32",
          "13:06:38",
          "13:06:54",
          "13:07:34",
          "13:08:50",
          "13:08:51",
          "13:08:52",
          "13:09:09",
          "13:09:11",
          "13:09:19",
          "13:09:41",
          "13:10:28",
          "13:11:01",
          "13:11:09",
          "13:11:13",
          "13:11:13",
          "13:11:49",
          "13:12:37",
          "13:13:50",
          "13:13:52",
          "13:14:04",
          "13:15:02",
          "13:15:06",
          "13:16:44",
          "13:16:52",
          "13:17:43",
          "13:18:00",
          "13:18:02",
          "13:18:54",
          "13:19:03",
          "13:20:26",
          "13:24:05",
          "13:24:23",
          "13:24:30",
          "13:25:03",
          "13:25:21",
          "13:26:13",
          "13:26:21",
          "13:26:44",
          "13:27:01",
          "13:27:12",
          "13:27:23",
          "13:28:07",
          "13:28:09",
          "13:30:02",
          "13:30:30",
          "13:32:32",
          "13:32:46",
          "13:33:54",
          "13:34:45",
          "13:35:30",
          "13:36:03",
          "13:37:52",
          "13:38:30",
          "13:39:38",
          "13:39:58",
          "13:40:30"
         ],
         "xaxis": "x",
         "y": [
          3.06,
          0.98,
          1,
          1.01,
          1.02,
          1.01,
          0.98,
          1.01,
          0.99,
          1,
          2.04,
          0.99,
          0.99,
          1,
          0.99,
          1.02,
          1,
          2,
          1,
          1,
          1.96,
          1,
          0.99,
          0.98,
          1,
          1.04,
          0.98,
          1.04,
          1,
          1.01,
          0.95,
          0.98,
          1,
          1,
          1.01,
          0.97,
          1,
          1.02,
          1.04,
          1,
          1,
          1.01,
          1,
          1.02,
          1,
          1.01,
          1.01,
          1,
          1.01,
          1.04,
          0.98,
          1.03,
          1.01,
          1.01,
          0.98,
          1.98,
          1,
          1.03,
          1.02,
          4.04,
          1.01,
          2.02,
          1,
          2.02,
          1.02,
          1.02,
          1.02,
          1.02,
          0.99,
          1,
          1.04,
          0.99,
          0.99,
          1,
          0.99,
          1.05,
          1.01,
          6.12,
          1.05,
          0.99,
          1.01,
          1.01,
          0.97,
          0.99,
          0.99,
          1.01,
          1,
          1,
          0.99,
          1.02,
          0.99,
          0.99,
          1.01,
          1.39,
          1.39,
          23.46,
          1.08,
          34.18,
          1.03,
          1.09,
          1.64,
          1.02,
          1.01,
          1,
          2.02,
          2.02,
          2.04,
          31.63,
          1,
          1.02,
          18.09,
          2.11,
          1,
          2.2,
          1,
          1.03,
          3.06,
          1,
          1,
          0.98,
          1,
          1.02,
          1.01,
          6.25,
          0.99,
          2.6,
          1.01,
          1.04,
          1.01,
          5.43,
          0.99,
          1.03,
          16.16,
          16.49,
          19.15,
          1.03,
          1,
          38.78,
          9.09,
          11.22,
          11.34,
          1.98,
          10,
          2.13,
          1.02,
          1.02,
          1,
          1,
          1.01,
          3,
          1.02,
          1.01,
          1.04,
          2.04,
          1.05,
          1.04,
          1.03,
          1.04,
          9.38,
          1.02,
          3.09,
          18.56,
          59,
          0.98,
          1.02,
          1.02,
          2.06,
          0.99,
          1.1,
          7.45,
          1.02,
          22.22,
          1.03,
          3.23,
          1.1,
          1.02,
          9,
          8.08,
          1.05,
          1,
          1.09,
          1.01,
          1.08,
          0.99,
          0.99,
          1,
          0.98,
          1,
          0.99,
          0.98,
          1,
          1.23,
          2.2,
          2.3,
          1.23,
          1.32,
          1.28,
          1.01,
          1.03,
          2.02,
          1.06,
          1.01,
          8.16,
          1.01,
          1,
          0.99,
          0.98,
          1,
          0.99,
          1.02,
          2.04,
          1.01,
          1.1,
          2.06,
          0.98,
          1.02,
          0.98,
          1.02,
          1.01,
          1,
          0.99,
          0.99,
          1.02,
          1.98,
          2,
          1,
          1,
          1.02,
          1.02,
          1.08,
          1,
          0.99,
          1,
          0.96,
          0.95,
          1.03,
          1.03,
          1.01,
          1,
          1,
          2,
          3.03,
          1.01,
          1.14,
          1,
          1,
          6.06,
          1.01,
          1.02,
          1,
          0.98,
          2.08,
          1.02,
          1.02,
          3.16,
          1,
          1.03,
          1.03,
          1.06,
          5,
          1,
          0.98,
          1.01,
          0.99,
          0.99,
          1.01,
          1.02,
          1.01,
          1.05,
          0.92,
          1.02,
          1.01,
          1,
          1.02,
          0.99,
          1.03,
          1,
          0.99,
          0.97,
          2.04,
          1,
          0.99,
          1.02,
          1.03,
          1.02,
          1.02,
          1.09,
          1,
          1,
          1.01,
          0.99,
          1.03,
          1.06,
          2.13,
          2.11,
          5.21,
          0.99,
          1.06,
          20.24,
          1.04,
          9.68,
          1.09,
          1.25,
          3.06,
          1,
          0.98,
          1.02,
          1.02,
          2.02,
          0.99,
          0.99,
          0.99,
          1.02,
          0.99,
          1.01,
          0.99,
          0.99,
          1,
          1,
          1,
          1.02
         ],
         "yaxis": "y"
        }
       ],
       "layout": {
        "coloraxis": {
         "colorbar": {
          "title": {
           "text": "cpu"
          }
         },
         "colorscale": [
          [
           0,
           "#0d0887"
          ],
          [
           0.1111111111111111,
           "#46039f"
          ],
          [
           0.2222222222222222,
           "#7201a8"
          ],
          [
           0.3333333333333333,
           "#9c179e"
          ],
          [
           0.4444444444444444,
           "#bd3786"
          ],
          [
           0.5555555555555556,
           "#d8576b"
          ],
          [
           0.6666666666666666,
           "#ed7953"
          ],
          [
           0.7777777777777778,
           "#fb9f3a"
          ],
          [
           0.8888888888888888,
           "#fdca26"
          ],
          [
           1,
           "#f0f921"
          ]
         ]
        },
        "legend": {
         "tracegroupgap": 0
        },
        "template": {
         "data": {
          "bar": [
           {
            "error_x": {
             "color": "#2a3f5f"
            },
            "error_y": {
             "color": "#2a3f5f"
            },
            "marker": {
             "line": {
              "color": "#E5ECF6",
              "width": 0.5
             },
             "pattern": {
              "fillmode": "overlay",
              "size": 10,
              "solidity": 0.2
             }
            },
            "type": "bar"
           }
          ],
          "barpolar": [
           {
            "marker": {
             "line": {
              "color": "#E5ECF6",
              "width": 0.5
             },
             "pattern": {
              "fillmode": "overlay",
              "size": 10,
              "solidity": 0.2
             }
            },
            "type": "barpolar"
           }
          ],
          "carpet": [
           {
            "aaxis": {
             "endlinecolor": "#2a3f5f",
             "gridcolor": "white",
             "linecolor": "white",
             "minorgridcolor": "white",
             "startlinecolor": "#2a3f5f"
            },
            "baxis": {
             "endlinecolor": "#2a3f5f",
             "gridcolor": "white",
             "linecolor": "white",
             "minorgridcolor": "white",
             "startlinecolor": "#2a3f5f"
            },
            "type": "carpet"
           }
          ],
          "choropleth": [
           {
            "colorbar": {
             "outlinewidth": 0,
             "ticks": ""
            },
            "type": "choropleth"
           }
          ],
          "contour": [
           {
            "colorbar": {
             "outlinewidth": 0,
             "ticks": ""
            },
            "colorscale": [
             [
              0,
              "#0d0887"
             ],
             [
              0.1111111111111111,
              "#46039f"
             ],
             [
              0.2222222222222222,
              "#7201a8"
             ],
             [
              0.3333333333333333,
              "#9c179e"
             ],
             [
              0.4444444444444444,
              "#bd3786"
             ],
             [
              0.5555555555555556,
              "#d8576b"
             ],
             [
              0.6666666666666666,
              "#ed7953"
             ],
             [
              0.7777777777777778,
              "#fb9f3a"
             ],
             [
              0.8888888888888888,
              "#fdca26"
             ],
             [
              1,
              "#f0f921"
             ]
            ],
            "type": "contour"
           }
          ],
          "contourcarpet": [
           {
            "colorbar": {
             "outlinewidth": 0,
             "ticks": ""
            },
            "type": "contourcarpet"
           }
          ],
          "heatmap": [
           {
            "colorbar": {
             "outlinewidth": 0,
             "ticks": ""
            },
            "colorscale": [
             [
              0,
              "#0d0887"
             ],
             [
              0.1111111111111111,
              "#46039f"
             ],
             [
              0.2222222222222222,
              "#7201a8"
             ],
             [
              0.3333333333333333,
              "#9c179e"
             ],
             [
              0.4444444444444444,
              "#bd3786"
             ],
             [
              0.5555555555555556,
              "#d8576b"
             ],
             [
              0.6666666666666666,
              "#ed7953"
             ],
             [
              0.7777777777777778,
              "#fb9f3a"
             ],
             [
              0.8888888888888888,
              "#fdca26"
             ],
             [
              1,
              "#f0f921"
             ]
            ],
            "type": "heatmap"
           }
          ],
          "heatmapgl": [
           {
            "colorbar": {
             "outlinewidth": 0,
             "ticks": ""
            },
            "colorscale": [
             [
              0,
              "#0d0887"
             ],
             [
              0.1111111111111111,
              "#46039f"
             ],
             [
              0.2222222222222222,
              "#7201a8"
             ],
             [
              0.3333333333333333,
              "#9c179e"
             ],
             [
              0.4444444444444444,
              "#bd3786"
             ],
             [
              0.5555555555555556,
              "#d8576b"
             ],
             [
              0.6666666666666666,
              "#ed7953"
             ],
             [
              0.7777777777777778,
              "#fb9f3a"
             ],
             [
              0.8888888888888888,
              "#fdca26"
             ],
             [
              1,
              "#f0f921"
             ]
            ],
            "type": "heatmapgl"
           }
          ],
          "histogram": [
           {
            "marker": {
             "pattern": {
              "fillmode": "overlay",
              "size": 10,
              "solidity": 0.2
             }
            },
            "type": "histogram"
           }
          ],
          "histogram2d": [
           {
            "colorbar": {
             "outlinewidth": 0,
             "ticks": ""
            },
            "colorscale": [
             [
              0,
              "#0d0887"
             ],
             [
              0.1111111111111111,
              "#46039f"
             ],
             [
              0.2222222222222222,
              "#7201a8"
             ],
             [
              0.3333333333333333,
              "#9c179e"
             ],
             [
              0.4444444444444444,
              "#bd3786"
             ],
             [
              0.5555555555555556,
              "#d8576b"
             ],
             [
              0.6666666666666666,
              "#ed7953"
             ],
             [
              0.7777777777777778,
              "#fb9f3a"
             ],
             [
              0.8888888888888888,
              "#fdca26"
             ],
             [
              1,
              "#f0f921"
             ]
            ],
            "type": "histogram2d"
           }
          ],
          "histogram2dcontour": [
           {
            "colorbar": {
             "outlinewidth": 0,
             "ticks": ""
            },
            "colorscale": [
             [
              0,
              "#0d0887"
             ],
             [
              0.1111111111111111,
              "#46039f"
             ],
             [
              0.2222222222222222,
              "#7201a8"
             ],
             [
              0.3333333333333333,
              "#9c179e"
             ],
             [
              0.4444444444444444,
              "#bd3786"
             ],
             [
              0.5555555555555556,
              "#d8576b"
             ],
             [
              0.6666666666666666,
              "#ed7953"
             ],
             [
              0.7777777777777778,
              "#fb9f3a"
             ],
             [
              0.8888888888888888,
              "#fdca26"
             ],
             [
              1,
              "#f0f921"
             ]
            ],
            "type": "histogram2dcontour"
           }
          ],
          "mesh3d": [
           {
            "colorbar": {
             "outlinewidth": 0,
             "ticks": ""
            },
            "type": "mesh3d"
           }
          ],
          "parcoords": [
           {
            "line": {
             "colorbar": {
              "outlinewidth": 0,
              "ticks": ""
             }
            },
            "type": "parcoords"
           }
          ],
          "pie": [
           {
            "automargin": true,
            "type": "pie"
           }
          ],
          "scatter": [
           {
            "fillpattern": {
             "fillmode": "overlay",
             "size": 10,
             "solidity": 0.2
            },
            "type": "scatter"
           }
          ],
          "scatter3d": [
           {
            "line": {
             "colorbar": {
              "outlinewidth": 0,
              "ticks": ""
             }
            },
            "marker": {
             "colorbar": {
              "outlinewidth": 0,
              "ticks": ""
             }
            },
            "type": "scatter3d"
           }
          ],
          "scattercarpet": [
           {
            "marker": {
             "colorbar": {
              "outlinewidth": 0,
              "ticks": ""
             }
            },
            "type": "scattercarpet"
           }
          ],
          "scattergeo": [
           {
            "marker": {
             "colorbar": {
              "outlinewidth": 0,
              "ticks": ""
             }
            },
            "type": "scattergeo"
           }
          ],
          "scattergl": [
           {
            "marker": {
             "colorbar": {
              "outlinewidth": 0,
              "ticks": ""
             }
            },
            "type": "scattergl"
           }
          ],
          "scattermapbox": [
           {
            "marker": {
             "colorbar": {
              "outlinewidth": 0,
              "ticks": ""
             }
            },
            "type": "scattermapbox"
           }
          ],
          "scatterpolar": [
           {
            "marker": {
             "colorbar": {
              "outlinewidth": 0,
              "ticks": ""
             }
            },
            "type": "scatterpolar"
           }
          ],
          "scatterpolargl": [
           {
            "marker": {
             "colorbar": {
              "outlinewidth": 0,
              "ticks": ""
             }
            },
            "type": "scatterpolargl"
           }
          ],
          "scatterternary": [
           {
            "marker": {
             "colorbar": {
              "outlinewidth": 0,
              "ticks": ""
             }
            },
            "type": "scatterternary"
           }
          ],
          "surface": [
           {
            "colorbar": {
             "outlinewidth": 0,
             "ticks": ""
            },
            "colorscale": [
             [
              0,
              "#0d0887"
             ],
             [
              0.1111111111111111,
              "#46039f"
             ],
             [
              0.2222222222222222,
              "#7201a8"
             ],
             [
              0.3333333333333333,
              "#9c179e"
             ],
             [
              0.4444444444444444,
              "#bd3786"
             ],
             [
              0.5555555555555556,
              "#d8576b"
             ],
             [
              0.6666666666666666,
              "#ed7953"
             ],
             [
              0.7777777777777778,
              "#fb9f3a"
             ],
             [
              0.8888888888888888,
              "#fdca26"
             ],
             [
              1,
              "#f0f921"
             ]
            ],
            "type": "surface"
           }
          ],
          "table": [
           {
            "cells": {
             "fill": {
              "color": "#EBF0F8"
             },
             "line": {
              "color": "white"
             }
            },
            "header": {
             "fill": {
              "color": "#C8D4E3"
             },
             "line": {
              "color": "white"
             }
            },
            "type": "table"
           }
          ]
         },
         "layout": {
          "annotationdefaults": {
           "arrowcolor": "#2a3f5f",
           "arrowhead": 0,
           "arrowwidth": 1
          },
          "autotypenumbers": "strict",
          "coloraxis": {
           "colorbar": {
            "outlinewidth": 0,
            "ticks": ""
           }
          },
          "colorscale": {
           "diverging": [
            [
             0,
             "#8e0152"
            ],
            [
             0.1,
             "#c51b7d"
            ],
            [
             0.2,
             "#de77ae"
            ],
            [
             0.3,
             "#f1b6da"
            ],
            [
             0.4,
             "#fde0ef"
            ],
            [
             0.5,
             "#f7f7f7"
            ],
            [
             0.6,
             "#e6f5d0"
            ],
            [
             0.7,
             "#b8e186"
            ],
            [
             0.8,
             "#7fbc41"
            ],
            [
             0.9,
             "#4d9221"
            ],
            [
             1,
             "#276419"
            ]
           ],
           "sequential": [
            [
             0,
             "#0d0887"
            ],
            [
             0.1111111111111111,
             "#46039f"
            ],
            [
             0.2222222222222222,
             "#7201a8"
            ],
            [
             0.3333333333333333,
             "#9c179e"
            ],
            [
             0.4444444444444444,
             "#bd3786"
            ],
            [
             0.5555555555555556,
             "#d8576b"
            ],
            [
             0.6666666666666666,
             "#ed7953"
            ],
            [
             0.7777777777777778,
             "#fb9f3a"
            ],
            [
             0.8888888888888888,
             "#fdca26"
            ],
            [
             1,
             "#f0f921"
            ]
           ],
           "sequentialminus": [
            [
             0,
             "#0d0887"
            ],
            [
             0.1111111111111111,
             "#46039f"
            ],
            [
             0.2222222222222222,
             "#7201a8"
            ],
            [
             0.3333333333333333,
             "#9c179e"
            ],
            [
             0.4444444444444444,
             "#bd3786"
            ],
            [
             0.5555555555555556,
             "#d8576b"
            ],
            [
             0.6666666666666666,
             "#ed7953"
            ],
            [
             0.7777777777777778,
             "#fb9f3a"
            ],
            [
             0.8888888888888888,
             "#fdca26"
            ],
            [
             1,
             "#f0f921"
            ]
           ]
          },
          "colorway": [
           "#636efa",
           "#EF553B",
           "#00cc96",
           "#ab63fa",
           "#FFA15A",
           "#19d3f3",
           "#FF6692",
           "#B6E880",
           "#FF97FF",
           "#FECB52"
          ],
          "font": {
           "color": "#2a3f5f"
          },
          "geo": {
           "bgcolor": "white",
           "lakecolor": "white",
           "landcolor": "#E5ECF6",
           "showlakes": true,
           "showland": true,
           "subunitcolor": "white"
          },
          "hoverlabel": {
           "align": "left"
          },
          "hovermode": "closest",
          "mapbox": {
           "style": "light"
          },
          "paper_bgcolor": "white",
          "plot_bgcolor": "#E5ECF6",
          "polar": {
           "angularaxis": {
            "gridcolor": "white",
            "linecolor": "white",
            "ticks": ""
           },
           "bgcolor": "#E5ECF6",
           "radialaxis": {
            "gridcolor": "white",
            "linecolor": "white",
            "ticks": ""
           }
          },
          "scene": {
           "xaxis": {
            "backgroundcolor": "#E5ECF6",
            "gridcolor": "white",
            "gridwidth": 2,
            "linecolor": "white",
            "showbackground": true,
            "ticks": "",
            "zerolinecolor": "white"
           },
           "yaxis": {
            "backgroundcolor": "#E5ECF6",
            "gridcolor": "white",
            "gridwidth": 2,
            "linecolor": "white",
            "showbackground": true,
            "ticks": "",
            "zerolinecolor": "white"
           },
           "zaxis": {
            "backgroundcolor": "#E5ECF6",
            "gridcolor": "white",
            "gridwidth": 2,
            "linecolor": "white",
            "showbackground": true,
            "ticks": "",
            "zerolinecolor": "white"
           }
          },
          "shapedefaults": {
           "line": {
            "color": "#2a3f5f"
           }
          },
          "ternary": {
           "aaxis": {
            "gridcolor": "white",
            "linecolor": "white",
            "ticks": ""
           },
           "baxis": {
            "gridcolor": "white",
            "linecolor": "white",
            "ticks": ""
           },
           "bgcolor": "#E5ECF6",
           "caxis": {
            "gridcolor": "white",
            "linecolor": "white",
            "ticks": ""
           }
          },
          "title": {
           "x": 0.05
          },
          "xaxis": {
           "automargin": true,
           "gridcolor": "white",
           "linecolor": "white",
           "ticks": "",
           "title": {
            "standoff": 15
           },
           "zerolinecolor": "white",
           "zerolinewidth": 2
          },
          "yaxis": {
           "automargin": true,
           "gridcolor": "white",
           "linecolor": "white",
           "ticks": "",
           "title": {
            "standoff": 15
           },
           "zerolinecolor": "white",
           "zerolinewidth": 2
          }
         }
        },
        "title": {
         "text": "iowait over time"
        },
        "xaxis": {
         "anchor": "y",
         "domain": [
          0,
          1
         ],
         "title": {
          "text": "timestamp"
         }
        },
        "yaxis": {
         "anchor": "x",
         "domain": [
          0,
          1
         ],
         "title": {
          "text": "iowait"
         }
        }
       }
      }
     },
     "metadata": {},
     "output_type": "display_data"
    },
    {
     "data": {
      "application/vnd.plotly.v1+json": {
       "config": {
        "plotlyServerURL": "https://plot.ly"
       },
       "data": [
        {
         "hovertemplate": "timestamp=%{x}<br>soft=%{y}<br>cpu=%{marker.color}<extra></extra>",
         "legendgroup": "",
         "marker": {
          "color": [
           5,
           56,
           10,
           90,
           26,
           27,
           100,
           74,
           93,
           28,
           38,
           54,
           9,
           85,
           41,
           106,
           28,
           66,
           94,
           213,
           17,
           64,
           94,
           19,
           46,
           31,
           25,
           66,
           11,
           14,
           83,
           71,
           106,
           66,
           41,
           102,
           37,
           11,
           85,
           85,
           80,
           83,
           7,
           68,
           4,
           4,
           94,
           120,
           106,
           126,
           124,
           9,
           116,
           54,
           89,
           61,
           92,
           116,
           65,
           94,
           76,
           71,
           58,
           38,
           41,
           7,
           69,
           124,
           58,
           96,
           86,
           68,
           3,
           3,
           123,
           80,
           4,
           21,
           55,
           44,
           76,
           4,
           55,
           9,
           67,
           56,
           106,
           66,
           123,
           52,
           9,
           19,
           77,
           37,
           64,
           90,
           88,
           4,
           4,
           19,
           76,
           95,
           55,
           126,
           20,
           100,
           77,
           78,
           92,
           85,
           45,
           34,
           108,
           48,
           112,
           70,
           102,
           37,
           42,
           45,
           75,
           90,
           34,
           20,
           96,
           111,
           109,
           42,
           66,
           7,
           21,
           28,
           96,
           69,
           106,
           51,
           75,
           11,
           86,
           75,
           111,
           88,
           42,
           37,
           81,
           68,
           76,
           14,
           96,
           38,
           45,
           98,
           45,
           66,
           54,
           7,
           76,
           52,
           75,
           100,
           79,
           69,
           92,
           118,
           29,
           109,
           44,
           86,
           101,
           76,
           75,
           75,
           66,
           11,
           73,
           105,
           92,
           124,
           4,
           68,
           75,
           126,
           102,
           94,
           96,
           93,
           66,
           76,
           125,
           44,
           112,
           61,
           94,
           7,
           14,
           95,
           35,
           76,
           114,
           124,
           9,
           37,
           41,
           38,
           95,
           25,
           57,
           66,
           112,
           57,
           67,
           46,
           5,
           84,
           105,
           74,
           107,
           97,
           7,
           64,
           74,
           64,
           58,
           106,
           25,
           86,
           88,
           54,
           83,
           114,
           63,
           10,
           75,
           29,
           36,
           24,
           124,
           35,
           20,
           109,
           18,
           75,
           60,
           122,
           68,
           65,
           13,
           74,
           5,
           207,
           70,
           75,
           64,
           51,
           51,
           67,
           114,
           105,
           92,
           88,
           75,
           102,
           116,
           61,
           88,
           48,
           88,
           46,
           18,
           95,
           89,
           124,
           94,
           17,
           17,
           3,
           68,
           68,
           70,
           84,
           21,
           117,
           125,
           66,
           86,
           31,
           110,
           3,
           88,
           45,
           66,
           38,
           5,
           116,
           17,
           18,
           63,
           14,
           16,
           10,
           46,
           124,
           16,
           72,
           67,
           67,
           75,
           45,
           28,
           44,
           124,
           112,
           122,
           47,
           62,
           109,
           7,
           107,
           5,
           56,
           46
          ],
          "coloraxis": "coloraxis",
          "symbol": "circle"
         },
         "mode": "markers",
         "name": "",
         "orientation": "v",
         "showlegend": false,
         "type": "scatter",
         "x": [
          "11:21:40",
          "11:21:54",
          "11:22:14",
          "11:22:21",
          "11:22:34",
          "11:22:46",
          "11:22:51",
          "11:23:12",
          "11:24:12",
          "11:24:42",
          "11:27:08",
          "11:27:21",
          "11:29:04",
          "11:29:53",
          "11:30:26",
          "11:35:17",
          "11:36:41",
          "11:36:52",
          "11:36:59",
          "11:37:07",
          "11:37:13",
          "11:37:13",
          "11:37:15",
          "11:37:18",
          "11:37:19",
          "11:37:20",
          "11:37:26",
          "11:37:26",
          "11:37:27",
          "11:37:40",
          "11:37:43",
          "11:38:01",
          "11:38:22",
          "11:38:41",
          "11:38:57",
          "11:39:20",
          "11:39:23",
          "11:39:25",
          "11:39:38",
          "11:39:41",
          "11:39:58",
          "11:40:12",
          "11:40:23",
          "11:40:36",
          "11:40:59",
          "11:41:07",
          "11:41:12",
          "11:41:16",
          "11:41:54",
          "11:41:54",
          "11:42:13",
          "11:42:39",
          "11:44:07",
          "11:44:09",
          "11:44:41",
          "11:44:54",
          "11:45:49",
          "11:45:59",
          "11:46:36",
          "11:46:58",
          "11:47:06",
          "11:48:03",
          "11:48:19",
          "11:48:45",
          "11:49:55",
          "11:52:24",
          "11:52:43",
          "11:53:21",
          "11:53:45",
          "11:54:09",
          "11:54:29",
          "11:54:30",
          "11:54:31",
          "11:54:52",
          "11:55:36",
          "11:56:01",
          "11:56:06",
          "11:56:09",
          "11:56:43",
          "11:56:49",
          "11:57:15",
          "11:57:31",
          "11:57:47",
          "11:57:48",
          "11:58:27",
          "11:58:29",
          "11:58:31",
          "11:59:29",
          "11:59:54",
          "12:00:11",
          "12:00:31",
          "12:00:34",
          "12:01:22",
          "12:01:41",
          "12:01:41",
          "12:01:51",
          "12:01:52",
          "12:01:54",
          "12:01:59",
          "12:01:59",
          "12:01:59",
          "12:02:00",
          "12:02:26",
          "12:02:32",
          "12:02:33",
          "12:02:33",
          "12:02:34",
          "12:02:47",
          "12:03:08",
          "12:03:24",
          "12:03:30",
          "12:03:33",
          "12:03:43",
          "12:04:01",
          "12:04:10",
          "12:04:26",
          "12:04:42",
          "12:04:43",
          "12:05:24",
          "12:05:29",
          "12:05:38",
          "12:05:56",
          "12:05:58",
          "12:06:04",
          "12:06:18",
          "12:06:20",
          "12:06:57",
          "12:07:03",
          "12:07:18",
          "12:07:35",
          "12:08:16",
          "12:08:23",
          "12:08:23",
          "12:08:49",
          "12:08:50",
          "12:09:27",
          "12:09:27",
          "12:09:46",
          "12:09:50",
          "12:09:54",
          "12:09:54",
          "12:10:48",
          "12:11:06",
          "12:11:17",
          "12:11:33",
          "12:11:56",
          "12:12:06",
          "12:12:30",
          "12:12:34",
          "12:12:35",
          "12:12:36",
          "12:13:04",
          "12:13:33",
          "12:13:38",
          "12:13:40",
          "12:14:05",
          "12:14:17",
          "12:14:31",
          "12:14:37",
          "12:15:40",
          "12:15:51",
          "12:15:52",
          "12:16:03",
          "12:17:34",
          "12:19:04",
          "12:19:13",
          "12:19:20",
          "12:19:41",
          "12:20:03",
          "12:20:31",
          "12:20:38",
          "12:20:44",
          "12:20:50",
          "12:20:53",
          "12:21:35",
          "12:23:20",
          "12:24:07",
          "12:24:07",
          "12:24:08",
          "12:24:08",
          "12:24:10",
          "12:24:40",
          "12:25:02",
          "12:25:12",
          "12:25:22",
          "12:27:06",
          "12:27:40",
          "12:27:48",
          "12:28:29",
          "12:28:50",
          "12:28:53",
          "12:29:58",
          "12:30:02",
          "12:30:03",
          "12:30:03",
          "12:30:07",
          "12:30:27",
          "12:30:32",
          "12:30:36",
          "12:30:53",
          "12:31:39",
          "12:32:36",
          "12:32:50",
          "12:32:51",
          "12:32:56",
          "12:33:12",
          "12:33:13",
          "12:33:21",
          "12:34:02",
          "12:34:58",
          "12:35:03",
          "12:35:05",
          "12:35:06",
          "12:35:43",
          "12:36:04",
          "12:36:08",
          "12:36:14",
          "12:36:15",
          "12:36:21",
          "12:37:11",
          "12:37:22",
          "12:37:24",
          "12:37:26",
          "12:37:28",
          "12:37:46",
          "12:37:56",
          "12:38:09",
          "12:38:22",
          "12:38:27",
          "12:38:49",
          "12:39:12",
          "12:40:56",
          "12:40:56",
          "12:41:03",
          "12:41:05",
          "12:41:23",
          "12:42:23",
          "12:45:12",
          "12:45:34",
          "12:46:11",
          "12:47:04",
          "12:47:04",
          "12:47:19",
          "12:47:51",
          "12:47:53",
          "12:48:07",
          "12:48:44",
          "12:50:39",
          "12:51:42",
          "12:53:43",
          "12:54:06",
          "12:54:12",
          "12:56:55",
          "12:58:52",
          "12:59:07",
          "13:01:49",
          "13:02:39",
          "13:03:14",
          "13:03:40",
          "13:04:20",
          "13:04:25",
          "13:05:07",
          "13:05:13",
          "13:05:40",
          "13:06:32",
          "13:06:38",
          "13:06:54",
          "13:07:34",
          "13:08:50",
          "13:08:51",
          "13:08:52",
          "13:09:09",
          "13:09:11",
          "13:09:19",
          "13:09:41",
          "13:10:28",
          "13:11:01",
          "13:11:09",
          "13:11:13",
          "13:11:13",
          "13:11:49",
          "13:12:37",
          "13:13:50",
          "13:13:52",
          "13:14:04",
          "13:15:02",
          "13:15:06",
          "13:16:44",
          "13:16:52",
          "13:17:43",
          "13:18:00",
          "13:18:02",
          "13:18:54",
          "13:19:03",
          "13:20:26",
          "13:24:05",
          "13:24:23",
          "13:24:30",
          "13:25:03",
          "13:25:21",
          "13:26:13",
          "13:26:21",
          "13:26:44",
          "13:27:01",
          "13:27:12",
          "13:27:23",
          "13:28:07",
          "13:28:09",
          "13:30:02",
          "13:30:30",
          "13:32:32",
          "13:32:46",
          "13:33:54",
          "13:34:45",
          "13:35:30",
          "13:36:03",
          "13:37:52",
          "13:38:30",
          "13:39:38",
          "13:39:58",
          "13:40:30"
         ],
         "xaxis": "x",
         "y": [
          2.04,
          0.98,
          1,
          1.01,
          3.06,
          34.34,
          1.96,
          1.01,
          0.99,
          2,
          1.02,
          0.99,
          2.97,
          1,
          8.91,
          1.02,
          1,
          1,
          1,
          1,
          0.98,
          1,
          0.99,
          2.94,
          8,
          8.33,
          0.98,
          1.04,
          2,
          14.14,
          6.67,
          0.98,
          4,
          1,
          1.01,
          0.97,
          1,
          1.02,
          1.04,
          16,
          1,
          1.01,
          3,
          14.29,
          1,
          1.01,
          6.06,
          1,
          1.01,
          1.04,
          0.98,
          1.03,
          4.04,
          1.01,
          0.98,
          0.99,
          1,
          8.25,
          1.02,
          1.01,
          1.01,
          5.05,
          1,
          1.01,
          1.02,
          1.02,
          1.02,
          1.02,
          0.99,
          2,
          1.04,
          0.99,
          9.9,
          1,
          0.99,
          10.53,
          1.01,
          1.02,
          1.05,
          0.99,
          1.01,
          4.04,
          5.83,
          0.99,
          0.99,
          1.01,
          1,
          1,
          0.99,
          13.27,
          0.99,
          0.99,
          1.01,
          1.39,
          2.78,
          1.23,
          1.08,
          2.53,
          1.03,
          1.09,
          1.64,
          2.04,
          1.01,
          1,
          1.01,
          2.02,
          1.02,
          1.02,
          1,
          1.02,
          1.06,
          1.05,
          2,
          1.1,
          1,
          1.03,
          1.02,
          1,
          1,
          0.98,
          1,
          1.02,
          1.01,
          1.04,
          0.99,
          1.3,
          2.02,
          12.5,
          1.01,
          1.09,
          0.99,
          30.93,
          1.01,
          1.03,
          2.13,
          4.12,
          1,
          1.02,
          1.01,
          1.02,
          1.03,
          5.94,
          1,
          2.13,
          1.02,
          1.02,
          1,
          1,
          1.01,
          1,
          9.18,
          2.02,
          25,
          1.02,
          1.05,
          2.08,
          2.06,
          14.58,
          1.04,
          1.02,
          1.03,
          4.12,
          1,
          1.96,
          1.02,
          6.12,
          1.03,
          0.99,
          1.1,
          2.13,
          1.02,
          3.33,
          1.03,
          1.08,
          1.1,
          1.02,
          2,
          4.04,
          3.16,
          1,
          1.09,
          1.01,
          1.08,
          0.99,
          0.99,
          1,
          0.98,
          1,
          0.99,
          0.98,
          2,
          1.23,
          1.1,
          1.15,
          1.23,
          1.32,
          2.56,
          1.01,
          1.03,
          2.02,
          1.06,
          1.01,
          1.02,
          1.01,
          1,
          4.95,
          0.98,
          1,
          0.99,
          1.02,
          1.02,
          3.03,
          19.78,
          1.03,
          0.98,
          2.04,
          0.98,
          1.02,
          4.04,
          1,
          0.99,
          0.99,
          1.02,
          0.99,
          1,
          1,
          1,
          1.02,
          1.02,
          1.08,
          1,
          0.99,
          1,
          0.96,
          5.71,
          1.03,
          1.03,
          1.01,
          1,
          1,
          1,
          2.02,
          1.01,
          3.41,
          1,
          3,
          7.07,
          1.01,
          1.02,
          1,
          1.96,
          1.04,
          1.02,
          1.02,
          8.42,
          1,
          1.03,
          1.03,
          5.32,
          1,
          1,
          0.98,
          1.01,
          0.99,
          0.99,
          1.01,
          1.02,
          17.17,
          5.26,
          0.92,
          6.12,
          2.02,
          1,
          3.06,
          1.98,
          1.03,
          1,
          6.93,
          0.97,
          1.02,
          1,
          3.96,
          1.02,
          1.03,
          10.2,
          1.02,
          2.17,
          1,
          1,
          1.01,
          4.95,
          1.03,
          1.06,
          2.13,
          1.05,
          1.04,
          2.97,
          1.06,
          5.95,
          1.04,
          1.08,
          2.17,
          7.5,
          1.02,
          1,
          0.98,
          1.02,
          1.02,
          1.01,
          0.99,
          0.99,
          0.99,
          1.02,
          1.98,
          10.1,
          1.98,
          0.99,
          1,
          2,
          3,
          1.02
         ],
         "yaxis": "y"
        }
       ],
       "layout": {
        "coloraxis": {
         "colorbar": {
          "title": {
           "text": "cpu"
          }
         },
         "colorscale": [
          [
           0,
           "#0d0887"
          ],
          [
           0.1111111111111111,
           "#46039f"
          ],
          [
           0.2222222222222222,
           "#7201a8"
          ],
          [
           0.3333333333333333,
           "#9c179e"
          ],
          [
           0.4444444444444444,
           "#bd3786"
          ],
          [
           0.5555555555555556,
           "#d8576b"
          ],
          [
           0.6666666666666666,
           "#ed7953"
          ],
          [
           0.7777777777777778,
           "#fb9f3a"
          ],
          [
           0.8888888888888888,
           "#fdca26"
          ],
          [
           1,
           "#f0f921"
          ]
         ]
        },
        "legend": {
         "tracegroupgap": 0
        },
        "template": {
         "data": {
          "bar": [
           {
            "error_x": {
             "color": "#2a3f5f"
            },
            "error_y": {
             "color": "#2a3f5f"
            },
            "marker": {
             "line": {
              "color": "#E5ECF6",
              "width": 0.5
             },
             "pattern": {
              "fillmode": "overlay",
              "size": 10,
              "solidity": 0.2
             }
            },
            "type": "bar"
           }
          ],
          "barpolar": [
           {
            "marker": {
             "line": {
              "color": "#E5ECF6",
              "width": 0.5
             },
             "pattern": {
              "fillmode": "overlay",
              "size": 10,
              "solidity": 0.2
             }
            },
            "type": "barpolar"
           }
          ],
          "carpet": [
           {
            "aaxis": {
             "endlinecolor": "#2a3f5f",
             "gridcolor": "white",
             "linecolor": "white",
             "minorgridcolor": "white",
             "startlinecolor": "#2a3f5f"
            },
            "baxis": {
             "endlinecolor": "#2a3f5f",
             "gridcolor": "white",
             "linecolor": "white",
             "minorgridcolor": "white",
             "startlinecolor": "#2a3f5f"
            },
            "type": "carpet"
           }
          ],
          "choropleth": [
           {
            "colorbar": {
             "outlinewidth": 0,
             "ticks": ""
            },
            "type": "choropleth"
           }
          ],
          "contour": [
           {
            "colorbar": {
             "outlinewidth": 0,
             "ticks": ""
            },
            "colorscale": [
             [
              0,
              "#0d0887"
             ],
             [
              0.1111111111111111,
              "#46039f"
             ],
             [
              0.2222222222222222,
              "#7201a8"
             ],
             [
              0.3333333333333333,
              "#9c179e"
             ],
             [
              0.4444444444444444,
              "#bd3786"
             ],
             [
              0.5555555555555556,
              "#d8576b"
             ],
             [
              0.6666666666666666,
              "#ed7953"
             ],
             [
              0.7777777777777778,
              "#fb9f3a"
             ],
             [
              0.8888888888888888,
              "#fdca26"
             ],
             [
              1,
              "#f0f921"
             ]
            ],
            "type": "contour"
           }
          ],
          "contourcarpet": [
           {
            "colorbar": {
             "outlinewidth": 0,
             "ticks": ""
            },
            "type": "contourcarpet"
           }
          ],
          "heatmap": [
           {
            "colorbar": {
             "outlinewidth": 0,
             "ticks": ""
            },
            "colorscale": [
             [
              0,
              "#0d0887"
             ],
             [
              0.1111111111111111,
              "#46039f"
             ],
             [
              0.2222222222222222,
              "#7201a8"
             ],
             [
              0.3333333333333333,
              "#9c179e"
             ],
             [
              0.4444444444444444,
              "#bd3786"
             ],
             [
              0.5555555555555556,
              "#d8576b"
             ],
             [
              0.6666666666666666,
              "#ed7953"
             ],
             [
              0.7777777777777778,
              "#fb9f3a"
             ],
             [
              0.8888888888888888,
              "#fdca26"
             ],
             [
              1,
              "#f0f921"
             ]
            ],
            "type": "heatmap"
           }
          ],
          "heatmapgl": [
           {
            "colorbar": {
             "outlinewidth": 0,
             "ticks": ""
            },
            "colorscale": [
             [
              0,
              "#0d0887"
             ],
             [
              0.1111111111111111,
              "#46039f"
             ],
             [
              0.2222222222222222,
              "#7201a8"
             ],
             [
              0.3333333333333333,
              "#9c179e"
             ],
             [
              0.4444444444444444,
              "#bd3786"
             ],
             [
              0.5555555555555556,
              "#d8576b"
             ],
             [
              0.6666666666666666,
              "#ed7953"
             ],
             [
              0.7777777777777778,
              "#fb9f3a"
             ],
             [
              0.8888888888888888,
              "#fdca26"
             ],
             [
              1,
              "#f0f921"
             ]
            ],
            "type": "heatmapgl"
           }
          ],
          "histogram": [
           {
            "marker": {
             "pattern": {
              "fillmode": "overlay",
              "size": 10,
              "solidity": 0.2
             }
            },
            "type": "histogram"
           }
          ],
          "histogram2d": [
           {
            "colorbar": {
             "outlinewidth": 0,
             "ticks": ""
            },
            "colorscale": [
             [
              0,
              "#0d0887"
             ],
             [
              0.1111111111111111,
              "#46039f"
             ],
             [
              0.2222222222222222,
              "#7201a8"
             ],
             [
              0.3333333333333333,
              "#9c179e"
             ],
             [
              0.4444444444444444,
              "#bd3786"
             ],
             [
              0.5555555555555556,
              "#d8576b"
             ],
             [
              0.6666666666666666,
              "#ed7953"
             ],
             [
              0.7777777777777778,
              "#fb9f3a"
             ],
             [
              0.8888888888888888,
              "#fdca26"
             ],
             [
              1,
              "#f0f921"
             ]
            ],
            "type": "histogram2d"
           }
          ],
          "histogram2dcontour": [
           {
            "colorbar": {
             "outlinewidth": 0,
             "ticks": ""
            },
            "colorscale": [
             [
              0,
              "#0d0887"
             ],
             [
              0.1111111111111111,
              "#46039f"
             ],
             [
              0.2222222222222222,
              "#7201a8"
             ],
             [
              0.3333333333333333,
              "#9c179e"
             ],
             [
              0.4444444444444444,
              "#bd3786"
             ],
             [
              0.5555555555555556,
              "#d8576b"
             ],
             [
              0.6666666666666666,
              "#ed7953"
             ],
             [
              0.7777777777777778,
              "#fb9f3a"
             ],
             [
              0.8888888888888888,
              "#fdca26"
             ],
             [
              1,
              "#f0f921"
             ]
            ],
            "type": "histogram2dcontour"
           }
          ],
          "mesh3d": [
           {
            "colorbar": {
             "outlinewidth": 0,
             "ticks": ""
            },
            "type": "mesh3d"
           }
          ],
          "parcoords": [
           {
            "line": {
             "colorbar": {
              "outlinewidth": 0,
              "ticks": ""
             }
            },
            "type": "parcoords"
           }
          ],
          "pie": [
           {
            "automargin": true,
            "type": "pie"
           }
          ],
          "scatter": [
           {
            "fillpattern": {
             "fillmode": "overlay",
             "size": 10,
             "solidity": 0.2
            },
            "type": "scatter"
           }
          ],
          "scatter3d": [
           {
            "line": {
             "colorbar": {
              "outlinewidth": 0,
              "ticks": ""
             }
            },
            "marker": {
             "colorbar": {
              "outlinewidth": 0,
              "ticks": ""
             }
            },
            "type": "scatter3d"
           }
          ],
          "scattercarpet": [
           {
            "marker": {
             "colorbar": {
              "outlinewidth": 0,
              "ticks": ""
             }
            },
            "type": "scattercarpet"
           }
          ],
          "scattergeo": [
           {
            "marker": {
             "colorbar": {
              "outlinewidth": 0,
              "ticks": ""
             }
            },
            "type": "scattergeo"
           }
          ],
          "scattergl": [
           {
            "marker": {
             "colorbar": {
              "outlinewidth": 0,
              "ticks": ""
             }
            },
            "type": "scattergl"
           }
          ],
          "scattermapbox": [
           {
            "marker": {
             "colorbar": {
              "outlinewidth": 0,
              "ticks": ""
             }
            },
            "type": "scattermapbox"
           }
          ],
          "scatterpolar": [
           {
            "marker": {
             "colorbar": {
              "outlinewidth": 0,
              "ticks": ""
             }
            },
            "type": "scatterpolar"
           }
          ],
          "scatterpolargl": [
           {
            "marker": {
             "colorbar": {
              "outlinewidth": 0,
              "ticks": ""
             }
            },
            "type": "scatterpolargl"
           }
          ],
          "scatterternary": [
           {
            "marker": {
             "colorbar": {
              "outlinewidth": 0,
              "ticks": ""
             }
            },
            "type": "scatterternary"
           }
          ],
          "surface": [
           {
            "colorbar": {
             "outlinewidth": 0,
             "ticks": ""
            },
            "colorscale": [
             [
              0,
              "#0d0887"
             ],
             [
              0.1111111111111111,
              "#46039f"
             ],
             [
              0.2222222222222222,
              "#7201a8"
             ],
             [
              0.3333333333333333,
              "#9c179e"
             ],
             [
              0.4444444444444444,
              "#bd3786"
             ],
             [
              0.5555555555555556,
              "#d8576b"
             ],
             [
              0.6666666666666666,
              "#ed7953"
             ],
             [
              0.7777777777777778,
              "#fb9f3a"
             ],
             [
              0.8888888888888888,
              "#fdca26"
             ],
             [
              1,
              "#f0f921"
             ]
            ],
            "type": "surface"
           }
          ],
          "table": [
           {
            "cells": {
             "fill": {
              "color": "#EBF0F8"
             },
             "line": {
              "color": "white"
             }
            },
            "header": {
             "fill": {
              "color": "#C8D4E3"
             },
             "line": {
              "color": "white"
             }
            },
            "type": "table"
           }
          ]
         },
         "layout": {
          "annotationdefaults": {
           "arrowcolor": "#2a3f5f",
           "arrowhead": 0,
           "arrowwidth": 1
          },
          "autotypenumbers": "strict",
          "coloraxis": {
           "colorbar": {
            "outlinewidth": 0,
            "ticks": ""
           }
          },
          "colorscale": {
           "diverging": [
            [
             0,
             "#8e0152"
            ],
            [
             0.1,
             "#c51b7d"
            ],
            [
             0.2,
             "#de77ae"
            ],
            [
             0.3,
             "#f1b6da"
            ],
            [
             0.4,
             "#fde0ef"
            ],
            [
             0.5,
             "#f7f7f7"
            ],
            [
             0.6,
             "#e6f5d0"
            ],
            [
             0.7,
             "#b8e186"
            ],
            [
             0.8,
             "#7fbc41"
            ],
            [
             0.9,
             "#4d9221"
            ],
            [
             1,
             "#276419"
            ]
           ],
           "sequential": [
            [
             0,
             "#0d0887"
            ],
            [
             0.1111111111111111,
             "#46039f"
            ],
            [
             0.2222222222222222,
             "#7201a8"
            ],
            [
             0.3333333333333333,
             "#9c179e"
            ],
            [
             0.4444444444444444,
             "#bd3786"
            ],
            [
             0.5555555555555556,
             "#d8576b"
            ],
            [
             0.6666666666666666,
             "#ed7953"
            ],
            [
             0.7777777777777778,
             "#fb9f3a"
            ],
            [
             0.8888888888888888,
             "#fdca26"
            ],
            [
             1,
             "#f0f921"
            ]
           ],
           "sequentialminus": [
            [
             0,
             "#0d0887"
            ],
            [
             0.1111111111111111,
             "#46039f"
            ],
            [
             0.2222222222222222,
             "#7201a8"
            ],
            [
             0.3333333333333333,
             "#9c179e"
            ],
            [
             0.4444444444444444,
             "#bd3786"
            ],
            [
             0.5555555555555556,
             "#d8576b"
            ],
            [
             0.6666666666666666,
             "#ed7953"
            ],
            [
             0.7777777777777778,
             "#fb9f3a"
            ],
            [
             0.8888888888888888,
             "#fdca26"
            ],
            [
             1,
             "#f0f921"
            ]
           ]
          },
          "colorway": [
           "#636efa",
           "#EF553B",
           "#00cc96",
           "#ab63fa",
           "#FFA15A",
           "#19d3f3",
           "#FF6692",
           "#B6E880",
           "#FF97FF",
           "#FECB52"
          ],
          "font": {
           "color": "#2a3f5f"
          },
          "geo": {
           "bgcolor": "white",
           "lakecolor": "white",
           "landcolor": "#E5ECF6",
           "showlakes": true,
           "showland": true,
           "subunitcolor": "white"
          },
          "hoverlabel": {
           "align": "left"
          },
          "hovermode": "closest",
          "mapbox": {
           "style": "light"
          },
          "paper_bgcolor": "white",
          "plot_bgcolor": "#E5ECF6",
          "polar": {
           "angularaxis": {
            "gridcolor": "white",
            "linecolor": "white",
            "ticks": ""
           },
           "bgcolor": "#E5ECF6",
           "radialaxis": {
            "gridcolor": "white",
            "linecolor": "white",
            "ticks": ""
           }
          },
          "scene": {
           "xaxis": {
            "backgroundcolor": "#E5ECF6",
            "gridcolor": "white",
            "gridwidth": 2,
            "linecolor": "white",
            "showbackground": true,
            "ticks": "",
            "zerolinecolor": "white"
           },
           "yaxis": {
            "backgroundcolor": "#E5ECF6",
            "gridcolor": "white",
            "gridwidth": 2,
            "linecolor": "white",
            "showbackground": true,
            "ticks": "",
            "zerolinecolor": "white"
           },
           "zaxis": {
            "backgroundcolor": "#E5ECF6",
            "gridcolor": "white",
            "gridwidth": 2,
            "linecolor": "white",
            "showbackground": true,
            "ticks": "",
            "zerolinecolor": "white"
           }
          },
          "shapedefaults": {
           "line": {
            "color": "#2a3f5f"
           }
          },
          "ternary": {
           "aaxis": {
            "gridcolor": "white",
            "linecolor": "white",
            "ticks": ""
           },
           "baxis": {
            "gridcolor": "white",
            "linecolor": "white",
            "ticks": ""
           },
           "bgcolor": "#E5ECF6",
           "caxis": {
            "gridcolor": "white",
            "linecolor": "white",
            "ticks": ""
           }
          },
          "title": {
           "x": 0.05
          },
          "xaxis": {
           "automargin": true,
           "gridcolor": "white",
           "linecolor": "white",
           "ticks": "",
           "title": {
            "standoff": 15
           },
           "zerolinecolor": "white",
           "zerolinewidth": 2
          },
          "yaxis": {
           "automargin": true,
           "gridcolor": "white",
           "linecolor": "white",
           "ticks": "",
           "title": {
            "standoff": 15
           },
           "zerolinecolor": "white",
           "zerolinewidth": 2
          }
         }
        },
        "title": {
         "text": "soft over time"
        },
        "xaxis": {
         "anchor": "y",
         "domain": [
          0,
          1
         ],
         "title": {
          "text": "timestamp"
         }
        },
        "yaxis": {
         "anchor": "x",
         "domain": [
          0,
          1
         ],
         "title": {
          "text": "soft"
         }
        }
       }
      }
     },
     "metadata": {},
     "output_type": "display_data"
    },
    {
     "data": {
      "application/vnd.plotly.v1+json": {
       "config": {
        "plotlyServerURL": "https://plot.ly"
       },
       "data": [
        {
         "hovertemplate": "timestamp=%{x}<br>guest=%{y}<br>cpu=%{marker.color}<extra></extra>",
         "legendgroup": "",
         "marker": {
          "color": [
           5,
           56,
           10,
           90,
           26,
           27,
           100,
           74,
           93,
           28,
           38,
           54,
           9,
           85,
           41,
           106,
           28,
           66,
           94,
           213,
           17,
           64,
           94,
           19,
           46,
           31,
           25,
           66,
           11,
           14,
           83,
           71,
           106,
           66,
           41,
           102,
           37,
           11,
           85,
           85,
           80,
           83,
           7,
           68,
           4,
           4,
           94,
           120,
           106,
           126,
           124,
           9,
           116,
           54,
           89,
           61,
           92,
           116,
           65,
           94,
           76,
           71,
           58,
           38,
           41,
           7,
           69,
           124,
           58,
           96,
           86,
           68,
           3,
           3,
           123,
           80,
           4,
           21,
           55,
           44,
           76,
           4,
           55,
           9,
           67,
           56,
           106,
           66,
           123,
           52,
           9,
           19,
           77,
           37,
           64,
           90,
           88,
           4,
           4,
           19,
           76,
           95,
           55,
           126,
           20,
           100,
           77,
           78,
           92,
           85,
           45,
           34,
           108,
           48,
           112,
           70,
           102,
           37,
           42,
           45,
           75,
           90,
           34,
           20,
           96,
           111,
           109,
           42,
           66,
           7,
           21,
           28,
           96,
           69,
           106,
           51,
           75,
           11,
           86,
           75,
           111,
           88,
           42,
           37,
           81,
           68,
           76,
           14,
           96,
           38,
           45,
           98,
           45,
           66,
           54,
           7,
           76,
           52,
           75,
           100,
           79,
           69,
           92,
           118,
           29,
           109,
           44,
           86,
           101,
           76,
           75,
           75,
           66,
           11,
           73,
           105,
           92,
           124,
           4,
           68,
           75,
           126,
           102,
           94,
           96,
           93,
           66,
           76,
           125,
           44,
           112,
           61,
           94,
           7,
           14,
           95,
           35,
           76,
           114,
           124,
           9,
           37,
           41,
           38,
           95,
           25,
           57,
           66,
           112,
           57,
           67,
           46,
           5,
           84,
           105,
           74,
           107,
           97,
           7,
           64,
           74,
           64,
           58,
           106,
           25,
           86,
           88,
           54,
           83,
           114,
           63,
           10,
           75,
           29,
           36,
           24,
           124,
           35,
           20,
           109,
           18,
           75,
           60,
           122,
           68,
           65,
           13,
           74,
           5,
           207,
           70,
           75,
           64,
           51,
           51,
           67,
           114,
           105,
           92,
           88,
           75,
           102,
           116,
           61,
           88,
           48,
           88,
           46,
           18,
           95,
           89,
           124,
           94,
           17,
           17,
           3,
           68,
           68,
           70,
           84,
           21,
           117,
           125,
           66,
           86,
           31,
           110,
           3,
           88,
           45,
           66,
           38,
           5,
           116,
           17,
           18,
           63,
           14,
           16,
           10,
           46,
           124,
           16,
           72,
           67,
           67,
           75,
           45,
           28,
           44,
           124,
           112,
           122,
           47,
           62,
           109,
           7,
           107,
           5,
           56,
           46
          ],
          "coloraxis": "coloraxis",
          "symbol": "circle"
         },
         "mode": "markers",
         "name": "",
         "orientation": "v",
         "showlegend": false,
         "type": "scatter",
         "x": [
          "11:21:40",
          "11:21:54",
          "11:22:14",
          "11:22:21",
          "11:22:34",
          "11:22:46",
          "11:22:51",
          "11:23:12",
          "11:24:12",
          "11:24:42",
          "11:27:08",
          "11:27:21",
          "11:29:04",
          "11:29:53",
          "11:30:26",
          "11:35:17",
          "11:36:41",
          "11:36:52",
          "11:36:59",
          "11:37:07",
          "11:37:13",
          "11:37:13",
          "11:37:15",
          "11:37:18",
          "11:37:19",
          "11:37:20",
          "11:37:26",
          "11:37:26",
          "11:37:27",
          "11:37:40",
          "11:37:43",
          "11:38:01",
          "11:38:22",
          "11:38:41",
          "11:38:57",
          "11:39:20",
          "11:39:23",
          "11:39:25",
          "11:39:38",
          "11:39:41",
          "11:39:58",
          "11:40:12",
          "11:40:23",
          "11:40:36",
          "11:40:59",
          "11:41:07",
          "11:41:12",
          "11:41:16",
          "11:41:54",
          "11:41:54",
          "11:42:13",
          "11:42:39",
          "11:44:07",
          "11:44:09",
          "11:44:41",
          "11:44:54",
          "11:45:49",
          "11:45:59",
          "11:46:36",
          "11:46:58",
          "11:47:06",
          "11:48:03",
          "11:48:19",
          "11:48:45",
          "11:49:55",
          "11:52:24",
          "11:52:43",
          "11:53:21",
          "11:53:45",
          "11:54:09",
          "11:54:29",
          "11:54:30",
          "11:54:31",
          "11:54:52",
          "11:55:36",
          "11:56:01",
          "11:56:06",
          "11:56:09",
          "11:56:43",
          "11:56:49",
          "11:57:15",
          "11:57:31",
          "11:57:47",
          "11:57:48",
          "11:58:27",
          "11:58:29",
          "11:58:31",
          "11:59:29",
          "11:59:54",
          "12:00:11",
          "12:00:31",
          "12:00:34",
          "12:01:22",
          "12:01:41",
          "12:01:41",
          "12:01:51",
          "12:01:52",
          "12:01:54",
          "12:01:59",
          "12:01:59",
          "12:01:59",
          "12:02:00",
          "12:02:26",
          "12:02:32",
          "12:02:33",
          "12:02:33",
          "12:02:34",
          "12:02:47",
          "12:03:08",
          "12:03:24",
          "12:03:30",
          "12:03:33",
          "12:03:43",
          "12:04:01",
          "12:04:10",
          "12:04:26",
          "12:04:42",
          "12:04:43",
          "12:05:24",
          "12:05:29",
          "12:05:38",
          "12:05:56",
          "12:05:58",
          "12:06:04",
          "12:06:18",
          "12:06:20",
          "12:06:57",
          "12:07:03",
          "12:07:18",
          "12:07:35",
          "12:08:16",
          "12:08:23",
          "12:08:23",
          "12:08:49",
          "12:08:50",
          "12:09:27",
          "12:09:27",
          "12:09:46",
          "12:09:50",
          "12:09:54",
          "12:09:54",
          "12:10:48",
          "12:11:06",
          "12:11:17",
          "12:11:33",
          "12:11:56",
          "12:12:06",
          "12:12:30",
          "12:12:34",
          "12:12:35",
          "12:12:36",
          "12:13:04",
          "12:13:33",
          "12:13:38",
          "12:13:40",
          "12:14:05",
          "12:14:17",
          "12:14:31",
          "12:14:37",
          "12:15:40",
          "12:15:51",
          "12:15:52",
          "12:16:03",
          "12:17:34",
          "12:19:04",
          "12:19:13",
          "12:19:20",
          "12:19:41",
          "12:20:03",
          "12:20:31",
          "12:20:38",
          "12:20:44",
          "12:20:50",
          "12:20:53",
          "12:21:35",
          "12:23:20",
          "12:24:07",
          "12:24:07",
          "12:24:08",
          "12:24:08",
          "12:24:10",
          "12:24:40",
          "12:25:02",
          "12:25:12",
          "12:25:22",
          "12:27:06",
          "12:27:40",
          "12:27:48",
          "12:28:29",
          "12:28:50",
          "12:28:53",
          "12:29:58",
          "12:30:02",
          "12:30:03",
          "12:30:03",
          "12:30:07",
          "12:30:27",
          "12:30:32",
          "12:30:36",
          "12:30:53",
          "12:31:39",
          "12:32:36",
          "12:32:50",
          "12:32:51",
          "12:32:56",
          "12:33:12",
          "12:33:13",
          "12:33:21",
          "12:34:02",
          "12:34:58",
          "12:35:03",
          "12:35:05",
          "12:35:06",
          "12:35:43",
          "12:36:04",
          "12:36:08",
          "12:36:14",
          "12:36:15",
          "12:36:21",
          "12:37:11",
          "12:37:22",
          "12:37:24",
          "12:37:26",
          "12:37:28",
          "12:37:46",
          "12:37:56",
          "12:38:09",
          "12:38:22",
          "12:38:27",
          "12:38:49",
          "12:39:12",
          "12:40:56",
          "12:40:56",
          "12:41:03",
          "12:41:05",
          "12:41:23",
          "12:42:23",
          "12:45:12",
          "12:45:34",
          "12:46:11",
          "12:47:04",
          "12:47:04",
          "12:47:19",
          "12:47:51",
          "12:47:53",
          "12:48:07",
          "12:48:44",
          "12:50:39",
          "12:51:42",
          "12:53:43",
          "12:54:06",
          "12:54:12",
          "12:56:55",
          "12:58:52",
          "12:59:07",
          "13:01:49",
          "13:02:39",
          "13:03:14",
          "13:03:40",
          "13:04:20",
          "13:04:25",
          "13:05:07",
          "13:05:13",
          "13:05:40",
          "13:06:32",
          "13:06:38",
          "13:06:54",
          "13:07:34",
          "13:08:50",
          "13:08:51",
          "13:08:52",
          "13:09:09",
          "13:09:11",
          "13:09:19",
          "13:09:41",
          "13:10:28",
          "13:11:01",
          "13:11:09",
          "13:11:13",
          "13:11:13",
          "13:11:49",
          "13:12:37",
          "13:13:50",
          "13:13:52",
          "13:14:04",
          "13:15:02",
          "13:15:06",
          "13:16:44",
          "13:16:52",
          "13:17:43",
          "13:18:00",
          "13:18:02",
          "13:18:54",
          "13:19:03",
          "13:20:26",
          "13:24:05",
          "13:24:23",
          "13:24:30",
          "13:25:03",
          "13:25:21",
          "13:26:13",
          "13:26:21",
          "13:26:44",
          "13:27:01",
          "13:27:12",
          "13:27:23",
          "13:28:07",
          "13:28:09",
          "13:30:02",
          "13:30:30",
          "13:32:32",
          "13:32:46",
          "13:33:54",
          "13:34:45",
          "13:35:30",
          "13:36:03",
          "13:37:52",
          "13:38:30",
          "13:39:38",
          "13:39:58",
          "13:40:30"
         ],
         "xaxis": "x",
         "y": [
          64.29,
          21.57,
          3,
          15.15,
          2.04,
          27.27,
          2.94,
          1.01,
          0.99,
          38,
          6.12,
          31.68,
          79.21,
          2,
          4.95,
          2.04,
          1,
          28,
          15,
          1,
          21.57,
          4,
          2.97,
          2.94,
          40,
          5.21,
          37.25,
          3.12,
          8,
          15.15,
          3.81,
          37.25,
          16,
          13,
          45.45,
          1.94,
          8,
          16.33,
          17.71,
          37,
          20,
          8.08,
          1,
          3.06,
          7,
          16.16,
          1.01,
          13,
          2.02,
          5.21,
          15.69,
          9.28,
          4.04,
          15.15,
          1.96,
          3.96,
          13,
          1.03,
          1.02,
          5.05,
          4.04,
          2.02,
          20,
          7.07,
          14.29,
          2.04,
          5.1,
          8.16,
          5.94,
          1,
          3.12,
          6.93,
          2.97,
          1,
          5.94,
          1.05,
          1.01,
          32.65,
          24.21,
          13.86,
          6.06,
          1.01,
          8.74,
          38.61,
          1.98,
          1.01,
          44,
          23,
          6.93,
          1.02,
          16.83,
          11.88,
          23.23,
          26.39,
          51.39,
          43.21,
          2.15,
          35.44,
          8.25,
          4.35,
          39.34,
          5.1,
          1.01,
          7,
          43.43,
          31.31,
          5.1,
          1.02,
          2,
          17.35,
          7.45,
          5.26,
          17,
          7.69,
          10,
          1.03,
          22.45,
          2,
          5,
          30.39,
          10,
          24.49,
          1.01,
          31.25,
          0.99,
          1.3,
          3.03,
          11.46,
          4.04,
          21.74,
          7.92,
          1.03,
          9.09,
          34.02,
          4.26,
          45.36,
          33,
          13.27,
          7.07,
          3.06,
          25.77,
          1.98,
          19,
          1.06,
          8.16,
          2.04,
          3,
          1,
          1.01,
          3,
          1.02,
          21.21,
          6.25,
          1.02,
          16.84,
          27.08,
          27.84,
          9.38,
          3.12,
          22.45,
          4.12,
          1.03,
          10,
          17.65,
          26.53,
          4.08,
          3.09,
          59.41,
          1.1,
          1.06,
          7.14,
          13.33,
          3.09,
          4.3,
          43.96,
          21.43,
          1,
          50.51,
          51.58,
          52,
          5.43,
          3.03,
          10.75,
          12.87,
          42.57,
          19,
          18.63,
          14,
          46.53,
          27.45,
          60,
          1.23,
          3.3,
          20.69,
          35.8,
          38.16,
          41.03,
          5.05,
          16.49,
          10.1,
          26.6,
          4.04,
          1.02,
          4.04,
          4,
          7.92,
          0.98,
          7,
          32.67,
          9.18,
          14.29,
          3.03,
          8.79,
          31.96,
          62.75,
          25.51,
          5.88,
          3.06,
          5.05,
          20,
          10.89,
          53.47,
          32.65,
          27.72,
          4,
          9,
          1,
          1.02,
          2.04,
          6.45,
          1,
          7.92,
          3,
          29.81,
          6.67,
          12.37,
          24.74,
          19.19,
          1,
          3,
          1,
          30.3,
          15.15,
          7.95,
          23,
          3,
          17.17,
          10.1,
          1.02,
          8,
          38.24,
          17.71,
          7.14,
          1.02,
          2.11,
          9,
          47.42,
          5.15,
          2.13,
          32,
          1,
          0.98,
          3.03,
          29.7,
          7.92,
          4.04,
          21.43,
          4.04,
          1.05,
          12.84,
          2.04,
          9.09,
          3,
          4.08,
          3.96,
          1.03,
          1,
          8.91,
          0.97,
          2.04,
          3,
          33.66,
          1.02,
          10.31,
          8.16,
          18.37,
          35.87,
          1,
          8,
          12.12,
          0.99,
          1.03,
          1.06,
          6.38,
          3.16,
          33.33,
          6.93,
          5.32,
          3.57,
          44.79,
          5.38,
          42.39,
          2.5,
          30.61,
          4,
          0.98,
          20.41,
          41.84,
          40.4,
          28.71,
          0.99,
          8.91,
          27.55,
          56.44,
          8.08,
          42.57,
          0.99,
          36,
          1,
          9,
          3.06
         ],
         "yaxis": "y"
        }
       ],
       "layout": {
        "coloraxis": {
         "colorbar": {
          "title": {
           "text": "cpu"
          }
         },
         "colorscale": [
          [
           0,
           "#0d0887"
          ],
          [
           0.1111111111111111,
           "#46039f"
          ],
          [
           0.2222222222222222,
           "#7201a8"
          ],
          [
           0.3333333333333333,
           "#9c179e"
          ],
          [
           0.4444444444444444,
           "#bd3786"
          ],
          [
           0.5555555555555556,
           "#d8576b"
          ],
          [
           0.6666666666666666,
           "#ed7953"
          ],
          [
           0.7777777777777778,
           "#fb9f3a"
          ],
          [
           0.8888888888888888,
           "#fdca26"
          ],
          [
           1,
           "#f0f921"
          ]
         ]
        },
        "legend": {
         "tracegroupgap": 0
        },
        "template": {
         "data": {
          "bar": [
           {
            "error_x": {
             "color": "#2a3f5f"
            },
            "error_y": {
             "color": "#2a3f5f"
            },
            "marker": {
             "line": {
              "color": "#E5ECF6",
              "width": 0.5
             },
             "pattern": {
              "fillmode": "overlay",
              "size": 10,
              "solidity": 0.2
             }
            },
            "type": "bar"
           }
          ],
          "barpolar": [
           {
            "marker": {
             "line": {
              "color": "#E5ECF6",
              "width": 0.5
             },
             "pattern": {
              "fillmode": "overlay",
              "size": 10,
              "solidity": 0.2
             }
            },
            "type": "barpolar"
           }
          ],
          "carpet": [
           {
            "aaxis": {
             "endlinecolor": "#2a3f5f",
             "gridcolor": "white",
             "linecolor": "white",
             "minorgridcolor": "white",
             "startlinecolor": "#2a3f5f"
            },
            "baxis": {
             "endlinecolor": "#2a3f5f",
             "gridcolor": "white",
             "linecolor": "white",
             "minorgridcolor": "white",
             "startlinecolor": "#2a3f5f"
            },
            "type": "carpet"
           }
          ],
          "choropleth": [
           {
            "colorbar": {
             "outlinewidth": 0,
             "ticks": ""
            },
            "type": "choropleth"
           }
          ],
          "contour": [
           {
            "colorbar": {
             "outlinewidth": 0,
             "ticks": ""
            },
            "colorscale": [
             [
              0,
              "#0d0887"
             ],
             [
              0.1111111111111111,
              "#46039f"
             ],
             [
              0.2222222222222222,
              "#7201a8"
             ],
             [
              0.3333333333333333,
              "#9c179e"
             ],
             [
              0.4444444444444444,
              "#bd3786"
             ],
             [
              0.5555555555555556,
              "#d8576b"
             ],
             [
              0.6666666666666666,
              "#ed7953"
             ],
             [
              0.7777777777777778,
              "#fb9f3a"
             ],
             [
              0.8888888888888888,
              "#fdca26"
             ],
             [
              1,
              "#f0f921"
             ]
            ],
            "type": "contour"
           }
          ],
          "contourcarpet": [
           {
            "colorbar": {
             "outlinewidth": 0,
             "ticks": ""
            },
            "type": "contourcarpet"
           }
          ],
          "heatmap": [
           {
            "colorbar": {
             "outlinewidth": 0,
             "ticks": ""
            },
            "colorscale": [
             [
              0,
              "#0d0887"
             ],
             [
              0.1111111111111111,
              "#46039f"
             ],
             [
              0.2222222222222222,
              "#7201a8"
             ],
             [
              0.3333333333333333,
              "#9c179e"
             ],
             [
              0.4444444444444444,
              "#bd3786"
             ],
             [
              0.5555555555555556,
              "#d8576b"
             ],
             [
              0.6666666666666666,
              "#ed7953"
             ],
             [
              0.7777777777777778,
              "#fb9f3a"
             ],
             [
              0.8888888888888888,
              "#fdca26"
             ],
             [
              1,
              "#f0f921"
             ]
            ],
            "type": "heatmap"
           }
          ],
          "heatmapgl": [
           {
            "colorbar": {
             "outlinewidth": 0,
             "ticks": ""
            },
            "colorscale": [
             [
              0,
              "#0d0887"
             ],
             [
              0.1111111111111111,
              "#46039f"
             ],
             [
              0.2222222222222222,
              "#7201a8"
             ],
             [
              0.3333333333333333,
              "#9c179e"
             ],
             [
              0.4444444444444444,
              "#bd3786"
             ],
             [
              0.5555555555555556,
              "#d8576b"
             ],
             [
              0.6666666666666666,
              "#ed7953"
             ],
             [
              0.7777777777777778,
              "#fb9f3a"
             ],
             [
              0.8888888888888888,
              "#fdca26"
             ],
             [
              1,
              "#f0f921"
             ]
            ],
            "type": "heatmapgl"
           }
          ],
          "histogram": [
           {
            "marker": {
             "pattern": {
              "fillmode": "overlay",
              "size": 10,
              "solidity": 0.2
             }
            },
            "type": "histogram"
           }
          ],
          "histogram2d": [
           {
            "colorbar": {
             "outlinewidth": 0,
             "ticks": ""
            },
            "colorscale": [
             [
              0,
              "#0d0887"
             ],
             [
              0.1111111111111111,
              "#46039f"
             ],
             [
              0.2222222222222222,
              "#7201a8"
             ],
             [
              0.3333333333333333,
              "#9c179e"
             ],
             [
              0.4444444444444444,
              "#bd3786"
             ],
             [
              0.5555555555555556,
              "#d8576b"
             ],
             [
              0.6666666666666666,
              "#ed7953"
             ],
             [
              0.7777777777777778,
              "#fb9f3a"
             ],
             [
              0.8888888888888888,
              "#fdca26"
             ],
             [
              1,
              "#f0f921"
             ]
            ],
            "type": "histogram2d"
           }
          ],
          "histogram2dcontour": [
           {
            "colorbar": {
             "outlinewidth": 0,
             "ticks": ""
            },
            "colorscale": [
             [
              0,
              "#0d0887"
             ],
             [
              0.1111111111111111,
              "#46039f"
             ],
             [
              0.2222222222222222,
              "#7201a8"
             ],
             [
              0.3333333333333333,
              "#9c179e"
             ],
             [
              0.4444444444444444,
              "#bd3786"
             ],
             [
              0.5555555555555556,
              "#d8576b"
             ],
             [
              0.6666666666666666,
              "#ed7953"
             ],
             [
              0.7777777777777778,
              "#fb9f3a"
             ],
             [
              0.8888888888888888,
              "#fdca26"
             ],
             [
              1,
              "#f0f921"
             ]
            ],
            "type": "histogram2dcontour"
           }
          ],
          "mesh3d": [
           {
            "colorbar": {
             "outlinewidth": 0,
             "ticks": ""
            },
            "type": "mesh3d"
           }
          ],
          "parcoords": [
           {
            "line": {
             "colorbar": {
              "outlinewidth": 0,
              "ticks": ""
             }
            },
            "type": "parcoords"
           }
          ],
          "pie": [
           {
            "automargin": true,
            "type": "pie"
           }
          ],
          "scatter": [
           {
            "fillpattern": {
             "fillmode": "overlay",
             "size": 10,
             "solidity": 0.2
            },
            "type": "scatter"
           }
          ],
          "scatter3d": [
           {
            "line": {
             "colorbar": {
              "outlinewidth": 0,
              "ticks": ""
             }
            },
            "marker": {
             "colorbar": {
              "outlinewidth": 0,
              "ticks": ""
             }
            },
            "type": "scatter3d"
           }
          ],
          "scattercarpet": [
           {
            "marker": {
             "colorbar": {
              "outlinewidth": 0,
              "ticks": ""
             }
            },
            "type": "scattercarpet"
           }
          ],
          "scattergeo": [
           {
            "marker": {
             "colorbar": {
              "outlinewidth": 0,
              "ticks": ""
             }
            },
            "type": "scattergeo"
           }
          ],
          "scattergl": [
           {
            "marker": {
             "colorbar": {
              "outlinewidth": 0,
              "ticks": ""
             }
            },
            "type": "scattergl"
           }
          ],
          "scattermapbox": [
           {
            "marker": {
             "colorbar": {
              "outlinewidth": 0,
              "ticks": ""
             }
            },
            "type": "scattermapbox"
           }
          ],
          "scatterpolar": [
           {
            "marker": {
             "colorbar": {
              "outlinewidth": 0,
              "ticks": ""
             }
            },
            "type": "scatterpolar"
           }
          ],
          "scatterpolargl": [
           {
            "marker": {
             "colorbar": {
              "outlinewidth": 0,
              "ticks": ""
             }
            },
            "type": "scatterpolargl"
           }
          ],
          "scatterternary": [
           {
            "marker": {
             "colorbar": {
              "outlinewidth": 0,
              "ticks": ""
             }
            },
            "type": "scatterternary"
           }
          ],
          "surface": [
           {
            "colorbar": {
             "outlinewidth": 0,
             "ticks": ""
            },
            "colorscale": [
             [
              0,
              "#0d0887"
             ],
             [
              0.1111111111111111,
              "#46039f"
             ],
             [
              0.2222222222222222,
              "#7201a8"
             ],
             [
              0.3333333333333333,
              "#9c179e"
             ],
             [
              0.4444444444444444,
              "#bd3786"
             ],
             [
              0.5555555555555556,
              "#d8576b"
             ],
             [
              0.6666666666666666,
              "#ed7953"
             ],
             [
              0.7777777777777778,
              "#fb9f3a"
             ],
             [
              0.8888888888888888,
              "#fdca26"
             ],
             [
              1,
              "#f0f921"
             ]
            ],
            "type": "surface"
           }
          ],
          "table": [
           {
            "cells": {
             "fill": {
              "color": "#EBF0F8"
             },
             "line": {
              "color": "white"
             }
            },
            "header": {
             "fill": {
              "color": "#C8D4E3"
             },
             "line": {
              "color": "white"
             }
            },
            "type": "table"
           }
          ]
         },
         "layout": {
          "annotationdefaults": {
           "arrowcolor": "#2a3f5f",
           "arrowhead": 0,
           "arrowwidth": 1
          },
          "autotypenumbers": "strict",
          "coloraxis": {
           "colorbar": {
            "outlinewidth": 0,
            "ticks": ""
           }
          },
          "colorscale": {
           "diverging": [
            [
             0,
             "#8e0152"
            ],
            [
             0.1,
             "#c51b7d"
            ],
            [
             0.2,
             "#de77ae"
            ],
            [
             0.3,
             "#f1b6da"
            ],
            [
             0.4,
             "#fde0ef"
            ],
            [
             0.5,
             "#f7f7f7"
            ],
            [
             0.6,
             "#e6f5d0"
            ],
            [
             0.7,
             "#b8e186"
            ],
            [
             0.8,
             "#7fbc41"
            ],
            [
             0.9,
             "#4d9221"
            ],
            [
             1,
             "#276419"
            ]
           ],
           "sequential": [
            [
             0,
             "#0d0887"
            ],
            [
             0.1111111111111111,
             "#46039f"
            ],
            [
             0.2222222222222222,
             "#7201a8"
            ],
            [
             0.3333333333333333,
             "#9c179e"
            ],
            [
             0.4444444444444444,
             "#bd3786"
            ],
            [
             0.5555555555555556,
             "#d8576b"
            ],
            [
             0.6666666666666666,
             "#ed7953"
            ],
            [
             0.7777777777777778,
             "#fb9f3a"
            ],
            [
             0.8888888888888888,
             "#fdca26"
            ],
            [
             1,
             "#f0f921"
            ]
           ],
           "sequentialminus": [
            [
             0,
             "#0d0887"
            ],
            [
             0.1111111111111111,
             "#46039f"
            ],
            [
             0.2222222222222222,
             "#7201a8"
            ],
            [
             0.3333333333333333,
             "#9c179e"
            ],
            [
             0.4444444444444444,
             "#bd3786"
            ],
            [
             0.5555555555555556,
             "#d8576b"
            ],
            [
             0.6666666666666666,
             "#ed7953"
            ],
            [
             0.7777777777777778,
             "#fb9f3a"
            ],
            [
             0.8888888888888888,
             "#fdca26"
            ],
            [
             1,
             "#f0f921"
            ]
           ]
          },
          "colorway": [
           "#636efa",
           "#EF553B",
           "#00cc96",
           "#ab63fa",
           "#FFA15A",
           "#19d3f3",
           "#FF6692",
           "#B6E880",
           "#FF97FF",
           "#FECB52"
          ],
          "font": {
           "color": "#2a3f5f"
          },
          "geo": {
           "bgcolor": "white",
           "lakecolor": "white",
           "landcolor": "#E5ECF6",
           "showlakes": true,
           "showland": true,
           "subunitcolor": "white"
          },
          "hoverlabel": {
           "align": "left"
          },
          "hovermode": "closest",
          "mapbox": {
           "style": "light"
          },
          "paper_bgcolor": "white",
          "plot_bgcolor": "#E5ECF6",
          "polar": {
           "angularaxis": {
            "gridcolor": "white",
            "linecolor": "white",
            "ticks": ""
           },
           "bgcolor": "#E5ECF6",
           "radialaxis": {
            "gridcolor": "white",
            "linecolor": "white",
            "ticks": ""
           }
          },
          "scene": {
           "xaxis": {
            "backgroundcolor": "#E5ECF6",
            "gridcolor": "white",
            "gridwidth": 2,
            "linecolor": "white",
            "showbackground": true,
            "ticks": "",
            "zerolinecolor": "white"
           },
           "yaxis": {
            "backgroundcolor": "#E5ECF6",
            "gridcolor": "white",
            "gridwidth": 2,
            "linecolor": "white",
            "showbackground": true,
            "ticks": "",
            "zerolinecolor": "white"
           },
           "zaxis": {
            "backgroundcolor": "#E5ECF6",
            "gridcolor": "white",
            "gridwidth": 2,
            "linecolor": "white",
            "showbackground": true,
            "ticks": "",
            "zerolinecolor": "white"
           }
          },
          "shapedefaults": {
           "line": {
            "color": "#2a3f5f"
           }
          },
          "ternary": {
           "aaxis": {
            "gridcolor": "white",
            "linecolor": "white",
            "ticks": ""
           },
           "baxis": {
            "gridcolor": "white",
            "linecolor": "white",
            "ticks": ""
           },
           "bgcolor": "#E5ECF6",
           "caxis": {
            "gridcolor": "white",
            "linecolor": "white",
            "ticks": ""
           }
          },
          "title": {
           "x": 0.05
          },
          "xaxis": {
           "automargin": true,
           "gridcolor": "white",
           "linecolor": "white",
           "ticks": "",
           "title": {
            "standoff": 15
           },
           "zerolinecolor": "white",
           "zerolinewidth": 2
          },
          "yaxis": {
           "automargin": true,
           "gridcolor": "white",
           "linecolor": "white",
           "ticks": "",
           "title": {
            "standoff": 15
           },
           "zerolinecolor": "white",
           "zerolinewidth": 2
          }
         }
        },
        "title": {
         "text": "guest over time"
        },
        "xaxis": {
         "anchor": "y",
         "domain": [
          0,
          1
         ],
         "title": {
          "text": "timestamp"
         }
        },
        "yaxis": {
         "anchor": "x",
         "domain": [
          0,
          1
         ],
         "title": {
          "text": "guest"
         }
        }
       }
      }
     },
     "metadata": {},
     "output_type": "display_data"
    },
    {
     "data": {
      "application/vnd.plotly.v1+json": {
       "config": {
        "plotlyServerURL": "https://plot.ly"
       },
       "data": [
        {
         "hovertemplate": "timestamp=%{x}<br>idle=%{y}<br>cpu=%{marker.color}<extra></extra>",
         "legendgroup": "",
         "marker": {
          "color": [
           5,
           56,
           10,
           90,
           26,
           27,
           100,
           74,
           93,
           28,
           38,
           54,
           9,
           85,
           41,
           106,
           28,
           66,
           94,
           213,
           17,
           64,
           94,
           19,
           46,
           31,
           25,
           66,
           11,
           14,
           83,
           71,
           106,
           66,
           41,
           102,
           37,
           11,
           85,
           85,
           80,
           83,
           7,
           68,
           4,
           4,
           94,
           120,
           106,
           126,
           124,
           9,
           116,
           54,
           89,
           61,
           92,
           116,
           65,
           94,
           76,
           71,
           58,
           38,
           41,
           7,
           69,
           124,
           58,
           96,
           86,
           68,
           3,
           3,
           123,
           80,
           4,
           21,
           55,
           44,
           76,
           4,
           55,
           9,
           67,
           56,
           106,
           66,
           123,
           52,
           9,
           19,
           77,
           37,
           64,
           90,
           88,
           4,
           4,
           19,
           76,
           95,
           55,
           126,
           20,
           100,
           77,
           78,
           92,
           85,
           45,
           34,
           108,
           48,
           112,
           70,
           102,
           37,
           42,
           45,
           75,
           90,
           34,
           20,
           96,
           111,
           109,
           42,
           66,
           7,
           21,
           28,
           96,
           69,
           106,
           51,
           75,
           11,
           86,
           75,
           111,
           88,
           42,
           37,
           81,
           68,
           76,
           14,
           96,
           38,
           45,
           98,
           45,
           66,
           54,
           7,
           76,
           52,
           75,
           100,
           79,
           69,
           92,
           118,
           29,
           109,
           44,
           86,
           101,
           76,
           75,
           75,
           66,
           11,
           73,
           105,
           92,
           124,
           4,
           68,
           75,
           126,
           102,
           94,
           96,
           93,
           66,
           76,
           125,
           44,
           112,
           61,
           94,
           7,
           14,
           95,
           35,
           76,
           114,
           124,
           9,
           37,
           41,
           38,
           95,
           25,
           57,
           66,
           112,
           57,
           67,
           46,
           5,
           84,
           105,
           74,
           107,
           97,
           7,
           64,
           74,
           64,
           58,
           106,
           25,
           86,
           88,
           54,
           83,
           114,
           63,
           10,
           75,
           29,
           36,
           24,
           124,
           35,
           20,
           109,
           18,
           75,
           60,
           122,
           68,
           65,
           13,
           74,
           5,
           207,
           70,
           75,
           64,
           51,
           51,
           67,
           114,
           105,
           92,
           88,
           75,
           102,
           116,
           61,
           88,
           48,
           88,
           46,
           18,
           95,
           89,
           124,
           94,
           17,
           17,
           3,
           68,
           68,
           70,
           84,
           21,
           117,
           125,
           66,
           86,
           31,
           110,
           3,
           88,
           45,
           66,
           38,
           5,
           116,
           17,
           18,
           63,
           14,
           16,
           10,
           46,
           124,
           16,
           72,
           67,
           67,
           75,
           45,
           28,
           44,
           124,
           112,
           122,
           47,
           62,
           109,
           7,
           107,
           5,
           56,
           46
          ],
          "coloraxis": "coloraxis",
          "symbol": "circle"
         },
         "mode": "markers",
         "name": "",
         "orientation": "v",
         "showlegend": false,
         "type": "scatter",
         "x": [
          "11:21:40",
          "11:21:54",
          "11:22:14",
          "11:22:21",
          "11:22:34",
          "11:22:46",
          "11:22:51",
          "11:23:12",
          "11:24:12",
          "11:24:42",
          "11:27:08",
          "11:27:21",
          "11:29:04",
          "11:29:53",
          "11:30:26",
          "11:35:17",
          "11:36:41",
          "11:36:52",
          "11:36:59",
          "11:37:07",
          "11:37:13",
          "11:37:13",
          "11:37:15",
          "11:37:18",
          "11:37:19",
          "11:37:20",
          "11:37:26",
          "11:37:26",
          "11:37:27",
          "11:37:40",
          "11:37:43",
          "11:38:01",
          "11:38:22",
          "11:38:41",
          "11:38:57",
          "11:39:20",
          "11:39:23",
          "11:39:25",
          "11:39:38",
          "11:39:41",
          "11:39:58",
          "11:40:12",
          "11:40:23",
          "11:40:36",
          "11:40:59",
          "11:41:07",
          "11:41:12",
          "11:41:16",
          "11:41:54",
          "11:41:54",
          "11:42:13",
          "11:42:39",
          "11:44:07",
          "11:44:09",
          "11:44:41",
          "11:44:54",
          "11:45:49",
          "11:45:59",
          "11:46:36",
          "11:46:58",
          "11:47:06",
          "11:48:03",
          "11:48:19",
          "11:48:45",
          "11:49:55",
          "11:52:24",
          "11:52:43",
          "11:53:21",
          "11:53:45",
          "11:54:09",
          "11:54:29",
          "11:54:30",
          "11:54:31",
          "11:54:52",
          "11:55:36",
          "11:56:01",
          "11:56:06",
          "11:56:09",
          "11:56:43",
          "11:56:49",
          "11:57:15",
          "11:57:31",
          "11:57:47",
          "11:57:48",
          "11:58:27",
          "11:58:29",
          "11:58:31",
          "11:59:29",
          "11:59:54",
          "12:00:11",
          "12:00:31",
          "12:00:34",
          "12:01:22",
          "12:01:41",
          "12:01:41",
          "12:01:51",
          "12:01:52",
          "12:01:54",
          "12:01:59",
          "12:01:59",
          "12:01:59",
          "12:02:00",
          "12:02:26",
          "12:02:32",
          "12:02:33",
          "12:02:33",
          "12:02:34",
          "12:02:47",
          "12:03:08",
          "12:03:24",
          "12:03:30",
          "12:03:33",
          "12:03:43",
          "12:04:01",
          "12:04:10",
          "12:04:26",
          "12:04:42",
          "12:04:43",
          "12:05:24",
          "12:05:29",
          "12:05:38",
          "12:05:56",
          "12:05:58",
          "12:06:04",
          "12:06:18",
          "12:06:20",
          "12:06:57",
          "12:07:03",
          "12:07:18",
          "12:07:35",
          "12:08:16",
          "12:08:23",
          "12:08:23",
          "12:08:49",
          "12:08:50",
          "12:09:27",
          "12:09:27",
          "12:09:46",
          "12:09:50",
          "12:09:54",
          "12:09:54",
          "12:10:48",
          "12:11:06",
          "12:11:17",
          "12:11:33",
          "12:11:56",
          "12:12:06",
          "12:12:30",
          "12:12:34",
          "12:12:35",
          "12:12:36",
          "12:13:04",
          "12:13:33",
          "12:13:38",
          "12:13:40",
          "12:14:05",
          "12:14:17",
          "12:14:31",
          "12:14:37",
          "12:15:40",
          "12:15:51",
          "12:15:52",
          "12:16:03",
          "12:17:34",
          "12:19:04",
          "12:19:13",
          "12:19:20",
          "12:19:41",
          "12:20:03",
          "12:20:31",
          "12:20:38",
          "12:20:44",
          "12:20:50",
          "12:20:53",
          "12:21:35",
          "12:23:20",
          "12:24:07",
          "12:24:07",
          "12:24:08",
          "12:24:08",
          "12:24:10",
          "12:24:40",
          "12:25:02",
          "12:25:12",
          "12:25:22",
          "12:27:06",
          "12:27:40",
          "12:27:48",
          "12:28:29",
          "12:28:50",
          "12:28:53",
          "12:29:58",
          "12:30:02",
          "12:30:03",
          "12:30:03",
          "12:30:07",
          "12:30:27",
          "12:30:32",
          "12:30:36",
          "12:30:53",
          "12:31:39",
          "12:32:36",
          "12:32:50",
          "12:32:51",
          "12:32:56",
          "12:33:12",
          "12:33:13",
          "12:33:21",
          "12:34:02",
          "12:34:58",
          "12:35:03",
          "12:35:05",
          "12:35:06",
          "12:35:43",
          "12:36:04",
          "12:36:08",
          "12:36:14",
          "12:36:15",
          "12:36:21",
          "12:37:11",
          "12:37:22",
          "12:37:24",
          "12:37:26",
          "12:37:28",
          "12:37:46",
          "12:37:56",
          "12:38:09",
          "12:38:22",
          "12:38:27",
          "12:38:49",
          "12:39:12",
          "12:40:56",
          "12:40:56",
          "12:41:03",
          "12:41:05",
          "12:41:23",
          "12:42:23",
          "12:45:12",
          "12:45:34",
          "12:46:11",
          "12:47:04",
          "12:47:04",
          "12:47:19",
          "12:47:51",
          "12:47:53",
          "12:48:07",
          "12:48:44",
          "12:50:39",
          "12:51:42",
          "12:53:43",
          "12:54:06",
          "12:54:12",
          "12:56:55",
          "12:58:52",
          "12:59:07",
          "13:01:49",
          "13:02:39",
          "13:03:14",
          "13:03:40",
          "13:04:20",
          "13:04:25",
          "13:05:07",
          "13:05:13",
          "13:05:40",
          "13:06:32",
          "13:06:38",
          "13:06:54",
          "13:07:34",
          "13:08:50",
          "13:08:51",
          "13:08:52",
          "13:09:09",
          "13:09:11",
          "13:09:19",
          "13:09:41",
          "13:10:28",
          "13:11:01",
          "13:11:09",
          "13:11:13",
          "13:11:13",
          "13:11:49",
          "13:12:37",
          "13:13:50",
          "13:13:52",
          "13:14:04",
          "13:15:02",
          "13:15:06",
          "13:16:44",
          "13:16:52",
          "13:17:43",
          "13:18:00",
          "13:18:02",
          "13:18:54",
          "13:19:03",
          "13:20:26",
          "13:24:05",
          "13:24:23",
          "13:24:30",
          "13:25:03",
          "13:25:21",
          "13:26:13",
          "13:26:21",
          "13:26:44",
          "13:27:01",
          "13:27:12",
          "13:27:23",
          "13:28:07",
          "13:28:09",
          "13:30:02",
          "13:30:30",
          "13:32:32",
          "13:32:46",
          "13:33:54",
          "13:34:45",
          "13:35:30",
          "13:36:03",
          "13:37:52",
          "13:38:30",
          "13:39:38",
          "13:39:58",
          "13:40:30"
         ],
         "xaxis": "x",
         "y": [
          23.47,
          62.75,
          74,
          80.81,
          52.04,
          24.24,
          68.63,
          50.51,
          81.19,
          57,
          63.27,
          32.67,
          14.85,
          25,
          82.18,
          88.78,
          91,
          34,
          81,
          95,
          72.55,
          39,
          90.1,
          90.2,
          42,
          81.25,
          50.98,
          88.54,
          60,
          65.66,
          85.71,
          25.49,
          48,
          81,
          29.29,
          56.31,
          64,
          73.47,
          78.12,
          39,
          76,
          85.86,
          87,
          77.55,
          86,
          60.61,
          85.86,
          56,
          92.93,
          80.21,
          71.57,
          83.51,
          82.83,
          44.44,
          90.2,
          52.48,
          74,
          86.6,
          79.59,
          77.78,
          87.88,
          86.87,
          76,
          86.87,
          78.57,
          92.86,
          85.71,
          82.65,
          89.11,
          94,
          92.71,
          89.11,
          83.17,
          91,
          90.1,
          80,
          94.95,
          54.08,
          66.32,
          78.22,
          76.77,
          89.9,
          77.67,
          54.46,
          93.07,
          89.9,
          47,
          73,
          88.12,
          71.43,
          74.26,
          76.24,
          71.72,
          68.06,
          41.67,
          25.93,
          86.02,
          24.05,
          86.6,
          81.52,
          40.98,
          89.8,
          93.94,
          82,
          39.39,
          56.57,
          80.61,
          58.16,
          82,
          69.39,
          57.45,
          89.47,
          63,
          85.71,
          85,
          77.32,
          71.43,
          88,
          91,
          50.98,
          86,
          68.37,
          91.92,
          45.83,
          94.06,
          27.27,
          91.92,
          68.75,
          90.91,
          67.39,
          36.63,
          27.84,
          71.72,
          46.39,
          72.34,
          25.77,
          47,
          26.53,
          79.8,
          77.55,
          55.67,
          85.15,
          66,
          87.23,
          71.43,
          93.88,
          50,
          88,
          94.95,
          90,
          85.71,
          68.69,
          62.5,
          88.78,
          66.32,
          67.71,
          67.01,
          70.83,
          84.38,
          58.16,
          87.63,
          73.2,
          19,
          36.27,
          67.35,
          85.71,
          85.57,
          36.63,
          65.93,
          70.21,
          87.76,
          18.89,
          92.78,
          83.87,
          48.35,
          74.49,
          83,
          17.17,
          29.47,
          44,
          79.35,
          71.72,
          70.97,
          83.17,
          53.47,
          17,
          63.73,
          81,
          24.75,
          50.98,
          28,
          40.74,
          89.01,
          68.97,
          59.26,
          32.89,
          52.56,
          90.91,
          79.38,
          83.84,
          30.85,
          87.88,
          76.53,
          59.6,
          91,
          84.16,
          76.47,
          84,
          63.37,
          86.73,
          80.61,
          89.9,
          65.93,
          60.82,
          23.53,
          69.39,
          71.57,
          73.47,
          87.88,
          71,
          82.18,
          41.58,
          58.16,
          45.54,
          90,
          82,
          60,
          94.9,
          90.82,
          89.25,
          92,
          64.36,
          89,
          62.5,
          80,
          77.32,
          71.13,
          65.66,
          58,
          92,
          94,
          17.17,
          48.48,
          76.14,
          67,
          85,
          66.67,
          85.86,
          94.9,
          52,
          55.88,
          77.08,
          48.98,
          94.9,
          81.05,
          49,
          43.3,
          74.23,
          87.23,
          49,
          95,
          60.78,
          92.93,
          53.47,
          87.13,
          90.91,
          73.47,
          70.71,
          86.32,
          77.06,
          87.76,
          81.82,
          93,
          86.73,
          88.12,
          94.85,
          90,
          77.23,
          87.38,
          87.76,
          38,
          50.5,
          87.76,
          50.52,
          77.55,
          66.33,
          19.57,
          95,
          88,
          83.84,
          90.1,
          91.75,
          89.36,
          87.23,
          82.11,
          37.5,
          82.18,
          89.36,
          42.86,
          50,
          80.65,
          52.17,
          77.5,
          63.27,
          92,
          78.43,
          58.16,
          31.63,
          54.55,
          31.68,
          35.64,
          46.53,
          41.84,
          24.75,
          68.69,
          52.48,
          93.07,
          49,
          83,
          80,
          88.78
         ],
         "yaxis": "y"
        }
       ],
       "layout": {
        "coloraxis": {
         "colorbar": {
          "title": {
           "text": "cpu"
          }
         },
         "colorscale": [
          [
           0,
           "#0d0887"
          ],
          [
           0.1111111111111111,
           "#46039f"
          ],
          [
           0.2222222222222222,
           "#7201a8"
          ],
          [
           0.3333333333333333,
           "#9c179e"
          ],
          [
           0.4444444444444444,
           "#bd3786"
          ],
          [
           0.5555555555555556,
           "#d8576b"
          ],
          [
           0.6666666666666666,
           "#ed7953"
          ],
          [
           0.7777777777777778,
           "#fb9f3a"
          ],
          [
           0.8888888888888888,
           "#fdca26"
          ],
          [
           1,
           "#f0f921"
          ]
         ]
        },
        "legend": {
         "tracegroupgap": 0
        },
        "template": {
         "data": {
          "bar": [
           {
            "error_x": {
             "color": "#2a3f5f"
            },
            "error_y": {
             "color": "#2a3f5f"
            },
            "marker": {
             "line": {
              "color": "#E5ECF6",
              "width": 0.5
             },
             "pattern": {
              "fillmode": "overlay",
              "size": 10,
              "solidity": 0.2
             }
            },
            "type": "bar"
           }
          ],
          "barpolar": [
           {
            "marker": {
             "line": {
              "color": "#E5ECF6",
              "width": 0.5
             },
             "pattern": {
              "fillmode": "overlay",
              "size": 10,
              "solidity": 0.2
             }
            },
            "type": "barpolar"
           }
          ],
          "carpet": [
           {
            "aaxis": {
             "endlinecolor": "#2a3f5f",
             "gridcolor": "white",
             "linecolor": "white",
             "minorgridcolor": "white",
             "startlinecolor": "#2a3f5f"
            },
            "baxis": {
             "endlinecolor": "#2a3f5f",
             "gridcolor": "white",
             "linecolor": "white",
             "minorgridcolor": "white",
             "startlinecolor": "#2a3f5f"
            },
            "type": "carpet"
           }
          ],
          "choropleth": [
           {
            "colorbar": {
             "outlinewidth": 0,
             "ticks": ""
            },
            "type": "choropleth"
           }
          ],
          "contour": [
           {
            "colorbar": {
             "outlinewidth": 0,
             "ticks": ""
            },
            "colorscale": [
             [
              0,
              "#0d0887"
             ],
             [
              0.1111111111111111,
              "#46039f"
             ],
             [
              0.2222222222222222,
              "#7201a8"
             ],
             [
              0.3333333333333333,
              "#9c179e"
             ],
             [
              0.4444444444444444,
              "#bd3786"
             ],
             [
              0.5555555555555556,
              "#d8576b"
             ],
             [
              0.6666666666666666,
              "#ed7953"
             ],
             [
              0.7777777777777778,
              "#fb9f3a"
             ],
             [
              0.8888888888888888,
              "#fdca26"
             ],
             [
              1,
              "#f0f921"
             ]
            ],
            "type": "contour"
           }
          ],
          "contourcarpet": [
           {
            "colorbar": {
             "outlinewidth": 0,
             "ticks": ""
            },
            "type": "contourcarpet"
           }
          ],
          "heatmap": [
           {
            "colorbar": {
             "outlinewidth": 0,
             "ticks": ""
            },
            "colorscale": [
             [
              0,
              "#0d0887"
             ],
             [
              0.1111111111111111,
              "#46039f"
             ],
             [
              0.2222222222222222,
              "#7201a8"
             ],
             [
              0.3333333333333333,
              "#9c179e"
             ],
             [
              0.4444444444444444,
              "#bd3786"
             ],
             [
              0.5555555555555556,
              "#d8576b"
             ],
             [
              0.6666666666666666,
              "#ed7953"
             ],
             [
              0.7777777777777778,
              "#fb9f3a"
             ],
             [
              0.8888888888888888,
              "#fdca26"
             ],
             [
              1,
              "#f0f921"
             ]
            ],
            "type": "heatmap"
           }
          ],
          "heatmapgl": [
           {
            "colorbar": {
             "outlinewidth": 0,
             "ticks": ""
            },
            "colorscale": [
             [
              0,
              "#0d0887"
             ],
             [
              0.1111111111111111,
              "#46039f"
             ],
             [
              0.2222222222222222,
              "#7201a8"
             ],
             [
              0.3333333333333333,
              "#9c179e"
             ],
             [
              0.4444444444444444,
              "#bd3786"
             ],
             [
              0.5555555555555556,
              "#d8576b"
             ],
             [
              0.6666666666666666,
              "#ed7953"
             ],
             [
              0.7777777777777778,
              "#fb9f3a"
             ],
             [
              0.8888888888888888,
              "#fdca26"
             ],
             [
              1,
              "#f0f921"
             ]
            ],
            "type": "heatmapgl"
           }
          ],
          "histogram": [
           {
            "marker": {
             "pattern": {
              "fillmode": "overlay",
              "size": 10,
              "solidity": 0.2
             }
            },
            "type": "histogram"
           }
          ],
          "histogram2d": [
           {
            "colorbar": {
             "outlinewidth": 0,
             "ticks": ""
            },
            "colorscale": [
             [
              0,
              "#0d0887"
             ],
             [
              0.1111111111111111,
              "#46039f"
             ],
             [
              0.2222222222222222,
              "#7201a8"
             ],
             [
              0.3333333333333333,
              "#9c179e"
             ],
             [
              0.4444444444444444,
              "#bd3786"
             ],
             [
              0.5555555555555556,
              "#d8576b"
             ],
             [
              0.6666666666666666,
              "#ed7953"
             ],
             [
              0.7777777777777778,
              "#fb9f3a"
             ],
             [
              0.8888888888888888,
              "#fdca26"
             ],
             [
              1,
              "#f0f921"
             ]
            ],
            "type": "histogram2d"
           }
          ],
          "histogram2dcontour": [
           {
            "colorbar": {
             "outlinewidth": 0,
             "ticks": ""
            },
            "colorscale": [
             [
              0,
              "#0d0887"
             ],
             [
              0.1111111111111111,
              "#46039f"
             ],
             [
              0.2222222222222222,
              "#7201a8"
             ],
             [
              0.3333333333333333,
              "#9c179e"
             ],
             [
              0.4444444444444444,
              "#bd3786"
             ],
             [
              0.5555555555555556,
              "#d8576b"
             ],
             [
              0.6666666666666666,
              "#ed7953"
             ],
             [
              0.7777777777777778,
              "#fb9f3a"
             ],
             [
              0.8888888888888888,
              "#fdca26"
             ],
             [
              1,
              "#f0f921"
             ]
            ],
            "type": "histogram2dcontour"
           }
          ],
          "mesh3d": [
           {
            "colorbar": {
             "outlinewidth": 0,
             "ticks": ""
            },
            "type": "mesh3d"
           }
          ],
          "parcoords": [
           {
            "line": {
             "colorbar": {
              "outlinewidth": 0,
              "ticks": ""
             }
            },
            "type": "parcoords"
           }
          ],
          "pie": [
           {
            "automargin": true,
            "type": "pie"
           }
          ],
          "scatter": [
           {
            "fillpattern": {
             "fillmode": "overlay",
             "size": 10,
             "solidity": 0.2
            },
            "type": "scatter"
           }
          ],
          "scatter3d": [
           {
            "line": {
             "colorbar": {
              "outlinewidth": 0,
              "ticks": ""
             }
            },
            "marker": {
             "colorbar": {
              "outlinewidth": 0,
              "ticks": ""
             }
            },
            "type": "scatter3d"
           }
          ],
          "scattercarpet": [
           {
            "marker": {
             "colorbar": {
              "outlinewidth": 0,
              "ticks": ""
             }
            },
            "type": "scattercarpet"
           }
          ],
          "scattergeo": [
           {
            "marker": {
             "colorbar": {
              "outlinewidth": 0,
              "ticks": ""
             }
            },
            "type": "scattergeo"
           }
          ],
          "scattergl": [
           {
            "marker": {
             "colorbar": {
              "outlinewidth": 0,
              "ticks": ""
             }
            },
            "type": "scattergl"
           }
          ],
          "scattermapbox": [
           {
            "marker": {
             "colorbar": {
              "outlinewidth": 0,
              "ticks": ""
             }
            },
            "type": "scattermapbox"
           }
          ],
          "scatterpolar": [
           {
            "marker": {
             "colorbar": {
              "outlinewidth": 0,
              "ticks": ""
             }
            },
            "type": "scatterpolar"
           }
          ],
          "scatterpolargl": [
           {
            "marker": {
             "colorbar": {
              "outlinewidth": 0,
              "ticks": ""
             }
            },
            "type": "scatterpolargl"
           }
          ],
          "scatterternary": [
           {
            "marker": {
             "colorbar": {
              "outlinewidth": 0,
              "ticks": ""
             }
            },
            "type": "scatterternary"
           }
          ],
          "surface": [
           {
            "colorbar": {
             "outlinewidth": 0,
             "ticks": ""
            },
            "colorscale": [
             [
              0,
              "#0d0887"
             ],
             [
              0.1111111111111111,
              "#46039f"
             ],
             [
              0.2222222222222222,
              "#7201a8"
             ],
             [
              0.3333333333333333,
              "#9c179e"
             ],
             [
              0.4444444444444444,
              "#bd3786"
             ],
             [
              0.5555555555555556,
              "#d8576b"
             ],
             [
              0.6666666666666666,
              "#ed7953"
             ],
             [
              0.7777777777777778,
              "#fb9f3a"
             ],
             [
              0.8888888888888888,
              "#fdca26"
             ],
             [
              1,
              "#f0f921"
             ]
            ],
            "type": "surface"
           }
          ],
          "table": [
           {
            "cells": {
             "fill": {
              "color": "#EBF0F8"
             },
             "line": {
              "color": "white"
             }
            },
            "header": {
             "fill": {
              "color": "#C8D4E3"
             },
             "line": {
              "color": "white"
             }
            },
            "type": "table"
           }
          ]
         },
         "layout": {
          "annotationdefaults": {
           "arrowcolor": "#2a3f5f",
           "arrowhead": 0,
           "arrowwidth": 1
          },
          "autotypenumbers": "strict",
          "coloraxis": {
           "colorbar": {
            "outlinewidth": 0,
            "ticks": ""
           }
          },
          "colorscale": {
           "diverging": [
            [
             0,
             "#8e0152"
            ],
            [
             0.1,
             "#c51b7d"
            ],
            [
             0.2,
             "#de77ae"
            ],
            [
             0.3,
             "#f1b6da"
            ],
            [
             0.4,
             "#fde0ef"
            ],
            [
             0.5,
             "#f7f7f7"
            ],
            [
             0.6,
             "#e6f5d0"
            ],
            [
             0.7,
             "#b8e186"
            ],
            [
             0.8,
             "#7fbc41"
            ],
            [
             0.9,
             "#4d9221"
            ],
            [
             1,
             "#276419"
            ]
           ],
           "sequential": [
            [
             0,
             "#0d0887"
            ],
            [
             0.1111111111111111,
             "#46039f"
            ],
            [
             0.2222222222222222,
             "#7201a8"
            ],
            [
             0.3333333333333333,
             "#9c179e"
            ],
            [
             0.4444444444444444,
             "#bd3786"
            ],
            [
             0.5555555555555556,
             "#d8576b"
            ],
            [
             0.6666666666666666,
             "#ed7953"
            ],
            [
             0.7777777777777778,
             "#fb9f3a"
            ],
            [
             0.8888888888888888,
             "#fdca26"
            ],
            [
             1,
             "#f0f921"
            ]
           ],
           "sequentialminus": [
            [
             0,
             "#0d0887"
            ],
            [
             0.1111111111111111,
             "#46039f"
            ],
            [
             0.2222222222222222,
             "#7201a8"
            ],
            [
             0.3333333333333333,
             "#9c179e"
            ],
            [
             0.4444444444444444,
             "#bd3786"
            ],
            [
             0.5555555555555556,
             "#d8576b"
            ],
            [
             0.6666666666666666,
             "#ed7953"
            ],
            [
             0.7777777777777778,
             "#fb9f3a"
            ],
            [
             0.8888888888888888,
             "#fdca26"
            ],
            [
             1,
             "#f0f921"
            ]
           ]
          },
          "colorway": [
           "#636efa",
           "#EF553B",
           "#00cc96",
           "#ab63fa",
           "#FFA15A",
           "#19d3f3",
           "#FF6692",
           "#B6E880",
           "#FF97FF",
           "#FECB52"
          ],
          "font": {
           "color": "#2a3f5f"
          },
          "geo": {
           "bgcolor": "white",
           "lakecolor": "white",
           "landcolor": "#E5ECF6",
           "showlakes": true,
           "showland": true,
           "subunitcolor": "white"
          },
          "hoverlabel": {
           "align": "left"
          },
          "hovermode": "closest",
          "mapbox": {
           "style": "light"
          },
          "paper_bgcolor": "white",
          "plot_bgcolor": "#E5ECF6",
          "polar": {
           "angularaxis": {
            "gridcolor": "white",
            "linecolor": "white",
            "ticks": ""
           },
           "bgcolor": "#E5ECF6",
           "radialaxis": {
            "gridcolor": "white",
            "linecolor": "white",
            "ticks": ""
           }
          },
          "scene": {
           "xaxis": {
            "backgroundcolor": "#E5ECF6",
            "gridcolor": "white",
            "gridwidth": 2,
            "linecolor": "white",
            "showbackground": true,
            "ticks": "",
            "zerolinecolor": "white"
           },
           "yaxis": {
            "backgroundcolor": "#E5ECF6",
            "gridcolor": "white",
            "gridwidth": 2,
            "linecolor": "white",
            "showbackground": true,
            "ticks": "",
            "zerolinecolor": "white"
           },
           "zaxis": {
            "backgroundcolor": "#E5ECF6",
            "gridcolor": "white",
            "gridwidth": 2,
            "linecolor": "white",
            "showbackground": true,
            "ticks": "",
            "zerolinecolor": "white"
           }
          },
          "shapedefaults": {
           "line": {
            "color": "#2a3f5f"
           }
          },
          "ternary": {
           "aaxis": {
            "gridcolor": "white",
            "linecolor": "white",
            "ticks": ""
           },
           "baxis": {
            "gridcolor": "white",
            "linecolor": "white",
            "ticks": ""
           },
           "bgcolor": "#E5ECF6",
           "caxis": {
            "gridcolor": "white",
            "linecolor": "white",
            "ticks": ""
           }
          },
          "title": {
           "x": 0.05
          },
          "xaxis": {
           "automargin": true,
           "gridcolor": "white",
           "linecolor": "white",
           "ticks": "",
           "title": {
            "standoff": 15
           },
           "zerolinecolor": "white",
           "zerolinewidth": 2
          },
          "yaxis": {
           "automargin": true,
           "gridcolor": "white",
           "linecolor": "white",
           "ticks": "",
           "title": {
            "standoff": 15
           },
           "zerolinecolor": "white",
           "zerolinewidth": 2
          }
         }
        },
        "title": {
         "text": "idle over time"
        },
        "xaxis": {
         "anchor": "y",
         "domain": [
          0,
          1
         ],
         "title": {
          "text": "timestamp"
         }
        },
        "yaxis": {
         "anchor": "x",
         "domain": [
          0,
          1
         ],
         "title": {
          "text": "idle"
         }
        }
       }
      }
     },
     "metadata": {},
     "output_type": "display_data"
    }
   ],
   "source": [
    "df = df.sort_values(by='timestamp')\n",
    "for col in df.columns[2:]:\n",
    "    fig = px.scatter(data_frame=df, x='timestamp', y=col, color='cpu', title=col +' over time')\n",
    "    fig.show()"
   ]
  },
  {
   "cell_type": "code",
   "execution_count": 35,
   "metadata": {},
   "outputs": [
    {
     "data": {
      "application/vnd.plotly.v1+json": {
       "config": {
        "plotlyServerURL": "https://plot.ly"
       },
       "data": [
        {
         "alignmentgroup": "True",
         "bingroup": "x",
         "histfunc": "sum",
         "hovertemplate": "timestamp=%{x}<br>sum of usr=%{y}<extra></extra>",
         "legendgroup": "",
         "marker": {
          "color": "#636efa",
          "pattern": {
           "shape": ""
          }
         },
         "name": "",
         "offsetgroup": "",
         "orientation": "v",
         "showlegend": false,
         "type": "histogram",
         "x": [
          "11:21:40",
          "11:21:54",
          "11:22:14",
          "11:22:21",
          "11:22:34",
          "11:22:46",
          "11:22:51",
          "11:23:12",
          "11:24:12",
          "11:24:42",
          "11:27:08",
          "11:27:21",
          "11:29:04",
          "11:29:53",
          "11:30:26",
          "11:35:17",
          "11:36:41",
          "11:36:52",
          "11:36:59",
          "11:37:07",
          "11:37:13",
          "11:37:13",
          "11:37:15",
          "11:37:18",
          "11:37:19",
          "11:37:20",
          "11:37:26",
          "11:37:26",
          "11:37:27",
          "11:37:40",
          "11:37:43",
          "11:38:01",
          "11:38:22",
          "11:38:41",
          "11:38:57",
          "11:39:20",
          "11:39:23",
          "11:39:25",
          "11:39:38",
          "11:39:41",
          "11:39:58",
          "11:40:12",
          "11:40:23",
          "11:40:36",
          "11:40:59",
          "11:41:07",
          "11:41:12",
          "11:41:16",
          "11:41:54",
          "11:41:54",
          "11:42:13",
          "11:42:39",
          "11:44:07",
          "11:44:09",
          "11:44:41",
          "11:44:54",
          "11:45:49",
          "11:45:59",
          "11:46:36",
          "11:46:58",
          "11:47:06",
          "11:48:03",
          "11:48:19",
          "11:48:45",
          "11:49:55",
          "11:52:24",
          "11:52:43",
          "11:53:21",
          "11:53:45",
          "11:54:09",
          "11:54:29",
          "11:54:30",
          "11:54:31",
          "11:54:52",
          "11:55:36",
          "11:56:01",
          "11:56:06",
          "11:56:09",
          "11:56:43",
          "11:56:49",
          "11:57:15",
          "11:57:31",
          "11:57:47",
          "11:57:48",
          "11:58:27",
          "11:58:29",
          "11:58:31",
          "11:59:29",
          "11:59:54",
          "12:00:11",
          "12:00:31",
          "12:00:34",
          "12:01:22",
          "12:01:41",
          "12:01:41",
          "12:01:51",
          "12:01:52",
          "12:01:54",
          "12:01:59",
          "12:01:59",
          "12:01:59",
          "12:02:00",
          "12:02:26",
          "12:02:32",
          "12:02:33",
          "12:02:33",
          "12:02:34",
          "12:02:47",
          "12:03:08",
          "12:03:24",
          "12:03:30",
          "12:03:33",
          "12:03:43",
          "12:04:01",
          "12:04:10",
          "12:04:26",
          "12:04:42",
          "12:04:43",
          "12:05:24",
          "12:05:29",
          "12:05:38",
          "12:05:56",
          "12:05:58",
          "12:06:04",
          "12:06:18",
          "12:06:20",
          "12:06:57",
          "12:07:03",
          "12:07:18",
          "12:07:35",
          "12:08:16",
          "12:08:23",
          "12:08:23",
          "12:08:49",
          "12:08:50",
          "12:09:27",
          "12:09:27",
          "12:09:46",
          "12:09:50",
          "12:09:54",
          "12:09:54",
          "12:10:48",
          "12:11:06",
          "12:11:17",
          "12:11:33",
          "12:11:56",
          "12:12:06",
          "12:12:30",
          "12:12:34",
          "12:12:35",
          "12:12:36",
          "12:13:04",
          "12:13:33",
          "12:13:38",
          "12:13:40",
          "12:14:05",
          "12:14:17",
          "12:14:31",
          "12:14:37",
          "12:15:40",
          "12:15:51",
          "12:15:52",
          "12:16:03",
          "12:17:34",
          "12:19:04",
          "12:19:13",
          "12:19:20",
          "12:19:41",
          "12:20:03",
          "12:20:31",
          "12:20:38",
          "12:20:44",
          "12:20:50",
          "12:20:53",
          "12:21:35",
          "12:23:20",
          "12:24:07",
          "12:24:07",
          "12:24:08",
          "12:24:08",
          "12:24:10",
          "12:24:40",
          "12:25:02",
          "12:25:12",
          "12:25:22",
          "12:27:06",
          "12:27:40",
          "12:27:48",
          "12:28:29",
          "12:28:50",
          "12:28:53",
          "12:29:58",
          "12:30:02",
          "12:30:03",
          "12:30:03",
          "12:30:07",
          "12:30:27",
          "12:30:32",
          "12:30:36",
          "12:30:53",
          "12:31:39",
          "12:32:36",
          "12:32:50",
          "12:32:51",
          "12:32:56",
          "12:33:12",
          "12:33:13",
          "12:33:21",
          "12:34:02",
          "12:34:58",
          "12:35:03",
          "12:35:05",
          "12:35:06",
          "12:35:43",
          "12:36:04",
          "12:36:08",
          "12:36:14",
          "12:36:15",
          "12:36:21",
          "12:37:11",
          "12:37:22",
          "12:37:24",
          "12:37:26",
          "12:37:28",
          "12:37:46",
          "12:37:56",
          "12:38:09",
          "12:38:22",
          "12:38:27",
          "12:38:49",
          "12:39:12",
          "12:40:56",
          "12:40:56",
          "12:41:03",
          "12:41:05",
          "12:41:23",
          "12:42:23",
          "12:45:12",
          "12:45:34",
          "12:46:11",
          "12:47:04",
          "12:47:04",
          "12:47:19",
          "12:47:51",
          "12:47:53",
          "12:48:07",
          "12:48:44",
          "12:50:39",
          "12:51:42",
          "12:53:43",
          "12:54:06",
          "12:54:12",
          "12:56:55",
          "12:58:52",
          "12:59:07",
          "13:01:49",
          "13:02:39",
          "13:03:14",
          "13:03:40",
          "13:04:20",
          "13:04:25",
          "13:05:07",
          "13:05:13",
          "13:05:40",
          "13:06:32",
          "13:06:38",
          "13:06:54",
          "13:07:34",
          "13:08:50",
          "13:08:51",
          "13:08:52",
          "13:09:09",
          "13:09:11",
          "13:09:19",
          "13:09:41",
          "13:10:28",
          "13:11:01",
          "13:11:09",
          "13:11:13",
          "13:11:13",
          "13:11:49",
          "13:12:37",
          "13:13:50",
          "13:13:52",
          "13:14:04",
          "13:15:02",
          "13:15:06",
          "13:16:44",
          "13:16:52",
          "13:17:43",
          "13:18:00",
          "13:18:02",
          "13:18:54",
          "13:19:03",
          "13:20:26",
          "13:24:05",
          "13:24:23",
          "13:24:30",
          "13:25:03",
          "13:25:21",
          "13:26:13",
          "13:26:21",
          "13:26:44",
          "13:27:01",
          "13:27:12",
          "13:27:23",
          "13:28:07",
          "13:28:09",
          "13:30:02",
          "13:30:30",
          "13:32:32",
          "13:32:46",
          "13:33:54",
          "13:34:45",
          "13:35:30",
          "13:36:03",
          "13:37:52",
          "13:38:30",
          "13:39:38",
          "13:39:58",
          "13:40:30"
         ],
         "xaxis": "x",
         "y": [
          1.02,
          0.98,
          1,
          1.01,
          1.02,
          1.01,
          0.98,
          1.01,
          0.99,
          1,
          1.02,
          0.99,
          0.99,
          1,
          0.99,
          1.02,
          1,
          1,
          1,
          1,
          0.98,
          4,
          0.99,
          0.98,
          6,
          1.04,
          8.82,
          2.08,
          1,
          1.01,
          0.95,
          0.98,
          1,
          1,
          2.02,
          25.24,
          1,
          1.02,
          1.04,
          1,
          1,
          2.02,
          1,
          1.02,
          2,
          1.01,
          2.02,
          24,
          3.12,
          1.01,
          3.92,
          1.03,
          2.02,
          1.01,
          0.98,
          0.99,
          1,
          1.03,
          1.02,
          1.01,
          1.01,
          1.01,
          1,
          1.01,
          1.02,
          1.02,
          2.04,
          1.02,
          0.99,
          1,
          1.04,
          0.99,
          0.99,
          1,
          0.99,
          1.05,
          1.01,
          1.02,
          1.05,
          0.99,
          9.09,
          1.01,
          0.97,
          0.99,
          0.99,
          1.01,
          1,
          1,
          0.99,
          2.04,
          0.99,
          0.99,
          1.01,
          1.39,
          1.39,
          1.23,
          1.08,
          1.27,
          1.64,
          1.09,
          1.03,
          1.02,
          1.01,
          1,
          1.01,
          1.01,
          1.02,
          1.02,
          1,
          1.02,
          1.06,
          1.05,
          1,
          1.1,
          1,
          3.09,
          1.02,
          2,
          1,
          0.98,
          1,
          1.02,
          1.01,
          1.04,
          0.99,
          7.79,
          1.01,
          1.04,
          1.01,
          1.09,
          0.99,
          1.03,
          1.01,
          1.03,
          1.06,
          1.03,
          1,
          19.39,
          2.02,
          1.03,
          1.02,
          2.97,
          2,
          1.06,
          1.02,
          1.02,
          1,
          1,
          1.01,
          1,
          1.02,
          5.05,
          4.17,
          2.04,
          1.05,
          1.04,
          1.03,
          1.04,
          1.04,
          3.06,
          1.03,
          1.03,
          1,
          0.98,
          1.02,
          1.02,
          6.19,
          0.99,
          7.69,
          1.06,
          1.02,
          1.11,
          1.03,
          3.23,
          1.1,
          1.02,
          1,
          1.01,
          1.05,
          1,
          1.09,
          1.01,
          1.08,
          0.99,
          0.99,
          1,
          0.98,
          1,
          0.99,
          0.98,
          1,
          1.23,
          1.1,
          2.3,
          1.23,
          1.32,
          1.28,
          1.01,
          1.03,
          1.01,
          1.06,
          1.01,
          1.02,
          1.01,
          1,
          0.99,
          0.98,
          1,
          0.99,
          1.02,
          1.02,
          1.01,
          1.1,
          1.03,
          0.98,
          1.02,
          0.98,
          1.02,
          1.01,
          1,
          1.98,
          0.99,
          1.02,
          11.88,
          1,
          2,
          1,
          1.02,
          1.02,
          1.08,
          1,
          0.99,
          2,
          2.88,
          0.95,
          1.03,
          1.03,
          1.01,
          1,
          1,
          1.01,
          1,
          1.01,
          3.41,
          3,
          1,
          1.01,
          1.01,
          1.02,
          2,
          0.98,
          1.04,
          1.02,
          1.02,
          1.05,
          1,
          1.03,
          1.03,
          1.06,
          1,
          1,
          0.98,
          1.01,
          1.98,
          0.99,
          1.01,
          1.02,
          1.01,
          2.11,
          1.83,
          2.04,
          1.01,
          1,
          2.04,
          0.99,
          1.03,
          3,
          2.97,
          1.94,
          2.04,
          1,
          0.99,
          2.04,
          3.09,
          1.02,
          6.12,
          1.09,
          1,
          1,
          1.01,
          0.99,
          1.03,
          1.06,
          1.06,
          2.11,
          1.04,
          0.99,
          1.06,
          1.19,
          1.04,
          2.15,
          1.09,
          2.5,
          1.02,
          1,
          0.98,
          1.02,
          1.02,
          1.01,
          0.99,
          0.99,
          0.99,
          4.08,
          0.99,
          1.01,
          0.99,
          0.99,
          1,
          2,
          1,
          1.02
         ],
         "yaxis": "y"
        }
       ],
       "layout": {
        "barmode": "relative",
        "legend": {
         "tracegroupgap": 0
        },
        "template": {
         "data": {
          "bar": [
           {
            "error_x": {
             "color": "#2a3f5f"
            },
            "error_y": {
             "color": "#2a3f5f"
            },
            "marker": {
             "line": {
              "color": "#E5ECF6",
              "width": 0.5
             },
             "pattern": {
              "fillmode": "overlay",
              "size": 10,
              "solidity": 0.2
             }
            },
            "type": "bar"
           }
          ],
          "barpolar": [
           {
            "marker": {
             "line": {
              "color": "#E5ECF6",
              "width": 0.5
             },
             "pattern": {
              "fillmode": "overlay",
              "size": 10,
              "solidity": 0.2
             }
            },
            "type": "barpolar"
           }
          ],
          "carpet": [
           {
            "aaxis": {
             "endlinecolor": "#2a3f5f",
             "gridcolor": "white",
             "linecolor": "white",
             "minorgridcolor": "white",
             "startlinecolor": "#2a3f5f"
            },
            "baxis": {
             "endlinecolor": "#2a3f5f",
             "gridcolor": "white",
             "linecolor": "white",
             "minorgridcolor": "white",
             "startlinecolor": "#2a3f5f"
            },
            "type": "carpet"
           }
          ],
          "choropleth": [
           {
            "colorbar": {
             "outlinewidth": 0,
             "ticks": ""
            },
            "type": "choropleth"
           }
          ],
          "contour": [
           {
            "colorbar": {
             "outlinewidth": 0,
             "ticks": ""
            },
            "colorscale": [
             [
              0,
              "#0d0887"
             ],
             [
              0.1111111111111111,
              "#46039f"
             ],
             [
              0.2222222222222222,
              "#7201a8"
             ],
             [
              0.3333333333333333,
              "#9c179e"
             ],
             [
              0.4444444444444444,
              "#bd3786"
             ],
             [
              0.5555555555555556,
              "#d8576b"
             ],
             [
              0.6666666666666666,
              "#ed7953"
             ],
             [
              0.7777777777777778,
              "#fb9f3a"
             ],
             [
              0.8888888888888888,
              "#fdca26"
             ],
             [
              1,
              "#f0f921"
             ]
            ],
            "type": "contour"
           }
          ],
          "contourcarpet": [
           {
            "colorbar": {
             "outlinewidth": 0,
             "ticks": ""
            },
            "type": "contourcarpet"
           }
          ],
          "heatmap": [
           {
            "colorbar": {
             "outlinewidth": 0,
             "ticks": ""
            },
            "colorscale": [
             [
              0,
              "#0d0887"
             ],
             [
              0.1111111111111111,
              "#46039f"
             ],
             [
              0.2222222222222222,
              "#7201a8"
             ],
             [
              0.3333333333333333,
              "#9c179e"
             ],
             [
              0.4444444444444444,
              "#bd3786"
             ],
             [
              0.5555555555555556,
              "#d8576b"
             ],
             [
              0.6666666666666666,
              "#ed7953"
             ],
             [
              0.7777777777777778,
              "#fb9f3a"
             ],
             [
              0.8888888888888888,
              "#fdca26"
             ],
             [
              1,
              "#f0f921"
             ]
            ],
            "type": "heatmap"
           }
          ],
          "heatmapgl": [
           {
            "colorbar": {
             "outlinewidth": 0,
             "ticks": ""
            },
            "colorscale": [
             [
              0,
              "#0d0887"
             ],
             [
              0.1111111111111111,
              "#46039f"
             ],
             [
              0.2222222222222222,
              "#7201a8"
             ],
             [
              0.3333333333333333,
              "#9c179e"
             ],
             [
              0.4444444444444444,
              "#bd3786"
             ],
             [
              0.5555555555555556,
              "#d8576b"
             ],
             [
              0.6666666666666666,
              "#ed7953"
             ],
             [
              0.7777777777777778,
              "#fb9f3a"
             ],
             [
              0.8888888888888888,
              "#fdca26"
             ],
             [
              1,
              "#f0f921"
             ]
            ],
            "type": "heatmapgl"
           }
          ],
          "histogram": [
           {
            "marker": {
             "pattern": {
              "fillmode": "overlay",
              "size": 10,
              "solidity": 0.2
             }
            },
            "type": "histogram"
           }
          ],
          "histogram2d": [
           {
            "colorbar": {
             "outlinewidth": 0,
             "ticks": ""
            },
            "colorscale": [
             [
              0,
              "#0d0887"
             ],
             [
              0.1111111111111111,
              "#46039f"
             ],
             [
              0.2222222222222222,
              "#7201a8"
             ],
             [
              0.3333333333333333,
              "#9c179e"
             ],
             [
              0.4444444444444444,
              "#bd3786"
             ],
             [
              0.5555555555555556,
              "#d8576b"
             ],
             [
              0.6666666666666666,
              "#ed7953"
             ],
             [
              0.7777777777777778,
              "#fb9f3a"
             ],
             [
              0.8888888888888888,
              "#fdca26"
             ],
             [
              1,
              "#f0f921"
             ]
            ],
            "type": "histogram2d"
           }
          ],
          "histogram2dcontour": [
           {
            "colorbar": {
             "outlinewidth": 0,
             "ticks": ""
            },
            "colorscale": [
             [
              0,
              "#0d0887"
             ],
             [
              0.1111111111111111,
              "#46039f"
             ],
             [
              0.2222222222222222,
              "#7201a8"
             ],
             [
              0.3333333333333333,
              "#9c179e"
             ],
             [
              0.4444444444444444,
              "#bd3786"
             ],
             [
              0.5555555555555556,
              "#d8576b"
             ],
             [
              0.6666666666666666,
              "#ed7953"
             ],
             [
              0.7777777777777778,
              "#fb9f3a"
             ],
             [
              0.8888888888888888,
              "#fdca26"
             ],
             [
              1,
              "#f0f921"
             ]
            ],
            "type": "histogram2dcontour"
           }
          ],
          "mesh3d": [
           {
            "colorbar": {
             "outlinewidth": 0,
             "ticks": ""
            },
            "type": "mesh3d"
           }
          ],
          "parcoords": [
           {
            "line": {
             "colorbar": {
              "outlinewidth": 0,
              "ticks": ""
             }
            },
            "type": "parcoords"
           }
          ],
          "pie": [
           {
            "automargin": true,
            "type": "pie"
           }
          ],
          "scatter": [
           {
            "fillpattern": {
             "fillmode": "overlay",
             "size": 10,
             "solidity": 0.2
            },
            "type": "scatter"
           }
          ],
          "scatter3d": [
           {
            "line": {
             "colorbar": {
              "outlinewidth": 0,
              "ticks": ""
             }
            },
            "marker": {
             "colorbar": {
              "outlinewidth": 0,
              "ticks": ""
             }
            },
            "type": "scatter3d"
           }
          ],
          "scattercarpet": [
           {
            "marker": {
             "colorbar": {
              "outlinewidth": 0,
              "ticks": ""
             }
            },
            "type": "scattercarpet"
           }
          ],
          "scattergeo": [
           {
            "marker": {
             "colorbar": {
              "outlinewidth": 0,
              "ticks": ""
             }
            },
            "type": "scattergeo"
           }
          ],
          "scattergl": [
           {
            "marker": {
             "colorbar": {
              "outlinewidth": 0,
              "ticks": ""
             }
            },
            "type": "scattergl"
           }
          ],
          "scattermapbox": [
           {
            "marker": {
             "colorbar": {
              "outlinewidth": 0,
              "ticks": ""
             }
            },
            "type": "scattermapbox"
           }
          ],
          "scatterpolar": [
           {
            "marker": {
             "colorbar": {
              "outlinewidth": 0,
              "ticks": ""
             }
            },
            "type": "scatterpolar"
           }
          ],
          "scatterpolargl": [
           {
            "marker": {
             "colorbar": {
              "outlinewidth": 0,
              "ticks": ""
             }
            },
            "type": "scatterpolargl"
           }
          ],
          "scatterternary": [
           {
            "marker": {
             "colorbar": {
              "outlinewidth": 0,
              "ticks": ""
             }
            },
            "type": "scatterternary"
           }
          ],
          "surface": [
           {
            "colorbar": {
             "outlinewidth": 0,
             "ticks": ""
            },
            "colorscale": [
             [
              0,
              "#0d0887"
             ],
             [
              0.1111111111111111,
              "#46039f"
             ],
             [
              0.2222222222222222,
              "#7201a8"
             ],
             [
              0.3333333333333333,
              "#9c179e"
             ],
             [
              0.4444444444444444,
              "#bd3786"
             ],
             [
              0.5555555555555556,
              "#d8576b"
             ],
             [
              0.6666666666666666,
              "#ed7953"
             ],
             [
              0.7777777777777778,
              "#fb9f3a"
             ],
             [
              0.8888888888888888,
              "#fdca26"
             ],
             [
              1,
              "#f0f921"
             ]
            ],
            "type": "surface"
           }
          ],
          "table": [
           {
            "cells": {
             "fill": {
              "color": "#EBF0F8"
             },
             "line": {
              "color": "white"
             }
            },
            "header": {
             "fill": {
              "color": "#C8D4E3"
             },
             "line": {
              "color": "white"
             }
            },
            "type": "table"
           }
          ]
         },
         "layout": {
          "annotationdefaults": {
           "arrowcolor": "#2a3f5f",
           "arrowhead": 0,
           "arrowwidth": 1
          },
          "autotypenumbers": "strict",
          "coloraxis": {
           "colorbar": {
            "outlinewidth": 0,
            "ticks": ""
           }
          },
          "colorscale": {
           "diverging": [
            [
             0,
             "#8e0152"
            ],
            [
             0.1,
             "#c51b7d"
            ],
            [
             0.2,
             "#de77ae"
            ],
            [
             0.3,
             "#f1b6da"
            ],
            [
             0.4,
             "#fde0ef"
            ],
            [
             0.5,
             "#f7f7f7"
            ],
            [
             0.6,
             "#e6f5d0"
            ],
            [
             0.7,
             "#b8e186"
            ],
            [
             0.8,
             "#7fbc41"
            ],
            [
             0.9,
             "#4d9221"
            ],
            [
             1,
             "#276419"
            ]
           ],
           "sequential": [
            [
             0,
             "#0d0887"
            ],
            [
             0.1111111111111111,
             "#46039f"
            ],
            [
             0.2222222222222222,
             "#7201a8"
            ],
            [
             0.3333333333333333,
             "#9c179e"
            ],
            [
             0.4444444444444444,
             "#bd3786"
            ],
            [
             0.5555555555555556,
             "#d8576b"
            ],
            [
             0.6666666666666666,
             "#ed7953"
            ],
            [
             0.7777777777777778,
             "#fb9f3a"
            ],
            [
             0.8888888888888888,
             "#fdca26"
            ],
            [
             1,
             "#f0f921"
            ]
           ],
           "sequentialminus": [
            [
             0,
             "#0d0887"
            ],
            [
             0.1111111111111111,
             "#46039f"
            ],
            [
             0.2222222222222222,
             "#7201a8"
            ],
            [
             0.3333333333333333,
             "#9c179e"
            ],
            [
             0.4444444444444444,
             "#bd3786"
            ],
            [
             0.5555555555555556,
             "#d8576b"
            ],
            [
             0.6666666666666666,
             "#ed7953"
            ],
            [
             0.7777777777777778,
             "#fb9f3a"
            ],
            [
             0.8888888888888888,
             "#fdca26"
            ],
            [
             1,
             "#f0f921"
            ]
           ]
          },
          "colorway": [
           "#636efa",
           "#EF553B",
           "#00cc96",
           "#ab63fa",
           "#FFA15A",
           "#19d3f3",
           "#FF6692",
           "#B6E880",
           "#FF97FF",
           "#FECB52"
          ],
          "font": {
           "color": "#2a3f5f"
          },
          "geo": {
           "bgcolor": "white",
           "lakecolor": "white",
           "landcolor": "#E5ECF6",
           "showlakes": true,
           "showland": true,
           "subunitcolor": "white"
          },
          "hoverlabel": {
           "align": "left"
          },
          "hovermode": "closest",
          "mapbox": {
           "style": "light"
          },
          "paper_bgcolor": "white",
          "plot_bgcolor": "#E5ECF6",
          "polar": {
           "angularaxis": {
            "gridcolor": "white",
            "linecolor": "white",
            "ticks": ""
           },
           "bgcolor": "#E5ECF6",
           "radialaxis": {
            "gridcolor": "white",
            "linecolor": "white",
            "ticks": ""
           }
          },
          "scene": {
           "xaxis": {
            "backgroundcolor": "#E5ECF6",
            "gridcolor": "white",
            "gridwidth": 2,
            "linecolor": "white",
            "showbackground": true,
            "ticks": "",
            "zerolinecolor": "white"
           },
           "yaxis": {
            "backgroundcolor": "#E5ECF6",
            "gridcolor": "white",
            "gridwidth": 2,
            "linecolor": "white",
            "showbackground": true,
            "ticks": "",
            "zerolinecolor": "white"
           },
           "zaxis": {
            "backgroundcolor": "#E5ECF6",
            "gridcolor": "white",
            "gridwidth": 2,
            "linecolor": "white",
            "showbackground": true,
            "ticks": "",
            "zerolinecolor": "white"
           }
          },
          "shapedefaults": {
           "line": {
            "color": "#2a3f5f"
           }
          },
          "ternary": {
           "aaxis": {
            "gridcolor": "white",
            "linecolor": "white",
            "ticks": ""
           },
           "baxis": {
            "gridcolor": "white",
            "linecolor": "white",
            "ticks": ""
           },
           "bgcolor": "#E5ECF6",
           "caxis": {
            "gridcolor": "white",
            "linecolor": "white",
            "ticks": ""
           }
          },
          "title": {
           "x": 0.05
          },
          "xaxis": {
           "automargin": true,
           "gridcolor": "white",
           "linecolor": "white",
           "ticks": "",
           "title": {
            "standoff": 15
           },
           "zerolinecolor": "white",
           "zerolinewidth": 2
          },
          "yaxis": {
           "automargin": true,
           "gridcolor": "white",
           "linecolor": "white",
           "ticks": "",
           "title": {
            "standoff": 15
           },
           "zerolinecolor": "white",
           "zerolinewidth": 2
          }
         }
        },
        "title": {
         "text": "usr over time"
        },
        "xaxis": {
         "anchor": "y",
         "domain": [
          0,
          1
         ],
         "title": {
          "text": "timestamp"
         }
        },
        "yaxis": {
         "anchor": "x",
         "domain": [
          0,
          1
         ],
         "title": {
          "text": "sum of usr"
         }
        }
       }
      }
     },
     "metadata": {},
     "output_type": "display_data"
    },
    {
     "data": {
      "application/vnd.plotly.v1+json": {
       "config": {
        "plotlyServerURL": "https://plot.ly"
       },
       "data": [
        {
         "alignmentgroup": "True",
         "bingroup": "x",
         "histfunc": "sum",
         "hovertemplate": "timestamp=%{x}<br>sum of sys=%{y}<extra></extra>",
         "legendgroup": "",
         "marker": {
          "color": "#636efa",
          "pattern": {
           "shape": ""
          }
         },
         "name": "",
         "offsetgroup": "",
         "orientation": "v",
         "showlegend": false,
         "type": "histogram",
         "x": [
          "11:21:40",
          "11:21:54",
          "11:22:14",
          "11:22:21",
          "11:22:34",
          "11:22:46",
          "11:22:51",
          "11:23:12",
          "11:24:12",
          "11:24:42",
          "11:27:08",
          "11:27:21",
          "11:29:04",
          "11:29:53",
          "11:30:26",
          "11:35:17",
          "11:36:41",
          "11:36:52",
          "11:36:59",
          "11:37:07",
          "11:37:13",
          "11:37:13",
          "11:37:15",
          "11:37:18",
          "11:37:19",
          "11:37:20",
          "11:37:26",
          "11:37:26",
          "11:37:27",
          "11:37:40",
          "11:37:43",
          "11:38:01",
          "11:38:22",
          "11:38:41",
          "11:38:57",
          "11:39:20",
          "11:39:23",
          "11:39:25",
          "11:39:38",
          "11:39:41",
          "11:39:58",
          "11:40:12",
          "11:40:23",
          "11:40:36",
          "11:40:59",
          "11:41:07",
          "11:41:12",
          "11:41:16",
          "11:41:54",
          "11:41:54",
          "11:42:13",
          "11:42:39",
          "11:44:07",
          "11:44:09",
          "11:44:41",
          "11:44:54",
          "11:45:49",
          "11:45:59",
          "11:46:36",
          "11:46:58",
          "11:47:06",
          "11:48:03",
          "11:48:19",
          "11:48:45",
          "11:49:55",
          "11:52:24",
          "11:52:43",
          "11:53:21",
          "11:53:45",
          "11:54:09",
          "11:54:29",
          "11:54:30",
          "11:54:31",
          "11:54:52",
          "11:55:36",
          "11:56:01",
          "11:56:06",
          "11:56:09",
          "11:56:43",
          "11:56:49",
          "11:57:15",
          "11:57:31",
          "11:57:47",
          "11:57:48",
          "11:58:27",
          "11:58:29",
          "11:58:31",
          "11:59:29",
          "11:59:54",
          "12:00:11",
          "12:00:31",
          "12:00:34",
          "12:01:22",
          "12:01:41",
          "12:01:41",
          "12:01:51",
          "12:01:52",
          "12:01:54",
          "12:01:59",
          "12:01:59",
          "12:01:59",
          "12:02:00",
          "12:02:26",
          "12:02:32",
          "12:02:33",
          "12:02:33",
          "12:02:34",
          "12:02:47",
          "12:03:08",
          "12:03:24",
          "12:03:30",
          "12:03:33",
          "12:03:43",
          "12:04:01",
          "12:04:10",
          "12:04:26",
          "12:04:42",
          "12:04:43",
          "12:05:24",
          "12:05:29",
          "12:05:38",
          "12:05:56",
          "12:05:58",
          "12:06:04",
          "12:06:18",
          "12:06:20",
          "12:06:57",
          "12:07:03",
          "12:07:18",
          "12:07:35",
          "12:08:16",
          "12:08:23",
          "12:08:23",
          "12:08:49",
          "12:08:50",
          "12:09:27",
          "12:09:27",
          "12:09:46",
          "12:09:50",
          "12:09:54",
          "12:09:54",
          "12:10:48",
          "12:11:06",
          "12:11:17",
          "12:11:33",
          "12:11:56",
          "12:12:06",
          "12:12:30",
          "12:12:34",
          "12:12:35",
          "12:12:36",
          "12:13:04",
          "12:13:33",
          "12:13:38",
          "12:13:40",
          "12:14:05",
          "12:14:17",
          "12:14:31",
          "12:14:37",
          "12:15:40",
          "12:15:51",
          "12:15:52",
          "12:16:03",
          "12:17:34",
          "12:19:04",
          "12:19:13",
          "12:19:20",
          "12:19:41",
          "12:20:03",
          "12:20:31",
          "12:20:38",
          "12:20:44",
          "12:20:50",
          "12:20:53",
          "12:21:35",
          "12:23:20",
          "12:24:07",
          "12:24:07",
          "12:24:08",
          "12:24:08",
          "12:24:10",
          "12:24:40",
          "12:25:02",
          "12:25:12",
          "12:25:22",
          "12:27:06",
          "12:27:40",
          "12:27:48",
          "12:28:29",
          "12:28:50",
          "12:28:53",
          "12:29:58",
          "12:30:02",
          "12:30:03",
          "12:30:03",
          "12:30:07",
          "12:30:27",
          "12:30:32",
          "12:30:36",
          "12:30:53",
          "12:31:39",
          "12:32:36",
          "12:32:50",
          "12:32:51",
          "12:32:56",
          "12:33:12",
          "12:33:13",
          "12:33:21",
          "12:34:02",
          "12:34:58",
          "12:35:03",
          "12:35:05",
          "12:35:06",
          "12:35:43",
          "12:36:04",
          "12:36:08",
          "12:36:14",
          "12:36:15",
          "12:36:21",
          "12:37:11",
          "12:37:22",
          "12:37:24",
          "12:37:26",
          "12:37:28",
          "12:37:46",
          "12:37:56",
          "12:38:09",
          "12:38:22",
          "12:38:27",
          "12:38:49",
          "12:39:12",
          "12:40:56",
          "12:40:56",
          "12:41:03",
          "12:41:05",
          "12:41:23",
          "12:42:23",
          "12:45:12",
          "12:45:34",
          "12:46:11",
          "12:47:04",
          "12:47:04",
          "12:47:19",
          "12:47:51",
          "12:47:53",
          "12:48:07",
          "12:48:44",
          "12:50:39",
          "12:51:42",
          "12:53:43",
          "12:54:06",
          "12:54:12",
          "12:56:55",
          "12:58:52",
          "12:59:07",
          "13:01:49",
          "13:02:39",
          "13:03:14",
          "13:03:40",
          "13:04:20",
          "13:04:25",
          "13:05:07",
          "13:05:13",
          "13:05:40",
          "13:06:32",
          "13:06:38",
          "13:06:54",
          "13:07:34",
          "13:08:50",
          "13:08:51",
          "13:08:52",
          "13:09:09",
          "13:09:11",
          "13:09:19",
          "13:09:41",
          "13:10:28",
          "13:11:01",
          "13:11:09",
          "13:11:13",
          "13:11:13",
          "13:11:49",
          "13:12:37",
          "13:13:50",
          "13:13:52",
          "13:14:04",
          "13:15:02",
          "13:15:06",
          "13:16:44",
          "13:16:52",
          "13:17:43",
          "13:18:00",
          "13:18:02",
          "13:18:54",
          "13:19:03",
          "13:20:26",
          "13:24:05",
          "13:24:23",
          "13:24:30",
          "13:25:03",
          "13:25:21",
          "13:26:13",
          "13:26:21",
          "13:26:44",
          "13:27:01",
          "13:27:12",
          "13:27:23",
          "13:28:07",
          "13:28:09",
          "13:30:02",
          "13:30:30",
          "13:32:32",
          "13:32:46",
          "13:33:54",
          "13:34:45",
          "13:35:30",
          "13:36:03",
          "13:37:52",
          "13:38:30",
          "13:39:38",
          "13:39:58",
          "13:40:30"
         ],
         "xaxis": "x",
         "y": [
          6.12,
          12.75,
          20,
          1.01,
          40.82,
          12.12,
          24.51,
          45.45,
          14.85,
          1,
          26.53,
          32.67,
          0.99,
          70,
          1.98,
          6.12,
          5,
          34,
          1,
          1,
          1.96,
          51,
          3.96,
          1.96,
          3,
          3.12,
          0.98,
          4.17,
          28,
          3.03,
          1.9,
          34.31,
          30,
          3,
          21.21,
          14.56,
          25,
          7.14,
          1.04,
          6,
          1,
          2.02,
          7,
          3.06,
          3,
          20.2,
          4.04,
          5,
          9.38,
          2.02,
          6.86,
          4.12,
          6.06,
          37.37,
          4.9,
          39.6,
          10,
          2.06,
          16.33,
          11.11,
          5.05,
          3.03,
          1,
          2.02,
          4.08,
          2.04,
          5.1,
          6.12,
          1.98,
          1,
          1.04,
          0.99,
          1.98,
          5,
          0.99,
          6.32,
          1.01,
          5.1,
          6.32,
          4.95,
          6.06,
          3.03,
          5.83,
          3.96,
          1.98,
          6.06,
          6,
          1,
          1.98,
          11.22,
          5.94,
          8.91,
          2.02,
          1.39,
          1.39,
          4.94,
          8.6,
          2.53,
          14.75,
          10.87,
          2.06,
          1.02,
          2.02,
          8,
          13.13,
          7.07,
          10.2,
          7.14,
          13,
          10.2,
          14.89,
          1.05,
          16,
          2.2,
          2,
          16.49,
          1.02,
          6,
          1,
          15.69,
          1,
          4.08,
          4.04,
          14.58,
          1.98,
          59.74,
          1.01,
          5.21,
          2.02,
          3.26,
          52.48,
          38.14,
          1.01,
          1.03,
          1.06,
          22.68,
          17,
          1.02,
          1.01,
          5.15,
          6.12,
          1.98,
          2,
          6.38,
          17.35,
          1.02,
          44,
          8,
          1.01,
          2,
          2.04,
          2.02,
          1.04,
          5.1,
          13.68,
          1.04,
          1.03,
          3.12,
          1.04,
          14.29,
          3.09,
          2.06,
          10,
          42.16,
          3.06,
          2.04,
          2.06,
          0.99,
          23.08,
          18.09,
          2.04,
          41.11,
          1.03,
          4.3,
          4.4,
          1.02,
          4,
          19.19,
          13.68,
          1,
          11.96,
          22.22,
          15.05,
          0.99,
          0.99,
          61,
          14.71,
          2,
          25.74,
          18.63,
          8,
          54.32,
          3.3,
          4.6,
          1.23,
          25,
          1.28,
          1.01,
          1.03,
          1.01,
          39.36,
          5.05,
          12.24,
          33.33,
          2,
          0.99,
          19.61,
          6,
          0.99,
          1.02,
          1.02,
          2.02,
          3.3,
          3.09,
          10.78,
          1.02,
          19.61,
          20.41,
          1.01,
          6,
          2.97,
          1.98,
          6.12,
          11.88,
          2,
          5,
          36,
          1.02,
          4.08,
          1.08,
          4,
          24.75,
          4,
          2.88,
          5.71,
          7.22,
          1.03,
          12.12,
          38,
          2,
          46.46,
          1,
          33.33,
          7.95,
          5,
          7,
          2.02,
          1.01,
          1.02,
          36,
          1.96,
          1.04,
          40.82,
          1.02,
          4.21,
          39,
          6.19,
          17.53,
          3.19,
          12,
          1,
          35.29,
          1.01,
          12.87,
          1.98,
          2.02,
          2.04,
          6.06,
          4.21,
          6.42,
          1.02,
          5.05,
          1,
          3.06,
          3.96,
          1.03,
          4,
          2.97,
          7.77,
          5.1,
          56,
          9.9,
          7.14,
          34.02,
          2.04,
          7.14,
          40.22,
          1,
          1,
          1.01,
          1.98,
          4.12,
          6.38,
          1.06,
          9.47,
          21.88,
          5.94,
          2.13,
          26.19,
          2.08,
          1.08,
          1.09,
          8.75,
          1.02,
          1,
          17.65,
          18.37,
          23.47,
          1.01,
          36.63,
          60.4,
          41.58,
          24.49,
          14.85,
          11.11,
          0.99,
          2.97,
          12,
          11,
          6,
          5.1
         ],
         "yaxis": "y"
        }
       ],
       "layout": {
        "barmode": "relative",
        "legend": {
         "tracegroupgap": 0
        },
        "template": {
         "data": {
          "bar": [
           {
            "error_x": {
             "color": "#2a3f5f"
            },
            "error_y": {
             "color": "#2a3f5f"
            },
            "marker": {
             "line": {
              "color": "#E5ECF6",
              "width": 0.5
             },
             "pattern": {
              "fillmode": "overlay",
              "size": 10,
              "solidity": 0.2
             }
            },
            "type": "bar"
           }
          ],
          "barpolar": [
           {
            "marker": {
             "line": {
              "color": "#E5ECF6",
              "width": 0.5
             },
             "pattern": {
              "fillmode": "overlay",
              "size": 10,
              "solidity": 0.2
             }
            },
            "type": "barpolar"
           }
          ],
          "carpet": [
           {
            "aaxis": {
             "endlinecolor": "#2a3f5f",
             "gridcolor": "white",
             "linecolor": "white",
             "minorgridcolor": "white",
             "startlinecolor": "#2a3f5f"
            },
            "baxis": {
             "endlinecolor": "#2a3f5f",
             "gridcolor": "white",
             "linecolor": "white",
             "minorgridcolor": "white",
             "startlinecolor": "#2a3f5f"
            },
            "type": "carpet"
           }
          ],
          "choropleth": [
           {
            "colorbar": {
             "outlinewidth": 0,
             "ticks": ""
            },
            "type": "choropleth"
           }
          ],
          "contour": [
           {
            "colorbar": {
             "outlinewidth": 0,
             "ticks": ""
            },
            "colorscale": [
             [
              0,
              "#0d0887"
             ],
             [
              0.1111111111111111,
              "#46039f"
             ],
             [
              0.2222222222222222,
              "#7201a8"
             ],
             [
              0.3333333333333333,
              "#9c179e"
             ],
             [
              0.4444444444444444,
              "#bd3786"
             ],
             [
              0.5555555555555556,
              "#d8576b"
             ],
             [
              0.6666666666666666,
              "#ed7953"
             ],
             [
              0.7777777777777778,
              "#fb9f3a"
             ],
             [
              0.8888888888888888,
              "#fdca26"
             ],
             [
              1,
              "#f0f921"
             ]
            ],
            "type": "contour"
           }
          ],
          "contourcarpet": [
           {
            "colorbar": {
             "outlinewidth": 0,
             "ticks": ""
            },
            "type": "contourcarpet"
           }
          ],
          "heatmap": [
           {
            "colorbar": {
             "outlinewidth": 0,
             "ticks": ""
            },
            "colorscale": [
             [
              0,
              "#0d0887"
             ],
             [
              0.1111111111111111,
              "#46039f"
             ],
             [
              0.2222222222222222,
              "#7201a8"
             ],
             [
              0.3333333333333333,
              "#9c179e"
             ],
             [
              0.4444444444444444,
              "#bd3786"
             ],
             [
              0.5555555555555556,
              "#d8576b"
             ],
             [
              0.6666666666666666,
              "#ed7953"
             ],
             [
              0.7777777777777778,
              "#fb9f3a"
             ],
             [
              0.8888888888888888,
              "#fdca26"
             ],
             [
              1,
              "#f0f921"
             ]
            ],
            "type": "heatmap"
           }
          ],
          "heatmapgl": [
           {
            "colorbar": {
             "outlinewidth": 0,
             "ticks": ""
            },
            "colorscale": [
             [
              0,
              "#0d0887"
             ],
             [
              0.1111111111111111,
              "#46039f"
             ],
             [
              0.2222222222222222,
              "#7201a8"
             ],
             [
              0.3333333333333333,
              "#9c179e"
             ],
             [
              0.4444444444444444,
              "#bd3786"
             ],
             [
              0.5555555555555556,
              "#d8576b"
             ],
             [
              0.6666666666666666,
              "#ed7953"
             ],
             [
              0.7777777777777778,
              "#fb9f3a"
             ],
             [
              0.8888888888888888,
              "#fdca26"
             ],
             [
              1,
              "#f0f921"
             ]
            ],
            "type": "heatmapgl"
           }
          ],
          "histogram": [
           {
            "marker": {
             "pattern": {
              "fillmode": "overlay",
              "size": 10,
              "solidity": 0.2
             }
            },
            "type": "histogram"
           }
          ],
          "histogram2d": [
           {
            "colorbar": {
             "outlinewidth": 0,
             "ticks": ""
            },
            "colorscale": [
             [
              0,
              "#0d0887"
             ],
             [
              0.1111111111111111,
              "#46039f"
             ],
             [
              0.2222222222222222,
              "#7201a8"
             ],
             [
              0.3333333333333333,
              "#9c179e"
             ],
             [
              0.4444444444444444,
              "#bd3786"
             ],
             [
              0.5555555555555556,
              "#d8576b"
             ],
             [
              0.6666666666666666,
              "#ed7953"
             ],
             [
              0.7777777777777778,
              "#fb9f3a"
             ],
             [
              0.8888888888888888,
              "#fdca26"
             ],
             [
              1,
              "#f0f921"
             ]
            ],
            "type": "histogram2d"
           }
          ],
          "histogram2dcontour": [
           {
            "colorbar": {
             "outlinewidth": 0,
             "ticks": ""
            },
            "colorscale": [
             [
              0,
              "#0d0887"
             ],
             [
              0.1111111111111111,
              "#46039f"
             ],
             [
              0.2222222222222222,
              "#7201a8"
             ],
             [
              0.3333333333333333,
              "#9c179e"
             ],
             [
              0.4444444444444444,
              "#bd3786"
             ],
             [
              0.5555555555555556,
              "#d8576b"
             ],
             [
              0.6666666666666666,
              "#ed7953"
             ],
             [
              0.7777777777777778,
              "#fb9f3a"
             ],
             [
              0.8888888888888888,
              "#fdca26"
             ],
             [
              1,
              "#f0f921"
             ]
            ],
            "type": "histogram2dcontour"
           }
          ],
          "mesh3d": [
           {
            "colorbar": {
             "outlinewidth": 0,
             "ticks": ""
            },
            "type": "mesh3d"
           }
          ],
          "parcoords": [
           {
            "line": {
             "colorbar": {
              "outlinewidth": 0,
              "ticks": ""
             }
            },
            "type": "parcoords"
           }
          ],
          "pie": [
           {
            "automargin": true,
            "type": "pie"
           }
          ],
          "scatter": [
           {
            "fillpattern": {
             "fillmode": "overlay",
             "size": 10,
             "solidity": 0.2
            },
            "type": "scatter"
           }
          ],
          "scatter3d": [
           {
            "line": {
             "colorbar": {
              "outlinewidth": 0,
              "ticks": ""
             }
            },
            "marker": {
             "colorbar": {
              "outlinewidth": 0,
              "ticks": ""
             }
            },
            "type": "scatter3d"
           }
          ],
          "scattercarpet": [
           {
            "marker": {
             "colorbar": {
              "outlinewidth": 0,
              "ticks": ""
             }
            },
            "type": "scattercarpet"
           }
          ],
          "scattergeo": [
           {
            "marker": {
             "colorbar": {
              "outlinewidth": 0,
              "ticks": ""
             }
            },
            "type": "scattergeo"
           }
          ],
          "scattergl": [
           {
            "marker": {
             "colorbar": {
              "outlinewidth": 0,
              "ticks": ""
             }
            },
            "type": "scattergl"
           }
          ],
          "scattermapbox": [
           {
            "marker": {
             "colorbar": {
              "outlinewidth": 0,
              "ticks": ""
             }
            },
            "type": "scattermapbox"
           }
          ],
          "scatterpolar": [
           {
            "marker": {
             "colorbar": {
              "outlinewidth": 0,
              "ticks": ""
             }
            },
            "type": "scatterpolar"
           }
          ],
          "scatterpolargl": [
           {
            "marker": {
             "colorbar": {
              "outlinewidth": 0,
              "ticks": ""
             }
            },
            "type": "scatterpolargl"
           }
          ],
          "scatterternary": [
           {
            "marker": {
             "colorbar": {
              "outlinewidth": 0,
              "ticks": ""
             }
            },
            "type": "scatterternary"
           }
          ],
          "surface": [
           {
            "colorbar": {
             "outlinewidth": 0,
             "ticks": ""
            },
            "colorscale": [
             [
              0,
              "#0d0887"
             ],
             [
              0.1111111111111111,
              "#46039f"
             ],
             [
              0.2222222222222222,
              "#7201a8"
             ],
             [
              0.3333333333333333,
              "#9c179e"
             ],
             [
              0.4444444444444444,
              "#bd3786"
             ],
             [
              0.5555555555555556,
              "#d8576b"
             ],
             [
              0.6666666666666666,
              "#ed7953"
             ],
             [
              0.7777777777777778,
              "#fb9f3a"
             ],
             [
              0.8888888888888888,
              "#fdca26"
             ],
             [
              1,
              "#f0f921"
             ]
            ],
            "type": "surface"
           }
          ],
          "table": [
           {
            "cells": {
             "fill": {
              "color": "#EBF0F8"
             },
             "line": {
              "color": "white"
             }
            },
            "header": {
             "fill": {
              "color": "#C8D4E3"
             },
             "line": {
              "color": "white"
             }
            },
            "type": "table"
           }
          ]
         },
         "layout": {
          "annotationdefaults": {
           "arrowcolor": "#2a3f5f",
           "arrowhead": 0,
           "arrowwidth": 1
          },
          "autotypenumbers": "strict",
          "coloraxis": {
           "colorbar": {
            "outlinewidth": 0,
            "ticks": ""
           }
          },
          "colorscale": {
           "diverging": [
            [
             0,
             "#8e0152"
            ],
            [
             0.1,
             "#c51b7d"
            ],
            [
             0.2,
             "#de77ae"
            ],
            [
             0.3,
             "#f1b6da"
            ],
            [
             0.4,
             "#fde0ef"
            ],
            [
             0.5,
             "#f7f7f7"
            ],
            [
             0.6,
             "#e6f5d0"
            ],
            [
             0.7,
             "#b8e186"
            ],
            [
             0.8,
             "#7fbc41"
            ],
            [
             0.9,
             "#4d9221"
            ],
            [
             1,
             "#276419"
            ]
           ],
           "sequential": [
            [
             0,
             "#0d0887"
            ],
            [
             0.1111111111111111,
             "#46039f"
            ],
            [
             0.2222222222222222,
             "#7201a8"
            ],
            [
             0.3333333333333333,
             "#9c179e"
            ],
            [
             0.4444444444444444,
             "#bd3786"
            ],
            [
             0.5555555555555556,
             "#d8576b"
            ],
            [
             0.6666666666666666,
             "#ed7953"
            ],
            [
             0.7777777777777778,
             "#fb9f3a"
            ],
            [
             0.8888888888888888,
             "#fdca26"
            ],
            [
             1,
             "#f0f921"
            ]
           ],
           "sequentialminus": [
            [
             0,
             "#0d0887"
            ],
            [
             0.1111111111111111,
             "#46039f"
            ],
            [
             0.2222222222222222,
             "#7201a8"
            ],
            [
             0.3333333333333333,
             "#9c179e"
            ],
            [
             0.4444444444444444,
             "#bd3786"
            ],
            [
             0.5555555555555556,
             "#d8576b"
            ],
            [
             0.6666666666666666,
             "#ed7953"
            ],
            [
             0.7777777777777778,
             "#fb9f3a"
            ],
            [
             0.8888888888888888,
             "#fdca26"
            ],
            [
             1,
             "#f0f921"
            ]
           ]
          },
          "colorway": [
           "#636efa",
           "#EF553B",
           "#00cc96",
           "#ab63fa",
           "#FFA15A",
           "#19d3f3",
           "#FF6692",
           "#B6E880",
           "#FF97FF",
           "#FECB52"
          ],
          "font": {
           "color": "#2a3f5f"
          },
          "geo": {
           "bgcolor": "white",
           "lakecolor": "white",
           "landcolor": "#E5ECF6",
           "showlakes": true,
           "showland": true,
           "subunitcolor": "white"
          },
          "hoverlabel": {
           "align": "left"
          },
          "hovermode": "closest",
          "mapbox": {
           "style": "light"
          },
          "paper_bgcolor": "white",
          "plot_bgcolor": "#E5ECF6",
          "polar": {
           "angularaxis": {
            "gridcolor": "white",
            "linecolor": "white",
            "ticks": ""
           },
           "bgcolor": "#E5ECF6",
           "radialaxis": {
            "gridcolor": "white",
            "linecolor": "white",
            "ticks": ""
           }
          },
          "scene": {
           "xaxis": {
            "backgroundcolor": "#E5ECF6",
            "gridcolor": "white",
            "gridwidth": 2,
            "linecolor": "white",
            "showbackground": true,
            "ticks": "",
            "zerolinecolor": "white"
           },
           "yaxis": {
            "backgroundcolor": "#E5ECF6",
            "gridcolor": "white",
            "gridwidth": 2,
            "linecolor": "white",
            "showbackground": true,
            "ticks": "",
            "zerolinecolor": "white"
           },
           "zaxis": {
            "backgroundcolor": "#E5ECF6",
            "gridcolor": "white",
            "gridwidth": 2,
            "linecolor": "white",
            "showbackground": true,
            "ticks": "",
            "zerolinecolor": "white"
           }
          },
          "shapedefaults": {
           "line": {
            "color": "#2a3f5f"
           }
          },
          "ternary": {
           "aaxis": {
            "gridcolor": "white",
            "linecolor": "white",
            "ticks": ""
           },
           "baxis": {
            "gridcolor": "white",
            "linecolor": "white",
            "ticks": ""
           },
           "bgcolor": "#E5ECF6",
           "caxis": {
            "gridcolor": "white",
            "linecolor": "white",
            "ticks": ""
           }
          },
          "title": {
           "x": 0.05
          },
          "xaxis": {
           "automargin": true,
           "gridcolor": "white",
           "linecolor": "white",
           "ticks": "",
           "title": {
            "standoff": 15
           },
           "zerolinecolor": "white",
           "zerolinewidth": 2
          },
          "yaxis": {
           "automargin": true,
           "gridcolor": "white",
           "linecolor": "white",
           "ticks": "",
           "title": {
            "standoff": 15
           },
           "zerolinecolor": "white",
           "zerolinewidth": 2
          }
         }
        },
        "title": {
         "text": "sys over time"
        },
        "xaxis": {
         "anchor": "y",
         "domain": [
          0,
          1
         ],
         "title": {
          "text": "timestamp"
         }
        },
        "yaxis": {
         "anchor": "x",
         "domain": [
          0,
          1
         ],
         "title": {
          "text": "sum of sys"
         }
        }
       }
      }
     },
     "metadata": {},
     "output_type": "display_data"
    },
    {
     "data": {
      "application/vnd.plotly.v1+json": {
       "config": {
        "plotlyServerURL": "https://plot.ly"
       },
       "data": [
        {
         "alignmentgroup": "True",
         "bingroup": "x",
         "histfunc": "sum",
         "hovertemplate": "timestamp=%{x}<br>sum of iowait=%{y}<extra></extra>",
         "legendgroup": "",
         "marker": {
          "color": "#636efa",
          "pattern": {
           "shape": ""
          }
         },
         "name": "",
         "offsetgroup": "",
         "orientation": "v",
         "showlegend": false,
         "type": "histogram",
         "x": [
          "11:21:40",
          "11:21:54",
          "11:22:14",
          "11:22:21",
          "11:22:34",
          "11:22:46",
          "11:22:51",
          "11:23:12",
          "11:24:12",
          "11:24:42",
          "11:27:08",
          "11:27:21",
          "11:29:04",
          "11:29:53",
          "11:30:26",
          "11:35:17",
          "11:36:41",
          "11:36:52",
          "11:36:59",
          "11:37:07",
          "11:37:13",
          "11:37:13",
          "11:37:15",
          "11:37:18",
          "11:37:19",
          "11:37:20",
          "11:37:26",
          "11:37:26",
          "11:37:27",
          "11:37:40",
          "11:37:43",
          "11:38:01",
          "11:38:22",
          "11:38:41",
          "11:38:57",
          "11:39:20",
          "11:39:23",
          "11:39:25",
          "11:39:38",
          "11:39:41",
          "11:39:58",
          "11:40:12",
          "11:40:23",
          "11:40:36",
          "11:40:59",
          "11:41:07",
          "11:41:12",
          "11:41:16",
          "11:41:54",
          "11:41:54",
          "11:42:13",
          "11:42:39",
          "11:44:07",
          "11:44:09",
          "11:44:41",
          "11:44:54",
          "11:45:49",
          "11:45:59",
          "11:46:36",
          "11:46:58",
          "11:47:06",
          "11:48:03",
          "11:48:19",
          "11:48:45",
          "11:49:55",
          "11:52:24",
          "11:52:43",
          "11:53:21",
          "11:53:45",
          "11:54:09",
          "11:54:29",
          "11:54:30",
          "11:54:31",
          "11:54:52",
          "11:55:36",
          "11:56:01",
          "11:56:06",
          "11:56:09",
          "11:56:43",
          "11:56:49",
          "11:57:15",
          "11:57:31",
          "11:57:47",
          "11:57:48",
          "11:58:27",
          "11:58:29",
          "11:58:31",
          "11:59:29",
          "11:59:54",
          "12:00:11",
          "12:00:31",
          "12:00:34",
          "12:01:22",
          "12:01:41",
          "12:01:41",
          "12:01:51",
          "12:01:52",
          "12:01:54",
          "12:01:59",
          "12:01:59",
          "12:01:59",
          "12:02:00",
          "12:02:26",
          "12:02:32",
          "12:02:33",
          "12:02:33",
          "12:02:34",
          "12:02:47",
          "12:03:08",
          "12:03:24",
          "12:03:30",
          "12:03:33",
          "12:03:43",
          "12:04:01",
          "12:04:10",
          "12:04:26",
          "12:04:42",
          "12:04:43",
          "12:05:24",
          "12:05:29",
          "12:05:38",
          "12:05:56",
          "12:05:58",
          "12:06:04",
          "12:06:18",
          "12:06:20",
          "12:06:57",
          "12:07:03",
          "12:07:18",
          "12:07:35",
          "12:08:16",
          "12:08:23",
          "12:08:23",
          "12:08:49",
          "12:08:50",
          "12:09:27",
          "12:09:27",
          "12:09:46",
          "12:09:50",
          "12:09:54",
          "12:09:54",
          "12:10:48",
          "12:11:06",
          "12:11:17",
          "12:11:33",
          "12:11:56",
          "12:12:06",
          "12:12:30",
          "12:12:34",
          "12:12:35",
          "12:12:36",
          "12:13:04",
          "12:13:33",
          "12:13:38",
          "12:13:40",
          "12:14:05",
          "12:14:17",
          "12:14:31",
          "12:14:37",
          "12:15:40",
          "12:15:51",
          "12:15:52",
          "12:16:03",
          "12:17:34",
          "12:19:04",
          "12:19:13",
          "12:19:20",
          "12:19:41",
          "12:20:03",
          "12:20:31",
          "12:20:38",
          "12:20:44",
          "12:20:50",
          "12:20:53",
          "12:21:35",
          "12:23:20",
          "12:24:07",
          "12:24:07",
          "12:24:08",
          "12:24:08",
          "12:24:10",
          "12:24:40",
          "12:25:02",
          "12:25:12",
          "12:25:22",
          "12:27:06",
          "12:27:40",
          "12:27:48",
          "12:28:29",
          "12:28:50",
          "12:28:53",
          "12:29:58",
          "12:30:02",
          "12:30:03",
          "12:30:03",
          "12:30:07",
          "12:30:27",
          "12:30:32",
          "12:30:36",
          "12:30:53",
          "12:31:39",
          "12:32:36",
          "12:32:50",
          "12:32:51",
          "12:32:56",
          "12:33:12",
          "12:33:13",
          "12:33:21",
          "12:34:02",
          "12:34:58",
          "12:35:03",
          "12:35:05",
          "12:35:06",
          "12:35:43",
          "12:36:04",
          "12:36:08",
          "12:36:14",
          "12:36:15",
          "12:36:21",
          "12:37:11",
          "12:37:22",
          "12:37:24",
          "12:37:26",
          "12:37:28",
          "12:37:46",
          "12:37:56",
          "12:38:09",
          "12:38:22",
          "12:38:27",
          "12:38:49",
          "12:39:12",
          "12:40:56",
          "12:40:56",
          "12:41:03",
          "12:41:05",
          "12:41:23",
          "12:42:23",
          "12:45:12",
          "12:45:34",
          "12:46:11",
          "12:47:04",
          "12:47:04",
          "12:47:19",
          "12:47:51",
          "12:47:53",
          "12:48:07",
          "12:48:44",
          "12:50:39",
          "12:51:42",
          "12:53:43",
          "12:54:06",
          "12:54:12",
          "12:56:55",
          "12:58:52",
          "12:59:07",
          "13:01:49",
          "13:02:39",
          "13:03:14",
          "13:03:40",
          "13:04:20",
          "13:04:25",
          "13:05:07",
          "13:05:13",
          "13:05:40",
          "13:06:32",
          "13:06:38",
          "13:06:54",
          "13:07:34",
          "13:08:50",
          "13:08:51",
          "13:08:52",
          "13:09:09",
          "13:09:11",
          "13:09:19",
          "13:09:41",
          "13:10:28",
          "13:11:01",
          "13:11:09",
          "13:11:13",
          "13:11:13",
          "13:11:49",
          "13:12:37",
          "13:13:50",
          "13:13:52",
          "13:14:04",
          "13:15:02",
          "13:15:06",
          "13:16:44",
          "13:16:52",
          "13:17:43",
          "13:18:00",
          "13:18:02",
          "13:18:54",
          "13:19:03",
          "13:20:26",
          "13:24:05",
          "13:24:23",
          "13:24:30",
          "13:25:03",
          "13:25:21",
          "13:26:13",
          "13:26:21",
          "13:26:44",
          "13:27:01",
          "13:27:12",
          "13:27:23",
          "13:28:07",
          "13:28:09",
          "13:30:02",
          "13:30:30",
          "13:32:32",
          "13:32:46",
          "13:33:54",
          "13:34:45",
          "13:35:30",
          "13:36:03",
          "13:37:52",
          "13:38:30",
          "13:39:38",
          "13:39:58",
          "13:40:30"
         ],
         "xaxis": "x",
         "y": [
          3.06,
          0.98,
          1,
          1.01,
          1.02,
          1.01,
          0.98,
          1.01,
          0.99,
          1,
          2.04,
          0.99,
          0.99,
          1,
          0.99,
          1.02,
          1,
          2,
          1,
          1,
          1.96,
          1,
          0.99,
          0.98,
          1,
          1.04,
          0.98,
          1.04,
          1,
          1.01,
          0.95,
          0.98,
          1,
          1,
          1.01,
          0.97,
          1,
          1.02,
          1.04,
          1,
          1,
          1.01,
          1,
          1.02,
          1,
          1.01,
          1.01,
          1,
          1.04,
          1.01,
          0.98,
          1.03,
          1.01,
          1.01,
          0.98,
          1.98,
          1,
          1.03,
          1.02,
          4.04,
          1.01,
          2.02,
          1,
          2.02,
          1.02,
          1.02,
          1.02,
          1.02,
          0.99,
          1,
          1.04,
          0.99,
          0.99,
          1,
          0.99,
          1.05,
          1.01,
          6.12,
          1.05,
          0.99,
          1.01,
          1.01,
          0.97,
          0.99,
          0.99,
          1.01,
          1,
          1,
          0.99,
          1.02,
          0.99,
          0.99,
          1.01,
          1.39,
          1.39,
          23.46,
          1.08,
          34.18,
          1.64,
          1.09,
          1.03,
          1.02,
          1.01,
          1,
          2.02,
          2.02,
          2.04,
          31.63,
          1,
          1.02,
          18.09,
          2.11,
          1,
          2.2,
          1,
          1.03,
          3.06,
          1,
          1,
          0.98,
          1,
          1.02,
          1.01,
          6.25,
          0.99,
          2.6,
          1.01,
          1.04,
          1.01,
          5.43,
          0.99,
          1.03,
          16.16,
          16.49,
          19.15,
          1.03,
          1,
          38.78,
          9.09,
          11.34,
          11.22,
          1.98,
          10,
          2.13,
          1.02,
          1.02,
          1,
          1,
          1.01,
          3,
          1.02,
          1.01,
          1.04,
          2.04,
          1.05,
          1.04,
          1.03,
          1.04,
          9.38,
          1.02,
          3.09,
          18.56,
          59,
          0.98,
          1.02,
          1.02,
          2.06,
          0.99,
          1.1,
          7.45,
          1.02,
          22.22,
          1.03,
          3.23,
          1.1,
          1.02,
          9,
          8.08,
          1.05,
          1,
          1.09,
          1.01,
          1.08,
          0.99,
          0.99,
          1,
          0.98,
          1,
          0.99,
          0.98,
          1,
          1.23,
          2.2,
          2.3,
          1.23,
          1.32,
          1.28,
          1.01,
          1.03,
          2.02,
          1.06,
          1.01,
          8.16,
          1.01,
          1,
          0.99,
          0.98,
          1,
          0.99,
          1.02,
          2.04,
          1.01,
          1.1,
          2.06,
          0.98,
          1.02,
          0.98,
          1.02,
          1.01,
          1,
          0.99,
          0.99,
          1.02,
          1.98,
          2,
          1,
          1,
          1.02,
          1.02,
          1.08,
          1,
          0.99,
          1,
          0.96,
          0.95,
          1.03,
          1.03,
          1.01,
          1,
          1,
          3.03,
          2,
          1.01,
          1.14,
          1,
          1,
          6.06,
          1.01,
          1.02,
          1,
          0.98,
          2.08,
          1.02,
          1.02,
          3.16,
          1,
          1.03,
          1.03,
          1.06,
          5,
          1,
          0.98,
          1.01,
          0.99,
          0.99,
          1.01,
          1.02,
          1.01,
          1.05,
          0.92,
          1.02,
          1.01,
          1,
          1.02,
          0.99,
          1.03,
          1,
          0.99,
          0.97,
          2.04,
          1,
          0.99,
          1.02,
          1.03,
          1.02,
          1.02,
          1.09,
          1,
          1,
          1.01,
          0.99,
          1.03,
          1.06,
          2.13,
          2.11,
          5.21,
          0.99,
          1.06,
          20.24,
          1.04,
          9.68,
          1.09,
          1.25,
          3.06,
          1,
          0.98,
          1.02,
          1.02,
          2.02,
          0.99,
          0.99,
          0.99,
          1.02,
          0.99,
          1.01,
          0.99,
          0.99,
          1,
          1,
          1,
          1.02
         ],
         "yaxis": "y"
        }
       ],
       "layout": {
        "barmode": "relative",
        "legend": {
         "tracegroupgap": 0
        },
        "template": {
         "data": {
          "bar": [
           {
            "error_x": {
             "color": "#2a3f5f"
            },
            "error_y": {
             "color": "#2a3f5f"
            },
            "marker": {
             "line": {
              "color": "#E5ECF6",
              "width": 0.5
             },
             "pattern": {
              "fillmode": "overlay",
              "size": 10,
              "solidity": 0.2
             }
            },
            "type": "bar"
           }
          ],
          "barpolar": [
           {
            "marker": {
             "line": {
              "color": "#E5ECF6",
              "width": 0.5
             },
             "pattern": {
              "fillmode": "overlay",
              "size": 10,
              "solidity": 0.2
             }
            },
            "type": "barpolar"
           }
          ],
          "carpet": [
           {
            "aaxis": {
             "endlinecolor": "#2a3f5f",
             "gridcolor": "white",
             "linecolor": "white",
             "minorgridcolor": "white",
             "startlinecolor": "#2a3f5f"
            },
            "baxis": {
             "endlinecolor": "#2a3f5f",
             "gridcolor": "white",
             "linecolor": "white",
             "minorgridcolor": "white",
             "startlinecolor": "#2a3f5f"
            },
            "type": "carpet"
           }
          ],
          "choropleth": [
           {
            "colorbar": {
             "outlinewidth": 0,
             "ticks": ""
            },
            "type": "choropleth"
           }
          ],
          "contour": [
           {
            "colorbar": {
             "outlinewidth": 0,
             "ticks": ""
            },
            "colorscale": [
             [
              0,
              "#0d0887"
             ],
             [
              0.1111111111111111,
              "#46039f"
             ],
             [
              0.2222222222222222,
              "#7201a8"
             ],
             [
              0.3333333333333333,
              "#9c179e"
             ],
             [
              0.4444444444444444,
              "#bd3786"
             ],
             [
              0.5555555555555556,
              "#d8576b"
             ],
             [
              0.6666666666666666,
              "#ed7953"
             ],
             [
              0.7777777777777778,
              "#fb9f3a"
             ],
             [
              0.8888888888888888,
              "#fdca26"
             ],
             [
              1,
              "#f0f921"
             ]
            ],
            "type": "contour"
           }
          ],
          "contourcarpet": [
           {
            "colorbar": {
             "outlinewidth": 0,
             "ticks": ""
            },
            "type": "contourcarpet"
           }
          ],
          "heatmap": [
           {
            "colorbar": {
             "outlinewidth": 0,
             "ticks": ""
            },
            "colorscale": [
             [
              0,
              "#0d0887"
             ],
             [
              0.1111111111111111,
              "#46039f"
             ],
             [
              0.2222222222222222,
              "#7201a8"
             ],
             [
              0.3333333333333333,
              "#9c179e"
             ],
             [
              0.4444444444444444,
              "#bd3786"
             ],
             [
              0.5555555555555556,
              "#d8576b"
             ],
             [
              0.6666666666666666,
              "#ed7953"
             ],
             [
              0.7777777777777778,
              "#fb9f3a"
             ],
             [
              0.8888888888888888,
              "#fdca26"
             ],
             [
              1,
              "#f0f921"
             ]
            ],
            "type": "heatmap"
           }
          ],
          "heatmapgl": [
           {
            "colorbar": {
             "outlinewidth": 0,
             "ticks": ""
            },
            "colorscale": [
             [
              0,
              "#0d0887"
             ],
             [
              0.1111111111111111,
              "#46039f"
             ],
             [
              0.2222222222222222,
              "#7201a8"
             ],
             [
              0.3333333333333333,
              "#9c179e"
             ],
             [
              0.4444444444444444,
              "#bd3786"
             ],
             [
              0.5555555555555556,
              "#d8576b"
             ],
             [
              0.6666666666666666,
              "#ed7953"
             ],
             [
              0.7777777777777778,
              "#fb9f3a"
             ],
             [
              0.8888888888888888,
              "#fdca26"
             ],
             [
              1,
              "#f0f921"
             ]
            ],
            "type": "heatmapgl"
           }
          ],
          "histogram": [
           {
            "marker": {
             "pattern": {
              "fillmode": "overlay",
              "size": 10,
              "solidity": 0.2
             }
            },
            "type": "histogram"
           }
          ],
          "histogram2d": [
           {
            "colorbar": {
             "outlinewidth": 0,
             "ticks": ""
            },
            "colorscale": [
             [
              0,
              "#0d0887"
             ],
             [
              0.1111111111111111,
              "#46039f"
             ],
             [
              0.2222222222222222,
              "#7201a8"
             ],
             [
              0.3333333333333333,
              "#9c179e"
             ],
             [
              0.4444444444444444,
              "#bd3786"
             ],
             [
              0.5555555555555556,
              "#d8576b"
             ],
             [
              0.6666666666666666,
              "#ed7953"
             ],
             [
              0.7777777777777778,
              "#fb9f3a"
             ],
             [
              0.8888888888888888,
              "#fdca26"
             ],
             [
              1,
              "#f0f921"
             ]
            ],
            "type": "histogram2d"
           }
          ],
          "histogram2dcontour": [
           {
            "colorbar": {
             "outlinewidth": 0,
             "ticks": ""
            },
            "colorscale": [
             [
              0,
              "#0d0887"
             ],
             [
              0.1111111111111111,
              "#46039f"
             ],
             [
              0.2222222222222222,
              "#7201a8"
             ],
             [
              0.3333333333333333,
              "#9c179e"
             ],
             [
              0.4444444444444444,
              "#bd3786"
             ],
             [
              0.5555555555555556,
              "#d8576b"
             ],
             [
              0.6666666666666666,
              "#ed7953"
             ],
             [
              0.7777777777777778,
              "#fb9f3a"
             ],
             [
              0.8888888888888888,
              "#fdca26"
             ],
             [
              1,
              "#f0f921"
             ]
            ],
            "type": "histogram2dcontour"
           }
          ],
          "mesh3d": [
           {
            "colorbar": {
             "outlinewidth": 0,
             "ticks": ""
            },
            "type": "mesh3d"
           }
          ],
          "parcoords": [
           {
            "line": {
             "colorbar": {
              "outlinewidth": 0,
              "ticks": ""
             }
            },
            "type": "parcoords"
           }
          ],
          "pie": [
           {
            "automargin": true,
            "type": "pie"
           }
          ],
          "scatter": [
           {
            "fillpattern": {
             "fillmode": "overlay",
             "size": 10,
             "solidity": 0.2
            },
            "type": "scatter"
           }
          ],
          "scatter3d": [
           {
            "line": {
             "colorbar": {
              "outlinewidth": 0,
              "ticks": ""
             }
            },
            "marker": {
             "colorbar": {
              "outlinewidth": 0,
              "ticks": ""
             }
            },
            "type": "scatter3d"
           }
          ],
          "scattercarpet": [
           {
            "marker": {
             "colorbar": {
              "outlinewidth": 0,
              "ticks": ""
             }
            },
            "type": "scattercarpet"
           }
          ],
          "scattergeo": [
           {
            "marker": {
             "colorbar": {
              "outlinewidth": 0,
              "ticks": ""
             }
            },
            "type": "scattergeo"
           }
          ],
          "scattergl": [
           {
            "marker": {
             "colorbar": {
              "outlinewidth": 0,
              "ticks": ""
             }
            },
            "type": "scattergl"
           }
          ],
          "scattermapbox": [
           {
            "marker": {
             "colorbar": {
              "outlinewidth": 0,
              "ticks": ""
             }
            },
            "type": "scattermapbox"
           }
          ],
          "scatterpolar": [
           {
            "marker": {
             "colorbar": {
              "outlinewidth": 0,
              "ticks": ""
             }
            },
            "type": "scatterpolar"
           }
          ],
          "scatterpolargl": [
           {
            "marker": {
             "colorbar": {
              "outlinewidth": 0,
              "ticks": ""
             }
            },
            "type": "scatterpolargl"
           }
          ],
          "scatterternary": [
           {
            "marker": {
             "colorbar": {
              "outlinewidth": 0,
              "ticks": ""
             }
            },
            "type": "scatterternary"
           }
          ],
          "surface": [
           {
            "colorbar": {
             "outlinewidth": 0,
             "ticks": ""
            },
            "colorscale": [
             [
              0,
              "#0d0887"
             ],
             [
              0.1111111111111111,
              "#46039f"
             ],
             [
              0.2222222222222222,
              "#7201a8"
             ],
             [
              0.3333333333333333,
              "#9c179e"
             ],
             [
              0.4444444444444444,
              "#bd3786"
             ],
             [
              0.5555555555555556,
              "#d8576b"
             ],
             [
              0.6666666666666666,
              "#ed7953"
             ],
             [
              0.7777777777777778,
              "#fb9f3a"
             ],
             [
              0.8888888888888888,
              "#fdca26"
             ],
             [
              1,
              "#f0f921"
             ]
            ],
            "type": "surface"
           }
          ],
          "table": [
           {
            "cells": {
             "fill": {
              "color": "#EBF0F8"
             },
             "line": {
              "color": "white"
             }
            },
            "header": {
             "fill": {
              "color": "#C8D4E3"
             },
             "line": {
              "color": "white"
             }
            },
            "type": "table"
           }
          ]
         },
         "layout": {
          "annotationdefaults": {
           "arrowcolor": "#2a3f5f",
           "arrowhead": 0,
           "arrowwidth": 1
          },
          "autotypenumbers": "strict",
          "coloraxis": {
           "colorbar": {
            "outlinewidth": 0,
            "ticks": ""
           }
          },
          "colorscale": {
           "diverging": [
            [
             0,
             "#8e0152"
            ],
            [
             0.1,
             "#c51b7d"
            ],
            [
             0.2,
             "#de77ae"
            ],
            [
             0.3,
             "#f1b6da"
            ],
            [
             0.4,
             "#fde0ef"
            ],
            [
             0.5,
             "#f7f7f7"
            ],
            [
             0.6,
             "#e6f5d0"
            ],
            [
             0.7,
             "#b8e186"
            ],
            [
             0.8,
             "#7fbc41"
            ],
            [
             0.9,
             "#4d9221"
            ],
            [
             1,
             "#276419"
            ]
           ],
           "sequential": [
            [
             0,
             "#0d0887"
            ],
            [
             0.1111111111111111,
             "#46039f"
            ],
            [
             0.2222222222222222,
             "#7201a8"
            ],
            [
             0.3333333333333333,
             "#9c179e"
            ],
            [
             0.4444444444444444,
             "#bd3786"
            ],
            [
             0.5555555555555556,
             "#d8576b"
            ],
            [
             0.6666666666666666,
             "#ed7953"
            ],
            [
             0.7777777777777778,
             "#fb9f3a"
            ],
            [
             0.8888888888888888,
             "#fdca26"
            ],
            [
             1,
             "#f0f921"
            ]
           ],
           "sequentialminus": [
            [
             0,
             "#0d0887"
            ],
            [
             0.1111111111111111,
             "#46039f"
            ],
            [
             0.2222222222222222,
             "#7201a8"
            ],
            [
             0.3333333333333333,
             "#9c179e"
            ],
            [
             0.4444444444444444,
             "#bd3786"
            ],
            [
             0.5555555555555556,
             "#d8576b"
            ],
            [
             0.6666666666666666,
             "#ed7953"
            ],
            [
             0.7777777777777778,
             "#fb9f3a"
            ],
            [
             0.8888888888888888,
             "#fdca26"
            ],
            [
             1,
             "#f0f921"
            ]
           ]
          },
          "colorway": [
           "#636efa",
           "#EF553B",
           "#00cc96",
           "#ab63fa",
           "#FFA15A",
           "#19d3f3",
           "#FF6692",
           "#B6E880",
           "#FF97FF",
           "#FECB52"
          ],
          "font": {
           "color": "#2a3f5f"
          },
          "geo": {
           "bgcolor": "white",
           "lakecolor": "white",
           "landcolor": "#E5ECF6",
           "showlakes": true,
           "showland": true,
           "subunitcolor": "white"
          },
          "hoverlabel": {
           "align": "left"
          },
          "hovermode": "closest",
          "mapbox": {
           "style": "light"
          },
          "paper_bgcolor": "white",
          "plot_bgcolor": "#E5ECF6",
          "polar": {
           "angularaxis": {
            "gridcolor": "white",
            "linecolor": "white",
            "ticks": ""
           },
           "bgcolor": "#E5ECF6",
           "radialaxis": {
            "gridcolor": "white",
            "linecolor": "white",
            "ticks": ""
           }
          },
          "scene": {
           "xaxis": {
            "backgroundcolor": "#E5ECF6",
            "gridcolor": "white",
            "gridwidth": 2,
            "linecolor": "white",
            "showbackground": true,
            "ticks": "",
            "zerolinecolor": "white"
           },
           "yaxis": {
            "backgroundcolor": "#E5ECF6",
            "gridcolor": "white",
            "gridwidth": 2,
            "linecolor": "white",
            "showbackground": true,
            "ticks": "",
            "zerolinecolor": "white"
           },
           "zaxis": {
            "backgroundcolor": "#E5ECF6",
            "gridcolor": "white",
            "gridwidth": 2,
            "linecolor": "white",
            "showbackground": true,
            "ticks": "",
            "zerolinecolor": "white"
           }
          },
          "shapedefaults": {
           "line": {
            "color": "#2a3f5f"
           }
          },
          "ternary": {
           "aaxis": {
            "gridcolor": "white",
            "linecolor": "white",
            "ticks": ""
           },
           "baxis": {
            "gridcolor": "white",
            "linecolor": "white",
            "ticks": ""
           },
           "bgcolor": "#E5ECF6",
           "caxis": {
            "gridcolor": "white",
            "linecolor": "white",
            "ticks": ""
           }
          },
          "title": {
           "x": 0.05
          },
          "xaxis": {
           "automargin": true,
           "gridcolor": "white",
           "linecolor": "white",
           "ticks": "",
           "title": {
            "standoff": 15
           },
           "zerolinecolor": "white",
           "zerolinewidth": 2
          },
          "yaxis": {
           "automargin": true,
           "gridcolor": "white",
           "linecolor": "white",
           "ticks": "",
           "title": {
            "standoff": 15
           },
           "zerolinecolor": "white",
           "zerolinewidth": 2
          }
         }
        },
        "title": {
         "text": "iowait over time"
        },
        "xaxis": {
         "anchor": "y",
         "domain": [
          0,
          1
         ],
         "title": {
          "text": "timestamp"
         }
        },
        "yaxis": {
         "anchor": "x",
         "domain": [
          0,
          1
         ],
         "title": {
          "text": "sum of iowait"
         }
        }
       }
      }
     },
     "metadata": {},
     "output_type": "display_data"
    },
    {
     "data": {
      "application/vnd.plotly.v1+json": {
       "config": {
        "plotlyServerURL": "https://plot.ly"
       },
       "data": [
        {
         "alignmentgroup": "True",
         "bingroup": "x",
         "histfunc": "sum",
         "hovertemplate": "timestamp=%{x}<br>sum of soft=%{y}<extra></extra>",
         "legendgroup": "",
         "marker": {
          "color": "#636efa",
          "pattern": {
           "shape": ""
          }
         },
         "name": "",
         "offsetgroup": "",
         "orientation": "v",
         "showlegend": false,
         "type": "histogram",
         "x": [
          "11:21:40",
          "11:21:54",
          "11:22:14",
          "11:22:21",
          "11:22:34",
          "11:22:46",
          "11:22:51",
          "11:23:12",
          "11:24:12",
          "11:24:42",
          "11:27:08",
          "11:27:21",
          "11:29:04",
          "11:29:53",
          "11:30:26",
          "11:35:17",
          "11:36:41",
          "11:36:52",
          "11:36:59",
          "11:37:07",
          "11:37:13",
          "11:37:13",
          "11:37:15",
          "11:37:18",
          "11:37:19",
          "11:37:20",
          "11:37:26",
          "11:37:26",
          "11:37:27",
          "11:37:40",
          "11:37:43",
          "11:38:01",
          "11:38:22",
          "11:38:41",
          "11:38:57",
          "11:39:20",
          "11:39:23",
          "11:39:25",
          "11:39:38",
          "11:39:41",
          "11:39:58",
          "11:40:12",
          "11:40:23",
          "11:40:36",
          "11:40:59",
          "11:41:07",
          "11:41:12",
          "11:41:16",
          "11:41:54",
          "11:41:54",
          "11:42:13",
          "11:42:39",
          "11:44:07",
          "11:44:09",
          "11:44:41",
          "11:44:54",
          "11:45:49",
          "11:45:59",
          "11:46:36",
          "11:46:58",
          "11:47:06",
          "11:48:03",
          "11:48:19",
          "11:48:45",
          "11:49:55",
          "11:52:24",
          "11:52:43",
          "11:53:21",
          "11:53:45",
          "11:54:09",
          "11:54:29",
          "11:54:30",
          "11:54:31",
          "11:54:52",
          "11:55:36",
          "11:56:01",
          "11:56:06",
          "11:56:09",
          "11:56:43",
          "11:56:49",
          "11:57:15",
          "11:57:31",
          "11:57:47",
          "11:57:48",
          "11:58:27",
          "11:58:29",
          "11:58:31",
          "11:59:29",
          "11:59:54",
          "12:00:11",
          "12:00:31",
          "12:00:34",
          "12:01:22",
          "12:01:41",
          "12:01:41",
          "12:01:51",
          "12:01:52",
          "12:01:54",
          "12:01:59",
          "12:01:59",
          "12:01:59",
          "12:02:00",
          "12:02:26",
          "12:02:32",
          "12:02:33",
          "12:02:33",
          "12:02:34",
          "12:02:47",
          "12:03:08",
          "12:03:24",
          "12:03:30",
          "12:03:33",
          "12:03:43",
          "12:04:01",
          "12:04:10",
          "12:04:26",
          "12:04:42",
          "12:04:43",
          "12:05:24",
          "12:05:29",
          "12:05:38",
          "12:05:56",
          "12:05:58",
          "12:06:04",
          "12:06:18",
          "12:06:20",
          "12:06:57",
          "12:07:03",
          "12:07:18",
          "12:07:35",
          "12:08:16",
          "12:08:23",
          "12:08:23",
          "12:08:49",
          "12:08:50",
          "12:09:27",
          "12:09:27",
          "12:09:46",
          "12:09:50",
          "12:09:54",
          "12:09:54",
          "12:10:48",
          "12:11:06",
          "12:11:17",
          "12:11:33",
          "12:11:56",
          "12:12:06",
          "12:12:30",
          "12:12:34",
          "12:12:35",
          "12:12:36",
          "12:13:04",
          "12:13:33",
          "12:13:38",
          "12:13:40",
          "12:14:05",
          "12:14:17",
          "12:14:31",
          "12:14:37",
          "12:15:40",
          "12:15:51",
          "12:15:52",
          "12:16:03",
          "12:17:34",
          "12:19:04",
          "12:19:13",
          "12:19:20",
          "12:19:41",
          "12:20:03",
          "12:20:31",
          "12:20:38",
          "12:20:44",
          "12:20:50",
          "12:20:53",
          "12:21:35",
          "12:23:20",
          "12:24:07",
          "12:24:07",
          "12:24:08",
          "12:24:08",
          "12:24:10",
          "12:24:40",
          "12:25:02",
          "12:25:12",
          "12:25:22",
          "12:27:06",
          "12:27:40",
          "12:27:48",
          "12:28:29",
          "12:28:50",
          "12:28:53",
          "12:29:58",
          "12:30:02",
          "12:30:03",
          "12:30:03",
          "12:30:07",
          "12:30:27",
          "12:30:32",
          "12:30:36",
          "12:30:53",
          "12:31:39",
          "12:32:36",
          "12:32:50",
          "12:32:51",
          "12:32:56",
          "12:33:12",
          "12:33:13",
          "12:33:21",
          "12:34:02",
          "12:34:58",
          "12:35:03",
          "12:35:05",
          "12:35:06",
          "12:35:43",
          "12:36:04",
          "12:36:08",
          "12:36:14",
          "12:36:15",
          "12:36:21",
          "12:37:11",
          "12:37:22",
          "12:37:24",
          "12:37:26",
          "12:37:28",
          "12:37:46",
          "12:37:56",
          "12:38:09",
          "12:38:22",
          "12:38:27",
          "12:38:49",
          "12:39:12",
          "12:40:56",
          "12:40:56",
          "12:41:03",
          "12:41:05",
          "12:41:23",
          "12:42:23",
          "12:45:12",
          "12:45:34",
          "12:46:11",
          "12:47:04",
          "12:47:04",
          "12:47:19",
          "12:47:51",
          "12:47:53",
          "12:48:07",
          "12:48:44",
          "12:50:39",
          "12:51:42",
          "12:53:43",
          "12:54:06",
          "12:54:12",
          "12:56:55",
          "12:58:52",
          "12:59:07",
          "13:01:49",
          "13:02:39",
          "13:03:14",
          "13:03:40",
          "13:04:20",
          "13:04:25",
          "13:05:07",
          "13:05:13",
          "13:05:40",
          "13:06:32",
          "13:06:38",
          "13:06:54",
          "13:07:34",
          "13:08:50",
          "13:08:51",
          "13:08:52",
          "13:09:09",
          "13:09:11",
          "13:09:19",
          "13:09:41",
          "13:10:28",
          "13:11:01",
          "13:11:09",
          "13:11:13",
          "13:11:13",
          "13:11:49",
          "13:12:37",
          "13:13:50",
          "13:13:52",
          "13:14:04",
          "13:15:02",
          "13:15:06",
          "13:16:44",
          "13:16:52",
          "13:17:43",
          "13:18:00",
          "13:18:02",
          "13:18:54",
          "13:19:03",
          "13:20:26",
          "13:24:05",
          "13:24:23",
          "13:24:30",
          "13:25:03",
          "13:25:21",
          "13:26:13",
          "13:26:21",
          "13:26:44",
          "13:27:01",
          "13:27:12",
          "13:27:23",
          "13:28:07",
          "13:28:09",
          "13:30:02",
          "13:30:30",
          "13:32:32",
          "13:32:46",
          "13:33:54",
          "13:34:45",
          "13:35:30",
          "13:36:03",
          "13:37:52",
          "13:38:30",
          "13:39:38",
          "13:39:58",
          "13:40:30"
         ],
         "xaxis": "x",
         "y": [
          2.04,
          0.98,
          1,
          1.01,
          3.06,
          34.34,
          1.96,
          1.01,
          0.99,
          2,
          1.02,
          0.99,
          2.97,
          1,
          8.91,
          1.02,
          1,
          1,
          1,
          1,
          0.98,
          1,
          0.99,
          2.94,
          8,
          8.33,
          0.98,
          1.04,
          2,
          14.14,
          6.67,
          0.98,
          4,
          1,
          1.01,
          0.97,
          1,
          1.02,
          1.04,
          16,
          1,
          1.01,
          3,
          14.29,
          1,
          1.01,
          6.06,
          1,
          1.04,
          1.01,
          0.98,
          1.03,
          4.04,
          1.01,
          0.98,
          0.99,
          1,
          8.25,
          1.02,
          1.01,
          1.01,
          5.05,
          1,
          1.01,
          1.02,
          1.02,
          1.02,
          1.02,
          0.99,
          2,
          1.04,
          0.99,
          9.9,
          1,
          0.99,
          10.53,
          1.01,
          1.02,
          1.05,
          0.99,
          1.01,
          4.04,
          5.83,
          0.99,
          0.99,
          1.01,
          1,
          1,
          0.99,
          13.27,
          0.99,
          0.99,
          1.01,
          1.39,
          2.78,
          1.23,
          1.08,
          2.53,
          1.64,
          1.09,
          1.03,
          2.04,
          1.01,
          1,
          1.01,
          2.02,
          1.02,
          1.02,
          1,
          1.02,
          1.06,
          1.05,
          2,
          1.1,
          1,
          1.03,
          1.02,
          1,
          1,
          0.98,
          1,
          1.02,
          1.01,
          1.04,
          0.99,
          1.3,
          2.02,
          12.5,
          1.01,
          1.09,
          0.99,
          30.93,
          1.01,
          1.03,
          2.13,
          4.12,
          1,
          1.02,
          1.01,
          1.03,
          1.02,
          5.94,
          1,
          2.13,
          1.02,
          1.02,
          1,
          1,
          1.01,
          1,
          9.18,
          2.02,
          25,
          1.02,
          1.05,
          2.08,
          2.06,
          14.58,
          1.04,
          1.02,
          1.03,
          4.12,
          1,
          1.96,
          1.02,
          6.12,
          1.03,
          0.99,
          1.1,
          2.13,
          1.02,
          3.33,
          1.03,
          1.08,
          1.1,
          1.02,
          2,
          4.04,
          3.16,
          1,
          1.09,
          1.01,
          1.08,
          0.99,
          0.99,
          1,
          0.98,
          1,
          0.99,
          0.98,
          2,
          1.23,
          1.1,
          1.15,
          1.23,
          1.32,
          2.56,
          1.01,
          1.03,
          2.02,
          1.06,
          1.01,
          1.02,
          1.01,
          1,
          4.95,
          0.98,
          1,
          0.99,
          1.02,
          1.02,
          3.03,
          19.78,
          1.03,
          0.98,
          2.04,
          0.98,
          1.02,
          4.04,
          1,
          0.99,
          0.99,
          1.02,
          0.99,
          1,
          1,
          1,
          1.02,
          1.02,
          1.08,
          1,
          0.99,
          1,
          0.96,
          5.71,
          1.03,
          1.03,
          1.01,
          1,
          1,
          2.02,
          1,
          1.01,
          3.41,
          1,
          3,
          7.07,
          1.01,
          1.02,
          1,
          1.96,
          1.04,
          1.02,
          1.02,
          8.42,
          1,
          1.03,
          1.03,
          5.32,
          1,
          1,
          0.98,
          1.01,
          0.99,
          0.99,
          1.01,
          1.02,
          17.17,
          5.26,
          0.92,
          6.12,
          2.02,
          1,
          3.06,
          1.98,
          1.03,
          1,
          6.93,
          0.97,
          1.02,
          1,
          3.96,
          1.02,
          1.03,
          10.2,
          1.02,
          2.17,
          1,
          1,
          1.01,
          4.95,
          1.03,
          1.06,
          2.13,
          1.05,
          1.04,
          2.97,
          1.06,
          5.95,
          1.04,
          1.08,
          2.17,
          7.5,
          1.02,
          1,
          0.98,
          1.02,
          1.02,
          1.01,
          0.99,
          0.99,
          0.99,
          1.02,
          1.98,
          10.1,
          1.98,
          0.99,
          1,
          2,
          3,
          1.02
         ],
         "yaxis": "y"
        }
       ],
       "layout": {
        "barmode": "relative",
        "legend": {
         "tracegroupgap": 0
        },
        "template": {
         "data": {
          "bar": [
           {
            "error_x": {
             "color": "#2a3f5f"
            },
            "error_y": {
             "color": "#2a3f5f"
            },
            "marker": {
             "line": {
              "color": "#E5ECF6",
              "width": 0.5
             },
             "pattern": {
              "fillmode": "overlay",
              "size": 10,
              "solidity": 0.2
             }
            },
            "type": "bar"
           }
          ],
          "barpolar": [
           {
            "marker": {
             "line": {
              "color": "#E5ECF6",
              "width": 0.5
             },
             "pattern": {
              "fillmode": "overlay",
              "size": 10,
              "solidity": 0.2
             }
            },
            "type": "barpolar"
           }
          ],
          "carpet": [
           {
            "aaxis": {
             "endlinecolor": "#2a3f5f",
             "gridcolor": "white",
             "linecolor": "white",
             "minorgridcolor": "white",
             "startlinecolor": "#2a3f5f"
            },
            "baxis": {
             "endlinecolor": "#2a3f5f",
             "gridcolor": "white",
             "linecolor": "white",
             "minorgridcolor": "white",
             "startlinecolor": "#2a3f5f"
            },
            "type": "carpet"
           }
          ],
          "choropleth": [
           {
            "colorbar": {
             "outlinewidth": 0,
             "ticks": ""
            },
            "type": "choropleth"
           }
          ],
          "contour": [
           {
            "colorbar": {
             "outlinewidth": 0,
             "ticks": ""
            },
            "colorscale": [
             [
              0,
              "#0d0887"
             ],
             [
              0.1111111111111111,
              "#46039f"
             ],
             [
              0.2222222222222222,
              "#7201a8"
             ],
             [
              0.3333333333333333,
              "#9c179e"
             ],
             [
              0.4444444444444444,
              "#bd3786"
             ],
             [
              0.5555555555555556,
              "#d8576b"
             ],
             [
              0.6666666666666666,
              "#ed7953"
             ],
             [
              0.7777777777777778,
              "#fb9f3a"
             ],
             [
              0.8888888888888888,
              "#fdca26"
             ],
             [
              1,
              "#f0f921"
             ]
            ],
            "type": "contour"
           }
          ],
          "contourcarpet": [
           {
            "colorbar": {
             "outlinewidth": 0,
             "ticks": ""
            },
            "type": "contourcarpet"
           }
          ],
          "heatmap": [
           {
            "colorbar": {
             "outlinewidth": 0,
             "ticks": ""
            },
            "colorscale": [
             [
              0,
              "#0d0887"
             ],
             [
              0.1111111111111111,
              "#46039f"
             ],
             [
              0.2222222222222222,
              "#7201a8"
             ],
             [
              0.3333333333333333,
              "#9c179e"
             ],
             [
              0.4444444444444444,
              "#bd3786"
             ],
             [
              0.5555555555555556,
              "#d8576b"
             ],
             [
              0.6666666666666666,
              "#ed7953"
             ],
             [
              0.7777777777777778,
              "#fb9f3a"
             ],
             [
              0.8888888888888888,
              "#fdca26"
             ],
             [
              1,
              "#f0f921"
             ]
            ],
            "type": "heatmap"
           }
          ],
          "heatmapgl": [
           {
            "colorbar": {
             "outlinewidth": 0,
             "ticks": ""
            },
            "colorscale": [
             [
              0,
              "#0d0887"
             ],
             [
              0.1111111111111111,
              "#46039f"
             ],
             [
              0.2222222222222222,
              "#7201a8"
             ],
             [
              0.3333333333333333,
              "#9c179e"
             ],
             [
              0.4444444444444444,
              "#bd3786"
             ],
             [
              0.5555555555555556,
              "#d8576b"
             ],
             [
              0.6666666666666666,
              "#ed7953"
             ],
             [
              0.7777777777777778,
              "#fb9f3a"
             ],
             [
              0.8888888888888888,
              "#fdca26"
             ],
             [
              1,
              "#f0f921"
             ]
            ],
            "type": "heatmapgl"
           }
          ],
          "histogram": [
           {
            "marker": {
             "pattern": {
              "fillmode": "overlay",
              "size": 10,
              "solidity": 0.2
             }
            },
            "type": "histogram"
           }
          ],
          "histogram2d": [
           {
            "colorbar": {
             "outlinewidth": 0,
             "ticks": ""
            },
            "colorscale": [
             [
              0,
              "#0d0887"
             ],
             [
              0.1111111111111111,
              "#46039f"
             ],
             [
              0.2222222222222222,
              "#7201a8"
             ],
             [
              0.3333333333333333,
              "#9c179e"
             ],
             [
              0.4444444444444444,
              "#bd3786"
             ],
             [
              0.5555555555555556,
              "#d8576b"
             ],
             [
              0.6666666666666666,
              "#ed7953"
             ],
             [
              0.7777777777777778,
              "#fb9f3a"
             ],
             [
              0.8888888888888888,
              "#fdca26"
             ],
             [
              1,
              "#f0f921"
             ]
            ],
            "type": "histogram2d"
           }
          ],
          "histogram2dcontour": [
           {
            "colorbar": {
             "outlinewidth": 0,
             "ticks": ""
            },
            "colorscale": [
             [
              0,
              "#0d0887"
             ],
             [
              0.1111111111111111,
              "#46039f"
             ],
             [
              0.2222222222222222,
              "#7201a8"
             ],
             [
              0.3333333333333333,
              "#9c179e"
             ],
             [
              0.4444444444444444,
              "#bd3786"
             ],
             [
              0.5555555555555556,
              "#d8576b"
             ],
             [
              0.6666666666666666,
              "#ed7953"
             ],
             [
              0.7777777777777778,
              "#fb9f3a"
             ],
             [
              0.8888888888888888,
              "#fdca26"
             ],
             [
              1,
              "#f0f921"
             ]
            ],
            "type": "histogram2dcontour"
           }
          ],
          "mesh3d": [
           {
            "colorbar": {
             "outlinewidth": 0,
             "ticks": ""
            },
            "type": "mesh3d"
           }
          ],
          "parcoords": [
           {
            "line": {
             "colorbar": {
              "outlinewidth": 0,
              "ticks": ""
             }
            },
            "type": "parcoords"
           }
          ],
          "pie": [
           {
            "automargin": true,
            "type": "pie"
           }
          ],
          "scatter": [
           {
            "fillpattern": {
             "fillmode": "overlay",
             "size": 10,
             "solidity": 0.2
            },
            "type": "scatter"
           }
          ],
          "scatter3d": [
           {
            "line": {
             "colorbar": {
              "outlinewidth": 0,
              "ticks": ""
             }
            },
            "marker": {
             "colorbar": {
              "outlinewidth": 0,
              "ticks": ""
             }
            },
            "type": "scatter3d"
           }
          ],
          "scattercarpet": [
           {
            "marker": {
             "colorbar": {
              "outlinewidth": 0,
              "ticks": ""
             }
            },
            "type": "scattercarpet"
           }
          ],
          "scattergeo": [
           {
            "marker": {
             "colorbar": {
              "outlinewidth": 0,
              "ticks": ""
             }
            },
            "type": "scattergeo"
           }
          ],
          "scattergl": [
           {
            "marker": {
             "colorbar": {
              "outlinewidth": 0,
              "ticks": ""
             }
            },
            "type": "scattergl"
           }
          ],
          "scattermapbox": [
           {
            "marker": {
             "colorbar": {
              "outlinewidth": 0,
              "ticks": ""
             }
            },
            "type": "scattermapbox"
           }
          ],
          "scatterpolar": [
           {
            "marker": {
             "colorbar": {
              "outlinewidth": 0,
              "ticks": ""
             }
            },
            "type": "scatterpolar"
           }
          ],
          "scatterpolargl": [
           {
            "marker": {
             "colorbar": {
              "outlinewidth": 0,
              "ticks": ""
             }
            },
            "type": "scatterpolargl"
           }
          ],
          "scatterternary": [
           {
            "marker": {
             "colorbar": {
              "outlinewidth": 0,
              "ticks": ""
             }
            },
            "type": "scatterternary"
           }
          ],
          "surface": [
           {
            "colorbar": {
             "outlinewidth": 0,
             "ticks": ""
            },
            "colorscale": [
             [
              0,
              "#0d0887"
             ],
             [
              0.1111111111111111,
              "#46039f"
             ],
             [
              0.2222222222222222,
              "#7201a8"
             ],
             [
              0.3333333333333333,
              "#9c179e"
             ],
             [
              0.4444444444444444,
              "#bd3786"
             ],
             [
              0.5555555555555556,
              "#d8576b"
             ],
             [
              0.6666666666666666,
              "#ed7953"
             ],
             [
              0.7777777777777778,
              "#fb9f3a"
             ],
             [
              0.8888888888888888,
              "#fdca26"
             ],
             [
              1,
              "#f0f921"
             ]
            ],
            "type": "surface"
           }
          ],
          "table": [
           {
            "cells": {
             "fill": {
              "color": "#EBF0F8"
             },
             "line": {
              "color": "white"
             }
            },
            "header": {
             "fill": {
              "color": "#C8D4E3"
             },
             "line": {
              "color": "white"
             }
            },
            "type": "table"
           }
          ]
         },
         "layout": {
          "annotationdefaults": {
           "arrowcolor": "#2a3f5f",
           "arrowhead": 0,
           "arrowwidth": 1
          },
          "autotypenumbers": "strict",
          "coloraxis": {
           "colorbar": {
            "outlinewidth": 0,
            "ticks": ""
           }
          },
          "colorscale": {
           "diverging": [
            [
             0,
             "#8e0152"
            ],
            [
             0.1,
             "#c51b7d"
            ],
            [
             0.2,
             "#de77ae"
            ],
            [
             0.3,
             "#f1b6da"
            ],
            [
             0.4,
             "#fde0ef"
            ],
            [
             0.5,
             "#f7f7f7"
            ],
            [
             0.6,
             "#e6f5d0"
            ],
            [
             0.7,
             "#b8e186"
            ],
            [
             0.8,
             "#7fbc41"
            ],
            [
             0.9,
             "#4d9221"
            ],
            [
             1,
             "#276419"
            ]
           ],
           "sequential": [
            [
             0,
             "#0d0887"
            ],
            [
             0.1111111111111111,
             "#46039f"
            ],
            [
             0.2222222222222222,
             "#7201a8"
            ],
            [
             0.3333333333333333,
             "#9c179e"
            ],
            [
             0.4444444444444444,
             "#bd3786"
            ],
            [
             0.5555555555555556,
             "#d8576b"
            ],
            [
             0.6666666666666666,
             "#ed7953"
            ],
            [
             0.7777777777777778,
             "#fb9f3a"
            ],
            [
             0.8888888888888888,
             "#fdca26"
            ],
            [
             1,
             "#f0f921"
            ]
           ],
           "sequentialminus": [
            [
             0,
             "#0d0887"
            ],
            [
             0.1111111111111111,
             "#46039f"
            ],
            [
             0.2222222222222222,
             "#7201a8"
            ],
            [
             0.3333333333333333,
             "#9c179e"
            ],
            [
             0.4444444444444444,
             "#bd3786"
            ],
            [
             0.5555555555555556,
             "#d8576b"
            ],
            [
             0.6666666666666666,
             "#ed7953"
            ],
            [
             0.7777777777777778,
             "#fb9f3a"
            ],
            [
             0.8888888888888888,
             "#fdca26"
            ],
            [
             1,
             "#f0f921"
            ]
           ]
          },
          "colorway": [
           "#636efa",
           "#EF553B",
           "#00cc96",
           "#ab63fa",
           "#FFA15A",
           "#19d3f3",
           "#FF6692",
           "#B6E880",
           "#FF97FF",
           "#FECB52"
          ],
          "font": {
           "color": "#2a3f5f"
          },
          "geo": {
           "bgcolor": "white",
           "lakecolor": "white",
           "landcolor": "#E5ECF6",
           "showlakes": true,
           "showland": true,
           "subunitcolor": "white"
          },
          "hoverlabel": {
           "align": "left"
          },
          "hovermode": "closest",
          "mapbox": {
           "style": "light"
          },
          "paper_bgcolor": "white",
          "plot_bgcolor": "#E5ECF6",
          "polar": {
           "angularaxis": {
            "gridcolor": "white",
            "linecolor": "white",
            "ticks": ""
           },
           "bgcolor": "#E5ECF6",
           "radialaxis": {
            "gridcolor": "white",
            "linecolor": "white",
            "ticks": ""
           }
          },
          "scene": {
           "xaxis": {
            "backgroundcolor": "#E5ECF6",
            "gridcolor": "white",
            "gridwidth": 2,
            "linecolor": "white",
            "showbackground": true,
            "ticks": "",
            "zerolinecolor": "white"
           },
           "yaxis": {
            "backgroundcolor": "#E5ECF6",
            "gridcolor": "white",
            "gridwidth": 2,
            "linecolor": "white",
            "showbackground": true,
            "ticks": "",
            "zerolinecolor": "white"
           },
           "zaxis": {
            "backgroundcolor": "#E5ECF6",
            "gridcolor": "white",
            "gridwidth": 2,
            "linecolor": "white",
            "showbackground": true,
            "ticks": "",
            "zerolinecolor": "white"
           }
          },
          "shapedefaults": {
           "line": {
            "color": "#2a3f5f"
           }
          },
          "ternary": {
           "aaxis": {
            "gridcolor": "white",
            "linecolor": "white",
            "ticks": ""
           },
           "baxis": {
            "gridcolor": "white",
            "linecolor": "white",
            "ticks": ""
           },
           "bgcolor": "#E5ECF6",
           "caxis": {
            "gridcolor": "white",
            "linecolor": "white",
            "ticks": ""
           }
          },
          "title": {
           "x": 0.05
          },
          "xaxis": {
           "automargin": true,
           "gridcolor": "white",
           "linecolor": "white",
           "ticks": "",
           "title": {
            "standoff": 15
           },
           "zerolinecolor": "white",
           "zerolinewidth": 2
          },
          "yaxis": {
           "automargin": true,
           "gridcolor": "white",
           "linecolor": "white",
           "ticks": "",
           "title": {
            "standoff": 15
           },
           "zerolinecolor": "white",
           "zerolinewidth": 2
          }
         }
        },
        "title": {
         "text": "soft over time"
        },
        "xaxis": {
         "anchor": "y",
         "domain": [
          0,
          1
         ],
         "title": {
          "text": "timestamp"
         }
        },
        "yaxis": {
         "anchor": "x",
         "domain": [
          0,
          1
         ],
         "title": {
          "text": "sum of soft"
         }
        }
       }
      }
     },
     "metadata": {},
     "output_type": "display_data"
    },
    {
     "data": {
      "application/vnd.plotly.v1+json": {
       "config": {
        "plotlyServerURL": "https://plot.ly"
       },
       "data": [
        {
         "alignmentgroup": "True",
         "bingroup": "x",
         "histfunc": "sum",
         "hovertemplate": "timestamp=%{x}<br>sum of guest=%{y}<extra></extra>",
         "legendgroup": "",
         "marker": {
          "color": "#636efa",
          "pattern": {
           "shape": ""
          }
         },
         "name": "",
         "offsetgroup": "",
         "orientation": "v",
         "showlegend": false,
         "type": "histogram",
         "x": [
          "11:21:40",
          "11:21:54",
          "11:22:14",
          "11:22:21",
          "11:22:34",
          "11:22:46",
          "11:22:51",
          "11:23:12",
          "11:24:12",
          "11:24:42",
          "11:27:08",
          "11:27:21",
          "11:29:04",
          "11:29:53",
          "11:30:26",
          "11:35:17",
          "11:36:41",
          "11:36:52",
          "11:36:59",
          "11:37:07",
          "11:37:13",
          "11:37:13",
          "11:37:15",
          "11:37:18",
          "11:37:19",
          "11:37:20",
          "11:37:26",
          "11:37:26",
          "11:37:27",
          "11:37:40",
          "11:37:43",
          "11:38:01",
          "11:38:22",
          "11:38:41",
          "11:38:57",
          "11:39:20",
          "11:39:23",
          "11:39:25",
          "11:39:38",
          "11:39:41",
          "11:39:58",
          "11:40:12",
          "11:40:23",
          "11:40:36",
          "11:40:59",
          "11:41:07",
          "11:41:12",
          "11:41:16",
          "11:41:54",
          "11:41:54",
          "11:42:13",
          "11:42:39",
          "11:44:07",
          "11:44:09",
          "11:44:41",
          "11:44:54",
          "11:45:49",
          "11:45:59",
          "11:46:36",
          "11:46:58",
          "11:47:06",
          "11:48:03",
          "11:48:19",
          "11:48:45",
          "11:49:55",
          "11:52:24",
          "11:52:43",
          "11:53:21",
          "11:53:45",
          "11:54:09",
          "11:54:29",
          "11:54:30",
          "11:54:31",
          "11:54:52",
          "11:55:36",
          "11:56:01",
          "11:56:06",
          "11:56:09",
          "11:56:43",
          "11:56:49",
          "11:57:15",
          "11:57:31",
          "11:57:47",
          "11:57:48",
          "11:58:27",
          "11:58:29",
          "11:58:31",
          "11:59:29",
          "11:59:54",
          "12:00:11",
          "12:00:31",
          "12:00:34",
          "12:01:22",
          "12:01:41",
          "12:01:41",
          "12:01:51",
          "12:01:52",
          "12:01:54",
          "12:01:59",
          "12:01:59",
          "12:01:59",
          "12:02:00",
          "12:02:26",
          "12:02:32",
          "12:02:33",
          "12:02:33",
          "12:02:34",
          "12:02:47",
          "12:03:08",
          "12:03:24",
          "12:03:30",
          "12:03:33",
          "12:03:43",
          "12:04:01",
          "12:04:10",
          "12:04:26",
          "12:04:42",
          "12:04:43",
          "12:05:24",
          "12:05:29",
          "12:05:38",
          "12:05:56",
          "12:05:58",
          "12:06:04",
          "12:06:18",
          "12:06:20",
          "12:06:57",
          "12:07:03",
          "12:07:18",
          "12:07:35",
          "12:08:16",
          "12:08:23",
          "12:08:23",
          "12:08:49",
          "12:08:50",
          "12:09:27",
          "12:09:27",
          "12:09:46",
          "12:09:50",
          "12:09:54",
          "12:09:54",
          "12:10:48",
          "12:11:06",
          "12:11:17",
          "12:11:33",
          "12:11:56",
          "12:12:06",
          "12:12:30",
          "12:12:34",
          "12:12:35",
          "12:12:36",
          "12:13:04",
          "12:13:33",
          "12:13:38",
          "12:13:40",
          "12:14:05",
          "12:14:17",
          "12:14:31",
          "12:14:37",
          "12:15:40",
          "12:15:51",
          "12:15:52",
          "12:16:03",
          "12:17:34",
          "12:19:04",
          "12:19:13",
          "12:19:20",
          "12:19:41",
          "12:20:03",
          "12:20:31",
          "12:20:38",
          "12:20:44",
          "12:20:50",
          "12:20:53",
          "12:21:35",
          "12:23:20",
          "12:24:07",
          "12:24:07",
          "12:24:08",
          "12:24:08",
          "12:24:10",
          "12:24:40",
          "12:25:02",
          "12:25:12",
          "12:25:22",
          "12:27:06",
          "12:27:40",
          "12:27:48",
          "12:28:29",
          "12:28:50",
          "12:28:53",
          "12:29:58",
          "12:30:02",
          "12:30:03",
          "12:30:03",
          "12:30:07",
          "12:30:27",
          "12:30:32",
          "12:30:36",
          "12:30:53",
          "12:31:39",
          "12:32:36",
          "12:32:50",
          "12:32:51",
          "12:32:56",
          "12:33:12",
          "12:33:13",
          "12:33:21",
          "12:34:02",
          "12:34:58",
          "12:35:03",
          "12:35:05",
          "12:35:06",
          "12:35:43",
          "12:36:04",
          "12:36:08",
          "12:36:14",
          "12:36:15",
          "12:36:21",
          "12:37:11",
          "12:37:22",
          "12:37:24",
          "12:37:26",
          "12:37:28",
          "12:37:46",
          "12:37:56",
          "12:38:09",
          "12:38:22",
          "12:38:27",
          "12:38:49",
          "12:39:12",
          "12:40:56",
          "12:40:56",
          "12:41:03",
          "12:41:05",
          "12:41:23",
          "12:42:23",
          "12:45:12",
          "12:45:34",
          "12:46:11",
          "12:47:04",
          "12:47:04",
          "12:47:19",
          "12:47:51",
          "12:47:53",
          "12:48:07",
          "12:48:44",
          "12:50:39",
          "12:51:42",
          "12:53:43",
          "12:54:06",
          "12:54:12",
          "12:56:55",
          "12:58:52",
          "12:59:07",
          "13:01:49",
          "13:02:39",
          "13:03:14",
          "13:03:40",
          "13:04:20",
          "13:04:25",
          "13:05:07",
          "13:05:13",
          "13:05:40",
          "13:06:32",
          "13:06:38",
          "13:06:54",
          "13:07:34",
          "13:08:50",
          "13:08:51",
          "13:08:52",
          "13:09:09",
          "13:09:11",
          "13:09:19",
          "13:09:41",
          "13:10:28",
          "13:11:01",
          "13:11:09",
          "13:11:13",
          "13:11:13",
          "13:11:49",
          "13:12:37",
          "13:13:50",
          "13:13:52",
          "13:14:04",
          "13:15:02",
          "13:15:06",
          "13:16:44",
          "13:16:52",
          "13:17:43",
          "13:18:00",
          "13:18:02",
          "13:18:54",
          "13:19:03",
          "13:20:26",
          "13:24:05",
          "13:24:23",
          "13:24:30",
          "13:25:03",
          "13:25:21",
          "13:26:13",
          "13:26:21",
          "13:26:44",
          "13:27:01",
          "13:27:12",
          "13:27:23",
          "13:28:07",
          "13:28:09",
          "13:30:02",
          "13:30:30",
          "13:32:32",
          "13:32:46",
          "13:33:54",
          "13:34:45",
          "13:35:30",
          "13:36:03",
          "13:37:52",
          "13:38:30",
          "13:39:38",
          "13:39:58",
          "13:40:30"
         ],
         "xaxis": "x",
         "y": [
          64.29,
          21.57,
          3,
          15.15,
          2.04,
          27.27,
          2.94,
          1.01,
          0.99,
          38,
          6.12,
          31.68,
          79.21,
          2,
          4.95,
          2.04,
          1,
          28,
          15,
          1,
          21.57,
          4,
          2.97,
          2.94,
          40,
          5.21,
          37.25,
          3.12,
          8,
          15.15,
          3.81,
          37.25,
          16,
          13,
          45.45,
          1.94,
          8,
          16.33,
          17.71,
          37,
          20,
          8.08,
          1,
          3.06,
          7,
          16.16,
          1.01,
          13,
          5.21,
          2.02,
          15.69,
          9.28,
          4.04,
          15.15,
          1.96,
          3.96,
          13,
          1.03,
          1.02,
          5.05,
          4.04,
          2.02,
          20,
          7.07,
          14.29,
          2.04,
          5.1,
          8.16,
          5.94,
          1,
          3.12,
          6.93,
          2.97,
          1,
          5.94,
          1.05,
          1.01,
          32.65,
          24.21,
          13.86,
          6.06,
          1.01,
          8.74,
          38.61,
          1.98,
          1.01,
          44,
          23,
          6.93,
          1.02,
          16.83,
          11.88,
          23.23,
          26.39,
          51.39,
          43.21,
          2.15,
          35.44,
          39.34,
          4.35,
          8.25,
          5.1,
          1.01,
          7,
          43.43,
          31.31,
          5.1,
          1.02,
          2,
          17.35,
          7.45,
          5.26,
          17,
          7.69,
          10,
          1.03,
          22.45,
          2,
          5,
          30.39,
          10,
          24.49,
          1.01,
          31.25,
          0.99,
          1.3,
          3.03,
          11.46,
          4.04,
          21.74,
          7.92,
          1.03,
          9.09,
          34.02,
          4.26,
          45.36,
          33,
          13.27,
          7.07,
          25.77,
          3.06,
          1.98,
          19,
          1.06,
          8.16,
          2.04,
          3,
          1,
          1.01,
          3,
          1.02,
          21.21,
          6.25,
          1.02,
          16.84,
          27.08,
          27.84,
          9.38,
          3.12,
          22.45,
          4.12,
          1.03,
          10,
          17.65,
          26.53,
          4.08,
          3.09,
          59.41,
          1.1,
          1.06,
          7.14,
          13.33,
          3.09,
          4.3,
          43.96,
          21.43,
          1,
          50.51,
          51.58,
          52,
          5.43,
          3.03,
          10.75,
          12.87,
          42.57,
          19,
          18.63,
          14,
          46.53,
          27.45,
          60,
          1.23,
          3.3,
          20.69,
          35.8,
          38.16,
          41.03,
          5.05,
          16.49,
          10.1,
          26.6,
          4.04,
          1.02,
          4.04,
          4,
          7.92,
          0.98,
          7,
          32.67,
          9.18,
          14.29,
          3.03,
          8.79,
          31.96,
          62.75,
          25.51,
          5.88,
          3.06,
          5.05,
          20,
          10.89,
          53.47,
          32.65,
          27.72,
          4,
          9,
          1,
          1.02,
          2.04,
          6.45,
          1,
          7.92,
          3,
          29.81,
          6.67,
          12.37,
          24.74,
          19.19,
          1,
          3,
          30.3,
          1,
          15.15,
          7.95,
          23,
          3,
          17.17,
          10.1,
          1.02,
          8,
          38.24,
          17.71,
          7.14,
          1.02,
          2.11,
          9,
          47.42,
          5.15,
          2.13,
          32,
          1,
          0.98,
          3.03,
          29.7,
          7.92,
          4.04,
          21.43,
          4.04,
          1.05,
          12.84,
          2.04,
          9.09,
          3,
          4.08,
          3.96,
          1.03,
          1,
          8.91,
          0.97,
          2.04,
          3,
          33.66,
          1.02,
          10.31,
          8.16,
          18.37,
          35.87,
          1,
          8,
          12.12,
          0.99,
          1.03,
          1.06,
          6.38,
          3.16,
          33.33,
          6.93,
          5.32,
          3.57,
          44.79,
          5.38,
          42.39,
          2.5,
          30.61,
          4,
          0.98,
          20.41,
          41.84,
          40.4,
          28.71,
          0.99,
          8.91,
          27.55,
          56.44,
          8.08,
          42.57,
          0.99,
          36,
          1,
          9,
          3.06
         ],
         "yaxis": "y"
        }
       ],
       "layout": {
        "barmode": "relative",
        "legend": {
         "tracegroupgap": 0
        },
        "template": {
         "data": {
          "bar": [
           {
            "error_x": {
             "color": "#2a3f5f"
            },
            "error_y": {
             "color": "#2a3f5f"
            },
            "marker": {
             "line": {
              "color": "#E5ECF6",
              "width": 0.5
             },
             "pattern": {
              "fillmode": "overlay",
              "size": 10,
              "solidity": 0.2
             }
            },
            "type": "bar"
           }
          ],
          "barpolar": [
           {
            "marker": {
             "line": {
              "color": "#E5ECF6",
              "width": 0.5
             },
             "pattern": {
              "fillmode": "overlay",
              "size": 10,
              "solidity": 0.2
             }
            },
            "type": "barpolar"
           }
          ],
          "carpet": [
           {
            "aaxis": {
             "endlinecolor": "#2a3f5f",
             "gridcolor": "white",
             "linecolor": "white",
             "minorgridcolor": "white",
             "startlinecolor": "#2a3f5f"
            },
            "baxis": {
             "endlinecolor": "#2a3f5f",
             "gridcolor": "white",
             "linecolor": "white",
             "minorgridcolor": "white",
             "startlinecolor": "#2a3f5f"
            },
            "type": "carpet"
           }
          ],
          "choropleth": [
           {
            "colorbar": {
             "outlinewidth": 0,
             "ticks": ""
            },
            "type": "choropleth"
           }
          ],
          "contour": [
           {
            "colorbar": {
             "outlinewidth": 0,
             "ticks": ""
            },
            "colorscale": [
             [
              0,
              "#0d0887"
             ],
             [
              0.1111111111111111,
              "#46039f"
             ],
             [
              0.2222222222222222,
              "#7201a8"
             ],
             [
              0.3333333333333333,
              "#9c179e"
             ],
             [
              0.4444444444444444,
              "#bd3786"
             ],
             [
              0.5555555555555556,
              "#d8576b"
             ],
             [
              0.6666666666666666,
              "#ed7953"
             ],
             [
              0.7777777777777778,
              "#fb9f3a"
             ],
             [
              0.8888888888888888,
              "#fdca26"
             ],
             [
              1,
              "#f0f921"
             ]
            ],
            "type": "contour"
           }
          ],
          "contourcarpet": [
           {
            "colorbar": {
             "outlinewidth": 0,
             "ticks": ""
            },
            "type": "contourcarpet"
           }
          ],
          "heatmap": [
           {
            "colorbar": {
             "outlinewidth": 0,
             "ticks": ""
            },
            "colorscale": [
             [
              0,
              "#0d0887"
             ],
             [
              0.1111111111111111,
              "#46039f"
             ],
             [
              0.2222222222222222,
              "#7201a8"
             ],
             [
              0.3333333333333333,
              "#9c179e"
             ],
             [
              0.4444444444444444,
              "#bd3786"
             ],
             [
              0.5555555555555556,
              "#d8576b"
             ],
             [
              0.6666666666666666,
              "#ed7953"
             ],
             [
              0.7777777777777778,
              "#fb9f3a"
             ],
             [
              0.8888888888888888,
              "#fdca26"
             ],
             [
              1,
              "#f0f921"
             ]
            ],
            "type": "heatmap"
           }
          ],
          "heatmapgl": [
           {
            "colorbar": {
             "outlinewidth": 0,
             "ticks": ""
            },
            "colorscale": [
             [
              0,
              "#0d0887"
             ],
             [
              0.1111111111111111,
              "#46039f"
             ],
             [
              0.2222222222222222,
              "#7201a8"
             ],
             [
              0.3333333333333333,
              "#9c179e"
             ],
             [
              0.4444444444444444,
              "#bd3786"
             ],
             [
              0.5555555555555556,
              "#d8576b"
             ],
             [
              0.6666666666666666,
              "#ed7953"
             ],
             [
              0.7777777777777778,
              "#fb9f3a"
             ],
             [
              0.8888888888888888,
              "#fdca26"
             ],
             [
              1,
              "#f0f921"
             ]
            ],
            "type": "heatmapgl"
           }
          ],
          "histogram": [
           {
            "marker": {
             "pattern": {
              "fillmode": "overlay",
              "size": 10,
              "solidity": 0.2
             }
            },
            "type": "histogram"
           }
          ],
          "histogram2d": [
           {
            "colorbar": {
             "outlinewidth": 0,
             "ticks": ""
            },
            "colorscale": [
             [
              0,
              "#0d0887"
             ],
             [
              0.1111111111111111,
              "#46039f"
             ],
             [
              0.2222222222222222,
              "#7201a8"
             ],
             [
              0.3333333333333333,
              "#9c179e"
             ],
             [
              0.4444444444444444,
              "#bd3786"
             ],
             [
              0.5555555555555556,
              "#d8576b"
             ],
             [
              0.6666666666666666,
              "#ed7953"
             ],
             [
              0.7777777777777778,
              "#fb9f3a"
             ],
             [
              0.8888888888888888,
              "#fdca26"
             ],
             [
              1,
              "#f0f921"
             ]
            ],
            "type": "histogram2d"
           }
          ],
          "histogram2dcontour": [
           {
            "colorbar": {
             "outlinewidth": 0,
             "ticks": ""
            },
            "colorscale": [
             [
              0,
              "#0d0887"
             ],
             [
              0.1111111111111111,
              "#46039f"
             ],
             [
              0.2222222222222222,
              "#7201a8"
             ],
             [
              0.3333333333333333,
              "#9c179e"
             ],
             [
              0.4444444444444444,
              "#bd3786"
             ],
             [
              0.5555555555555556,
              "#d8576b"
             ],
             [
              0.6666666666666666,
              "#ed7953"
             ],
             [
              0.7777777777777778,
              "#fb9f3a"
             ],
             [
              0.8888888888888888,
              "#fdca26"
             ],
             [
              1,
              "#f0f921"
             ]
            ],
            "type": "histogram2dcontour"
           }
          ],
          "mesh3d": [
           {
            "colorbar": {
             "outlinewidth": 0,
             "ticks": ""
            },
            "type": "mesh3d"
           }
          ],
          "parcoords": [
           {
            "line": {
             "colorbar": {
              "outlinewidth": 0,
              "ticks": ""
             }
            },
            "type": "parcoords"
           }
          ],
          "pie": [
           {
            "automargin": true,
            "type": "pie"
           }
          ],
          "scatter": [
           {
            "fillpattern": {
             "fillmode": "overlay",
             "size": 10,
             "solidity": 0.2
            },
            "type": "scatter"
           }
          ],
          "scatter3d": [
           {
            "line": {
             "colorbar": {
              "outlinewidth": 0,
              "ticks": ""
             }
            },
            "marker": {
             "colorbar": {
              "outlinewidth": 0,
              "ticks": ""
             }
            },
            "type": "scatter3d"
           }
          ],
          "scattercarpet": [
           {
            "marker": {
             "colorbar": {
              "outlinewidth": 0,
              "ticks": ""
             }
            },
            "type": "scattercarpet"
           }
          ],
          "scattergeo": [
           {
            "marker": {
             "colorbar": {
              "outlinewidth": 0,
              "ticks": ""
             }
            },
            "type": "scattergeo"
           }
          ],
          "scattergl": [
           {
            "marker": {
             "colorbar": {
              "outlinewidth": 0,
              "ticks": ""
             }
            },
            "type": "scattergl"
           }
          ],
          "scattermapbox": [
           {
            "marker": {
             "colorbar": {
              "outlinewidth": 0,
              "ticks": ""
             }
            },
            "type": "scattermapbox"
           }
          ],
          "scatterpolar": [
           {
            "marker": {
             "colorbar": {
              "outlinewidth": 0,
              "ticks": ""
             }
            },
            "type": "scatterpolar"
           }
          ],
          "scatterpolargl": [
           {
            "marker": {
             "colorbar": {
              "outlinewidth": 0,
              "ticks": ""
             }
            },
            "type": "scatterpolargl"
           }
          ],
          "scatterternary": [
           {
            "marker": {
             "colorbar": {
              "outlinewidth": 0,
              "ticks": ""
             }
            },
            "type": "scatterternary"
           }
          ],
          "surface": [
           {
            "colorbar": {
             "outlinewidth": 0,
             "ticks": ""
            },
            "colorscale": [
             [
              0,
              "#0d0887"
             ],
             [
              0.1111111111111111,
              "#46039f"
             ],
             [
              0.2222222222222222,
              "#7201a8"
             ],
             [
              0.3333333333333333,
              "#9c179e"
             ],
             [
              0.4444444444444444,
              "#bd3786"
             ],
             [
              0.5555555555555556,
              "#d8576b"
             ],
             [
              0.6666666666666666,
              "#ed7953"
             ],
             [
              0.7777777777777778,
              "#fb9f3a"
             ],
             [
              0.8888888888888888,
              "#fdca26"
             ],
             [
              1,
              "#f0f921"
             ]
            ],
            "type": "surface"
           }
          ],
          "table": [
           {
            "cells": {
             "fill": {
              "color": "#EBF0F8"
             },
             "line": {
              "color": "white"
             }
            },
            "header": {
             "fill": {
              "color": "#C8D4E3"
             },
             "line": {
              "color": "white"
             }
            },
            "type": "table"
           }
          ]
         },
         "layout": {
          "annotationdefaults": {
           "arrowcolor": "#2a3f5f",
           "arrowhead": 0,
           "arrowwidth": 1
          },
          "autotypenumbers": "strict",
          "coloraxis": {
           "colorbar": {
            "outlinewidth": 0,
            "ticks": ""
           }
          },
          "colorscale": {
           "diverging": [
            [
             0,
             "#8e0152"
            ],
            [
             0.1,
             "#c51b7d"
            ],
            [
             0.2,
             "#de77ae"
            ],
            [
             0.3,
             "#f1b6da"
            ],
            [
             0.4,
             "#fde0ef"
            ],
            [
             0.5,
             "#f7f7f7"
            ],
            [
             0.6,
             "#e6f5d0"
            ],
            [
             0.7,
             "#b8e186"
            ],
            [
             0.8,
             "#7fbc41"
            ],
            [
             0.9,
             "#4d9221"
            ],
            [
             1,
             "#276419"
            ]
           ],
           "sequential": [
            [
             0,
             "#0d0887"
            ],
            [
             0.1111111111111111,
             "#46039f"
            ],
            [
             0.2222222222222222,
             "#7201a8"
            ],
            [
             0.3333333333333333,
             "#9c179e"
            ],
            [
             0.4444444444444444,
             "#bd3786"
            ],
            [
             0.5555555555555556,
             "#d8576b"
            ],
            [
             0.6666666666666666,
             "#ed7953"
            ],
            [
             0.7777777777777778,
             "#fb9f3a"
            ],
            [
             0.8888888888888888,
             "#fdca26"
            ],
            [
             1,
             "#f0f921"
            ]
           ],
           "sequentialminus": [
            [
             0,
             "#0d0887"
            ],
            [
             0.1111111111111111,
             "#46039f"
            ],
            [
             0.2222222222222222,
             "#7201a8"
            ],
            [
             0.3333333333333333,
             "#9c179e"
            ],
            [
             0.4444444444444444,
             "#bd3786"
            ],
            [
             0.5555555555555556,
             "#d8576b"
            ],
            [
             0.6666666666666666,
             "#ed7953"
            ],
            [
             0.7777777777777778,
             "#fb9f3a"
            ],
            [
             0.8888888888888888,
             "#fdca26"
            ],
            [
             1,
             "#f0f921"
            ]
           ]
          },
          "colorway": [
           "#636efa",
           "#EF553B",
           "#00cc96",
           "#ab63fa",
           "#FFA15A",
           "#19d3f3",
           "#FF6692",
           "#B6E880",
           "#FF97FF",
           "#FECB52"
          ],
          "font": {
           "color": "#2a3f5f"
          },
          "geo": {
           "bgcolor": "white",
           "lakecolor": "white",
           "landcolor": "#E5ECF6",
           "showlakes": true,
           "showland": true,
           "subunitcolor": "white"
          },
          "hoverlabel": {
           "align": "left"
          },
          "hovermode": "closest",
          "mapbox": {
           "style": "light"
          },
          "paper_bgcolor": "white",
          "plot_bgcolor": "#E5ECF6",
          "polar": {
           "angularaxis": {
            "gridcolor": "white",
            "linecolor": "white",
            "ticks": ""
           },
           "bgcolor": "#E5ECF6",
           "radialaxis": {
            "gridcolor": "white",
            "linecolor": "white",
            "ticks": ""
           }
          },
          "scene": {
           "xaxis": {
            "backgroundcolor": "#E5ECF6",
            "gridcolor": "white",
            "gridwidth": 2,
            "linecolor": "white",
            "showbackground": true,
            "ticks": "",
            "zerolinecolor": "white"
           },
           "yaxis": {
            "backgroundcolor": "#E5ECF6",
            "gridcolor": "white",
            "gridwidth": 2,
            "linecolor": "white",
            "showbackground": true,
            "ticks": "",
            "zerolinecolor": "white"
           },
           "zaxis": {
            "backgroundcolor": "#E5ECF6",
            "gridcolor": "white",
            "gridwidth": 2,
            "linecolor": "white",
            "showbackground": true,
            "ticks": "",
            "zerolinecolor": "white"
           }
          },
          "shapedefaults": {
           "line": {
            "color": "#2a3f5f"
           }
          },
          "ternary": {
           "aaxis": {
            "gridcolor": "white",
            "linecolor": "white",
            "ticks": ""
           },
           "baxis": {
            "gridcolor": "white",
            "linecolor": "white",
            "ticks": ""
           },
           "bgcolor": "#E5ECF6",
           "caxis": {
            "gridcolor": "white",
            "linecolor": "white",
            "ticks": ""
           }
          },
          "title": {
           "x": 0.05
          },
          "xaxis": {
           "automargin": true,
           "gridcolor": "white",
           "linecolor": "white",
           "ticks": "",
           "title": {
            "standoff": 15
           },
           "zerolinecolor": "white",
           "zerolinewidth": 2
          },
          "yaxis": {
           "automargin": true,
           "gridcolor": "white",
           "linecolor": "white",
           "ticks": "",
           "title": {
            "standoff": 15
           },
           "zerolinecolor": "white",
           "zerolinewidth": 2
          }
         }
        },
        "title": {
         "text": "guest over time"
        },
        "xaxis": {
         "anchor": "y",
         "domain": [
          0,
          1
         ],
         "title": {
          "text": "timestamp"
         }
        },
        "yaxis": {
         "anchor": "x",
         "domain": [
          0,
          1
         ],
         "title": {
          "text": "sum of guest"
         }
        }
       }
      }
     },
     "metadata": {},
     "output_type": "display_data"
    },
    {
     "data": {
      "application/vnd.plotly.v1+json": {
       "config": {
        "plotlyServerURL": "https://plot.ly"
       },
       "data": [
        {
         "alignmentgroup": "True",
         "bingroup": "x",
         "histfunc": "sum",
         "hovertemplate": "timestamp=%{x}<br>sum of idle=%{y}<extra></extra>",
         "legendgroup": "",
         "marker": {
          "color": "#636efa",
          "pattern": {
           "shape": ""
          }
         },
         "name": "",
         "offsetgroup": "",
         "orientation": "v",
         "showlegend": false,
         "type": "histogram",
         "x": [
          "11:21:40",
          "11:21:54",
          "11:22:14",
          "11:22:21",
          "11:22:34",
          "11:22:46",
          "11:22:51",
          "11:23:12",
          "11:24:12",
          "11:24:42",
          "11:27:08",
          "11:27:21",
          "11:29:04",
          "11:29:53",
          "11:30:26",
          "11:35:17",
          "11:36:41",
          "11:36:52",
          "11:36:59",
          "11:37:07",
          "11:37:13",
          "11:37:13",
          "11:37:15",
          "11:37:18",
          "11:37:19",
          "11:37:20",
          "11:37:26",
          "11:37:26",
          "11:37:27",
          "11:37:40",
          "11:37:43",
          "11:38:01",
          "11:38:22",
          "11:38:41",
          "11:38:57",
          "11:39:20",
          "11:39:23",
          "11:39:25",
          "11:39:38",
          "11:39:41",
          "11:39:58",
          "11:40:12",
          "11:40:23",
          "11:40:36",
          "11:40:59",
          "11:41:07",
          "11:41:12",
          "11:41:16",
          "11:41:54",
          "11:41:54",
          "11:42:13",
          "11:42:39",
          "11:44:07",
          "11:44:09",
          "11:44:41",
          "11:44:54",
          "11:45:49",
          "11:45:59",
          "11:46:36",
          "11:46:58",
          "11:47:06",
          "11:48:03",
          "11:48:19",
          "11:48:45",
          "11:49:55",
          "11:52:24",
          "11:52:43",
          "11:53:21",
          "11:53:45",
          "11:54:09",
          "11:54:29",
          "11:54:30",
          "11:54:31",
          "11:54:52",
          "11:55:36",
          "11:56:01",
          "11:56:06",
          "11:56:09",
          "11:56:43",
          "11:56:49",
          "11:57:15",
          "11:57:31",
          "11:57:47",
          "11:57:48",
          "11:58:27",
          "11:58:29",
          "11:58:31",
          "11:59:29",
          "11:59:54",
          "12:00:11",
          "12:00:31",
          "12:00:34",
          "12:01:22",
          "12:01:41",
          "12:01:41",
          "12:01:51",
          "12:01:52",
          "12:01:54",
          "12:01:59",
          "12:01:59",
          "12:01:59",
          "12:02:00",
          "12:02:26",
          "12:02:32",
          "12:02:33",
          "12:02:33",
          "12:02:34",
          "12:02:47",
          "12:03:08",
          "12:03:24",
          "12:03:30",
          "12:03:33",
          "12:03:43",
          "12:04:01",
          "12:04:10",
          "12:04:26",
          "12:04:42",
          "12:04:43",
          "12:05:24",
          "12:05:29",
          "12:05:38",
          "12:05:56",
          "12:05:58",
          "12:06:04",
          "12:06:18",
          "12:06:20",
          "12:06:57",
          "12:07:03",
          "12:07:18",
          "12:07:35",
          "12:08:16",
          "12:08:23",
          "12:08:23",
          "12:08:49",
          "12:08:50",
          "12:09:27",
          "12:09:27",
          "12:09:46",
          "12:09:50",
          "12:09:54",
          "12:09:54",
          "12:10:48",
          "12:11:06",
          "12:11:17",
          "12:11:33",
          "12:11:56",
          "12:12:06",
          "12:12:30",
          "12:12:34",
          "12:12:35",
          "12:12:36",
          "12:13:04",
          "12:13:33",
          "12:13:38",
          "12:13:40",
          "12:14:05",
          "12:14:17",
          "12:14:31",
          "12:14:37",
          "12:15:40",
          "12:15:51",
          "12:15:52",
          "12:16:03",
          "12:17:34",
          "12:19:04",
          "12:19:13",
          "12:19:20",
          "12:19:41",
          "12:20:03",
          "12:20:31",
          "12:20:38",
          "12:20:44",
          "12:20:50",
          "12:20:53",
          "12:21:35",
          "12:23:20",
          "12:24:07",
          "12:24:07",
          "12:24:08",
          "12:24:08",
          "12:24:10",
          "12:24:40",
          "12:25:02",
          "12:25:12",
          "12:25:22",
          "12:27:06",
          "12:27:40",
          "12:27:48",
          "12:28:29",
          "12:28:50",
          "12:28:53",
          "12:29:58",
          "12:30:02",
          "12:30:03",
          "12:30:03",
          "12:30:07",
          "12:30:27",
          "12:30:32",
          "12:30:36",
          "12:30:53",
          "12:31:39",
          "12:32:36",
          "12:32:50",
          "12:32:51",
          "12:32:56",
          "12:33:12",
          "12:33:13",
          "12:33:21",
          "12:34:02",
          "12:34:58",
          "12:35:03",
          "12:35:05",
          "12:35:06",
          "12:35:43",
          "12:36:04",
          "12:36:08",
          "12:36:14",
          "12:36:15",
          "12:36:21",
          "12:37:11",
          "12:37:22",
          "12:37:24",
          "12:37:26",
          "12:37:28",
          "12:37:46",
          "12:37:56",
          "12:38:09",
          "12:38:22",
          "12:38:27",
          "12:38:49",
          "12:39:12",
          "12:40:56",
          "12:40:56",
          "12:41:03",
          "12:41:05",
          "12:41:23",
          "12:42:23",
          "12:45:12",
          "12:45:34",
          "12:46:11",
          "12:47:04",
          "12:47:04",
          "12:47:19",
          "12:47:51",
          "12:47:53",
          "12:48:07",
          "12:48:44",
          "12:50:39",
          "12:51:42",
          "12:53:43",
          "12:54:06",
          "12:54:12",
          "12:56:55",
          "12:58:52",
          "12:59:07",
          "13:01:49",
          "13:02:39",
          "13:03:14",
          "13:03:40",
          "13:04:20",
          "13:04:25",
          "13:05:07",
          "13:05:13",
          "13:05:40",
          "13:06:32",
          "13:06:38",
          "13:06:54",
          "13:07:34",
          "13:08:50",
          "13:08:51",
          "13:08:52",
          "13:09:09",
          "13:09:11",
          "13:09:19",
          "13:09:41",
          "13:10:28",
          "13:11:01",
          "13:11:09",
          "13:11:13",
          "13:11:13",
          "13:11:49",
          "13:12:37",
          "13:13:50",
          "13:13:52",
          "13:14:04",
          "13:15:02",
          "13:15:06",
          "13:16:44",
          "13:16:52",
          "13:17:43",
          "13:18:00",
          "13:18:02",
          "13:18:54",
          "13:19:03",
          "13:20:26",
          "13:24:05",
          "13:24:23",
          "13:24:30",
          "13:25:03",
          "13:25:21",
          "13:26:13",
          "13:26:21",
          "13:26:44",
          "13:27:01",
          "13:27:12",
          "13:27:23",
          "13:28:07",
          "13:28:09",
          "13:30:02",
          "13:30:30",
          "13:32:32",
          "13:32:46",
          "13:33:54",
          "13:34:45",
          "13:35:30",
          "13:36:03",
          "13:37:52",
          "13:38:30",
          "13:39:38",
          "13:39:58",
          "13:40:30"
         ],
         "xaxis": "x",
         "y": [
          23.47,
          62.75,
          74,
          80.81,
          52.04,
          24.24,
          68.63,
          50.51,
          81.19,
          57,
          63.27,
          32.67,
          14.85,
          25,
          82.18,
          88.78,
          91,
          34,
          81,
          95,
          72.55,
          39,
          90.1,
          90.2,
          42,
          81.25,
          50.98,
          88.54,
          60,
          65.66,
          85.71,
          25.49,
          48,
          81,
          29.29,
          56.31,
          64,
          73.47,
          78.12,
          39,
          76,
          85.86,
          87,
          77.55,
          86,
          60.61,
          85.86,
          56,
          80.21,
          92.93,
          71.57,
          83.51,
          82.83,
          44.44,
          90.2,
          52.48,
          74,
          86.6,
          79.59,
          77.78,
          87.88,
          86.87,
          76,
          86.87,
          78.57,
          92.86,
          85.71,
          82.65,
          89.11,
          94,
          92.71,
          89.11,
          83.17,
          91,
          90.1,
          80,
          94.95,
          54.08,
          66.32,
          78.22,
          76.77,
          89.9,
          77.67,
          54.46,
          93.07,
          89.9,
          47,
          73,
          88.12,
          71.43,
          74.26,
          76.24,
          71.72,
          68.06,
          41.67,
          25.93,
          86.02,
          24.05,
          40.98,
          81.52,
          86.6,
          89.8,
          93.94,
          82,
          39.39,
          56.57,
          80.61,
          58.16,
          82,
          69.39,
          57.45,
          89.47,
          63,
          85.71,
          85,
          77.32,
          71.43,
          88,
          91,
          50.98,
          86,
          68.37,
          91.92,
          45.83,
          94.06,
          27.27,
          91.92,
          68.75,
          90.91,
          67.39,
          36.63,
          27.84,
          71.72,
          46.39,
          72.34,
          25.77,
          47,
          26.53,
          79.8,
          55.67,
          77.55,
          85.15,
          66,
          87.23,
          71.43,
          93.88,
          50,
          88,
          94.95,
          90,
          85.71,
          68.69,
          62.5,
          88.78,
          66.32,
          67.71,
          67.01,
          70.83,
          84.38,
          58.16,
          87.63,
          73.2,
          19,
          36.27,
          67.35,
          85.71,
          85.57,
          36.63,
          65.93,
          70.21,
          87.76,
          18.89,
          92.78,
          83.87,
          48.35,
          74.49,
          83,
          17.17,
          29.47,
          44,
          79.35,
          71.72,
          70.97,
          83.17,
          53.47,
          17,
          63.73,
          81,
          24.75,
          50.98,
          28,
          40.74,
          89.01,
          68.97,
          59.26,
          32.89,
          52.56,
          90.91,
          79.38,
          83.84,
          30.85,
          87.88,
          76.53,
          59.6,
          91,
          84.16,
          76.47,
          84,
          63.37,
          86.73,
          80.61,
          89.9,
          65.93,
          60.82,
          23.53,
          69.39,
          71.57,
          73.47,
          87.88,
          71,
          82.18,
          41.58,
          58.16,
          45.54,
          90,
          82,
          60,
          94.9,
          90.82,
          89.25,
          92,
          64.36,
          89,
          62.5,
          80,
          77.32,
          71.13,
          65.66,
          58,
          92,
          17.17,
          94,
          48.48,
          76.14,
          67,
          85,
          66.67,
          85.86,
          94.9,
          52,
          55.88,
          77.08,
          48.98,
          94.9,
          81.05,
          49,
          43.3,
          74.23,
          87.23,
          49,
          95,
          60.78,
          92.93,
          53.47,
          87.13,
          90.91,
          73.47,
          70.71,
          86.32,
          77.06,
          87.76,
          81.82,
          93,
          86.73,
          88.12,
          94.85,
          90,
          77.23,
          87.38,
          87.76,
          38,
          50.5,
          87.76,
          50.52,
          77.55,
          66.33,
          19.57,
          95,
          88,
          83.84,
          90.1,
          91.75,
          89.36,
          87.23,
          82.11,
          37.5,
          82.18,
          89.36,
          42.86,
          50,
          80.65,
          52.17,
          77.5,
          63.27,
          92,
          78.43,
          58.16,
          31.63,
          54.55,
          31.68,
          35.64,
          46.53,
          41.84,
          24.75,
          68.69,
          52.48,
          93.07,
          49,
          83,
          80,
          88.78
         ],
         "yaxis": "y"
        }
       ],
       "layout": {
        "barmode": "relative",
        "legend": {
         "tracegroupgap": 0
        },
        "template": {
         "data": {
          "bar": [
           {
            "error_x": {
             "color": "#2a3f5f"
            },
            "error_y": {
             "color": "#2a3f5f"
            },
            "marker": {
             "line": {
              "color": "#E5ECF6",
              "width": 0.5
             },
             "pattern": {
              "fillmode": "overlay",
              "size": 10,
              "solidity": 0.2
             }
            },
            "type": "bar"
           }
          ],
          "barpolar": [
           {
            "marker": {
             "line": {
              "color": "#E5ECF6",
              "width": 0.5
             },
             "pattern": {
              "fillmode": "overlay",
              "size": 10,
              "solidity": 0.2
             }
            },
            "type": "barpolar"
           }
          ],
          "carpet": [
           {
            "aaxis": {
             "endlinecolor": "#2a3f5f",
             "gridcolor": "white",
             "linecolor": "white",
             "minorgridcolor": "white",
             "startlinecolor": "#2a3f5f"
            },
            "baxis": {
             "endlinecolor": "#2a3f5f",
             "gridcolor": "white",
             "linecolor": "white",
             "minorgridcolor": "white",
             "startlinecolor": "#2a3f5f"
            },
            "type": "carpet"
           }
          ],
          "choropleth": [
           {
            "colorbar": {
             "outlinewidth": 0,
             "ticks": ""
            },
            "type": "choropleth"
           }
          ],
          "contour": [
           {
            "colorbar": {
             "outlinewidth": 0,
             "ticks": ""
            },
            "colorscale": [
             [
              0,
              "#0d0887"
             ],
             [
              0.1111111111111111,
              "#46039f"
             ],
             [
              0.2222222222222222,
              "#7201a8"
             ],
             [
              0.3333333333333333,
              "#9c179e"
             ],
             [
              0.4444444444444444,
              "#bd3786"
             ],
             [
              0.5555555555555556,
              "#d8576b"
             ],
             [
              0.6666666666666666,
              "#ed7953"
             ],
             [
              0.7777777777777778,
              "#fb9f3a"
             ],
             [
              0.8888888888888888,
              "#fdca26"
             ],
             [
              1,
              "#f0f921"
             ]
            ],
            "type": "contour"
           }
          ],
          "contourcarpet": [
           {
            "colorbar": {
             "outlinewidth": 0,
             "ticks": ""
            },
            "type": "contourcarpet"
           }
          ],
          "heatmap": [
           {
            "colorbar": {
             "outlinewidth": 0,
             "ticks": ""
            },
            "colorscale": [
             [
              0,
              "#0d0887"
             ],
             [
              0.1111111111111111,
              "#46039f"
             ],
             [
              0.2222222222222222,
              "#7201a8"
             ],
             [
              0.3333333333333333,
              "#9c179e"
             ],
             [
              0.4444444444444444,
              "#bd3786"
             ],
             [
              0.5555555555555556,
              "#d8576b"
             ],
             [
              0.6666666666666666,
              "#ed7953"
             ],
             [
              0.7777777777777778,
              "#fb9f3a"
             ],
             [
              0.8888888888888888,
              "#fdca26"
             ],
             [
              1,
              "#f0f921"
             ]
            ],
            "type": "heatmap"
           }
          ],
          "heatmapgl": [
           {
            "colorbar": {
             "outlinewidth": 0,
             "ticks": ""
            },
            "colorscale": [
             [
              0,
              "#0d0887"
             ],
             [
              0.1111111111111111,
              "#46039f"
             ],
             [
              0.2222222222222222,
              "#7201a8"
             ],
             [
              0.3333333333333333,
              "#9c179e"
             ],
             [
              0.4444444444444444,
              "#bd3786"
             ],
             [
              0.5555555555555556,
              "#d8576b"
             ],
             [
              0.6666666666666666,
              "#ed7953"
             ],
             [
              0.7777777777777778,
              "#fb9f3a"
             ],
             [
              0.8888888888888888,
              "#fdca26"
             ],
             [
              1,
              "#f0f921"
             ]
            ],
            "type": "heatmapgl"
           }
          ],
          "histogram": [
           {
            "marker": {
             "pattern": {
              "fillmode": "overlay",
              "size": 10,
              "solidity": 0.2
             }
            },
            "type": "histogram"
           }
          ],
          "histogram2d": [
           {
            "colorbar": {
             "outlinewidth": 0,
             "ticks": ""
            },
            "colorscale": [
             [
              0,
              "#0d0887"
             ],
             [
              0.1111111111111111,
              "#46039f"
             ],
             [
              0.2222222222222222,
              "#7201a8"
             ],
             [
              0.3333333333333333,
              "#9c179e"
             ],
             [
              0.4444444444444444,
              "#bd3786"
             ],
             [
              0.5555555555555556,
              "#d8576b"
             ],
             [
              0.6666666666666666,
              "#ed7953"
             ],
             [
              0.7777777777777778,
              "#fb9f3a"
             ],
             [
              0.8888888888888888,
              "#fdca26"
             ],
             [
              1,
              "#f0f921"
             ]
            ],
            "type": "histogram2d"
           }
          ],
          "histogram2dcontour": [
           {
            "colorbar": {
             "outlinewidth": 0,
             "ticks": ""
            },
            "colorscale": [
             [
              0,
              "#0d0887"
             ],
             [
              0.1111111111111111,
              "#46039f"
             ],
             [
              0.2222222222222222,
              "#7201a8"
             ],
             [
              0.3333333333333333,
              "#9c179e"
             ],
             [
              0.4444444444444444,
              "#bd3786"
             ],
             [
              0.5555555555555556,
              "#d8576b"
             ],
             [
              0.6666666666666666,
              "#ed7953"
             ],
             [
              0.7777777777777778,
              "#fb9f3a"
             ],
             [
              0.8888888888888888,
              "#fdca26"
             ],
             [
              1,
              "#f0f921"
             ]
            ],
            "type": "histogram2dcontour"
           }
          ],
          "mesh3d": [
           {
            "colorbar": {
             "outlinewidth": 0,
             "ticks": ""
            },
            "type": "mesh3d"
           }
          ],
          "parcoords": [
           {
            "line": {
             "colorbar": {
              "outlinewidth": 0,
              "ticks": ""
             }
            },
            "type": "parcoords"
           }
          ],
          "pie": [
           {
            "automargin": true,
            "type": "pie"
           }
          ],
          "scatter": [
           {
            "fillpattern": {
             "fillmode": "overlay",
             "size": 10,
             "solidity": 0.2
            },
            "type": "scatter"
           }
          ],
          "scatter3d": [
           {
            "line": {
             "colorbar": {
              "outlinewidth": 0,
              "ticks": ""
             }
            },
            "marker": {
             "colorbar": {
              "outlinewidth": 0,
              "ticks": ""
             }
            },
            "type": "scatter3d"
           }
          ],
          "scattercarpet": [
           {
            "marker": {
             "colorbar": {
              "outlinewidth": 0,
              "ticks": ""
             }
            },
            "type": "scattercarpet"
           }
          ],
          "scattergeo": [
           {
            "marker": {
             "colorbar": {
              "outlinewidth": 0,
              "ticks": ""
             }
            },
            "type": "scattergeo"
           }
          ],
          "scattergl": [
           {
            "marker": {
             "colorbar": {
              "outlinewidth": 0,
              "ticks": ""
             }
            },
            "type": "scattergl"
           }
          ],
          "scattermapbox": [
           {
            "marker": {
             "colorbar": {
              "outlinewidth": 0,
              "ticks": ""
             }
            },
            "type": "scattermapbox"
           }
          ],
          "scatterpolar": [
           {
            "marker": {
             "colorbar": {
              "outlinewidth": 0,
              "ticks": ""
             }
            },
            "type": "scatterpolar"
           }
          ],
          "scatterpolargl": [
           {
            "marker": {
             "colorbar": {
              "outlinewidth": 0,
              "ticks": ""
             }
            },
            "type": "scatterpolargl"
           }
          ],
          "scatterternary": [
           {
            "marker": {
             "colorbar": {
              "outlinewidth": 0,
              "ticks": ""
             }
            },
            "type": "scatterternary"
           }
          ],
          "surface": [
           {
            "colorbar": {
             "outlinewidth": 0,
             "ticks": ""
            },
            "colorscale": [
             [
              0,
              "#0d0887"
             ],
             [
              0.1111111111111111,
              "#46039f"
             ],
             [
              0.2222222222222222,
              "#7201a8"
             ],
             [
              0.3333333333333333,
              "#9c179e"
             ],
             [
              0.4444444444444444,
              "#bd3786"
             ],
             [
              0.5555555555555556,
              "#d8576b"
             ],
             [
              0.6666666666666666,
              "#ed7953"
             ],
             [
              0.7777777777777778,
              "#fb9f3a"
             ],
             [
              0.8888888888888888,
              "#fdca26"
             ],
             [
              1,
              "#f0f921"
             ]
            ],
            "type": "surface"
           }
          ],
          "table": [
           {
            "cells": {
             "fill": {
              "color": "#EBF0F8"
             },
             "line": {
              "color": "white"
             }
            },
            "header": {
             "fill": {
              "color": "#C8D4E3"
             },
             "line": {
              "color": "white"
             }
            },
            "type": "table"
           }
          ]
         },
         "layout": {
          "annotationdefaults": {
           "arrowcolor": "#2a3f5f",
           "arrowhead": 0,
           "arrowwidth": 1
          },
          "autotypenumbers": "strict",
          "coloraxis": {
           "colorbar": {
            "outlinewidth": 0,
            "ticks": ""
           }
          },
          "colorscale": {
           "diverging": [
            [
             0,
             "#8e0152"
            ],
            [
             0.1,
             "#c51b7d"
            ],
            [
             0.2,
             "#de77ae"
            ],
            [
             0.3,
             "#f1b6da"
            ],
            [
             0.4,
             "#fde0ef"
            ],
            [
             0.5,
             "#f7f7f7"
            ],
            [
             0.6,
             "#e6f5d0"
            ],
            [
             0.7,
             "#b8e186"
            ],
            [
             0.8,
             "#7fbc41"
            ],
            [
             0.9,
             "#4d9221"
            ],
            [
             1,
             "#276419"
            ]
           ],
           "sequential": [
            [
             0,
             "#0d0887"
            ],
            [
             0.1111111111111111,
             "#46039f"
            ],
            [
             0.2222222222222222,
             "#7201a8"
            ],
            [
             0.3333333333333333,
             "#9c179e"
            ],
            [
             0.4444444444444444,
             "#bd3786"
            ],
            [
             0.5555555555555556,
             "#d8576b"
            ],
            [
             0.6666666666666666,
             "#ed7953"
            ],
            [
             0.7777777777777778,
             "#fb9f3a"
            ],
            [
             0.8888888888888888,
             "#fdca26"
            ],
            [
             1,
             "#f0f921"
            ]
           ],
           "sequentialminus": [
            [
             0,
             "#0d0887"
            ],
            [
             0.1111111111111111,
             "#46039f"
            ],
            [
             0.2222222222222222,
             "#7201a8"
            ],
            [
             0.3333333333333333,
             "#9c179e"
            ],
            [
             0.4444444444444444,
             "#bd3786"
            ],
            [
             0.5555555555555556,
             "#d8576b"
            ],
            [
             0.6666666666666666,
             "#ed7953"
            ],
            [
             0.7777777777777778,
             "#fb9f3a"
            ],
            [
             0.8888888888888888,
             "#fdca26"
            ],
            [
             1,
             "#f0f921"
            ]
           ]
          },
          "colorway": [
           "#636efa",
           "#EF553B",
           "#00cc96",
           "#ab63fa",
           "#FFA15A",
           "#19d3f3",
           "#FF6692",
           "#B6E880",
           "#FF97FF",
           "#FECB52"
          ],
          "font": {
           "color": "#2a3f5f"
          },
          "geo": {
           "bgcolor": "white",
           "lakecolor": "white",
           "landcolor": "#E5ECF6",
           "showlakes": true,
           "showland": true,
           "subunitcolor": "white"
          },
          "hoverlabel": {
           "align": "left"
          },
          "hovermode": "closest",
          "mapbox": {
           "style": "light"
          },
          "paper_bgcolor": "white",
          "plot_bgcolor": "#E5ECF6",
          "polar": {
           "angularaxis": {
            "gridcolor": "white",
            "linecolor": "white",
            "ticks": ""
           },
           "bgcolor": "#E5ECF6",
           "radialaxis": {
            "gridcolor": "white",
            "linecolor": "white",
            "ticks": ""
           }
          },
          "scene": {
           "xaxis": {
            "backgroundcolor": "#E5ECF6",
            "gridcolor": "white",
            "gridwidth": 2,
            "linecolor": "white",
            "showbackground": true,
            "ticks": "",
            "zerolinecolor": "white"
           },
           "yaxis": {
            "backgroundcolor": "#E5ECF6",
            "gridcolor": "white",
            "gridwidth": 2,
            "linecolor": "white",
            "showbackground": true,
            "ticks": "",
            "zerolinecolor": "white"
           },
           "zaxis": {
            "backgroundcolor": "#E5ECF6",
            "gridcolor": "white",
            "gridwidth": 2,
            "linecolor": "white",
            "showbackground": true,
            "ticks": "",
            "zerolinecolor": "white"
           }
          },
          "shapedefaults": {
           "line": {
            "color": "#2a3f5f"
           }
          },
          "ternary": {
           "aaxis": {
            "gridcolor": "white",
            "linecolor": "white",
            "ticks": ""
           },
           "baxis": {
            "gridcolor": "white",
            "linecolor": "white",
            "ticks": ""
           },
           "bgcolor": "#E5ECF6",
           "caxis": {
            "gridcolor": "white",
            "linecolor": "white",
            "ticks": ""
           }
          },
          "title": {
           "x": 0.05
          },
          "xaxis": {
           "automargin": true,
           "gridcolor": "white",
           "linecolor": "white",
           "ticks": "",
           "title": {
            "standoff": 15
           },
           "zerolinecolor": "white",
           "zerolinewidth": 2
          },
          "yaxis": {
           "automargin": true,
           "gridcolor": "white",
           "linecolor": "white",
           "ticks": "",
           "title": {
            "standoff": 15
           },
           "zerolinecolor": "white",
           "zerolinewidth": 2
          }
         }
        },
        "title": {
         "text": "idle over time"
        },
        "xaxis": {
         "anchor": "y",
         "domain": [
          0,
          1
         ],
         "title": {
          "text": "timestamp"
         }
        },
        "yaxis": {
         "anchor": "x",
         "domain": [
          0,
          1
         ],
         "title": {
          "text": "sum of idle"
         }
        }
       }
      }
     },
     "metadata": {},
     "output_type": "display_data"
    }
   ],
   "source": [
    "df = df.sort_values(by='timestamp')\n",
    "for col in df.columns[2:]:\n",
    "    fig = px.histogram(data_frame=df, x='timestamp', y=col,title=col +' over time')\n",
    "    fig.show()"
   ]
  },
  {
   "cell_type": "markdown",
   "metadata": {},
   "source": [
    "In Conclusion: \n",
    "\n",
    "Our results are inconclusive as this is only a two hour timeframe and we did not see any abnormalities detected with this particular dataset. There is a larger dataset avaiable and some abnormalities could have been detected.\n",
    "\n",
    "The fix to this case was upgrading the kernel to latest 6.8 version from 6.5. Fixes to the 6.8 kernel include CPU frequency scaling and task scheduler and CPU Load Balancing.\n",
    "\n",
    "We were able to take seemingly disparate data and transform it into something useful.\n",
    "We have effectively shown what you would see in a graphing tool like grafana or prometheus when these tools are unavailable.\n",
    "\n",
    "The biggest difference between grafana and a jupyter notebook is the level of control that you have over the charts not including the data analysis techinques that could be applied such as regression, classification, or deep learning. \n",
    "\n",
    "Why does this matter? \n",
    "Through data analysis and visualization we have transformed a text file into JSON to a pandas dataframe, cleaned the data and shown data visualizations via Plotly. \n",
    "\n",
    "Data visualization is meant to tell a story about the data. To ultimately gather important insights and make the best informed decision possible.\n",
    "\n",
    "Future Plans:\n",
    "\n",
    "The notebook could be expanded to handle larger datasets.\n",
    "\n",
    "Improved data visualizations.\n",
    "\n",
    "This could be upgraded into a new tool that could be helpful for engineers in the future if such a problem does occur again."
   ]
  }
 ],
 "metadata": {
  "kernelspec": {
   "display_name": "Python 3",
   "language": "python",
   "name": "python3"
  },
  "language_info": {
   "codemirror_mode": {
    "name": "ipython",
    "version": 3
   },
   "file_extension": ".py",
   "mimetype": "text/x-python",
   "name": "python",
   "nbconvert_exporter": "python",
   "pygments_lexer": "ipython3",
   "version": "3.10.10"
  }
 },
 "nbformat": 4,
 "nbformat_minor": 2
}
